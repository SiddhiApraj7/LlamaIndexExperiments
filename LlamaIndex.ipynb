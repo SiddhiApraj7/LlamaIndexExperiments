{
 "cells": [
  {
   "cell_type": "markdown",
   "metadata": {},
   "source": [
    "## Querying Document"
   ]
  },
  {
   "cell_type": "code",
   "execution_count": 1,
   "metadata": {},
   "outputs": [],
   "source": [
    "from llama_index.llms.openai import OpenAI\n",
    "from llama_index.core import Settings\n",
    "from llama_index.core import VectorStoreIndex, SimpleDirectoryReader\n",
    "from llama_index.core.retrievers import VectorIndexRetriever\n",
    "from llama_index.core import get_response_synthesizer\n",
    "from llama_index.core.response_synthesizers import ResponseMode\n",
    "from llama_index.core.query_engine import RetrieverQueryEngine\n",
    "from llama_index.core.postprocessor import SimilarityPostprocessor\n",
    "from dotenv import load_dotenv\n",
    "import os"
   ]
  },
  {
   "cell_type": "code",
   "execution_count": 5,
   "metadata": {},
   "outputs": [],
   "source": [
    "load_dotenv()\n",
    "api_key = os.getenv(\"OPENAI_API_KEY\")\n",
    "os.environ[\"OPEN_AI_KEY\"] = api_key"
   ]
  },
  {
   "cell_type": "code",
   "execution_count": 7,
   "metadata": {},
   "outputs": [],
   "source": [
    "Settings.llm = OpenAI(temperature=0.2, model=\"gpt-3.5-turbo\")"
   ]
  },
  {
   "cell_type": "code",
   "execution_count": 3,
   "metadata": {},
   "outputs": [],
   "source": [
    "documents = SimpleDirectoryReader(\"data\").load_data()\n",
    "index = VectorStoreIndex.from_documents(\n",
    "    documents,\n",
    ")"
   ]
  },
  {
   "cell_type": "code",
   "execution_count": 4,
   "metadata": {},
   "outputs": [
    {
     "name": "stdout",
     "output_type": "stream",
     "text": [
      "Number of documents:51\n"
     ]
    }
   ],
   "source": [
    "print(f\"Number of documents:{len(documents)}\")"
   ]
  },
  {
   "cell_type": "code",
   "execution_count": 5,
   "metadata": {},
   "outputs": [],
   "source": [
    "retriever = VectorIndexRetriever(\n",
    "    index=index,\n",
    "    similarity_top_k=10\n",
    ")"
   ]
  },
  {
   "cell_type": "code",
   "execution_count": 6,
   "metadata": {},
   "outputs": [],
   "source": [
    "response_synthesizer = get_response_synthesizer(response_mode=ResponseMode.COMPACT)"
   ]
  },
  {
   "cell_type": "code",
   "execution_count": 7,
   "metadata": {},
   "outputs": [],
   "source": [
    "query_engine = RetrieverQueryEngine(\n",
    "    retriever = retriever,\n",
    "    node_postprocessors = [SimilarityPostprocessor(similarity_cutoff=0.7,\n",
    "                                                    filter_empty = True,\n",
    "                                                    filter_duplicates = True,\n",
    "                                                    filter_similar = True,)]\n",
    ")"
   ]
  },
  {
   "cell_type": "code",
   "execution_count": 8,
   "metadata": {},
   "outputs": [
    {
     "name": "stdout",
     "output_type": "stream",
     "text": [
      "Social media can provide benefits for some youth by offering positive community and connection with others who share identities, abilities, and interests. It can provide access to important information, create a space for self-expression, help in forming and maintaining friendships online, and develop social connections. These relationships can offer opportunities for positive interactions with diverse peer groups, provide important social support, and may support mental health and well-being, especially for marginalized youth.\n"
     ]
    }
   ],
   "source": [
    "response = query_engine.query(\"What are the potential benifits of social media use among children and adolescents?\")\n",
    "print(response)"
   ]
  },
  {
   "cell_type": "markdown",
   "metadata": {},
   "source": [
    "## Prompt Formatting"
   ]
  },
  {
   "cell_type": "markdown",
   "metadata": {},
   "source": [
    "### Partial Formatting"
   ]
  },
  {
   "cell_type": "code",
   "execution_count": 2,
   "metadata": {},
   "outputs": [],
   "source": [
    "from llama_index.core import PromptTemplate"
   ]
  },
  {
   "cell_type": "code",
   "execution_count": 9,
   "metadata": {},
   "outputs": [],
   "source": [
    "qa_prompt_templ_str = \"\"\"\\\n",
    "Context information is below.\n",
    "---------------------\n",
    "{context_str}\n",
    "---------------------\n",
    "Given the context information and not prior knowledge, answer the query.\n",
    "Please write the answer in the style of {tone_name}\n",
    "Query: {query_str}\n",
    "Answer: \\\n",
    "\"\"\""
   ]
  },
  {
   "cell_type": "code",
   "execution_count": 12,
   "metadata": {},
   "outputs": [],
   "source": [
    "prompt_tmpl = PromptTemplate(qa_prompt_templ_str)\n",
    "partial_prompt_templ = prompt_tmpl.partial_format(tone_name=\"Shakespeare\")"
   ]
  },
  {
   "cell_type": "code",
   "execution_count": 13,
   "metadata": {},
   "outputs": [
    {
     "name": "stdout",
     "output_type": "stream",
     "text": [
      "Context information is below.\n",
      "---------------------\n",
      "In this work, we develop and release Llama 2, a collection of pretrained and fine-tuned large language models (LLMs) ranging in scale from 7 billion to 70 billion parameters\n",
      "---------------------\n",
      "Given the context information and not prior knowledge, answer the query.\n",
      "Please write the answer in the style of Shakespeare\n",
      "Query: How many params does llama 2 have\n",
      "Answer: \n"
     ]
    }
   ],
   "source": [
    "fmt_prompt = partial_prompt_templ.format(\n",
    "    context_str = \"In this work, we develop and release Llama 2, a collection of pretrained and fine-tuned large language models (LLMs) ranging in scale from 7 billion to 70 billion parameters\",\n",
    "    query_str=\"How many params does llama 2 have\",\n",
    ")\n",
    "print(fmt_prompt)"
   ]
  },
  {
   "cell_type": "markdown",
   "metadata": {},
   "source": [
    "### Variable Mapping"
   ]
  },
  {
   "cell_type": "code",
   "execution_count": 14,
   "metadata": {},
   "outputs": [],
   "source": [
    "my_context=\"\"\n",
    "my_query=\"\""
   ]
  },
  {
   "cell_type": "code",
   "execution_count": 15,
   "metadata": {},
   "outputs": [],
   "source": [
    "qa_prompt_templ_str = \"\"\"\\\n",
    "Context information is below.\n",
    "---------------------\n",
    "{my_context}\n",
    "---------------------\n",
    "Given the context information and not prior knowledge, answer the query.\n",
    "Query: {my_query}\n",
    "Answer: \\\n",
    "\"\"\""
   ]
  },
  {
   "cell_type": "code",
   "execution_count": 18,
   "metadata": {},
   "outputs": [],
   "source": [
    "template_var_mappings = {\"context_str\":\"my_context\", \"query_str\":\"my_query\"}"
   ]
  },
  {
   "cell_type": "code",
   "execution_count": 19,
   "metadata": {},
   "outputs": [],
   "source": [
    "prompt_tmpl = PromptTemplate(\n",
    "    qa_prompt_templ_str, template_var_mappings= template_var_mappings\n",
    ")"
   ]
  },
  {
   "cell_type": "code",
   "execution_count": 20,
   "metadata": {},
   "outputs": [
    {
     "name": "stdout",
     "output_type": "stream",
     "text": [
      "Context information is below.\n",
      "---------------------\n",
      "In this work, we develop and release Llama 2, a collection of pretrained and fine-tuned large language models (LLMs) ranging in scale from 7 billion to 70 billion parameters\n",
      "---------------------\n",
      "Given the context information and not prior knowledge, answer the query.\n",
      "Please write the answer in the style of Shakespeare\n",
      "Query: How many params does llama 2 have\n",
      "Answer: \n"
     ]
    }
   ],
   "source": [
    "fmt_prompt = partial_prompt_templ.format(\n",
    "    context_str = \"In this work, we develop and release Llama 2, a collection of pretrained and fine-tuned large language models (LLMs) ranging in scale from 7 billion to 70 billion parameters\",\n",
    "    query_str=\"How many params does llama 2 have\",\n",
    ")\n",
    "print(fmt_prompt)"
   ]
  },
  {
   "cell_type": "markdown",
   "metadata": {},
   "source": [
    "### Function Call"
   ]
  },
  {
   "cell_type": "code",
   "execution_count": 29,
   "metadata": {},
   "outputs": [],
   "source": [
    "qa_prompt_templ_str = \"\"\"\\\n",
    "Context information is below.\n",
    "---------------------\n",
    "{context_str}\n",
    "---------------------\n",
    "Given the context information and not prior knowledge, answer the query.\n",
    "Query: {query_str}\n",
    "Answer: \\\n",
    "\"\"\""
   ]
  },
  {
   "cell_type": "code",
   "execution_count": 30,
   "metadata": {},
   "outputs": [],
   "source": [
    "def format_context_fn(**kwargs):\n",
    "    context_list = kwargs[\"context_str\"].split(\"\\n\\n\")\n",
    "    fmtted_context = \"\\n\\n\".join([f\"- {c}\" for c in context_list])\n",
    "    return fmtted_context"
   ]
  },
  {
   "cell_type": "code",
   "execution_count": 31,
   "metadata": {},
   "outputs": [],
   "source": [
    "prompt_tmpl = PromptTemplate(\n",
    "    qa_prompt_templ_str, function_mappings={\"context_str\":format_context_fn}\n",
    ")"
   ]
  },
  {
   "cell_type": "code",
   "execution_count": 32,
   "metadata": {},
   "outputs": [],
   "source": [
    "context_str=\"\"\"\\\n",
    "In this work, we develop and release Llama 2, a collection of pretrained and fine-tuned large language models (LLMs) ranging in scale from 7 billion to 70 billion parameters.\n",
    "\n",
    "Our fine-tuned LLMs, called Llama 2-Chat, are optimized for dialogue use cases.\n",
    "\n",
    "Our models outperform open-source chat models on most benchmarks we tested, and based on our human evaluations for helpfulness and safety, may be a suitable substitute for closed-source models.\n",
    "\"\"\""
   ]
  },
  {
   "cell_type": "code",
   "execution_count": 33,
   "metadata": {},
   "outputs": [
    {
     "name": "stdout",
     "output_type": "stream",
     "text": [
      "Context information is below.\n",
      "---------------------\n",
      "- In this work, we develop and release Llama 2, a collection of pretrained and fine-tuned large language models (LLMs) ranging in scale from 7 billion to 70 billion parameters.\n",
      "\n",
      "- Our fine-tuned LLMs, called Llama 2-Chat, are optimized for dialogue use cases.\n",
      "\n",
      "- Our models outperform open-source chat models on most benchmarks we tested, and based on our human evaluations for helpfulness and safety, may be a suitable substitute for closed-source models.\n",
      "\n",
      "---------------------\n",
      "Given the context information and not prior knowledge, answer the query.\n",
      "Query: How many params does llama 2 have\n",
      "Answer: \n"
     ]
    }
   ],
   "source": [
    "fmt_prompt2 = prompt_tmpl.format(\n",
    "    context_str=context_str, query_str=\"How many params does llama 2 have\"\n",
    ")\n",
    "\n",
    "print(fmt_prompt2)"
   ]
  },
  {
   "cell_type": "markdown",
   "metadata": {},
   "source": [
    "### Conversational Prompts"
   ]
  },
  {
   "cell_type": "code",
   "execution_count": 35,
   "metadata": {},
   "outputs": [],
   "source": [
    "from llama_index.core.llms import ChatMessage\n",
    "from llama_index.llms.openai import OpenAI"
   ]
  },
  {
   "cell_type": "code",
   "execution_count": 37,
   "metadata": {},
   "outputs": [
    {
     "name": "stdout",
     "output_type": "stream",
     "text": [
      "assistant: Today, we're going to embark on a journey through space and explore the wonders of our solar system! Get ready to learn about the planets, moons, and all the cosmic awesomeness that surrounds us. It's going to be out of this world! 🌌🚀\n"
     ]
    }
   ],
   "source": [
    "messages = [\n",
    "    ChatMessage(\n",
    "        role=\"system\",\n",
    "        content=\"\"\"You are a Physics teacher who teaches 12 year old students. you have a good sense of humour. You are about to teach about the solar system.\"\"\"\n",
    "    ),\n",
    "    ChatMessage(role=\"user\", content=\"What are you going to teach today?\")\n",
    "]\n",
    "resp = OpenAI().chat(messages)\n",
    "print(resp)"
   ]
  },
  {
   "cell_type": "markdown",
   "metadata": {},
   "source": [
    "## Semantic Similarity Evaluator"
   ]
  },
  {
   "cell_type": "code",
   "execution_count": 44,
   "metadata": {},
   "outputs": [],
   "source": [
    "from llama_index.core.evaluation import SemanticSimilarityEvaluator"
   ]
  },
  {
   "cell_type": "code",
   "execution_count": 45,
   "metadata": {},
   "outputs": [],
   "source": [
    "evaluator = SemanticSimilarityEvaluator()"
   ]
  },
  {
   "cell_type": "code",
   "execution_count": 46,
   "metadata": {},
   "outputs": [],
   "source": [
    "def evaluate_similarity():\n",
    "    response = \"\"\"Seventeen is considered a \"self-producing\" idol group, with the members involved in songwriting, music production, and choreographing, among other aspects of their music and performances. They perform as one group and are divided into three units—hip-hop, vocal, and performance—each with a different area of specialization. They have been labeled \"Performance Kings\", \"Theater Kids of K-Pop\", and \"K-Pop Performance Powerhouse'\" by various domestic and international media outlets. \"\"\"\n",
    "    reference = \"\"\"The name Seventeen is derived from the expression \"13 members + 3 teams + 1 group\", representing how the 13 members are divided into three different teams and come together to form one cohesive group.\"\"\"\n",
    "    result = evaluator.evaluate(\n",
    "        response=response,\n",
    "        reference=reference,\n",
    "    )\n",
    "    \n",
    "    print(\"Score: \", result.score)\n",
    "    print(\"Passing: \", result.passing)"
   ]
  },
  {
   "cell_type": "code",
   "execution_count": 47,
   "metadata": {},
   "outputs": [],
   "source": [
    "def main():\n",
    "    evaluate_similarity()"
   ]
  },
  {
   "cell_type": "code",
   "execution_count": 48,
   "metadata": {},
   "outputs": [
    {
     "ename": "RuntimeError",
     "evalue": "Detected nested async. Please use nest_asyncio.apply() to allow nested event loops.Or, use async entry methods like `aquery()`, `aretriever`, `achat`, etc.",
     "output_type": "error",
     "traceback": [
      "\u001b[0;31m---------------------------------------------------------------------------\u001b[0m",
      "\u001b[0;31mRuntimeError\u001b[0m                              Traceback (most recent call last)",
      "File \u001b[0;32m/Library/Frameworks/Python.framework/Versions/3.12/lib/python3.12/site-packages/llama_index/core/async_utils.py:33\u001b[0m, in \u001b[0;36masyncio_run\u001b[0;34m(coro)\u001b[0m\n\u001b[1;32m     32\u001b[0m     \u001b[38;5;66;03m# If we're here, there's an existing loop but it's not running\u001b[39;00m\n\u001b[0;32m---> 33\u001b[0m     \u001b[38;5;28;01mreturn\u001b[39;00m \u001b[43mloop\u001b[49m\u001b[38;5;241;43m.\u001b[39;49m\u001b[43mrun_until_complete\u001b[49m\u001b[43m(\u001b[49m\u001b[43mcoro\u001b[49m\u001b[43m)\u001b[49m\n\u001b[1;32m     35\u001b[0m \u001b[38;5;28;01mexcept\u001b[39;00m \u001b[38;5;167;01mRuntimeError\u001b[39;00m \u001b[38;5;28;01mas\u001b[39;00m e:\n\u001b[1;32m     36\u001b[0m     \u001b[38;5;66;03m# If we can't get the event loop, we're likely in a different thread, or its already running\u001b[39;00m\n",
      "File \u001b[0;32m/Library/Frameworks/Python.framework/Versions/3.12/lib/python3.12/asyncio/base_events.py:663\u001b[0m, in \u001b[0;36mBaseEventLoop.run_until_complete\u001b[0;34m(self, future)\u001b[0m\n\u001b[1;32m    662\u001b[0m \u001b[38;5;28mself\u001b[39m\u001b[38;5;241m.\u001b[39m_check_closed()\n\u001b[0;32m--> 663\u001b[0m \u001b[38;5;28;43mself\u001b[39;49m\u001b[38;5;241;43m.\u001b[39;49m\u001b[43m_check_running\u001b[49m\u001b[43m(\u001b[49m\u001b[43m)\u001b[49m\n\u001b[1;32m    665\u001b[0m new_task \u001b[38;5;241m=\u001b[39m \u001b[38;5;129;01mnot\u001b[39;00m futures\u001b[38;5;241m.\u001b[39misfuture(future)\n",
      "File \u001b[0;32m/Library/Frameworks/Python.framework/Versions/3.12/lib/python3.12/asyncio/base_events.py:622\u001b[0m, in \u001b[0;36mBaseEventLoop._check_running\u001b[0;34m(self)\u001b[0m\n\u001b[1;32m    621\u001b[0m \u001b[38;5;28;01mif\u001b[39;00m \u001b[38;5;28mself\u001b[39m\u001b[38;5;241m.\u001b[39mis_running():\n\u001b[0;32m--> 622\u001b[0m     \u001b[38;5;28;01mraise\u001b[39;00m \u001b[38;5;167;01mRuntimeError\u001b[39;00m(\u001b[38;5;124m'\u001b[39m\u001b[38;5;124mThis event loop is already running\u001b[39m\u001b[38;5;124m'\u001b[39m)\n\u001b[1;32m    623\u001b[0m \u001b[38;5;28;01mif\u001b[39;00m events\u001b[38;5;241m.\u001b[39m_get_running_loop() \u001b[38;5;129;01mis\u001b[39;00m \u001b[38;5;129;01mnot\u001b[39;00m \u001b[38;5;28;01mNone\u001b[39;00m:\n",
      "\u001b[0;31mRuntimeError\u001b[0m: This event loop is already running",
      "\nDuring handling of the above exception, another exception occurred:\n",
      "\u001b[0;31mRuntimeError\u001b[0m                              Traceback (most recent call last)",
      "File \u001b[0;32m/Library/Frameworks/Python.framework/Versions/3.12/lib/python3.12/site-packages/llama_index/core/async_utils.py:38\u001b[0m, in \u001b[0;36masyncio_run\u001b[0;34m(coro)\u001b[0m\n\u001b[1;32m     37\u001b[0m \u001b[38;5;28;01mtry\u001b[39;00m:\n\u001b[0;32m---> 38\u001b[0m     \u001b[38;5;28;01mreturn\u001b[39;00m \u001b[43masyncio\u001b[49m\u001b[38;5;241;43m.\u001b[39;49m\u001b[43mrun\u001b[49m\u001b[43m(\u001b[49m\u001b[43mcoro\u001b[49m\u001b[43m)\u001b[49m\n\u001b[1;32m     39\u001b[0m \u001b[38;5;28;01mexcept\u001b[39;00m \u001b[38;5;167;01mRuntimeError\u001b[39;00m \u001b[38;5;28;01mas\u001b[39;00m e:\n",
      "File \u001b[0;32m/Library/Frameworks/Python.framework/Versions/3.12/lib/python3.12/asyncio/runners.py:190\u001b[0m, in \u001b[0;36mrun\u001b[0;34m(main, debug, loop_factory)\u001b[0m\n\u001b[1;32m    188\u001b[0m \u001b[38;5;28;01mif\u001b[39;00m events\u001b[38;5;241m.\u001b[39m_get_running_loop() \u001b[38;5;129;01mis\u001b[39;00m \u001b[38;5;129;01mnot\u001b[39;00m \u001b[38;5;28;01mNone\u001b[39;00m:\n\u001b[1;32m    189\u001b[0m     \u001b[38;5;66;03m# fail fast with short traceback\u001b[39;00m\n\u001b[0;32m--> 190\u001b[0m     \u001b[38;5;28;01mraise\u001b[39;00m \u001b[38;5;167;01mRuntimeError\u001b[39;00m(\n\u001b[1;32m    191\u001b[0m         \u001b[38;5;124m\"\u001b[39m\u001b[38;5;124masyncio.run() cannot be called from a running event loop\u001b[39m\u001b[38;5;124m\"\u001b[39m)\n\u001b[1;32m    193\u001b[0m \u001b[38;5;28;01mwith\u001b[39;00m Runner(debug\u001b[38;5;241m=\u001b[39mdebug, loop_factory\u001b[38;5;241m=\u001b[39mloop_factory) \u001b[38;5;28;01mas\u001b[39;00m runner:\n",
      "\u001b[0;31mRuntimeError\u001b[0m: asyncio.run() cannot be called from a running event loop",
      "\nDuring handling of the above exception, another exception occurred:\n",
      "\u001b[0;31mRuntimeError\u001b[0m                              Traceback (most recent call last)",
      "Cell \u001b[0;32mIn[48], line 2\u001b[0m\n\u001b[1;32m      1\u001b[0m \u001b[38;5;28;01mif\u001b[39;00m \u001b[38;5;18m__name__\u001b[39m \u001b[38;5;241m==\u001b[39m \u001b[38;5;124m\"\u001b[39m\u001b[38;5;124m__main__\u001b[39m\u001b[38;5;124m\"\u001b[39m:\n\u001b[0;32m----> 2\u001b[0m     \u001b[43mmain\u001b[49m\u001b[43m(\u001b[49m\u001b[43m)\u001b[49m\n",
      "Cell \u001b[0;32mIn[47], line 2\u001b[0m, in \u001b[0;36mmain\u001b[0;34m()\u001b[0m\n\u001b[1;32m      1\u001b[0m \u001b[38;5;28;01mdef\u001b[39;00m \u001b[38;5;21mmain\u001b[39m():\n\u001b[0;32m----> 2\u001b[0m     \u001b[43mevaluate_similarity\u001b[49m\u001b[43m(\u001b[49m\u001b[43m)\u001b[49m\n",
      "Cell \u001b[0;32mIn[46], line 4\u001b[0m, in \u001b[0;36mevaluate_similarity\u001b[0;34m()\u001b[0m\n\u001b[1;32m      2\u001b[0m response \u001b[38;5;241m=\u001b[39m \u001b[38;5;124m\"\"\"\u001b[39m\u001b[38;5;124mSeventeen is considered a \u001b[39m\u001b[38;5;124m\"\u001b[39m\u001b[38;5;124mself-producing\u001b[39m\u001b[38;5;124m\"\u001b[39m\u001b[38;5;124m idol group, with the members involved in songwriting, music production, and choreographing, among other aspects of their music and performances. They perform as one group and are divided into three units—hip-hop, vocal, and performance—each with a different area of specialization. They have been labeled \u001b[39m\u001b[38;5;124m\"\u001b[39m\u001b[38;5;124mPerformance Kings\u001b[39m\u001b[38;5;124m\"\u001b[39m\u001b[38;5;124m, \u001b[39m\u001b[38;5;124m\"\u001b[39m\u001b[38;5;124mTheater Kids of K-Pop\u001b[39m\u001b[38;5;124m\"\u001b[39m\u001b[38;5;124m, and \u001b[39m\u001b[38;5;124m\"\u001b[39m\u001b[38;5;124mK-Pop Performance Powerhouse\u001b[39m\u001b[38;5;124m'\u001b[39m\u001b[38;5;124m\"\u001b[39m\u001b[38;5;124m by various domestic and international media outlets. \u001b[39m\u001b[38;5;124m\"\"\"\u001b[39m\n\u001b[1;32m      3\u001b[0m reference \u001b[38;5;241m=\u001b[39m \u001b[38;5;124m\"\"\"\u001b[39m\u001b[38;5;124mThe name Seventeen is derived from the expression \u001b[39m\u001b[38;5;124m\"\u001b[39m\u001b[38;5;124m13 members + 3 teams + 1 group\u001b[39m\u001b[38;5;124m\"\u001b[39m\u001b[38;5;124m, representing how the 13 members are divided into three different teams and come together to form one cohesive group.\u001b[39m\u001b[38;5;124m\"\"\"\u001b[39m\n\u001b[0;32m----> 4\u001b[0m result \u001b[38;5;241m=\u001b[39m \u001b[43mevaluator\u001b[49m\u001b[38;5;241;43m.\u001b[39;49m\u001b[43mevaluate\u001b[49m\u001b[43m(\u001b[49m\n\u001b[1;32m      5\u001b[0m \u001b[43m    \u001b[49m\u001b[43mresponse\u001b[49m\u001b[38;5;241;43m=\u001b[39;49m\u001b[43mresponse\u001b[49m\u001b[43m,\u001b[49m\n\u001b[1;32m      6\u001b[0m \u001b[43m    \u001b[49m\u001b[43mreference\u001b[49m\u001b[38;5;241;43m=\u001b[39;49m\u001b[43mreference\u001b[49m\u001b[43m,\u001b[49m\n\u001b[1;32m      7\u001b[0m \u001b[43m\u001b[49m\u001b[43m)\u001b[49m\n\u001b[1;32m      9\u001b[0m \u001b[38;5;28mprint\u001b[39m(\u001b[38;5;124m\"\u001b[39m\u001b[38;5;124mScore: \u001b[39m\u001b[38;5;124m\"\u001b[39m, result\u001b[38;5;241m.\u001b[39mscore)\n\u001b[1;32m     10\u001b[0m \u001b[38;5;28mprint\u001b[39m(\u001b[38;5;124m\"\u001b[39m\u001b[38;5;124mPassing: \u001b[39m\u001b[38;5;124m\"\u001b[39m, result\u001b[38;5;241m.\u001b[39mpassing)\n",
      "File \u001b[0;32m/Library/Frameworks/Python.framework/Versions/3.12/lib/python3.12/site-packages/llama_index/core/evaluation/base.py:62\u001b[0m, in \u001b[0;36mBaseEvaluator.evaluate\u001b[0;34m(self, query, response, contexts, **kwargs)\u001b[0m\n\u001b[1;32m     49\u001b[0m \u001b[38;5;28;01mdef\u001b[39;00m \u001b[38;5;21mevaluate\u001b[39m(\n\u001b[1;32m     50\u001b[0m     \u001b[38;5;28mself\u001b[39m,\n\u001b[1;32m     51\u001b[0m     query: Optional[\u001b[38;5;28mstr\u001b[39m] \u001b[38;5;241m=\u001b[39m \u001b[38;5;28;01mNone\u001b[39;00m,\n\u001b[0;32m   (...)\u001b[0m\n\u001b[1;32m     54\u001b[0m     \u001b[38;5;241m*\u001b[39m\u001b[38;5;241m*\u001b[39mkwargs: Any,\n\u001b[1;32m     55\u001b[0m ) \u001b[38;5;241m-\u001b[39m\u001b[38;5;241m>\u001b[39m EvaluationResult:\n\u001b[1;32m     56\u001b[0m \u001b[38;5;250m    \u001b[39m\u001b[38;5;124;03m\"\"\"Run evaluation with query string, retrieved contexts,\u001b[39;00m\n\u001b[1;32m     57\u001b[0m \u001b[38;5;124;03m    and generated response string.\u001b[39;00m\n\u001b[1;32m     58\u001b[0m \n\u001b[1;32m     59\u001b[0m \u001b[38;5;124;03m    Subclasses can override this method to provide custom evaluation logic and\u001b[39;00m\n\u001b[1;32m     60\u001b[0m \u001b[38;5;124;03m    take in additional arguments.\u001b[39;00m\n\u001b[1;32m     61\u001b[0m \u001b[38;5;124;03m    \"\"\"\u001b[39;00m\n\u001b[0;32m---> 62\u001b[0m     \u001b[38;5;28;01mreturn\u001b[39;00m \u001b[43masyncio_run\u001b[49m\u001b[43m(\u001b[49m\n\u001b[1;32m     63\u001b[0m \u001b[43m        \u001b[49m\u001b[38;5;28;43mself\u001b[39;49m\u001b[38;5;241;43m.\u001b[39;49m\u001b[43maevaluate\u001b[49m\u001b[43m(\u001b[49m\n\u001b[1;32m     64\u001b[0m \u001b[43m            \u001b[49m\u001b[43mquery\u001b[49m\u001b[38;5;241;43m=\u001b[39;49m\u001b[43mquery\u001b[49m\u001b[43m,\u001b[49m\n\u001b[1;32m     65\u001b[0m \u001b[43m            \u001b[49m\u001b[43mresponse\u001b[49m\u001b[38;5;241;43m=\u001b[39;49m\u001b[43mresponse\u001b[49m\u001b[43m,\u001b[49m\n\u001b[1;32m     66\u001b[0m \u001b[43m            \u001b[49m\u001b[43mcontexts\u001b[49m\u001b[38;5;241;43m=\u001b[39;49m\u001b[43mcontexts\u001b[49m\u001b[43m,\u001b[49m\n\u001b[1;32m     67\u001b[0m \u001b[43m            \u001b[49m\u001b[38;5;241;43m*\u001b[39;49m\u001b[38;5;241;43m*\u001b[39;49m\u001b[43mkwargs\u001b[49m\u001b[43m,\u001b[49m\n\u001b[1;32m     68\u001b[0m \u001b[43m        \u001b[49m\u001b[43m)\u001b[49m\n\u001b[1;32m     69\u001b[0m \u001b[43m    \u001b[49m\u001b[43m)\u001b[49m\n",
      "File \u001b[0;32m/Library/Frameworks/Python.framework/Versions/3.12/lib/python3.12/site-packages/llama_index/core/async_utils.py:40\u001b[0m, in \u001b[0;36masyncio_run\u001b[0;34m(coro)\u001b[0m\n\u001b[1;32m     38\u001b[0m     \u001b[38;5;28;01mreturn\u001b[39;00m asyncio\u001b[38;5;241m.\u001b[39mrun(coro)\n\u001b[1;32m     39\u001b[0m \u001b[38;5;28;01mexcept\u001b[39;00m \u001b[38;5;167;01mRuntimeError\u001b[39;00m \u001b[38;5;28;01mas\u001b[39;00m e:\n\u001b[0;32m---> 40\u001b[0m     \u001b[38;5;28;01mraise\u001b[39;00m \u001b[38;5;167;01mRuntimeError\u001b[39;00m(\n\u001b[1;32m     41\u001b[0m         \u001b[38;5;124m\"\u001b[39m\u001b[38;5;124mDetected nested async. Please use nest_asyncio.apply() to allow nested event loops.\u001b[39m\u001b[38;5;124m\"\u001b[39m\n\u001b[1;32m     42\u001b[0m         \u001b[38;5;124m\"\u001b[39m\u001b[38;5;124mOr, use async entry methods like `aquery()`, `aretriever`, `achat`, etc.\u001b[39m\u001b[38;5;124m\"\u001b[39m\n\u001b[1;32m     43\u001b[0m     )\n",
      "\u001b[0;31mRuntimeError\u001b[0m: Detected nested async. Please use nest_asyncio.apply() to allow nested event loops.Or, use async entry methods like `aquery()`, `aretriever`, `achat`, etc."
     ]
    }
   ],
   "source": [
    "if __name__ == \"__main__\":\n",
    "    main()"
   ]
  },
  {
   "cell_type": "markdown",
   "metadata": {},
   "source": [
    "## Query Pipelines"
   ]
  },
  {
   "cell_type": "markdown",
   "metadata": {},
   "source": [
    "### Sequential Query Pipeline"
   ]
  },
  {
   "cell_type": "code",
   "execution_count": 49,
   "metadata": {},
   "outputs": [],
   "source": [
    "from llama_index.core.query_pipeline import QueryPipeline"
   ]
  },
  {
   "cell_type": "code",
   "execution_count": 50,
   "metadata": {},
   "outputs": [],
   "source": [
    "prompt_str = \"please give me the name, cast and year of release for movies similar to the movie {movie_name}\"\n",
    "prompt_template = PromptTemplate(prompt_str)\n",
    "llm = OpenAI(model=\"gpt-3.5-turbo\")"
   ]
  },
  {
   "cell_type": "code",
   "execution_count": 53,
   "metadata": {},
   "outputs": [],
   "source": [
    "p = QueryPipeline(chain=[prompt_template, llm], verbose=True)"
   ]
  },
  {
   "cell_type": "code",
   "execution_count": 54,
   "metadata": {},
   "outputs": [
    {
     "name": "stdout",
     "output_type": "stream",
     "text": [
      "\u001b[1;3;38;2;155;135;227m> Running module 1d627550-48a2-4eae-9231-9d8acd27cd92 with input: \n",
      "movie_name: Big Hero 6\n",
      "\n",
      "\u001b[0m\u001b[1;3;38;2;155;135;227m> Running module fb4ebfeb-ce85-4b19-9b62-d7d07bf4d944 with input: \n",
      "messages: please give me the name, cast and year of release for movies similar to the movie Big Hero 6\n",
      "\n",
      "\u001b[0massistant: 1. \"The Incredibles\" (2004) \n",
      "   - Cast: Craig T. Nelson, Holly Hunter, Samuel L. Jackson\n",
      "   - Year of Release: 2004\n",
      "\n",
      "2. \"Wreck-It Ralph\" (2012)\n",
      "   - Cast: John C. Reilly, Sarah Silverman, Jack McBrayer\n",
      "   - Year of Release: 2012\n",
      "\n",
      "3. \"Zootopia\" (2016)\n",
      "   - Cast: Ginnifer Goodwin, Jason Bateman, Idris Elba\n",
      "   - Year of Release: 2016\n",
      "\n",
      "4. \"Moana\" (2016)\n",
      "   - Cast: Auli'i Cravalho, Dwayne Johnson, Rachel House\n",
      "   - Year of Release: 2016\n",
      "\n",
      "5. \"Ralph Breaks the Internet\" (2018)\n",
      "   - Cast: John C. Reilly, Sarah Silverman, Gal Gadot\n",
      "   - Year of Release: 2018\n"
     ]
    }
   ],
   "source": [
    "response = p.run(movie_name=\"Big Hero 6\")\n",
    "print(response)"
   ]
  },
  {
   "cell_type": "markdown",
   "metadata": {},
   "source": [
    "### DAG Pipeline"
   ]
  },
  {
   "cell_type": "code",
   "execution_count": 56,
   "metadata": {},
   "outputs": [],
   "source": [
    "from llama_index.postprocessor.cohere_rerank import CohereRerank\n",
    "from llama_index.core.response_synthesizers import TreeSummarize\n",
    "from llama_index.core import VectorStoreIndex"
   ]
  },
  {
   "cell_type": "code",
   "execution_count": 60,
   "metadata": {},
   "outputs": [
    {
     "data": {
      "text/plain": [
       "True"
      ]
     },
     "execution_count": 60,
     "metadata": {},
     "output_type": "execute_result"
    }
   ],
   "source": [
    "load_dotenv()"
   ]
  },
  {
   "cell_type": "code",
   "execution_count": 57,
   "metadata": {},
   "outputs": [],
   "source": [
    "prompt_str = \"What are the potential risks of harm from {topic}\"\n",
    "prompt_tmpl = PromptTemplate(prompt_str)"
   ]
  },
  {
   "cell_type": "code",
   "execution_count": 61,
   "metadata": {},
   "outputs": [],
   "source": [
    "retriever = index.as_retriever(similarity_top_k=5)\n",
    "reranker = CohereRerank()\n",
    "summarizer = TreeSummarize(llm=llm)\n",
    "p = QueryPipeline(verbose=True)"
   ]
  },
  {
   "cell_type": "code",
   "execution_count": 62,
   "metadata": {},
   "outputs": [],
   "source": [
    "p.add_modules(\n",
    "    {\n",
    "        \"llm\": llm,\n",
    "        \"prompt_tmpl\": prompt_tmpl,\n",
    "        \"retriever\": retriever,\n",
    "        \"summarizer\": summarizer,\n",
    "        \"reranker\": reranker\n",
    "    }\n",
    ")"
   ]
  },
  {
   "cell_type": "code",
   "execution_count": 63,
   "metadata": {},
   "outputs": [],
   "source": [
    "p.add_link(\"prompt_tmpl\", \"llm\")\n",
    "p.add_link(\"llm\",\"retriever\")\n",
    "p.add_link(\"retriever\", \"reranker\", dest_key=\"nodes\")\n",
    "p.add_link(\"llm\", \"reranker\", dest_key=\"query_str\")\n",
    "p.add_link(\"reranker\", \"summarizer\", dest_key=\"nodes\")\n",
    "p.add_link(\"llm\", \"summarizer\", dest_key=\"query_str\")"
   ]
  },
  {
   "cell_type": "code",
   "execution_count": 64,
   "metadata": {},
   "outputs": [
    {
     "name": "stdout",
     "output_type": "stream",
     "text": [
      "\u001b[1;3;38;2;155;135;227m> Running module prompt_tmpl with input: \n",
      "topic: Content Exposure\n",
      "\n",
      "\u001b[0m\u001b[1;3;38;2;155;135;227m> Running module llm with input: \n",
      "messages: What are the potential risks of harm from Content Exposure\n",
      "\n",
      "\u001b[0m\u001b[1;3;38;2;155;135;227m> Running module retriever with input: \n",
      "input: assistant: 1. Exposure to inappropriate or harmful content: Users may come across content that is violent, sexually explicit, or promotes harmful behaviors such as self-harm or substance abuse.\n",
      "\n",
      "2. Ps...\n",
      "\n",
      "\u001b[0m\u001b[1;3;38;2;155;135;227m> Running module reranker with input: \n",
      "query_str: assistant: 1. Exposure to inappropriate or harmful content: Users may come across content that is violent, sexually explicit, or promotes harmful behaviors such as self-harm or substance abuse.\n",
      "\n",
      "2. Ps...\n",
      "nodes: [NodeWithScore(node=TextNode(id_='749a5393-c545-4003-a091-3c7e8d35cfaa', embedding=None, metadata={'page_label': '8', 'file_name': 'sg-youth-mental-health-social-media-advisory.pdf', 'file_path': '/Us...\n",
      "\n",
      "\u001b[0m\u001b[1;3;38;2;155;135;227m> Running module summarizer with input: \n",
      "query_str: assistant: 1. Exposure to inappropriate or harmful content: Users may come across content that is violent, sexually explicit, or promotes harmful behaviors such as self-harm or substance abuse.\n",
      "\n",
      "2. Ps...\n",
      "nodes: [NodeWithScore(node=TextNode(id_='749a5393-c545-4003-a091-3c7e8d35cfaa', embedding=None, metadata={'page_label': '8', 'file_name': 'sg-youth-mental-health-social-media-advisory.pdf', 'file_path': '/Us...\n",
      "\n",
      "\u001b[0mExposure to inappropriate or harmful content online can have serious consequences on individuals' mental health and well-being. This exposure may lead to psychological harm, triggering anxiety, depression, or other psychological issues. Additionally, content exposure can extend to cyberbullying, where harmful comments or messages can cause emotional distress. Privacy concerns are also prevalent, as users may unknowingly expose personal information, leading to privacy breaches or identity theft. Moreover, constant exposure to certain content can result in addiction, impacting both physical and mental health. Misinformation is another risk, as exposure to false information can lead to confusion and the spread of harmful beliefs. Online predators pose a threat as well, potentially exploiting or harming individuals. Lastly, viewing or sharing certain types of content may have legal consequences, emphasizing the importance of being cautious about the content one engages with online to mitigate potential risks.\n"
     ]
    }
   ],
   "source": [
    "output=p.run(topic=\"Content Exposure\")\n",
    "print(output)"
   ]
  },
  {
   "cell_type": "markdown",
   "metadata": {},
   "source": [
    "### Dataframe Pipeline"
   ]
  },
  {
   "cell_type": "code",
   "execution_count": 67,
   "metadata": {},
   "outputs": [],
   "source": [
    "from llama_index.core.query_pipeline import (\n",
    "    QueryPipeline as QP,\n",
    "    Link,\n",
    "    InputComponent,\n",
    ")\n",
    "import pandas as pd\n",
    "from llama_index.experimental.query_engine.pandas import PandasInstructionParser"
   ]
  },
  {
   "cell_type": "code",
   "execution_count": 69,
   "metadata": {},
   "outputs": [
    {
     "data": {
      "text/html": [
       "<div>\n",
       "<style scoped>\n",
       "    .dataframe tbody tr th:only-of-type {\n",
       "        vertical-align: middle;\n",
       "    }\n",
       "\n",
       "    .dataframe tbody tr th {\n",
       "        vertical-align: top;\n",
       "    }\n",
       "\n",
       "    .dataframe thead th {\n",
       "        text-align: right;\n",
       "    }\n",
       "</style>\n",
       "<table border=\"1\" class=\"dataframe\">\n",
       "  <thead>\n",
       "    <tr style=\"text-align: right;\">\n",
       "      <th></th>\n",
       "      <th>Age</th>\n",
       "      <th>Gender</th>\n",
       "      <th>Height</th>\n",
       "      <th>Weight</th>\n",
       "      <th>Alcohol_Consulption</th>\n",
       "      <th>High_Calorie_Food</th>\n",
       "      <th>eat_vegetables</th>\n",
       "      <th>Number_of_Meals</th>\n",
       "      <th>monitor_calorie_intake</th>\n",
       "      <th>Smoke</th>\n",
       "      <th>Litres_daily_water_intake</th>\n",
       "      <th>family_history_with_overweight</th>\n",
       "      <th>Physical_activity</th>\n",
       "      <th>eat_food_between_meals</th>\n",
       "      <th>transportation_mode</th>\n",
       "      <th>Obesity_Level</th>\n",
       "    </tr>\n",
       "  </thead>\n",
       "  <tbody>\n",
       "    <tr>\n",
       "      <th>0</th>\n",
       "      <td>21.000000</td>\n",
       "      <td>Female</td>\n",
       "      <td>1.620000</td>\n",
       "      <td>64.000000</td>\n",
       "      <td>no</td>\n",
       "      <td>no</td>\n",
       "      <td>2.0</td>\n",
       "      <td>3.0</td>\n",
       "      <td>no</td>\n",
       "      <td>no</td>\n",
       "      <td>2.000000</td>\n",
       "      <td>yes</td>\n",
       "      <td>1.000000</td>\n",
       "      <td>Sometimes</td>\n",
       "      <td>Public_Transportation</td>\n",
       "      <td>Normal_Weight</td>\n",
       "    </tr>\n",
       "    <tr>\n",
       "      <th>1</th>\n",
       "      <td>21.000000</td>\n",
       "      <td>Female</td>\n",
       "      <td>1.520000</td>\n",
       "      <td>56.000000</td>\n",
       "      <td>Sometimes</td>\n",
       "      <td>no</td>\n",
       "      <td>3.0</td>\n",
       "      <td>3.0</td>\n",
       "      <td>yes</td>\n",
       "      <td>yes</td>\n",
       "      <td>3.000000</td>\n",
       "      <td>yes</td>\n",
       "      <td>0.000000</td>\n",
       "      <td>Sometimes</td>\n",
       "      <td>Public_Transportation</td>\n",
       "      <td>Normal_Weight</td>\n",
       "    </tr>\n",
       "    <tr>\n",
       "      <th>2</th>\n",
       "      <td>23.000000</td>\n",
       "      <td>Male</td>\n",
       "      <td>1.800000</td>\n",
       "      <td>77.000000</td>\n",
       "      <td>Frequently</td>\n",
       "      <td>no</td>\n",
       "      <td>2.0</td>\n",
       "      <td>3.0</td>\n",
       "      <td>no</td>\n",
       "      <td>no</td>\n",
       "      <td>2.000000</td>\n",
       "      <td>yes</td>\n",
       "      <td>1.000000</td>\n",
       "      <td>Sometimes</td>\n",
       "      <td>Public_Transportation</td>\n",
       "      <td>Normal_Weight</td>\n",
       "    </tr>\n",
       "    <tr>\n",
       "      <th>3</th>\n",
       "      <td>27.000000</td>\n",
       "      <td>Male</td>\n",
       "      <td>1.800000</td>\n",
       "      <td>87.000000</td>\n",
       "      <td>Frequently</td>\n",
       "      <td>no</td>\n",
       "      <td>3.0</td>\n",
       "      <td>3.0</td>\n",
       "      <td>no</td>\n",
       "      <td>no</td>\n",
       "      <td>2.000000</td>\n",
       "      <td>no</td>\n",
       "      <td>0.000000</td>\n",
       "      <td>Sometimes</td>\n",
       "      <td>Walking</td>\n",
       "      <td>Overweight_Level_I</td>\n",
       "    </tr>\n",
       "    <tr>\n",
       "      <th>4</th>\n",
       "      <td>22.000000</td>\n",
       "      <td>Male</td>\n",
       "      <td>1.780000</td>\n",
       "      <td>89.800000</td>\n",
       "      <td>Sometimes</td>\n",
       "      <td>no</td>\n",
       "      <td>2.0</td>\n",
       "      <td>1.0</td>\n",
       "      <td>no</td>\n",
       "      <td>no</td>\n",
       "      <td>2.000000</td>\n",
       "      <td>no</td>\n",
       "      <td>0.000000</td>\n",
       "      <td>Sometimes</td>\n",
       "      <td>Public_Transportation</td>\n",
       "      <td>Overweight_Level_II</td>\n",
       "    </tr>\n",
       "    <tr>\n",
       "      <th>...</th>\n",
       "      <td>...</td>\n",
       "      <td>...</td>\n",
       "      <td>...</td>\n",
       "      <td>...</td>\n",
       "      <td>...</td>\n",
       "      <td>...</td>\n",
       "      <td>...</td>\n",
       "      <td>...</td>\n",
       "      <td>...</td>\n",
       "      <td>...</td>\n",
       "      <td>...</td>\n",
       "      <td>...</td>\n",
       "      <td>...</td>\n",
       "      <td>...</td>\n",
       "      <td>...</td>\n",
       "      <td>...</td>\n",
       "    </tr>\n",
       "    <tr>\n",
       "      <th>2106</th>\n",
       "      <td>20.976842</td>\n",
       "      <td>Female</td>\n",
       "      <td>1.710730</td>\n",
       "      <td>131.408528</td>\n",
       "      <td>Sometimes</td>\n",
       "      <td>yes</td>\n",
       "      <td>3.0</td>\n",
       "      <td>3.0</td>\n",
       "      <td>no</td>\n",
       "      <td>no</td>\n",
       "      <td>1.728139</td>\n",
       "      <td>yes</td>\n",
       "      <td>0.906247</td>\n",
       "      <td>Sometimes</td>\n",
       "      <td>Public_Transportation</td>\n",
       "      <td>Obesity_Type_III</td>\n",
       "    </tr>\n",
       "    <tr>\n",
       "      <th>2107</th>\n",
       "      <td>21.982942</td>\n",
       "      <td>Female</td>\n",
       "      <td>1.748584</td>\n",
       "      <td>133.742943</td>\n",
       "      <td>Sometimes</td>\n",
       "      <td>yes</td>\n",
       "      <td>3.0</td>\n",
       "      <td>3.0</td>\n",
       "      <td>no</td>\n",
       "      <td>no</td>\n",
       "      <td>2.005130</td>\n",
       "      <td>yes</td>\n",
       "      <td>0.599270</td>\n",
       "      <td>Sometimes</td>\n",
       "      <td>Public_Transportation</td>\n",
       "      <td>Obesity_Type_III</td>\n",
       "    </tr>\n",
       "    <tr>\n",
       "      <th>2108</th>\n",
       "      <td>22.524036</td>\n",
       "      <td>Female</td>\n",
       "      <td>1.752206</td>\n",
       "      <td>133.689352</td>\n",
       "      <td>Sometimes</td>\n",
       "      <td>yes</td>\n",
       "      <td>3.0</td>\n",
       "      <td>3.0</td>\n",
       "      <td>no</td>\n",
       "      <td>no</td>\n",
       "      <td>2.054193</td>\n",
       "      <td>yes</td>\n",
       "      <td>0.646288</td>\n",
       "      <td>Sometimes</td>\n",
       "      <td>Public_Transportation</td>\n",
       "      <td>Obesity_Type_III</td>\n",
       "    </tr>\n",
       "    <tr>\n",
       "      <th>2109</th>\n",
       "      <td>24.361936</td>\n",
       "      <td>Female</td>\n",
       "      <td>1.739450</td>\n",
       "      <td>133.346641</td>\n",
       "      <td>Sometimes</td>\n",
       "      <td>yes</td>\n",
       "      <td>3.0</td>\n",
       "      <td>3.0</td>\n",
       "      <td>no</td>\n",
       "      <td>no</td>\n",
       "      <td>2.852339</td>\n",
       "      <td>yes</td>\n",
       "      <td>0.586035</td>\n",
       "      <td>Sometimes</td>\n",
       "      <td>Public_Transportation</td>\n",
       "      <td>Obesity_Type_III</td>\n",
       "    </tr>\n",
       "    <tr>\n",
       "      <th>2110</th>\n",
       "      <td>23.664709</td>\n",
       "      <td>Female</td>\n",
       "      <td>1.738836</td>\n",
       "      <td>133.472641</td>\n",
       "      <td>Sometimes</td>\n",
       "      <td>yes</td>\n",
       "      <td>3.0</td>\n",
       "      <td>3.0</td>\n",
       "      <td>no</td>\n",
       "      <td>no</td>\n",
       "      <td>2.863513</td>\n",
       "      <td>yes</td>\n",
       "      <td>0.714137</td>\n",
       "      <td>Sometimes</td>\n",
       "      <td>Public_Transportation</td>\n",
       "      <td>Obesity_Type_III</td>\n",
       "    </tr>\n",
       "  </tbody>\n",
       "</table>\n",
       "<p>2111 rows × 16 columns</p>\n",
       "</div>"
      ],
      "text/plain": [
       "            Age  Gender    Height      Weight Alcohol_Consulption  \\\n",
       "0     21.000000  Female  1.620000   64.000000                  no   \n",
       "1     21.000000  Female  1.520000   56.000000           Sometimes   \n",
       "2     23.000000    Male  1.800000   77.000000          Frequently   \n",
       "3     27.000000    Male  1.800000   87.000000          Frequently   \n",
       "4     22.000000    Male  1.780000   89.800000           Sometimes   \n",
       "...         ...     ...       ...         ...                 ...   \n",
       "2106  20.976842  Female  1.710730  131.408528           Sometimes   \n",
       "2107  21.982942  Female  1.748584  133.742943           Sometimes   \n",
       "2108  22.524036  Female  1.752206  133.689352           Sometimes   \n",
       "2109  24.361936  Female  1.739450  133.346641           Sometimes   \n",
       "2110  23.664709  Female  1.738836  133.472641           Sometimes   \n",
       "\n",
       "     High_Calorie_Food  eat_vegetables  Number_of_Meals  \\\n",
       "0                   no             2.0              3.0   \n",
       "1                   no             3.0              3.0   \n",
       "2                   no             2.0              3.0   \n",
       "3                   no             3.0              3.0   \n",
       "4                   no             2.0              1.0   \n",
       "...                ...             ...              ...   \n",
       "2106               yes             3.0              3.0   \n",
       "2107               yes             3.0              3.0   \n",
       "2108               yes             3.0              3.0   \n",
       "2109               yes             3.0              3.0   \n",
       "2110               yes             3.0              3.0   \n",
       "\n",
       "     monitor_calorie_intake Smoke  Litres_daily_water_intake  \\\n",
       "0                        no    no                   2.000000   \n",
       "1                       yes   yes                   3.000000   \n",
       "2                        no    no                   2.000000   \n",
       "3                        no    no                   2.000000   \n",
       "4                        no    no                   2.000000   \n",
       "...                     ...   ...                        ...   \n",
       "2106                     no    no                   1.728139   \n",
       "2107                     no    no                   2.005130   \n",
       "2108                     no    no                   2.054193   \n",
       "2109                     no    no                   2.852339   \n",
       "2110                     no    no                   2.863513   \n",
       "\n",
       "     family_history_with_overweight  Physical_activity eat_food_between_meals  \\\n",
       "0                               yes           1.000000              Sometimes   \n",
       "1                               yes           0.000000              Sometimes   \n",
       "2                               yes           1.000000              Sometimes   \n",
       "3                                no           0.000000              Sometimes   \n",
       "4                                no           0.000000              Sometimes   \n",
       "...                             ...                ...                    ...   \n",
       "2106                            yes           0.906247              Sometimes   \n",
       "2107                            yes           0.599270              Sometimes   \n",
       "2108                            yes           0.646288              Sometimes   \n",
       "2109                            yes           0.586035              Sometimes   \n",
       "2110                            yes           0.714137              Sometimes   \n",
       "\n",
       "        transportation_mode        Obesity_Level  \n",
       "0     Public_Transportation        Normal_Weight  \n",
       "1     Public_Transportation        Normal_Weight  \n",
       "2     Public_Transportation        Normal_Weight  \n",
       "3                   Walking   Overweight_Level_I  \n",
       "4     Public_Transportation  Overweight_Level_II  \n",
       "...                     ...                  ...  \n",
       "2106  Public_Transportation     Obesity_Type_III  \n",
       "2107  Public_Transportation     Obesity_Type_III  \n",
       "2108  Public_Transportation     Obesity_Type_III  \n",
       "2109  Public_Transportation     Obesity_Type_III  \n",
       "2110  Public_Transportation     Obesity_Type_III  \n",
       "\n",
       "[2111 rows x 16 columns]"
      ]
     },
     "execution_count": 69,
     "metadata": {},
     "output_type": "execute_result"
    }
   ],
   "source": [
    "df = pd.read_csv(\"ObesityDataSet.csv\", encoding='latin-1')\n",
    "df"
   ]
  },
  {
   "cell_type": "code",
   "execution_count": 70,
   "metadata": {},
   "outputs": [],
   "source": [
    "instruction_str = (\n",
    "    \"1. Convert the query to executable Python code using Pandas.\\n\"\n",
    "    \"2. The final line of code should be a Python expression that can be called with the `eval()` function.\\n\"\n",
    "    \"3. The code should represent a solution to the query.\\n\"\n",
    "    \"4. PRINT ONLY THE EXPRESSION.\\n\"\n",
    "    \"5. Do not use quotes in the expression.\\n\"\n",
    ")\n",
    "\n",
    "pandas_prompt_str = (\n",
    "    \"You are working with a pandas dataframe in Python.\\n\"\n",
    "    \"The name of the dataframe is `df`.\\n\"\n",
    "    \"This is the result of `print(df.head())`:\\n\"\n",
    "    \"{df_str}\\n\\n\"\n",
    "    \"Follow these instructions:\\n\"\n",
    "    \"{instruction_str}\\n\"\n",
    "    \"Query: {query_str}\\n\\n\"\n",
    "    \"Expression:\"\n",
    ")\n",
    "response_synthesis_prompt_str = (\n",
    "    \"Given an input question, synthesize a response from the query results.\\n\"\n",
    "    \"Query: {query_str}\\n\\n\"\n",
    "    \"Pandas Instructions (optional):\\n{pandas_instructions}\\n\\n\"\n",
    "    \"Pandas Output: {pandas_output}\\n\\n\"\n",
    "    \"Response: \"\n",
    ")"
   ]
  },
  {
   "cell_type": "code",
   "execution_count": 71,
   "metadata": {},
   "outputs": [],
   "source": [
    "# Pandas prompt containing the dataframe and query instructions  \n",
    "pandas_prompt = PromptTemplate(pandas_prompt_str).partial_format(\n",
    "    instruction_str=instruction_str, df_str=df.head(5)\n",
    ")\n",
    "\n",
    "# Pandas output parser to execute pandas instructions on dataframe, get back dataframe\n",
    "pandas_output_parser = PandasInstructionParser(df)   \n",
    "\n",
    "# Response synthesis prompt to synthesize a final response given the dataframe and query\n",
    "response_synthesis_prompt = PromptTemplate(response_synthesis_prompt_str)\n",
    "\n",
    "# LLMS model to use\n",
    "llm = OpenAI(model=\"gpt-3.5-turbo\")"
   ]
  },
  {
   "cell_type": "code",
   "execution_count": 72,
   "metadata": {},
   "outputs": [
    {
     "data": {
      "text/plain": [
       "PromptTemplate(metadata={'prompt_type': <PromptType.CUSTOM: 'custom'>}, template_vars=['df_str', 'instruction_str', 'query_str'], kwargs={'instruction_str': '1. Convert the query to executable Python code using Pandas.\\n2. The final line of code should be a Python expression that can be called with the `eval()` function.\\n3. The code should represent a solution to the query.\\n4. PRINT ONLY THE EXPRESSION.\\n5. Do not use quotes in the expression.\\n', 'df_str':     Age  Gender  Height  Weight Alcohol_Consulption High_Calorie_Food  \\\n",
       "0  21.0  Female    1.62    64.0                  no                no   \n",
       "1  21.0  Female    1.52    56.0           Sometimes                no   \n",
       "2  23.0    Male    1.80    77.0          Frequently                no   \n",
       "3  27.0    Male    1.80    87.0          Frequently                no   \n",
       "4  22.0    Male    1.78    89.8           Sometimes                no   \n",
       "\n",
       "   eat_vegetables  Number_of_Meals monitor_calorie_intake Smoke  \\\n",
       "0             2.0              3.0                     no    no   \n",
       "1             3.0              3.0                    yes   yes   \n",
       "2             2.0              3.0                     no    no   \n",
       "3             3.0              3.0                     no    no   \n",
       "4             2.0              1.0                     no    no   \n",
       "\n",
       "   Litres_daily_water_intake family_history_with_overweight  \\\n",
       "0                        2.0                            yes   \n",
       "1                        3.0                            yes   \n",
       "2                        2.0                            yes   \n",
       "3                        2.0                             no   \n",
       "4                        2.0                             no   \n",
       "\n",
       "   Physical_activity eat_food_between_meals    transportation_mode  \\\n",
       "0                1.0              Sometimes  Public_Transportation   \n",
       "1                0.0              Sometimes  Public_Transportation   \n",
       "2                1.0              Sometimes  Public_Transportation   \n",
       "3                0.0              Sometimes                Walking   \n",
       "4                0.0              Sometimes  Public_Transportation   \n",
       "\n",
       "         Obesity_Level  \n",
       "0        Normal_Weight  \n",
       "1        Normal_Weight  \n",
       "2        Normal_Weight  \n",
       "3   Overweight_Level_I  \n",
       "4  Overweight_Level_II  }, output_parser=None, template_var_mappings=None, function_mappings=None, template='You are working with a pandas dataframe in Python.\\nThe name of the dataframe is `df`.\\nThis is the result of `print(df.head())`:\\n{df_str}\\n\\nFollow these instructions:\\n{instruction_str}\\nQuery: {query_str}\\n\\nExpression:')"
      ]
     },
     "execution_count": 72,
     "metadata": {},
     "output_type": "execute_result"
    }
   ],
   "source": [
    "pandas_prompt\n"
   ]
  },
  {
   "cell_type": "code",
   "execution_count": 73,
   "metadata": {},
   "outputs": [],
   "source": [
    "qp = QP(\n",
    "    modules={\n",
    "        \"input\": InputComponent(),\n",
    "        \"pandas_prompt\": pandas_prompt,\n",
    "        \"llm1\": llm,\n",
    "        \"pandas_output_parser\": pandas_output_parser,\n",
    "        \"response_synthesis_prompt\": response_synthesis_prompt,\n",
    "        \"llm2\": llm,\n",
    "    },\n",
    "    verbose=True,\n",
    ")"
   ]
  },
  {
   "cell_type": "code",
   "execution_count": 74,
   "metadata": {},
   "outputs": [],
   "source": [
    "qp.add_chain([\"input\", \"pandas_prompt\", \"llm1\", \"pandas_output_parser\"])\n",
    "qp.add_links(\n",
    "    [\n",
    "        Link(\"input\", \"response_synthesis_prompt\", dest_key=\"query_str\"),\n",
    "        Link(\n",
    "            \"llm1\", \"response_synthesis_prompt\", dest_key=\"pandas_instructions\"\n",
    "        ),  \n",
    "        Link(\n",
    "            \"pandas_output_parser\",\n",
    "            \"response_synthesis_prompt\",\n",
    "            dest_key=\"pandas_output\",\n",
    "        ),\n",
    "    ]\n",
    ")\n",
    "# add link from response synthesis prompt to llm2\n",
    "qp.add_link(\"response_synthesis_prompt\", \"llm2\")"
   ]
  },
  {
   "cell_type": "code",
   "execution_count": 75,
   "metadata": {},
   "outputs": [
    {
     "name": "stdout",
     "output_type": "stream",
     "text": [
      "\u001b[1;3;38;2;155;135;227m> Running module input with input: \n",
      "query_str: What is the distrbution between males and females?\n",
      "\n",
      "\u001b[0m\u001b[1;3;38;2;155;135;227m> Running module pandas_prompt with input: \n",
      "query_str: What is the distrbution between males and females?\n",
      "\n",
      "\u001b[0m\u001b[1;3;38;2;155;135;227m> Running module llm1 with input: \n",
      "messages: You are working with a pandas dataframe in Python.\n",
      "The name of the dataframe is `df`.\n",
      "This is the result of `print(df.head())`:\n",
      "    Age  Gender  Height  Weight Alcohol_Consulption High_Calorie_Food  \\...\n",
      "\n",
      "\u001b[0m\u001b[1;3;38;2;155;135;227m> Running module pandas_output_parser with input: \n",
      "input: assistant: df['Gender'].value_counts()\n",
      "\n",
      "\u001b[0m\u001b[1;3;38;2;155;135;227m> Running module response_synthesis_prompt with input: \n",
      "query_str: What is the distrbution between males and females?\n",
      "pandas_instructions: assistant: df['Gender'].value_counts()\n",
      "pandas_output: Gender\n",
      "Male      1068\n",
      "Female    1043\n",
      "Name: count, dtype: int64\n",
      "\n",
      "\u001b[0m\u001b[1;3;38;2;155;135;227m> Running module llm2 with input: \n",
      "messages: Given an input question, synthesize a response from the query results.\n",
      "Query: What is the distrbution between males and females?\n",
      "\n",
      "Pandas Instructions (optional):\n",
      "df['Gender'].value_counts()\n",
      "\n",
      "Pandas Ou...\n",
      "\n",
      "\u001b[0massistant: The distribution between males and females is fairly even, with 1068 males and 1043 females in the dataset.\n"
     ]
    }
   ],
   "source": [
    "# Run Query\n",
    "response = qp.run(\n",
    "    #query_str=\"What is the correlation between vegetable Intake and Obesity level? Show the correlation coefficient along with explanation.\"\n",
    "    query_str=\"What is the distrbution between males and females?\",\n",
    "    #query_str=\"What is the distribution of people consuming alcohol and not?\"        \n",
    ")\n",
    "print(response)"
   ]
  },
  {
   "cell_type": "markdown",
   "metadata": {},
   "source": [
    "## Chatbots"
   ]
  },
  {
   "cell_type": "code",
   "execution_count": 4,
   "metadata": {},
   "outputs": [
    {
     "name": "stdout",
     "output_type": "stream",
     "text": [
      "Requirement already satisfied: llama-index in /Library/Frameworks/Python.framework/Versions/3.12/lib/python3.12/site-packages (0.10.64)\n",
      "Requirement already satisfied: llama-index-agent-openai<0.3.0,>=0.1.4 in /Library/Frameworks/Python.framework/Versions/3.12/lib/python3.12/site-packages (from llama-index) (0.2.9)\n",
      "Requirement already satisfied: llama-index-cli<0.2.0,>=0.1.2 in /Library/Frameworks/Python.framework/Versions/3.12/lib/python3.12/site-packages (from llama-index) (0.1.13)\n",
      "Requirement already satisfied: llama-index-core<0.11.0,>=0.10.64 in /Library/Frameworks/Python.framework/Versions/3.12/lib/python3.12/site-packages (from llama-index) (0.10.64)\n",
      "Requirement already satisfied: llama-index-embeddings-openai<0.2.0,>=0.1.5 in /Library/Frameworks/Python.framework/Versions/3.12/lib/python3.12/site-packages (from llama-index) (0.1.11)\n",
      "Requirement already satisfied: llama-index-indices-managed-llama-cloud>=0.2.0 in /Library/Frameworks/Python.framework/Versions/3.12/lib/python3.12/site-packages (from llama-index) (0.2.7)\n",
      "Requirement already satisfied: llama-index-legacy<0.10.0,>=0.9.48 in /Library/Frameworks/Python.framework/Versions/3.12/lib/python3.12/site-packages (from llama-index) (0.9.48)\n",
      "Requirement already satisfied: llama-index-llms-openai<0.2.0,>=0.1.27 in /Library/Frameworks/Python.framework/Versions/3.12/lib/python3.12/site-packages (from llama-index) (0.1.29)\n",
      "Requirement already satisfied: llama-index-multi-modal-llms-openai<0.2.0,>=0.1.3 in /Library/Frameworks/Python.framework/Versions/3.12/lib/python3.12/site-packages (from llama-index) (0.1.9)\n",
      "Requirement already satisfied: llama-index-program-openai<0.2.0,>=0.1.3 in /Library/Frameworks/Python.framework/Versions/3.12/lib/python3.12/site-packages (from llama-index) (0.1.7)\n",
      "Requirement already satisfied: llama-index-question-gen-openai<0.2.0,>=0.1.2 in /Library/Frameworks/Python.framework/Versions/3.12/lib/python3.12/site-packages (from llama-index) (0.1.3)\n",
      "Requirement already satisfied: llama-index-readers-file<0.2.0,>=0.1.4 in /Library/Frameworks/Python.framework/Versions/3.12/lib/python3.12/site-packages (from llama-index) (0.1.32)\n",
      "Requirement already satisfied: llama-index-readers-llama-parse>=0.1.2 in /Library/Frameworks/Python.framework/Versions/3.12/lib/python3.12/site-packages (from llama-index) (0.1.6)\n",
      "Requirement already satisfied: openai>=1.14.0 in /Library/Frameworks/Python.framework/Versions/3.12/lib/python3.12/site-packages (from llama-index-agent-openai<0.3.0,>=0.1.4->llama-index) (1.40.2)\n",
      "Requirement already satisfied: PyYAML>=6.0.1 in /Library/Frameworks/Python.framework/Versions/3.12/lib/python3.12/site-packages (from llama-index-core<0.11.0,>=0.10.64->llama-index) (6.0.1)\n",
      "Requirement already satisfied: SQLAlchemy>=1.4.49 in /Library/Frameworks/Python.framework/Versions/3.12/lib/python3.12/site-packages (from SQLAlchemy[asyncio]>=1.4.49->llama-index-core<0.11.0,>=0.10.64->llama-index) (2.0.31)\n",
      "Requirement already satisfied: aiohttp<4.0.0,>=3.8.6 in /Library/Frameworks/Python.framework/Versions/3.12/lib/python3.12/site-packages (from llama-index-core<0.11.0,>=0.10.64->llama-index) (3.10.0)\n",
      "Requirement already satisfied: dataclasses-json in /Library/Frameworks/Python.framework/Versions/3.12/lib/python3.12/site-packages (from llama-index-core<0.11.0,>=0.10.64->llama-index) (0.6.7)\n",
      "Requirement already satisfied: deprecated>=1.2.9.3 in /Library/Frameworks/Python.framework/Versions/3.12/lib/python3.12/site-packages (from llama-index-core<0.11.0,>=0.10.64->llama-index) (1.2.14)\n",
      "Requirement already satisfied: dirtyjson<2.0.0,>=1.0.8 in /Library/Frameworks/Python.framework/Versions/3.12/lib/python3.12/site-packages (from llama-index-core<0.11.0,>=0.10.64->llama-index) (1.0.8)\n",
      "Requirement already satisfied: fsspec>=2023.5.0 in /Library/Frameworks/Python.framework/Versions/3.12/lib/python3.12/site-packages (from llama-index-core<0.11.0,>=0.10.64->llama-index) (2024.5.0)\n",
      "Requirement already satisfied: httpx in /Library/Frameworks/Python.framework/Versions/3.12/lib/python3.12/site-packages (from llama-index-core<0.11.0,>=0.10.64->llama-index) (0.27.0)\n",
      "Requirement already satisfied: nest-asyncio<2.0.0,>=1.5.8 in /Users/siddhiapraj/Library/Python/3.12/lib/python/site-packages (from llama-index-core<0.11.0,>=0.10.64->llama-index) (1.6.0)\n",
      "Requirement already satisfied: networkx>=3.0 in /Library/Frameworks/Python.framework/Versions/3.12/lib/python3.12/site-packages (from llama-index-core<0.11.0,>=0.10.64->llama-index) (3.3)\n",
      "Requirement already satisfied: nltk<4.0.0,>=3.8.1 in /Library/Frameworks/Python.framework/Versions/3.12/lib/python3.12/site-packages (from llama-index-core<0.11.0,>=0.10.64->llama-index) (3.8.1)\n",
      "Requirement already satisfied: numpy<2.0.0 in /Library/Frameworks/Python.framework/Versions/3.12/lib/python3.12/site-packages (from llama-index-core<0.11.0,>=0.10.64->llama-index) (1.26.4)\n",
      "Requirement already satisfied: pandas in /Library/Frameworks/Python.framework/Versions/3.12/lib/python3.12/site-packages (from llama-index-core<0.11.0,>=0.10.64->llama-index) (2.2.2)\n",
      "Requirement already satisfied: pillow>=9.0.0 in /Library/Frameworks/Python.framework/Versions/3.12/lib/python3.12/site-packages (from llama-index-core<0.11.0,>=0.10.64->llama-index) (10.4.0)\n",
      "Requirement already satisfied: requests>=2.31.0 in /Library/Frameworks/Python.framework/Versions/3.12/lib/python3.12/site-packages (from llama-index-core<0.11.0,>=0.10.64->llama-index) (2.32.3)\n",
      "Requirement already satisfied: tenacity!=8.4.0,<9.0.0,>=8.2.0 in /Library/Frameworks/Python.framework/Versions/3.12/lib/python3.12/site-packages (from llama-index-core<0.11.0,>=0.10.64->llama-index) (8.5.0)\n",
      "Requirement already satisfied: tiktoken>=0.3.3 in /Library/Frameworks/Python.framework/Versions/3.12/lib/python3.12/site-packages (from llama-index-core<0.11.0,>=0.10.64->llama-index) (0.7.0)\n",
      "Requirement already satisfied: tqdm<5.0.0,>=4.66.1 in /Library/Frameworks/Python.framework/Versions/3.12/lib/python3.12/site-packages (from llama-index-core<0.11.0,>=0.10.64->llama-index) (4.66.4)\n",
      "Requirement already satisfied: typing-extensions>=4.5.0 in /Library/Frameworks/Python.framework/Versions/3.12/lib/python3.12/site-packages (from llama-index-core<0.11.0,>=0.10.64->llama-index) (4.11.0)\n",
      "Requirement already satisfied: typing-inspect>=0.8.0 in /Library/Frameworks/Python.framework/Versions/3.12/lib/python3.12/site-packages (from llama-index-core<0.11.0,>=0.10.64->llama-index) (0.9.0)\n",
      "Requirement already satisfied: wrapt in /Library/Frameworks/Python.framework/Versions/3.12/lib/python3.12/site-packages (from llama-index-core<0.11.0,>=0.10.64->llama-index) (1.16.0)\n",
      "Requirement already satisfied: llama-cloud>=0.0.11 in /Library/Frameworks/Python.framework/Versions/3.12/lib/python3.12/site-packages (from llama-index-indices-managed-llama-cloud>=0.2.0->llama-index) (0.0.13)\n",
      "Requirement already satisfied: beautifulsoup4<5.0.0,>=4.12.3 in /Library/Frameworks/Python.framework/Versions/3.12/lib/python3.12/site-packages (from llama-index-readers-file<0.2.0,>=0.1.4->llama-index) (4.12.3)\n",
      "Requirement already satisfied: pypdf<5.0.0,>=4.0.1 in /Library/Frameworks/Python.framework/Versions/3.12/lib/python3.12/site-packages (from llama-index-readers-file<0.2.0,>=0.1.4->llama-index) (4.3.1)\n",
      "Requirement already satisfied: striprtf<0.0.27,>=0.0.26 in /Library/Frameworks/Python.framework/Versions/3.12/lib/python3.12/site-packages (from llama-index-readers-file<0.2.0,>=0.1.4->llama-index) (0.0.26)\n",
      "Requirement already satisfied: llama-parse>=0.4.0 in /Library/Frameworks/Python.framework/Versions/3.12/lib/python3.12/site-packages (from llama-index-readers-llama-parse>=0.1.2->llama-index) (0.4.9)\n",
      "Requirement already satisfied: aiohappyeyeballs>=2.3.0 in /Library/Frameworks/Python.framework/Versions/3.12/lib/python3.12/site-packages (from aiohttp<4.0.0,>=3.8.6->llama-index-core<0.11.0,>=0.10.64->llama-index) (2.3.4)\n",
      "Requirement already satisfied: aiosignal>=1.1.2 in /Library/Frameworks/Python.framework/Versions/3.12/lib/python3.12/site-packages (from aiohttp<4.0.0,>=3.8.6->llama-index-core<0.11.0,>=0.10.64->llama-index) (1.3.1)\n",
      "Requirement already satisfied: attrs>=17.3.0 in /Library/Frameworks/Python.framework/Versions/3.12/lib/python3.12/site-packages (from aiohttp<4.0.0,>=3.8.6->llama-index-core<0.11.0,>=0.10.64->llama-index) (23.2.0)\n",
      "Requirement already satisfied: frozenlist>=1.1.1 in /Library/Frameworks/Python.framework/Versions/3.12/lib/python3.12/site-packages (from aiohttp<4.0.0,>=3.8.6->llama-index-core<0.11.0,>=0.10.64->llama-index) (1.4.1)\n",
      "Requirement already satisfied: multidict<7.0,>=4.5 in /Library/Frameworks/Python.framework/Versions/3.12/lib/python3.12/site-packages (from aiohttp<4.0.0,>=3.8.6->llama-index-core<0.11.0,>=0.10.64->llama-index) (6.0.5)\n",
      "Requirement already satisfied: yarl<2.0,>=1.0 in /Library/Frameworks/Python.framework/Versions/3.12/lib/python3.12/site-packages (from aiohttp<4.0.0,>=3.8.6->llama-index-core<0.11.0,>=0.10.64->llama-index) (1.9.4)\n",
      "Requirement already satisfied: soupsieve>1.2 in /Library/Frameworks/Python.framework/Versions/3.12/lib/python3.12/site-packages (from beautifulsoup4<5.0.0,>=4.12.3->llama-index-readers-file<0.2.0,>=0.1.4->llama-index) (2.5)\n",
      "Requirement already satisfied: pydantic>=1.10 in /Library/Frameworks/Python.framework/Versions/3.12/lib/python3.12/site-packages (from llama-cloud>=0.0.11->llama-index-indices-managed-llama-cloud>=0.2.0->llama-index) (2.8.2)\n",
      "Requirement already satisfied: anyio in /Library/Frameworks/Python.framework/Versions/3.12/lib/python3.12/site-packages (from httpx->llama-index-core<0.11.0,>=0.10.64->llama-index) (4.4.0)\n",
      "Requirement already satisfied: certifi in /Library/Frameworks/Python.framework/Versions/3.12/lib/python3.12/site-packages (from httpx->llama-index-core<0.11.0,>=0.10.64->llama-index) (2024.2.2)\n",
      "Requirement already satisfied: httpcore==1.* in /Library/Frameworks/Python.framework/Versions/3.12/lib/python3.12/site-packages (from httpx->llama-index-core<0.11.0,>=0.10.64->llama-index) (1.0.5)\n",
      "Requirement already satisfied: idna in /Library/Frameworks/Python.framework/Versions/3.12/lib/python3.12/site-packages (from httpx->llama-index-core<0.11.0,>=0.10.64->llama-index) (3.7)\n",
      "Requirement already satisfied: sniffio in /Library/Frameworks/Python.framework/Versions/3.12/lib/python3.12/site-packages (from httpx->llama-index-core<0.11.0,>=0.10.64->llama-index) (1.3.1)\n",
      "Requirement already satisfied: h11<0.15,>=0.13 in /Library/Frameworks/Python.framework/Versions/3.12/lib/python3.12/site-packages (from httpcore==1.*->httpx->llama-index-core<0.11.0,>=0.10.64->llama-index) (0.14.0)\n",
      "Requirement already satisfied: click in /Library/Frameworks/Python.framework/Versions/3.12/lib/python3.12/site-packages (from nltk<4.0.0,>=3.8.1->llama-index-core<0.11.0,>=0.10.64->llama-index) (8.1.7)\n",
      "Requirement already satisfied: joblib in /Library/Frameworks/Python.framework/Versions/3.12/lib/python3.12/site-packages (from nltk<4.0.0,>=3.8.1->llama-index-core<0.11.0,>=0.10.64->llama-index) (1.4.0)\n",
      "Requirement already satisfied: regex>=2021.8.3 in /Library/Frameworks/Python.framework/Versions/3.12/lib/python3.12/site-packages (from nltk<4.0.0,>=3.8.1->llama-index-core<0.11.0,>=0.10.64->llama-index) (2024.7.24)\n",
      "Requirement already satisfied: distro<2,>=1.7.0 in /Library/Frameworks/Python.framework/Versions/3.12/lib/python3.12/site-packages (from openai>=1.14.0->llama-index-agent-openai<0.3.0,>=0.1.4->llama-index) (1.9.0)\n",
      "Requirement already satisfied: jiter<1,>=0.4.0 in /Library/Frameworks/Python.framework/Versions/3.12/lib/python3.12/site-packages (from openai>=1.14.0->llama-index-agent-openai<0.3.0,>=0.1.4->llama-index) (0.5.0)\n",
      "Requirement already satisfied: charset-normalizer<4,>=2 in /Library/Frameworks/Python.framework/Versions/3.12/lib/python3.12/site-packages (from requests>=2.31.0->llama-index-core<0.11.0,>=0.10.64->llama-index) (3.3.2)\n",
      "Requirement already satisfied: urllib3<3,>=1.21.1 in /Library/Frameworks/Python.framework/Versions/3.12/lib/python3.12/site-packages (from requests>=2.31.0->llama-index-core<0.11.0,>=0.10.64->llama-index) (2.2.1)\n",
      "Requirement already satisfied: greenlet!=0.4.17 in /Library/Frameworks/Python.framework/Versions/3.12/lib/python3.12/site-packages (from SQLAlchemy[asyncio]>=1.4.49->llama-index-core<0.11.0,>=0.10.64->llama-index) (3.0.3)\n",
      "Requirement already satisfied: mypy-extensions>=0.3.0 in /Library/Frameworks/Python.framework/Versions/3.12/lib/python3.12/site-packages (from typing-inspect>=0.8.0->llama-index-core<0.11.0,>=0.10.64->llama-index) (1.0.0)\n",
      "Requirement already satisfied: marshmallow<4.0.0,>=3.18.0 in /Library/Frameworks/Python.framework/Versions/3.12/lib/python3.12/site-packages (from dataclasses-json->llama-index-core<0.11.0,>=0.10.64->llama-index) (3.21.3)\n",
      "Requirement already satisfied: python-dateutil>=2.8.2 in /Library/Frameworks/Python.framework/Versions/3.12/lib/python3.12/site-packages (from pandas->llama-index-core<0.11.0,>=0.10.64->llama-index) (2.9.0.post0)\n",
      "Requirement already satisfied: pytz>=2020.1 in /Library/Frameworks/Python.framework/Versions/3.12/lib/python3.12/site-packages (from pandas->llama-index-core<0.11.0,>=0.10.64->llama-index) (2024.1)\n",
      "Requirement already satisfied: tzdata>=2022.7 in /Library/Frameworks/Python.framework/Versions/3.12/lib/python3.12/site-packages (from pandas->llama-index-core<0.11.0,>=0.10.64->llama-index) (2024.1)\n",
      "Requirement already satisfied: packaging>=17.0 in /Library/Frameworks/Python.framework/Versions/3.12/lib/python3.12/site-packages (from marshmallow<4.0.0,>=3.18.0->dataclasses-json->llama-index-core<0.11.0,>=0.10.64->llama-index) (24.0)\n",
      "Requirement already satisfied: annotated-types>=0.4.0 in /Library/Frameworks/Python.framework/Versions/3.12/lib/python3.12/site-packages (from pydantic>=1.10->llama-cloud>=0.0.11->llama-index-indices-managed-llama-cloud>=0.2.0->llama-index) (0.7.0)\n",
      "Requirement already satisfied: pydantic-core==2.20.1 in /Library/Frameworks/Python.framework/Versions/3.12/lib/python3.12/site-packages (from pydantic>=1.10->llama-cloud>=0.0.11->llama-index-indices-managed-llama-cloud>=0.2.0->llama-index) (2.20.1)\n",
      "Requirement already satisfied: six>=1.5 in /Library/Frameworks/Python.framework/Versions/3.12/lib/python3.12/site-packages (from python-dateutil>=2.8.2->pandas->llama-index-core<0.11.0,>=0.10.64->llama-index) (1.16.0)\n",
      "\n",
      "\u001b[1m[\u001b[0m\u001b[34;49mnotice\u001b[0m\u001b[1;39;49m]\u001b[0m\u001b[39;49m A new release of pip is available: \u001b[0m\u001b[31;49m24.0\u001b[0m\u001b[39;49m -> \u001b[0m\u001b[32;49m24.2\u001b[0m\n",
      "\u001b[1m[\u001b[0m\u001b[34;49mnotice\u001b[0m\u001b[1;39;49m]\u001b[0m\u001b[39;49m To update, run: \u001b[0m\u001b[32;49mpip3 install --upgrade pip\u001b[0m\n"
     ]
    }
   ],
   "source": [
    "!pip3 install llama-index"
   ]
  },
  {
   "cell_type": "code",
   "execution_count": 6,
   "metadata": {},
   "outputs": [],
   "source": [
    "from llama_index.core import VectorStoreIndex, SimpleDirectoryReader\n",
    "\n",
    "documents = SimpleDirectoryReader(\"data1\").load_data()"
   ]
  },
  {
   "cell_type": "code",
   "execution_count": 7,
   "metadata": {},
   "outputs": [],
   "source": [
    "from llama_index.embeddings.openai import OpenAIEmbedding\n",
    "from llama_index.llms.openai import OpenAI\n",
    "from llama_index.core import Settings\n",
    "\n",
    "llm = OpenAI(model='gpt-3.5-turbo', temperature=0.2)\n",
    "embed_model = OpenAIEmbedding()\n",
    "\n",
    "Settings.llm = llm\n",
    "Settings.embed_model = embed_model"
   ]
  },
  {
   "cell_type": "code",
   "execution_count": 8,
   "metadata": {},
   "outputs": [],
   "source": [
    "from llama_index.core.node_parser import TokenTextSplitter\n",
    "\n",
    "splitter = TokenTextSplitter(\n",
    "    chunk_size=1024,\n",
    "    chunk_overlap=20\n",
    ")\n",
    "nodes = splitter.get_nodes_from_documents(documents)"
   ]
  },
  {
   "cell_type": "code",
   "execution_count": 9,
   "metadata": {},
   "outputs": [
    {
     "data": {
      "text/plain": [
       "TextNode(id_='ce0ddf94-9cb3-4b02-bcb4-e6af89811951', embedding=None, metadata={'file_path': '/Users/siddhiapraj/GenAIExperiments/LlamaIndex/data1/paul_graham_essay.txt', 'file_name': 'paul_graham_essay.txt', 'file_type': 'text/plain', 'file_size': 75040, 'creation_date': '2024-08-12', 'last_modified_date': '2024-08-12'}, excluded_embed_metadata_keys=['file_name', 'file_type', 'file_size', 'creation_date', 'last_modified_date', 'last_accessed_date'], excluded_llm_metadata_keys=['file_name', 'file_type', 'file_size', 'creation_date', 'last_modified_date', 'last_accessed_date'], relationships={<NodeRelationship.SOURCE: '1'>: RelatedNodeInfo(node_id='a4ce4638-afc1-4c0e-8f0b-27c32355442b', node_type=<ObjectType.DOCUMENT: '4'>, metadata={'file_path': '/Users/siddhiapraj/GenAIExperiments/LlamaIndex/data1/paul_graham_essay.txt', 'file_name': 'paul_graham_essay.txt', 'file_type': 'text/plain', 'file_size': 75040, 'creation_date': '2024-08-12', 'last_modified_date': '2024-08-12'}, hash='e599db1e7a83a45547da88295586cafccf5d5cd7a79caa219831d86795de75f4'), <NodeRelationship.NEXT: '3'>: RelatedNodeInfo(node_id='6853e904-df40-4eb9-a3e2-c99f32c135b4', node_type=<ObjectType.TEXT: '1'>, metadata={}, hash='c58a2163e19f7165e2fc77f4c59a17b84ff2635b3af21af8d90a06b327e06933')}, text='What I Worked On\\n\\nFebruary 2021\\n\\nBefore college the two main things I worked on, outside of school, were writing and programming. I didn\\'t write essays. I wrote what beginning writers were supposed to write then, and probably still are: short stories. My stories were awful. They had hardly any plot, just characters with strong feelings, which I imagined made them deep.\\n\\nThe first programs I tried writing were on the IBM 1401 that our school district used for what was then called \"data processing.\" This was in 9th grade, so I was 13 or 14. The school district\\'s 1401 happened to be in the basement of our junior high school, and my friend Rich Draves and I got permission to use it. It was like a mini Bond villain\\'s lair down there, with all these alien-looking machines — CPU, disk drives, printer, card reader — sitting up on a raised floor under bright fluorescent lights.\\n\\nThe language we used was an early version of Fortran. You had to type programs on punch cards, then stack them in the card reader and press a button to load the program into memory and run it. The result would ordinarily be to print something on the spectacularly loud printer.\\n\\nI was puzzled by the 1401. I couldn\\'t figure out what to do with it. And in retrospect there\\'s not much I could have done with it. The only form of input to programs was data stored on punched cards, and I didn\\'t have any data stored on punched cards. The only other option was to do things that didn\\'t rely on any input, like calculate approximations of pi, but I didn\\'t know enough math to do anything interesting of that type. So I\\'m not surprised I can\\'t remember any programs I wrote, because they can\\'t have done much. My clearest memory is of the moment I learned it was possible for programs not to terminate, when one of mine didn\\'t. On a machine without time-sharing, this was a social as well as a technical error, as the data center manager\\'s expression made clear.\\n\\nWith microcomputers, everything changed. Now you could have a computer sitting right in front of you, on a desk, that could respond to your keystrokes as it was running instead of just churning through a stack of punch cards and then stopping. [1]\\n\\nThe first of my friends to get a microcomputer built it himself. It was sold as a kit by Heathkit. I remember vividly how impressed and envious I felt watching him sitting in front of it, typing programs right into the computer.\\n\\nComputers were expensive in those days and it took me years of nagging before I convinced my father to buy one, a TRS-80, in about 1980. The gold standard then was the Apple II, but a TRS-80 was good enough. This was when I really started programming. I wrote simple games, a program to predict how high my model rockets would fly, and a word processor that my father used to write at least one book. There was only room in memory for about 2 pages of text, so he\\'d write 2 pages at a time and then print them out, but it was a lot better than a typewriter.\\n\\nThough I liked programming, I didn\\'t plan to study it in college. In college I was going to study philosophy, which sounded much more powerful. It seemed, to my naive high school self, to be the study of the ultimate truths, compared to which the things studied in other fields would be mere domain knowledge. What I discovered when I got to college was that the other fields took up so much of the space of ideas that there wasn\\'t much left for these supposed ultimate truths. All that seemed left for philosophy were edge cases that people in other fields felt could safely be ignored.\\n\\nI couldn\\'t have put this into words when I was 18. All I knew at the time was that I kept taking philosophy courses and they kept being boring. So I decided to switch to AI.\\n\\nAI was in the air in the mid 1980s, but there were two things especially that made me want to work on it: a novel by Heinlein called The Moon is a Harsh Mistress, which featured an intelligent computer called Mike, and a PBS documentary that showed Terry Winograd using SHRDLU. I haven\\'t tried rereading The Moon is a Harsh Mistress, so I don\\'t know how well it has aged, but when I read it I was drawn entirely into its world. It seemed only a matter of time before we\\'d have Mike, and when I saw Winograd using SHRDLU, it seemed like that time would be a few years at most. All you had to do was teach SHRDLU more words.\\n\\nThere weren\\'t any classes in AI at Cornell then, not even graduate', mimetype='text/plain', start_char_idx=0, end_char_idx=4433, text_template='{metadata_str}\\n\\n{content}', metadata_template='{key}: {value}', metadata_seperator='\\n')"
      ]
     },
     "execution_count": 9,
     "metadata": {},
     "output_type": "execute_result"
    }
   ],
   "source": [
    "nodes[0]"
   ]
  },
  {
   "cell_type": "code",
   "execution_count": 10,
   "metadata": {},
   "outputs": [],
   "source": [
    "from llama_index.core import VectorStoreIndex\n",
    "\n",
    "index = VectorStoreIndex(nodes)"
   ]
  },
  {
   "cell_type": "markdown",
   "metadata": {},
   "source": [
    "### Simple ChatEngine"
   ]
  },
  {
   "cell_type": "code",
   "execution_count": 11,
   "metadata": {},
   "outputs": [],
   "source": [
    "from llama_index.core.chat_engine import SimpleChatEngine\n",
    "\n",
    "chat_engine = SimpleChatEngine.from_defaults()"
   ]
  },
  {
   "cell_type": "code",
   "execution_count": 13,
   "metadata": {},
   "outputs": [
    {
     "data": {
      "text/plain": [
       "AgentChatResponse(response='Hello! How can I help you today?', sources=[], source_nodes=[], is_dummy_stream=False, metadata=None)"
      ]
     },
     "execution_count": 13,
     "metadata": {},
     "output_type": "execute_result"
    }
   ],
   "source": [
    "response = chat_engine.chat(\"Hello\")\n",
    "response"
   ]
  },
  {
   "cell_type": "code",
   "execution_count": 14,
   "metadata": {},
   "outputs": [
    {
     "data": {
      "text/plain": [
       "AgentChatResponse(response='Steve Jobs, the co-founder of Apple Inc., had a passion for electronics and technology from a young age. Growing up, he was interested in tinkering with electronics and building gadgets. He also had a love for music and arts, which later influenced the design and user experience of Apple products. Jobs attended Reed College but dropped out after six months to pursue his interests in technology and design. He went on to co-found Apple with Steve Wozniak and played a significant role in revolutionizing the technology industry with products like the Macintosh, iPod, iPhone, and iPad.', sources=[], source_nodes=[], is_dummy_stream=False, metadata=None)"
      ]
     },
     "execution_count": 14,
     "metadata": {},
     "output_type": "execute_result"
    }
   ],
   "source": [
    "response = chat_engine.chat(\"What did Steve Jobs do growing up?\")\n",
    "response"
   ]
  },
  {
   "cell_type": "code",
   "execution_count": 15,
   "metadata": {},
   "outputs": [
    {
     "data": {
      "text/plain": [
       "AgentChatResponse(response='Yes, Steve Jobs did visit India in the early 1970s. It was during this trip that he sought spiritual enlightenment and inspiration. Jobs traveled to India in search of spiritual guidance and to explore his interest in Eastern philosophy and meditation. He spent time in ashrams and temples, seeking wisdom and clarity. This experience had a profound impact on his life and later influenced his approach to design, innovation, and leadership at Apple.', sources=[], source_nodes=[], is_dummy_stream=False, metadata=None)"
      ]
     },
     "execution_count": 15,
     "metadata": {},
     "output_type": "execute_result"
    }
   ],
   "source": [
    "response = chat_engine.chat(\"Did he visit India?\")\n",
    "response"
   ]
  },
  {
   "cell_type": "code",
   "execution_count": 16,
   "metadata": {},
   "outputs": [
    {
     "name": "stdout",
     "output_type": "stream",
     "text": [
      "===== Entering Chat REPL =====\n",
      "Type \"exit\" to exit.\n",
      "\n",
      "Assistant: Hello! How can I assist you today?\n",
      "\n",
      "Assistant: Steve Jobs was born on February 24, 1955, in San Francisco, California. Growing up, he showed an early interest in electronics and technology. He attended Reed College but dropped out after six months. Jobs then traveled to India and experimented with psychedelic drugs before returning to California.\n",
      "\n",
      "In 1976, Jobs co-founded Apple Computer with Steve Wozniak in his parents' garage. The company went on to revolutionize the personal computer industry with the introduction of the Apple I and Apple II computers. Jobs was known for his visionary leadership and attention to design and user experience.\n",
      "\n",
      "Throughout his career, Jobs also founded NeXT Computer and Pixar Animation Studios. He returned to Apple in 1997 and played a key role in the development of iconic products such as the iMac, iPod, iPhone, and iPad.\n",
      "\n",
      "Steve Jobs passed away on October 5, 2011, but his legacy continues to inspire innovation and creativity in the tech industry.\n",
      "\n"
     ]
    }
   ],
   "source": [
    "chat_engine.chat_repl()"
   ]
  },
  {
   "cell_type": "markdown",
   "metadata": {},
   "source": [
    "### CondenseQuestion ChatEngine"
   ]
  },
  {
   "cell_type": "code",
   "execution_count": 17,
   "metadata": {},
   "outputs": [],
   "source": [
    "chat_engine = index.as_chat_engine(chat_mode=\"condense_question\", verbose=True)"
   ]
  },
  {
   "cell_type": "code",
   "execution_count": 18,
   "metadata": {},
   "outputs": [
    {
     "name": "stdout",
     "output_type": "stream",
     "text": [
      "Querying with: What did Paul Graham do after YC?\n"
     ]
    }
   ],
   "source": [
    "response = chat_engine.chat(\"What did Paul Graham do after YC?\")"
   ]
  },
  {
   "cell_type": "code",
   "execution_count": 19,
   "metadata": {},
   "outputs": [
    {
     "name": "stdout",
     "output_type": "stream",
     "text": [
      "Paul Graham started painting after leaving Y Combinator.\n"
     ]
    }
   ],
   "source": [
    "print(response)"
   ]
  },
  {
   "cell_type": "code",
   "execution_count": 20,
   "metadata": {},
   "outputs": [
    {
     "name": "stdout",
     "output_type": "stream",
     "text": [
      "Querying with: What did Paul Graham do after starting painting following his time at Y Combinator?\n"
     ]
    }
   ],
   "source": [
    "response = chat_engine.chat(\"What about after that?\")"
   ]
  },
  {
   "cell_type": "code",
   "execution_count": 21,
   "metadata": {},
   "outputs": [
    {
     "name": "stdout",
     "output_type": "stream",
     "text": [
      "Paul Graham started painting after his time at Y Combinator.\n"
     ]
    }
   ],
   "source": [
    "print(response)"
   ]
  },
  {
   "cell_type": "code",
   "execution_count": 22,
   "metadata": {},
   "outputs": [
    {
     "name": "stdout",
     "output_type": "stream",
     "text": [
      "Querying with: What did Paul Graham do after leaving Y Combinator and starting painting?\n"
     ]
    }
   ],
   "source": [
    "response = chat_engine.chat(\"Can you tell me more?\")"
   ]
  },
  {
   "cell_type": "code",
   "execution_count": 23,
   "metadata": {},
   "outputs": [
    {
     "name": "stdout",
     "output_type": "stream",
     "text": [
      "Paul Graham started painting after leaving Y Combinator.\n"
     ]
    }
   ],
   "source": [
    "print(response)"
   ]
  },
  {
   "cell_type": "markdown",
   "metadata": {},
   "source": [
    "### Context ChatEngine"
   ]
  },
  {
   "cell_type": "code",
   "execution_count": 24,
   "metadata": {},
   "outputs": [],
   "source": [
    "from llama_index.core.memory import ChatMemoryBuffer\n",
    "\n",
    "memory = ChatMemoryBuffer.from_defaults(token_limit=3900)\n",
    "\n",
    "chat_engine = index.as_chat_engine(\n",
    "    chat_mode=\"context\",\n",
    "    memory=memory,\n",
    "    system_prompt=(\n",
    "        \"You are a chatbot, able to have normal interaction, as well as talk about an essay discussing Paul Graham'a life.\"\n",
    "    )\n",
    ")"
   ]
  },
  {
   "cell_type": "code",
   "execution_count": 26,
   "metadata": {},
   "outputs": [
    {
     "name": "stdout",
     "output_type": "stream",
     "text": [
      "Hello! How are you doing today?\n"
     ]
    }
   ],
   "source": [
    "response = chat_engine.chat(\"Hello\")\n",
    "print(response)"
   ]
  },
  {
   "cell_type": "code",
   "execution_count": 27,
   "metadata": {},
   "outputs": [
    {
     "name": "stdout",
     "output_type": "stream",
     "text": [
      "After stepping down from Y Combinator (YC), Paul Graham decided to focus on something completely different. He took up painting as a new endeavor. He wanted to see how good he could get if he really focused on it. So, after leaving YC, he dedicated his time to painting.\n"
     ]
    }
   ],
   "source": [
    "response = chat_engine.chat(\"What did Paul Graham do after YC?\")\n",
    "print(response)"
   ]
  },
  {
   "cell_type": "code",
   "execution_count": 28,
   "metadata": {},
   "outputs": [
    {
     "name": "stdout",
     "output_type": "stream",
     "text": [
      "After leaving Y Combinator and focusing on painting, Paul Graham faced some challenges with his new pursuit. He found that he lacked energy and ambition for painting, partly because he didn't know many people in California where he was living. Eventually, he returned to New York, where he resumed his old lifestyle but with the added wealth he had acquired. He continued painting and experimenting with different techniques, such as a new kind of still life. Additionally, he looked for an apartment to buy in New York and started exploring new ideas.\n"
     ]
    }
   ],
   "source": [
    "response = chat_engine.chat(\"What about after that?\")\n",
    "print(response)"
   ]
  },
  {
   "cell_type": "code",
   "execution_count": 29,
   "metadata": {},
   "outputs": [
    {
     "name": "stdout",
     "output_type": "stream",
     "text": [
      "Certainly! After returning to New York, Paul Graham continued to paint and experiment with his art. He found that having more financial freedom allowed him to explore different neighborhoods in New York and choose where he wanted to live. He also started working on new ideas and projects, reflecting on how he had chosen his past endeavors and what motivated him. This period of reflection and exploration eventually led him to write essays on various topics and consider new avenues for his work.\n"
     ]
    }
   ],
   "source": [
    "response = chat_engine.chat(\"Can you tell me more?\")\n",
    "print(response)"
   ]
  },
  {
   "cell_type": "markdown",
   "metadata": {},
   "source": [
    "### CondenseContext ChatEngine"
   ]
  },
  {
   "cell_type": "code",
   "execution_count": 30,
   "metadata": {},
   "outputs": [],
   "source": [
    "from llama_index.core.memory import ChatMemoryBuffer\n",
    "\n",
    "memory = ChatMemoryBuffer.from_defaults(token_limit=3900)\n",
    "\n",
    "chat_Engine = index.as_chat_engine(\n",
    "    chat_mode = \"condense_plus_context\",\n",
    "    memory=memory,\n",
    "    llm=llm,\n",
    "    context_prompt=(\n",
    "        \"You are a chatbot, able to have normal interaction, as well as talk about an essay discussing Paul Graham'a life.\"\n",
    "        \"Here are the relevant documents for the context: \\n\"\n",
    "        \"{context_str}\"\n",
    "        \"\\ninstruction: Use the previous chat history, or the context above, to interact and help the user.\"\n",
    "    ),\n",
    "    verbose=True,\n",
    ")"
   ]
  },
  {
   "cell_type": "code",
   "execution_count": 31,
   "metadata": {},
   "outputs": [
    {
     "name": "stdout",
     "output_type": "stream",
     "text": [
      "Hello! How can I assist you today?\n"
     ]
    }
   ],
   "source": [
    "response = chat_engine.chat(\"Hello\")\n",
    "print(response)"
   ]
  },
  {
   "cell_type": "code",
   "execution_count": 32,
   "metadata": {},
   "outputs": [
    {
     "name": "stdout",
     "output_type": "stream",
     "text": [
      "After leaving Y Combinator (YC), Paul Graham decided to focus on painting as a new endeavor. He wanted to see how good he could get if he really focused on it. So, after stepping down from YC, he dedicated his time to exploring his passion for art through painting.\n"
     ]
    }
   ],
   "source": [
    "response = chat_engine.chat(\"What did Paul Graham do after YC?\")\n",
    "print(response)"
   ]
  },
  {
   "cell_type": "code",
   "execution_count": 33,
   "metadata": {},
   "outputs": [
    {
     "name": "stdout",
     "output_type": "stream",
     "text": [
      "After focusing on painting for a while, Paul Graham faced challenges with his new pursuit. He found himself lacking energy and ambition for painting, partly due to feeling isolated in California where he was living at the time. Eventually, he returned to New York, where he resumed his old lifestyle but with the added wealth he had acquired. He continued to paint, experiment with different techniques, and explore new ideas and projects. This period of reflection and exploration eventually led him to write essays on various topics and consider new avenues for his work.\n"
     ]
    }
   ],
   "source": [
    "response = chat_engine.chat(\"What about after that?\")\n",
    "print(response)"
   ]
  },
  {
   "cell_type": "code",
   "execution_count": 34,
   "metadata": {},
   "outputs": [
    {
     "name": "stdout",
     "output_type": "stream",
     "text": [
      "Certainly! After returning to New York, Paul Graham continued to paint and experiment with his art. He also began exploring different neighborhoods in New York to find a place to live. With his newfound financial freedom, he had the opportunity to choose where he wanted to reside. Additionally, he started working on new ideas and projects, reflecting on his past choices and motivations. This period of introspection and exploration ultimately led him to write essays on a variety of topics and contemplate new directions for his work and interests.\n"
     ]
    }
   ],
   "source": [
    "response = chat_engine.chat(\"Can you tell me more?\")\n",
    "print(response)"
   ]
  },
  {
   "cell_type": "markdown",
   "metadata": {},
   "source": [
    "## Response Evaluation"
   ]
  },
  {
   "cell_type": "code",
   "execution_count": 35,
   "metadata": {},
   "outputs": [],
   "source": [
    "import nest_asyncio\n",
    "\n",
    "nest_asyncio.apply()\n",
    "\n",
    "import logging\n",
    "import sys\n",
    "\n",
    "logger = logging.getLogger()\n",
    "logger.setLevel(logging.INFO)\n",
    "\n",
    "logger.handlers = []\n",
    "\n",
    "handler = logging.StreamHandler(sys.stdout)\n",
    "handler.setLevel(logging.INFO)\n",
    "\n",
    "logger.addHandler(handler)"
   ]
  },
  {
   "cell_type": "code",
   "execution_count": 36,
   "metadata": {},
   "outputs": [],
   "source": [
    "import pandas as pd\n",
    "\n",
    "logging.basicConfig(stream=sys.stdout, level=logging.INFO)\n",
    "logging.getLogger().addHandler(logging.StreamHandler(stream=sys.stdout))\n",
    "\n",
    "from llama_index.core.evaluation import (\n",
    "    DatasetGenerator,\n",
    "    FaithfulnessEvaluator,\n",
    "    RelevancyEvaluator,\n",
    "    CorrectnessEvaluator,\n",
    "    RetrieverEvaluator,\n",
    "    generate_question_context_pairs,\n",
    ")\n",
    "\n",
    "from llama_index.core import (\n",
    "    SimpleDirectoryReader,\n",
    "    VectorStoreIndex,\n",
    "    Response,\n",
    ")\n",
    "\n",
    "from llama_index.llms.openai import OpenAI"
   ]
  },
  {
   "cell_type": "code",
   "execution_count": 41,
   "metadata": {},
   "outputs": [
    {
     "name": "stderr",
     "output_type": "stream",
     "text": [
      "Parsing nodes: 100%|██████████| 1/1 [00:00<00:00, 14.99it/s]\n",
      "/Library/Frameworks/Python.framework/Versions/3.12/lib/python3.12/site-packages/llama_index/core/evaluation/dataset_generation.py:200: DeprecationWarning: Call to deprecated class DatasetGenerator. (Deprecated in favor of `RagDatasetGenerator` which should be used instead.)\n",
      "  return cls(\n"
     ]
    }
   ],
   "source": [
    "gpt4 = OpenAI(model='gpt-4', temperature=0.1)\n",
    "\n",
    "datase_generator = DatasetGenerator.from_documents(\n",
    "    documents,\n",
    "    llm=llm,\n",
    "    show_progress=True,\n",
    ")"
   ]
  },
  {
   "cell_type": "code",
   "execution_count": 42,
   "metadata": {},
   "outputs": [
    {
     "name": "stderr",
     "output_type": "stream",
     "text": []
    },
    {
     "name": "stdout",
     "output_type": "stream",
     "text": [
      "HTTP Request: POST https://api.openai.com/v1/chat/completions \"HTTP/1.1 200 OK\"\n",
      "HTTP Request: POST https://api.openai.com/v1/chat/completions \"HTTP/1.1 200 OK\"\n"
     ]
    },
    {
     "name": "stderr",
     "output_type": "stream",
     "text": []
    },
    {
     "name": "stdout",
     "output_type": "stream",
     "text": [
      "HTTP Request: POST https://api.openai.com/v1/chat/completions \"HTTP/1.1 200 OK\"\n",
      "HTTP Request: POST https://api.openai.com/v1/chat/completions \"HTTP/1.1 200 OK\"\n"
     ]
    },
    {
     "name": "stderr",
     "output_type": "stream",
     "text": []
    },
    {
     "name": "stdout",
     "output_type": "stream",
     "text": [
      "HTTP Request: POST https://api.openai.com/v1/chat/completions \"HTTP/1.1 200 OK\"\n",
      "HTTP Request: POST https://api.openai.com/v1/chat/completions \"HTTP/1.1 200 OK\"\n",
      "HTTP Request: POST https://api.openai.com/v1/chat/completions \"HTTP/1.1 200 OK\"\n",
      "HTTP Request: POST https://api.openai.com/v1/chat/completions \"HTTP/1.1 200 OK\"\n",
      "HTTP Request: POST https://api.openai.com/v1/chat/completions \"HTTP/1.1 200 OK\"\n",
      "HTTP Request: POST https://api.openai.com/v1/chat/completions \"HTTP/1.1 200 OK\"\n"
     ]
    },
    {
     "name": "stderr",
     "output_type": "stream",
     "text": []
    },
    {
     "name": "stdout",
     "output_type": "stream",
     "text": [
      "HTTP Request: POST https://api.openai.com/v1/chat/completions \"HTTP/1.1 200 OK\"\n",
      "HTTP Request: POST https://api.openai.com/v1/chat/completions \"HTTP/1.1 200 OK\"\n",
      "HTTP Request: POST https://api.openai.com/v1/chat/completions \"HTTP/1.1 200 OK\"\n",
      "HTTP Request: POST https://api.openai.com/v1/chat/completions \"HTTP/1.1 200 OK\"\n"
     ]
    },
    {
     "name": "stderr",
     "output_type": "stream",
     "text": []
    },
    {
     "name": "stdout",
     "output_type": "stream",
     "text": [
      "HTTP Request: POST https://api.openai.com/v1/chat/completions \"HTTP/1.1 200 OK\"\n",
      "HTTP Request: POST https://api.openai.com/v1/chat/completions \"HTTP/1.1 200 OK\"\n",
      "HTTP Request: POST https://api.openai.com/v1/chat/completions \"HTTP/1.1 200 OK\"\n",
      "HTTP Request: POST https://api.openai.com/v1/chat/completions \"HTTP/1.1 200 OK\"\n"
     ]
    },
    {
     "name": "stderr",
     "output_type": "stream",
     "text": []
    },
    {
     "name": "stdout",
     "output_type": "stream",
     "text": [
      "HTTP Request: POST https://api.openai.com/v1/chat/completions \"HTTP/1.1 200 OK\"\n",
      "HTTP Request: POST https://api.openai.com/v1/chat/completions \"HTTP/1.1 200 OK\"\n",
      "HTTP Request: POST https://api.openai.com/v1/chat/completions \"HTTP/1.1 200 OK\"\n",
      "HTTP Request: POST https://api.openai.com/v1/chat/completions \"HTTP/1.1 200 OK\"\n",
      "HTTP Request: POST https://api.openai.com/v1/chat/completions \"HTTP/1.1 200 OK\"\n",
      "HTTP Request: POST https://api.openai.com/v1/chat/completions \"HTTP/1.1 200 OK\"\n",
      "HTTP Request: POST https://api.openai.com/v1/chat/completions \"HTTP/1.1 200 OK\"\n",
      "HTTP Request: POST https://api.openai.com/v1/chat/completions \"HTTP/1.1 200 OK\"\n"
     ]
    },
    {
     "name": "stderr",
     "output_type": "stream",
     "text": []
    },
    {
     "name": "stdout",
     "output_type": "stream",
     "text": [
      "HTTP Request: POST https://api.openai.com/v1/chat/completions \"HTTP/1.1 200 OK\"\n",
      "HTTP Request: POST https://api.openai.com/v1/chat/completions \"HTTP/1.1 200 OK\"\n",
      "HTTP Request: POST https://api.openai.com/v1/chat/completions \"HTTP/1.1 200 OK\"\n",
      "HTTP Request: POST https://api.openai.com/v1/chat/completions \"HTTP/1.1 200 OK\"\n",
      "HTTP Request: POST https://api.openai.com/v1/chat/completions \"HTTP/1.1 200 OK\"\n",
      "HTTP Request: POST https://api.openai.com/v1/chat/completions \"HTTP/1.1 200 OK\"\n",
      "HTTP Request: POST https://api.openai.com/v1/chat/completions \"HTTP/1.1 200 OK\"\n",
      "HTTP Request: POST https://api.openai.com/v1/chat/completions \"HTTP/1.1 200 OK\"\n",
      "HTTP Request: POST https://api.openai.com/v1/chat/completions \"HTTP/1.1 200 OK\"\n",
      "HTTP Request: POST https://api.openai.com/v1/chat/completions \"HTTP/1.1 200 OK\"\n"
     ]
    },
    {
     "name": "stderr",
     "output_type": "stream",
     "text": []
    },
    {
     "name": "stdout",
     "output_type": "stream",
     "text": [
      "HTTP Request: POST https://api.openai.com/v1/chat/completions \"HTTP/1.1 200 OK\"\n",
      "HTTP Request: POST https://api.openai.com/v1/chat/completions \"HTTP/1.1 200 OK\"\n"
     ]
    },
    {
     "name": "stderr",
     "output_type": "stream",
     "text": []
    },
    {
     "name": "stdout",
     "output_type": "stream",
     "text": [
      "HTTP Request: POST https://api.openai.com/v1/chat/completions \"HTTP/1.1 200 OK\"\n",
      "HTTP Request: POST https://api.openai.com/v1/chat/completions \"HTTP/1.1 200 OK\"\n"
     ]
    },
    {
     "name": "stderr",
     "output_type": "stream",
     "text": [
      "100%|██████████| 20/20 [00:04<00:00,  4.50it/s]\n"
     ]
    },
    {
     "name": "stdout",
     "output_type": "stream",
     "text": [
      "HTTP Request: POST https://api.openai.com/v1/chat/completions \"HTTP/1.1 200 OK\"\n",
      "HTTP Request: POST https://api.openai.com/v1/chat/completions \"HTTP/1.1 200 OK\"\n"
     ]
    },
    {
     "name": "stderr",
     "output_type": "stream",
     "text": []
    },
    {
     "name": "stdout",
     "output_type": "stream",
     "text": [
      "HTTP Request: POST https://api.openai.com/v1/chat/completions \"HTTP/1.1 200 OK\"\n",
      "HTTP Request: POST https://api.openai.com/v1/chat/completions \"HTTP/1.1 200 OK\"\n"
     ]
    },
    {
     "name": "stderr",
     "output_type": "stream",
     "text": []
    },
    {
     "name": "stdout",
     "output_type": "stream",
     "text": [
      "HTTP Request: POST https://api.openai.com/v1/chat/completions \"HTTP/1.1 200 OK\"\n",
      "HTTP Request: POST https://api.openai.com/v1/chat/completions \"HTTP/1.1 200 OK\"\n"
     ]
    },
    {
     "name": "stderr",
     "output_type": "stream",
     "text": []
    },
    {
     "name": "stdout",
     "output_type": "stream",
     "text": [
      "HTTP Request: POST https://api.openai.com/v1/chat/completions \"HTTP/1.1 200 OK\"\n",
      "HTTP Request: POST https://api.openai.com/v1/chat/completions \"HTTP/1.1 200 OK\"\n"
     ]
    },
    {
     "name": "stderr",
     "output_type": "stream",
     "text": []
    },
    {
     "name": "stdout",
     "output_type": "stream",
     "text": [
      "HTTP Request: POST https://api.openai.com/v1/chat/completions \"HTTP/1.1 200 OK\"\n",
      "HTTP Request: POST https://api.openai.com/v1/chat/completions \"HTTP/1.1 200 OK\"\n"
     ]
    },
    {
     "name": "stderr",
     "output_type": "stream",
     "text": []
    },
    {
     "name": "stdout",
     "output_type": "stream",
     "text": [
      "HTTP Request: POST https://api.openai.com/v1/chat/completions \"HTTP/1.1 200 OK\"\n",
      "HTTP Request: POST https://api.openai.com/v1/chat/completions \"HTTP/1.1 200 OK\"\n"
     ]
    },
    {
     "name": "stderr",
     "output_type": "stream",
     "text": []
    },
    {
     "name": "stdout",
     "output_type": "stream",
     "text": [
      "HTTP Request: POST https://api.openai.com/v1/chat/completions \"HTTP/1.1 200 OK\"\n",
      "HTTP Request: POST https://api.openai.com/v1/chat/completions \"HTTP/1.1 200 OK\"\n"
     ]
    },
    {
     "name": "stderr",
     "output_type": "stream",
     "text": []
    },
    {
     "name": "stdout",
     "output_type": "stream",
     "text": [
      "HTTP Request: POST https://api.openai.com/v1/chat/completions \"HTTP/1.1 200 OK\"\n",
      "HTTP Request: POST https://api.openai.com/v1/chat/completions \"HTTP/1.1 200 OK\"\n"
     ]
    },
    {
     "name": "stderr",
     "output_type": "stream",
     "text": []
    },
    {
     "name": "stdout",
     "output_type": "stream",
     "text": [
      "HTTP Request: POST https://api.openai.com/v1/chat/completions \"HTTP/1.1 200 OK\"\n",
      "HTTP Request: POST https://api.openai.com/v1/chat/completions \"HTTP/1.1 200 OK\"\n",
      "HTTP Request: POST https://api.openai.com/v1/chat/completions \"HTTP/1.1 200 OK\"\n",
      "HTTP Request: POST https://api.openai.com/v1/chat/completions \"HTTP/1.1 200 OK\"\n"
     ]
    },
    {
     "name": "stderr",
     "output_type": "stream",
     "text": [
      "100%|██████████| 10/10 [00:03<00:00,  2.63it/s]\n"
     ]
    },
    {
     "name": "stdout",
     "output_type": "stream",
     "text": [
      "HTTP Request: POST https://api.openai.com/v1/chat/completions \"HTTP/1.1 200 OK\"\n",
      "HTTP Request: POST https://api.openai.com/v1/chat/completions \"HTTP/1.1 200 OK\"\n"
     ]
    },
    {
     "name": "stderr",
     "output_type": "stream",
     "text": []
    },
    {
     "name": "stdout",
     "output_type": "stream",
     "text": [
      "HTTP Request: POST https://api.openai.com/v1/chat/completions \"HTTP/1.1 200 OK\"\n",
      "HTTP Request: POST https://api.openai.com/v1/chat/completions \"HTTP/1.1 200 OK\"\n",
      "HTTP Request: POST https://api.openai.com/v1/chat/completions \"HTTP/1.1 200 OK\"\n",
      "HTTP Request: POST https://api.openai.com/v1/chat/completions \"HTTP/1.1 200 OK\"\n",
      "HTTP Request: POST https://api.openai.com/v1/chat/completions \"HTTP/1.1 200 OK\"\n",
      "HTTP Request: POST https://api.openai.com/v1/chat/completions \"HTTP/1.1 200 OK\"\n"
     ]
    },
    {
     "name": "stderr",
     "output_type": "stream",
     "text": []
    },
    {
     "name": "stdout",
     "output_type": "stream",
     "text": [
      "HTTP Request: POST https://api.openai.com/v1/chat/completions \"HTTP/1.1 200 OK\"\n",
      "HTTP Request: POST https://api.openai.com/v1/chat/completions \"HTTP/1.1 200 OK\"\n",
      "HTTP Request: POST https://api.openai.com/v1/chat/completions \"HTTP/1.1 200 OK\"\n",
      "HTTP Request: POST https://api.openai.com/v1/chat/completions \"HTTP/1.1 200 OK\"\n"
     ]
    },
    {
     "name": "stderr",
     "output_type": "stream",
     "text": []
    },
    {
     "name": "stdout",
     "output_type": "stream",
     "text": [
      "HTTP Request: POST https://api.openai.com/v1/chat/completions \"HTTP/1.1 200 OK\"\n",
      "HTTP Request: POST https://api.openai.com/v1/chat/completions \"HTTP/1.1 200 OK\"\n"
     ]
    },
    {
     "name": "stderr",
     "output_type": "stream",
     "text": []
    },
    {
     "name": "stdout",
     "output_type": "stream",
     "text": [
      "HTTP Request: POST https://api.openai.com/v1/chat/completions \"HTTP/1.1 200 OK\"\n",
      "HTTP Request: POST https://api.openai.com/v1/chat/completions \"HTTP/1.1 200 OK\"\n",
      "HTTP Request: POST https://api.openai.com/v1/chat/completions \"HTTP/1.1 200 OK\"\n",
      "HTTP Request: POST https://api.openai.com/v1/chat/completions \"HTTP/1.1 200 OK\"\n"
     ]
    },
    {
     "name": "stderr",
     "output_type": "stream",
     "text": []
    },
    {
     "name": "stdout",
     "output_type": "stream",
     "text": [
      "HTTP Request: POST https://api.openai.com/v1/chat/completions \"HTTP/1.1 200 OK\"\n",
      "HTTP Request: POST https://api.openai.com/v1/chat/completions \"HTTP/1.1 200 OK\"\n"
     ]
    },
    {
     "name": "stderr",
     "output_type": "stream",
     "text": [
      "100%|██████████| 10/10 [00:02<00:00,  3.93it/s]\n"
     ]
    },
    {
     "name": "stdout",
     "output_type": "stream",
     "text": [
      "HTTP Request: POST https://api.openai.com/v1/chat/completions \"HTTP/1.1 200 OK\"\n",
      "HTTP Request: POST https://api.openai.com/v1/chat/completions \"HTTP/1.1 200 OK\"\n",
      "HTTP Request: POST https://api.openai.com/v1/chat/completions \"HTTP/1.1 200 OK\"\n",
      "HTTP Request: POST https://api.openai.com/v1/chat/completions \"HTTP/1.1 200 OK\"\n"
     ]
    },
    {
     "name": "stderr",
     "output_type": "stream",
     "text": []
    },
    {
     "name": "stdout",
     "output_type": "stream",
     "text": [
      "HTTP Request: POST https://api.openai.com/v1/chat/completions \"HTTP/1.1 200 OK\"\n",
      "HTTP Request: POST https://api.openai.com/v1/chat/completions \"HTTP/1.1 200 OK\"\n"
     ]
    },
    {
     "name": "stderr",
     "output_type": "stream",
     "text": []
    },
    {
     "name": "stdout",
     "output_type": "stream",
     "text": [
      "HTTP Request: POST https://api.openai.com/v1/chat/completions \"HTTP/1.1 200 OK\"\n",
      "HTTP Request: POST https://api.openai.com/v1/chat/completions \"HTTP/1.1 200 OK\"\n",
      "HTTP Request: POST https://api.openai.com/v1/chat/completions \"HTTP/1.1 200 OK\"\n",
      "HTTP Request: POST https://api.openai.com/v1/chat/completions \"HTTP/1.1 200 OK\"\n"
     ]
    },
    {
     "name": "stderr",
     "output_type": "stream",
     "text": []
    },
    {
     "name": "stdout",
     "output_type": "stream",
     "text": [
      "HTTP Request: POST https://api.openai.com/v1/chat/completions \"HTTP/1.1 200 OK\"\n",
      "HTTP Request: POST https://api.openai.com/v1/chat/completions \"HTTP/1.1 200 OK\"\n"
     ]
    },
    {
     "name": "stderr",
     "output_type": "stream",
     "text": []
    },
    {
     "name": "stdout",
     "output_type": "stream",
     "text": [
      "HTTP Request: POST https://api.openai.com/v1/chat/completions \"HTTP/1.1 200 OK\"\n",
      "HTTP Request: POST https://api.openai.com/v1/chat/completions \"HTTP/1.1 200 OK\"\n",
      "HTTP Request: POST https://api.openai.com/v1/chat/completions \"HTTP/1.1 200 OK\"\n",
      "HTTP Request: POST https://api.openai.com/v1/chat/completions \"HTTP/1.1 200 OK\"\n"
     ]
    },
    {
     "name": "stderr",
     "output_type": "stream",
     "text": []
    },
    {
     "name": "stdout",
     "output_type": "stream",
     "text": [
      "HTTP Request: POST https://api.openai.com/v1/chat/completions \"HTTP/1.1 200 OK\"\n",
      "HTTP Request: POST https://api.openai.com/v1/chat/completions \"HTTP/1.1 200 OK\"\n",
      "HTTP Request: POST https://api.openai.com/v1/chat/completions \"HTTP/1.1 200 OK\"\n",
      "HTTP Request: POST https://api.openai.com/v1/chat/completions \"HTTP/1.1 200 OK\"\n"
     ]
    },
    {
     "name": "stderr",
     "output_type": "stream",
     "text": [
      "100%|██████████| 10/10 [00:02<00:00,  4.50it/s]\n"
     ]
    },
    {
     "name": "stdout",
     "output_type": "stream",
     "text": [
      "HTTP Request: POST https://api.openai.com/v1/chat/completions \"HTTP/1.1 200 OK\"\n",
      "HTTP Request: POST https://api.openai.com/v1/chat/completions \"HTTP/1.1 200 OK\"\n"
     ]
    },
    {
     "name": "stderr",
     "output_type": "stream",
     "text": []
    },
    {
     "name": "stdout",
     "output_type": "stream",
     "text": [
      "HTTP Request: POST https://api.openai.com/v1/chat/completions \"HTTP/1.1 200 OK\"\n",
      "HTTP Request: POST https://api.openai.com/v1/chat/completions \"HTTP/1.1 200 OK\"\n"
     ]
    },
    {
     "name": "stderr",
     "output_type": "stream",
     "text": []
    },
    {
     "name": "stdout",
     "output_type": "stream",
     "text": [
      "HTTP Request: POST https://api.openai.com/v1/chat/completions \"HTTP/1.1 200 OK\"\n",
      "HTTP Request: POST https://api.openai.com/v1/chat/completions \"HTTP/1.1 200 OK\"\n"
     ]
    },
    {
     "name": "stderr",
     "output_type": "stream",
     "text": []
    },
    {
     "name": "stdout",
     "output_type": "stream",
     "text": [
      "HTTP Request: POST https://api.openai.com/v1/chat/completions \"HTTP/1.1 200 OK\"\n",
      "HTTP Request: POST https://api.openai.com/v1/chat/completions \"HTTP/1.1 200 OK\"\n",
      "HTTP Request: POST https://api.openai.com/v1/chat/completions \"HTTP/1.1 200 OK\"\n",
      "HTTP Request: POST https://api.openai.com/v1/chat/completions \"HTTP/1.1 200 OK\"\n",
      "HTTP Request: POST https://api.openai.com/v1/chat/completions \"HTTP/1.1 200 OK\"\n",
      "HTTP Request: POST https://api.openai.com/v1/chat/completions \"HTTP/1.1 200 OK\"\n"
     ]
    },
    {
     "name": "stderr",
     "output_type": "stream",
     "text": []
    },
    {
     "name": "stdout",
     "output_type": "stream",
     "text": [
      "HTTP Request: POST https://api.openai.com/v1/chat/completions \"HTTP/1.1 200 OK\"\n",
      "HTTP Request: POST https://api.openai.com/v1/chat/completions \"HTTP/1.1 200 OK\"\n",
      "HTTP Request: POST https://api.openai.com/v1/chat/completions \"HTTP/1.1 200 OK\"\n",
      "HTTP Request: POST https://api.openai.com/v1/chat/completions \"HTTP/1.1 200 OK\"\n"
     ]
    },
    {
     "name": "stderr",
     "output_type": "stream",
     "text": []
    },
    {
     "name": "stdout",
     "output_type": "stream",
     "text": [
      "HTTP Request: POST https://api.openai.com/v1/chat/completions \"HTTP/1.1 200 OK\"\n",
      "HTTP Request: POST https://api.openai.com/v1/chat/completions \"HTTP/1.1 200 OK\"\n",
      "HTTP Request: POST https://api.openai.com/v1/chat/completions \"HTTP/1.1 200 OK\"\n",
      "HTTP Request: POST https://api.openai.com/v1/chat/completions \"HTTP/1.1 200 OK\"\n"
     ]
    },
    {
     "name": "stderr",
     "output_type": "stream",
     "text": [
      "100%|██████████| 10/10 [00:02<00:00,  4.73it/s]\n"
     ]
    },
    {
     "name": "stdout",
     "output_type": "stream",
     "text": [
      "HTTP Request: POST https://api.openai.com/v1/chat/completions \"HTTP/1.1 200 OK\"\n",
      "HTTP Request: POST https://api.openai.com/v1/chat/completions \"HTTP/1.1 200 OK\"\n"
     ]
    },
    {
     "name": "stderr",
     "output_type": "stream",
     "text": []
    },
    {
     "name": "stdout",
     "output_type": "stream",
     "text": [
      "HTTP Request: POST https://api.openai.com/v1/chat/completions \"HTTP/1.1 200 OK\"\n",
      "HTTP Request: POST https://api.openai.com/v1/chat/completions \"HTTP/1.1 200 OK\"\n"
     ]
    },
    {
     "name": "stderr",
     "output_type": "stream",
     "text": []
    },
    {
     "name": "stdout",
     "output_type": "stream",
     "text": [
      "HTTP Request: POST https://api.openai.com/v1/chat/completions \"HTTP/1.1 200 OK\"\n",
      "HTTP Request: POST https://api.openai.com/v1/chat/completions \"HTTP/1.1 200 OK\"\n",
      "HTTP Request: POST https://api.openai.com/v1/chat/completions \"HTTP/1.1 200 OK\"\n",
      "HTTP Request: POST https://api.openai.com/v1/chat/completions \"HTTP/1.1 200 OK\"\n"
     ]
    },
    {
     "name": "stderr",
     "output_type": "stream",
     "text": []
    },
    {
     "name": "stdout",
     "output_type": "stream",
     "text": [
      "HTTP Request: POST https://api.openai.com/v1/chat/completions \"HTTP/1.1 200 OK\"\n",
      "HTTP Request: POST https://api.openai.com/v1/chat/completions \"HTTP/1.1 200 OK\"\n",
      "HTTP Request: POST https://api.openai.com/v1/chat/completions \"HTTP/1.1 200 OK\"\n",
      "HTTP Request: POST https://api.openai.com/v1/chat/completions \"HTTP/1.1 200 OK\"\n"
     ]
    },
    {
     "name": "stderr",
     "output_type": "stream",
     "text": []
    },
    {
     "name": "stdout",
     "output_type": "stream",
     "text": [
      "HTTP Request: POST https://api.openai.com/v1/chat/completions \"HTTP/1.1 200 OK\"\n",
      "HTTP Request: POST https://api.openai.com/v1/chat/completions \"HTTP/1.1 200 OK\"\n",
      "HTTP Request: POST https://api.openai.com/v1/chat/completions \"HTTP/1.1 200 OK\"\n",
      "HTTP Request: POST https://api.openai.com/v1/chat/completions \"HTTP/1.1 200 OK\"\n"
     ]
    },
    {
     "name": "stderr",
     "output_type": "stream",
     "text": []
    },
    {
     "name": "stdout",
     "output_type": "stream",
     "text": [
      "HTTP Request: POST https://api.openai.com/v1/chat/completions \"HTTP/1.1 200 OK\"\n",
      "HTTP Request: POST https://api.openai.com/v1/chat/completions \"HTTP/1.1 200 OK\"\n"
     ]
    },
    {
     "name": "stderr",
     "output_type": "stream",
     "text": []
    },
    {
     "name": "stdout",
     "output_type": "stream",
     "text": [
      "HTTP Request: POST https://api.openai.com/v1/chat/completions \"HTTP/1.1 200 OK\"\n",
      "HTTP Request: POST https://api.openai.com/v1/chat/completions \"HTTP/1.1 200 OK\"\n"
     ]
    },
    {
     "name": "stderr",
     "output_type": "stream",
     "text": [
      "100%|██████████| 10/10 [00:02<00:00,  4.82it/s]\n"
     ]
    },
    {
     "name": "stdout",
     "output_type": "stream",
     "text": [
      "HTTP Request: POST https://api.openai.com/v1/chat/completions \"HTTP/1.1 200 OK\"\n",
      "HTTP Request: POST https://api.openai.com/v1/chat/completions \"HTTP/1.1 200 OK\"\n"
     ]
    },
    {
     "name": "stderr",
     "output_type": "stream",
     "text": []
    },
    {
     "name": "stdout",
     "output_type": "stream",
     "text": [
      "HTTP Request: POST https://api.openai.com/v1/chat/completions \"HTTP/1.1 200 OK\"\n",
      "HTTP Request: POST https://api.openai.com/v1/chat/completions \"HTTP/1.1 200 OK\"\n"
     ]
    },
    {
     "name": "stderr",
     "output_type": "stream",
     "text": []
    },
    {
     "name": "stdout",
     "output_type": "stream",
     "text": [
      "HTTP Request: POST https://api.openai.com/v1/chat/completions \"HTTP/1.1 200 OK\"\n",
      "HTTP Request: POST https://api.openai.com/v1/chat/completions \"HTTP/1.1 200 OK\"\n",
      "HTTP Request: POST https://api.openai.com/v1/chat/completions \"HTTP/1.1 200 OK\"\n",
      "HTTP Request: POST https://api.openai.com/v1/chat/completions \"HTTP/1.1 200 OK\"\n"
     ]
    },
    {
     "name": "stderr",
     "output_type": "stream",
     "text": []
    },
    {
     "name": "stdout",
     "output_type": "stream",
     "text": [
      "HTTP Request: POST https://api.openai.com/v1/chat/completions \"HTTP/1.1 200 OK\"\n",
      "HTTP Request: POST https://api.openai.com/v1/chat/completions \"HTTP/1.1 200 OK\"\n",
      "HTTP Request: POST https://api.openai.com/v1/chat/completions \"HTTP/1.1 200 OK\"\n",
      "HTTP Request: POST https://api.openai.com/v1/chat/completions \"HTTP/1.1 200 OK\"\n",
      "HTTP Request: POST https://api.openai.com/v1/chat/completions \"HTTP/1.1 200 OK\"\n",
      "HTTP Request: POST https://api.openai.com/v1/chat/completions \"HTTP/1.1 200 OK\"\n"
     ]
    },
    {
     "name": "stderr",
     "output_type": "stream",
     "text": []
    },
    {
     "name": "stdout",
     "output_type": "stream",
     "text": [
      "HTTP Request: POST https://api.openai.com/v1/chat/completions \"HTTP/1.1 200 OK\"\n",
      "HTTP Request: POST https://api.openai.com/v1/chat/completions \"HTTP/1.1 200 OK\"\n",
      "HTTP Request: POST https://api.openai.com/v1/chat/completions \"HTTP/1.1 200 OK\"\n",
      "HTTP Request: POST https://api.openai.com/v1/chat/completions \"HTTP/1.1 200 OK\"\n"
     ]
    },
    {
     "name": "stderr",
     "output_type": "stream",
     "text": []
    },
    {
     "name": "stdout",
     "output_type": "stream",
     "text": [
      "HTTP Request: POST https://api.openai.com/v1/chat/completions \"HTTP/1.1 200 OK\"\n",
      "HTTP Request: POST https://api.openai.com/v1/chat/completions \"HTTP/1.1 200 OK\"\n"
     ]
    },
    {
     "name": "stderr",
     "output_type": "stream",
     "text": [
      "100%|██████████| 10/10 [00:02<00:00,  4.41it/s]\n",
      "  0%|          | 0/10 [00:00<?, ?it/s]"
     ]
    },
    {
     "name": "stdout",
     "output_type": "stream",
     "text": [
      "HTTP Request: POST https://api.openai.com/v1/chat/completions \"HTTP/1.1 200 OK\"\n",
      "HTTP Request: POST https://api.openai.com/v1/chat/completions \"HTTP/1.1 200 OK\"\n"
     ]
    },
    {
     "name": "stderr",
     "output_type": "stream",
     "text": [
      " 10%|█         | 1/10 [00:01<00:13,  1.53s/it]"
     ]
    },
    {
     "name": "stdout",
     "output_type": "stream",
     "text": [
      "HTTP Request: POST https://api.openai.com/v1/chat/completions \"HTTP/1.1 200 OK\"\n",
      "HTTP Request: POST https://api.openai.com/v1/chat/completions \"HTTP/1.1 200 OK\"\n"
     ]
    },
    {
     "name": "stderr",
     "output_type": "stream",
     "text": [
      " 20%|██        | 2/10 [00:01<00:05,  1.39it/s]"
     ]
    },
    {
     "name": "stdout",
     "output_type": "stream",
     "text": [
      "HTTP Request: POST https://api.openai.com/v1/chat/completions \"HTTP/1.1 200 OK\"\n",
      "HTTP Request: POST https://api.openai.com/v1/chat/completions \"HTTP/1.1 200 OK\"\n",
      "HTTP Request: POST https://api.openai.com/v1/chat/completions \"HTTP/1.1 200 OK\"\n",
      "HTTP Request: POST https://api.openai.com/v1/chat/completions \"HTTP/1.1 200 OK\"\n"
     ]
    },
    {
     "name": "stderr",
     "output_type": "stream",
     "text": [
      " 30%|███       | 3/10 [00:01<00:03,  2.24it/s]"
     ]
    },
    {
     "name": "stdout",
     "output_type": "stream",
     "text": [
      "HTTP Request: POST https://api.openai.com/v1/chat/completions \"HTTP/1.1 200 OK\"\n",
      "HTTP Request: POST https://api.openai.com/v1/chat/completions \"HTTP/1.1 200 OK\"\n"
     ]
    },
    {
     "name": "stderr",
     "output_type": "stream",
     "text": [
      " 50%|█████     | 5/10 [00:02<00:01,  3.47it/s]"
     ]
    },
    {
     "name": "stdout",
     "output_type": "stream",
     "text": [
      "HTTP Request: POST https://api.openai.com/v1/chat/completions \"HTTP/1.1 200 OK\"\n",
      "HTTP Request: POST https://api.openai.com/v1/chat/completions \"HTTP/1.1 200 OK\"\n"
     ]
    },
    {
     "name": "stderr",
     "output_type": "stream",
     "text": [
      " 60%|██████    | 6/10 [00:02<00:00,  4.17it/s]"
     ]
    },
    {
     "name": "stdout",
     "output_type": "stream",
     "text": [
      "HTTP Request: POST https://api.openai.com/v1/chat/completions \"HTTP/1.1 200 OK\"\n",
      "HTTP Request: POST https://api.openai.com/v1/chat/completions \"HTTP/1.1 200 OK\"\n",
      "HTTP Request: POST https://api.openai.com/v1/chat/completions \"HTTP/1.1 200 OK\"\n",
      "HTTP Request: POST https://api.openai.com/v1/chat/completions \"HTTP/1.1 200 OK\"\n"
     ]
    },
    {
     "name": "stderr",
     "output_type": "stream",
     "text": [
      " 80%|████████  | 8/10 [00:02<00:00,  4.47it/s]"
     ]
    },
    {
     "name": "stdout",
     "output_type": "stream",
     "text": [
      "HTTP Request: POST https://api.openai.com/v1/chat/completions \"HTTP/1.1 200 OK\"\n",
      "HTTP Request: POST https://api.openai.com/v1/chat/completions \"HTTP/1.1 200 OK\"\n"
     ]
    },
    {
     "name": "stderr",
     "output_type": "stream",
     "text": [
      " 90%|█████████ | 9/10 [00:02<00:00,  4.66it/s]"
     ]
    },
    {
     "name": "stdout",
     "output_type": "stream",
     "text": [
      "HTTP Request: POST https://api.openai.com/v1/chat/completions \"HTTP/1.1 200 OK\"\n",
      "HTTP Request: POST https://api.openai.com/v1/chat/completions \"HTTP/1.1 200 OK\"\n"
     ]
    },
    {
     "name": "stderr",
     "output_type": "stream",
     "text": [
      "100%|██████████| 10/10 [00:04<00:00,  2.08it/s]\n",
      "  0%|          | 0/10 [00:00<?, ?it/s]"
     ]
    },
    {
     "name": "stdout",
     "output_type": "stream",
     "text": [
      "HTTP Request: POST https://api.openai.com/v1/chat/completions \"HTTP/1.1 200 OK\"\n",
      "HTTP Request: POST https://api.openai.com/v1/chat/completions \"HTTP/1.1 200 OK\"\n"
     ]
    },
    {
     "name": "stderr",
     "output_type": "stream",
     "text": [
      " 10%|█         | 1/10 [00:01<00:09,  1.04s/it]"
     ]
    },
    {
     "name": "stdout",
     "output_type": "stream",
     "text": [
      "HTTP Request: POST https://api.openai.com/v1/chat/completions \"HTTP/1.1 200 OK\"\n",
      "HTTP Request: POST https://api.openai.com/v1/chat/completions \"HTTP/1.1 200 OK\"\n"
     ]
    },
    {
     "name": "stderr",
     "output_type": "stream",
     "text": [
      " 20%|██        | 2/10 [00:01<00:04,  1.76it/s]"
     ]
    },
    {
     "name": "stdout",
     "output_type": "stream",
     "text": [
      "HTTP Request: POST https://api.openai.com/v1/chat/completions \"HTTP/1.1 200 OK\"\n",
      "HTTP Request: POST https://api.openai.com/v1/chat/completions \"HTTP/1.1 200 OK\"\n",
      "HTTP Request: POST https://api.openai.com/v1/chat/completions \"HTTP/1.1 200 OK\"\n",
      "HTTP Request: POST https://api.openai.com/v1/chat/completions \"HTTP/1.1 200 OK\"\n"
     ]
    },
    {
     "name": "stderr",
     "output_type": "stream",
     "text": [
      " 30%|███       | 3/10 [00:01<00:03,  2.10it/s]"
     ]
    },
    {
     "name": "stdout",
     "output_type": "stream",
     "text": [
      "HTTP Request: POST https://api.openai.com/v1/chat/completions \"HTTP/1.1 200 OK\"\n",
      "HTTP Request: POST https://api.openai.com/v1/chat/completions \"HTTP/1.1 200 OK\"\n",
      "HTTP Request: POST https://api.openai.com/v1/chat/completions \"HTTP/1.1 200 OK\"\n",
      "HTTP Request: POST https://api.openai.com/v1/chat/completions \"HTTP/1.1 200 OK\"\n"
     ]
    },
    {
     "name": "stderr",
     "output_type": "stream",
     "text": [
      " 60%|██████    | 6/10 [00:01<00:00,  4.69it/s]"
     ]
    },
    {
     "name": "stdout",
     "output_type": "stream",
     "text": [
      "HTTP Request: POST https://api.openai.com/v1/chat/completions \"HTTP/1.1 200 OK\"\n",
      "HTTP Request: POST https://api.openai.com/v1/chat/completions \"HTTP/1.1 200 OK\"\n"
     ]
    },
    {
     "name": "stderr",
     "output_type": "stream",
     "text": [
      " 70%|███████   | 7/10 [00:02<00:00,  5.21it/s]"
     ]
    },
    {
     "name": "stdout",
     "output_type": "stream",
     "text": [
      "HTTP Request: POST https://api.openai.com/v1/chat/completions \"HTTP/1.1 200 OK\"\n",
      "HTTP Request: POST https://api.openai.com/v1/chat/completions \"HTTP/1.1 200 OK\"\n",
      "HTTP Request: POST https://api.openai.com/v1/chat/completions \"HTTP/1.1 200 OK\"\n",
      "HTTP Request: POST https://api.openai.com/v1/chat/completions \"HTTP/1.1 200 OK\"\n",
      "HTTP Request: POST https://api.openai.com/v1/chat/completions \"HTTP/1.1 200 OK\"\n",
      "HTTP Request: POST https://api.openai.com/v1/chat/completions \"HTTP/1.1 200 OK\"\n"
     ]
    },
    {
     "name": "stderr",
     "output_type": "stream",
     "text": [
      "100%|██████████| 10/10 [00:02<00:00,  3.62it/s]\n",
      "  0%|          | 0/10 [00:00<?, ?it/s]"
     ]
    },
    {
     "name": "stdout",
     "output_type": "stream",
     "text": [
      "HTTP Request: POST https://api.openai.com/v1/chat/completions \"HTTP/1.1 200 OK\"\n",
      "HTTP Request: POST https://api.openai.com/v1/chat/completions \"HTTP/1.1 200 OK\"\n"
     ]
    },
    {
     "name": "stderr",
     "output_type": "stream",
     "text": [
      " 10%|█         | 1/10 [00:01<00:12,  1.35s/it]"
     ]
    },
    {
     "name": "stdout",
     "output_type": "stream",
     "text": [
      "HTTP Request: POST https://api.openai.com/v1/chat/completions \"HTTP/1.1 200 OK\"\n",
      "HTTP Request: POST https://api.openai.com/v1/chat/completions \"HTTP/1.1 200 OK\"\n",
      "HTTP Request: POST https://api.openai.com/v1/chat/completions \"HTTP/1.1 200 OK\"\n",
      "HTTP Request: POST https://api.openai.com/v1/chat/completions \"HTTP/1.1 200 OK\"\n",
      "HTTP Request: POST https://api.openai.com/v1/chat/completions \"HTTP/1.1 200 OK\"\n",
      "HTTP Request: POST https://api.openai.com/v1/chat/completions \"HTTP/1.1 200 OK\"\n"
     ]
    },
    {
     "name": "stderr",
     "output_type": "stream",
     "text": [
      " 20%|██        | 2/10 [00:01<00:05,  1.54it/s]"
     ]
    },
    {
     "name": "stdout",
     "output_type": "stream",
     "text": [
      "HTTP Request: POST https://api.openai.com/v1/chat/completions \"HTTP/1.1 200 OK\"\n",
      "HTTP Request: POST https://api.openai.com/v1/chat/completions \"HTTP/1.1 200 OK\"\n",
      "HTTP Request: POST https://api.openai.com/v1/chat/completions \"HTTP/1.1 200 OK\"\n",
      "HTTP Request: POST https://api.openai.com/v1/chat/completions \"HTTP/1.1 200 OK\"\n",
      "HTTP Request: POST https://api.openai.com/v1/chat/completions \"HTTP/1.1 200 OK\"\n",
      "HTTP Request: POST https://api.openai.com/v1/chat/completions \"HTTP/1.1 200 OK\"\n",
      "HTTP Request: POST https://api.openai.com/v1/chat/completions \"HTTP/1.1 200 OK\"\n",
      "HTTP Request: POST https://api.openai.com/v1/chat/completions \"HTTP/1.1 200 OK\"\n",
      "HTTP Request: POST https://api.openai.com/v1/chat/completions \"HTTP/1.1 200 OK\"\n",
      "HTTP Request: POST https://api.openai.com/v1/chat/completions \"HTTP/1.1 200 OK\"\n"
     ]
    },
    {
     "name": "stderr",
     "output_type": "stream",
     "text": [
      " 90%|█████████ | 9/10 [00:01<00:00,  9.30it/s]"
     ]
    },
    {
     "name": "stdout",
     "output_type": "stream",
     "text": [
      "HTTP Request: POST https://api.openai.com/v1/chat/completions \"HTTP/1.1 200 OK\"\n",
      "HTTP Request: POST https://api.openai.com/v1/chat/completions \"HTTP/1.1 200 OK\"\n"
     ]
    },
    {
     "name": "stderr",
     "output_type": "stream",
     "text": [
      "100%|██████████| 10/10 [00:01<00:00,  5.63it/s]\n",
      "  0%|          | 0/10 [00:00<?, ?it/s]"
     ]
    },
    {
     "name": "stdout",
     "output_type": "stream",
     "text": [
      "HTTP Request: POST https://api.openai.com/v1/chat/completions \"HTTP/1.1 200 OK\"\n",
      "HTTP Request: POST https://api.openai.com/v1/chat/completions \"HTTP/1.1 200 OK\"\n"
     ]
    },
    {
     "name": "stderr",
     "output_type": "stream",
     "text": [
      " 10%|█         | 1/10 [00:01<00:14,  1.62s/it]"
     ]
    },
    {
     "name": "stdout",
     "output_type": "stream",
     "text": [
      "HTTP Request: POST https://api.openai.com/v1/chat/completions \"HTTP/1.1 200 OK\"\n",
      "HTTP Request: POST https://api.openai.com/v1/chat/completions \"HTTP/1.1 200 OK\"\n"
     ]
    },
    {
     "name": "stderr",
     "output_type": "stream",
     "text": [
      " 20%|██        | 2/10 [00:01<00:06,  1.27it/s]"
     ]
    },
    {
     "name": "stdout",
     "output_type": "stream",
     "text": [
      "HTTP Request: POST https://api.openai.com/v1/chat/completions \"HTTP/1.1 200 OK\"\n",
      "HTTP Request: POST https://api.openai.com/v1/chat/completions \"HTTP/1.1 200 OK\"\n",
      "HTTP Request: POST https://api.openai.com/v1/chat/completions \"HTTP/1.1 200 OK\"\n",
      "HTTP Request: POST https://api.openai.com/v1/chat/completions \"HTTP/1.1 200 OK\"\n",
      "HTTP Request: POST https://api.openai.com/v1/chat/completions \"HTTP/1.1 200 OK\"\n",
      "HTTP Request: POST https://api.openai.com/v1/chat/completions \"HTTP/1.1 200 OK\"\n"
     ]
    },
    {
     "name": "stderr",
     "output_type": "stream",
     "text": [
      " 50%|█████     | 5/10 [00:02<00:01,  3.19it/s]"
     ]
    },
    {
     "name": "stdout",
     "output_type": "stream",
     "text": [
      "HTTP Request: POST https://api.openai.com/v1/chat/completions \"HTTP/1.1 200 OK\"\n",
      "HTTP Request: POST https://api.openai.com/v1/chat/completions \"HTTP/1.1 200 OK\"\n",
      "HTTP Request: POST https://api.openai.com/v1/chat/completions \"HTTP/1.1 200 OK\"\n",
      "HTTP Request: POST https://api.openai.com/v1/chat/completions \"HTTP/1.1 200 OK\"\n",
      "HTTP Request: POST https://api.openai.com/v1/chat/completions \"HTTP/1.1 200 OK\"\n",
      "HTTP Request: POST https://api.openai.com/v1/chat/completions \"HTTP/1.1 200 OK\"\n",
      "HTTP Request: POST https://api.openai.com/v1/chat/completions \"HTTP/1.1 200 OK\"\n",
      "HTTP Request: POST https://api.openai.com/v1/chat/completions \"HTTP/1.1 200 OK\"\n"
     ]
    },
    {
     "name": "stderr",
     "output_type": "stream",
     "text": [
      " 90%|█████████ | 9/10 [00:02<00:00,  6.35it/s]"
     ]
    },
    {
     "name": "stdout",
     "output_type": "stream",
     "text": [
      "HTTP Request: POST https://api.openai.com/v1/chat/completions \"HTTP/1.1 200 OK\"\n",
      "HTTP Request: POST https://api.openai.com/v1/chat/completions \"HTTP/1.1 200 OK\"\n"
     ]
    },
    {
     "name": "stderr",
     "output_type": "stream",
     "text": [
      "100%|██████████| 10/10 [00:02<00:00,  3.88it/s]\n",
      "  0%|          | 0/10 [00:00<?, ?it/s]"
     ]
    },
    {
     "name": "stdout",
     "output_type": "stream",
     "text": [
      "HTTP Request: POST https://api.openai.com/v1/chat/completions \"HTTP/1.1 200 OK\"\n",
      "HTTP Request: POST https://api.openai.com/v1/chat/completions \"HTTP/1.1 200 OK\"\n"
     ]
    },
    {
     "name": "stderr",
     "output_type": "stream",
     "text": [
      " 10%|█         | 1/10 [00:01<00:11,  1.23s/it]"
     ]
    },
    {
     "name": "stdout",
     "output_type": "stream",
     "text": [
      "HTTP Request: POST https://api.openai.com/v1/chat/completions \"HTTP/1.1 200 OK\"\n",
      "HTTP Request: POST https://api.openai.com/v1/chat/completions \"HTTP/1.1 200 OK\"\n"
     ]
    },
    {
     "name": "stderr",
     "output_type": "stream",
     "text": [
      " 20%|██        | 2/10 [00:01<00:04,  1.69it/s]"
     ]
    },
    {
     "name": "stdout",
     "output_type": "stream",
     "text": [
      "HTTP Request: POST https://api.openai.com/v1/chat/completions \"HTTP/1.1 200 OK\"\n",
      "HTTP Request: POST https://api.openai.com/v1/chat/completions \"HTTP/1.1 200 OK\"\n",
      "HTTP Request: POST https://api.openai.com/v1/chat/completions \"HTTP/1.1 200 OK\"\n",
      "HTTP Request: POST https://api.openai.com/v1/chat/completions \"HTTP/1.1 200 OK\"\n",
      "HTTP Request: POST https://api.openai.com/v1/chat/completions \"HTTP/1.1 200 OK\"\n",
      "HTTP Request: POST https://api.openai.com/v1/chat/completions \"HTTP/1.1 200 OK\"\n"
     ]
    },
    {
     "name": "stderr",
     "output_type": "stream",
     "text": [
      " 50%|█████     | 5/10 [00:01<00:01,  4.90it/s]"
     ]
    },
    {
     "name": "stdout",
     "output_type": "stream",
     "text": [
      "HTTP Request: POST https://api.openai.com/v1/chat/completions \"HTTP/1.1 200 OK\"\n",
      "HTTP Request: POST https://api.openai.com/v1/chat/completions \"HTTP/1.1 200 OK\"\n",
      "HTTP Request: POST https://api.openai.com/v1/chat/completions \"HTTP/1.1 200 OK\"\n",
      "HTTP Request: POST https://api.openai.com/v1/chat/completions \"HTTP/1.1 200 OK\"\n",
      "HTTP Request: POST https://api.openai.com/v1/chat/completions \"HTTP/1.1 200 OK\"\n",
      "HTTP Request: POST https://api.openai.com/v1/chat/completions \"HTTP/1.1 200 OK\"\n",
      "HTTP Request: POST https://api.openai.com/v1/chat/completions \"HTTP/1.1 200 OK\"\n",
      "HTTP Request: POST https://api.openai.com/v1/chat/completions \"HTTP/1.1 200 OK\"\n"
     ]
    },
    {
     "name": "stderr",
     "output_type": "stream",
     "text": [
      " 70%|███████   | 7/10 [00:02<00:00,  4.37it/s]"
     ]
    },
    {
     "name": "stdout",
     "output_type": "stream",
     "text": [
      "HTTP Request: POST https://api.openai.com/v1/chat/completions \"HTTP/1.1 200 OK\"\n",
      "HTTP Request: POST https://api.openai.com/v1/chat/completions \"HTTP/1.1 200 OK\"\n"
     ]
    },
    {
     "name": "stderr",
     "output_type": "stream",
     "text": [
      "100%|██████████| 10/10 [00:02<00:00,  4.64it/s]\n",
      "  0%|          | 0/10 [00:00<?, ?it/s]"
     ]
    },
    {
     "name": "stdout",
     "output_type": "stream",
     "text": [
      "HTTP Request: POST https://api.openai.com/v1/chat/completions \"HTTP/1.1 200 OK\"\n",
      "HTTP Request: POST https://api.openai.com/v1/chat/completions \"HTTP/1.1 200 OK\"\n"
     ]
    },
    {
     "name": "stderr",
     "output_type": "stream",
     "text": [
      " 10%|█         | 1/10 [00:00<00:08,  1.05it/s]"
     ]
    },
    {
     "name": "stdout",
     "output_type": "stream",
     "text": [
      "HTTP Request: POST https://api.openai.com/v1/chat/completions \"HTTP/1.1 200 OK\"\n",
      "HTTP Request: POST https://api.openai.com/v1/chat/completions \"HTTP/1.1 200 OK\"\n",
      "HTTP Request: POST https://api.openai.com/v1/chat/completions \"HTTP/1.1 200 OK\"\n",
      "HTTP Request: POST https://api.openai.com/v1/chat/completions \"HTTP/1.1 200 OK\"\n"
     ]
    },
    {
     "name": "stderr",
     "output_type": "stream",
     "text": [
      " 30%|███       | 3/10 [00:01<00:02,  3.13it/s]"
     ]
    },
    {
     "name": "stdout",
     "output_type": "stream",
     "text": [
      "HTTP Request: POST https://api.openai.com/v1/chat/completions \"HTTP/1.1 200 OK\"\n",
      "HTTP Request: POST https://api.openai.com/v1/chat/completions \"HTTP/1.1 200 OK\"\n"
     ]
    },
    {
     "name": "stderr",
     "output_type": "stream",
     "text": [
      " 40%|████      | 4/10 [00:01<00:01,  3.32it/s]"
     ]
    },
    {
     "name": "stdout",
     "output_type": "stream",
     "text": [
      "HTTP Request: POST https://api.openai.com/v1/chat/completions \"HTTP/1.1 200 OK\"\n",
      "HTTP Request: POST https://api.openai.com/v1/chat/completions \"HTTP/1.1 200 OK\"\n",
      "HTTP Request: POST https://api.openai.com/v1/chat/completions \"HTTP/1.1 200 OK\"\n",
      "HTTP Request: POST https://api.openai.com/v1/chat/completions \"HTTP/1.1 200 OK\"\n",
      "HTTP Request: POST https://api.openai.com/v1/chat/completions \"HTTP/1.1 200 OK\"\n",
      "HTTP Request: POST https://api.openai.com/v1/chat/completions \"HTTP/1.1 200 OK\"\n"
     ]
    },
    {
     "name": "stderr",
     "output_type": "stream",
     "text": [
      " 70%|███████   | 7/10 [00:01<00:00,  6.89it/s]"
     ]
    },
    {
     "name": "stdout",
     "output_type": "stream",
     "text": [
      "HTTP Request: POST https://api.openai.com/v1/chat/completions \"HTTP/1.1 200 OK\"\n",
      "HTTP Request: POST https://api.openai.com/v1/chat/completions \"HTTP/1.1 200 OK\"\n",
      "HTTP Request: POST https://api.openai.com/v1/chat/completions \"HTTP/1.1 200 OK\"\n",
      "HTTP Request: POST https://api.openai.com/v1/chat/completions \"HTTP/1.1 200 OK\"\n"
     ]
    },
    {
     "name": "stderr",
     "output_type": "stream",
     "text": [
      " 90%|█████████ | 9/10 [00:02<00:00,  5.51it/s]"
     ]
    },
    {
     "name": "stdout",
     "output_type": "stream",
     "text": [
      "HTTP Request: POST https://api.openai.com/v1/chat/completions \"HTTP/1.1 200 OK\"\n",
      "HTTP Request: POST https://api.openai.com/v1/chat/completions \"HTTP/1.1 200 OK\"\n"
     ]
    },
    {
     "name": "stderr",
     "output_type": "stream",
     "text": [
      "100%|██████████| 10/10 [00:02<00:00,  4.04it/s]\n",
      "  0%|          | 0/10 [00:00<?, ?it/s]"
     ]
    },
    {
     "name": "stdout",
     "output_type": "stream",
     "text": [
      "HTTP Request: POST https://api.openai.com/v1/chat/completions \"HTTP/1.1 200 OK\"\n",
      "HTTP Request: POST https://api.openai.com/v1/chat/completions \"HTTP/1.1 200 OK\"\n"
     ]
    },
    {
     "name": "stderr",
     "output_type": "stream",
     "text": [
      " 10%|█         | 1/10 [00:01<00:09,  1.04s/it]"
     ]
    },
    {
     "name": "stdout",
     "output_type": "stream",
     "text": [
      "HTTP Request: POST https://api.openai.com/v1/chat/completions \"HTTP/1.1 200 OK\"\n",
      "HTTP Request: POST https://api.openai.com/v1/chat/completions \"HTTP/1.1 200 OK\"\n"
     ]
    },
    {
     "name": "stderr",
     "output_type": "stream",
     "text": [
      " 20%|██        | 2/10 [00:01<00:04,  1.81it/s]"
     ]
    },
    {
     "name": "stdout",
     "output_type": "stream",
     "text": [
      "HTTP Request: POST https://api.openai.com/v1/chat/completions \"HTTP/1.1 200 OK\"\n",
      "HTTP Request: POST https://api.openai.com/v1/chat/completions \"HTTP/1.1 200 OK\"\n"
     ]
    },
    {
     "name": "stderr",
     "output_type": "stream",
     "text": [
      " 30%|███       | 3/10 [00:01<00:03,  2.24it/s]"
     ]
    },
    {
     "name": "stdout",
     "output_type": "stream",
     "text": [
      "HTTP Request: POST https://api.openai.com/v1/chat/completions \"HTTP/1.1 200 OK\"\n",
      "HTTP Request: POST https://api.openai.com/v1/chat/completions \"HTTP/1.1 200 OK\"\n",
      "HTTP Request: POST https://api.openai.com/v1/chat/completions \"HTTP/1.1 200 OK\"\n",
      "HTTP Request: POST https://api.openai.com/v1/chat/completions \"HTTP/1.1 200 OK\"\n"
     ]
    },
    {
     "name": "stderr",
     "output_type": "stream",
     "text": [
      " 50%|█████     | 5/10 [00:01<00:01,  3.99it/s]"
     ]
    },
    {
     "name": "stdout",
     "output_type": "stream",
     "text": [
      "HTTP Request: POST https://api.openai.com/v1/chat/completions \"HTTP/1.1 200 OK\"\n",
      "HTTP Request: POST https://api.openai.com/v1/chat/completions \"HTTP/1.1 200 OK\"\n"
     ]
    },
    {
     "name": "stderr",
     "output_type": "stream",
     "text": [
      " 60%|██████    | 6/10 [00:01<00:00,  4.56it/s]"
     ]
    },
    {
     "name": "stdout",
     "output_type": "stream",
     "text": [
      "HTTP Request: POST https://api.openai.com/v1/chat/completions \"HTTP/1.1 200 OK\"\n",
      "HTTP Request: POST https://api.openai.com/v1/chat/completions \"HTTP/1.1 200 OK\"\n"
     ]
    },
    {
     "name": "stderr",
     "output_type": "stream",
     "text": [
      " 70%|███████   | 7/10 [00:02<00:00,  3.88it/s]"
     ]
    },
    {
     "name": "stdout",
     "output_type": "stream",
     "text": [
      "HTTP Request: POST https://api.openai.com/v1/chat/completions \"HTTP/1.1 200 OK\"\n",
      "HTTP Request: POST https://api.openai.com/v1/chat/completions \"HTTP/1.1 200 OK\"\n",
      "HTTP Request: POST https://api.openai.com/v1/chat/completions \"HTTP/1.1 200 OK\"\n",
      "HTTP Request: POST https://api.openai.com/v1/chat/completions \"HTTP/1.1 200 OK\"\n"
     ]
    },
    {
     "name": "stderr",
     "output_type": "stream",
     "text": [
      " 90%|█████████ | 9/10 [00:02<00:00,  4.29it/s]"
     ]
    },
    {
     "name": "stdout",
     "output_type": "stream",
     "text": [
      "HTTP Request: POST https://api.openai.com/v1/chat/completions \"HTTP/1.1 200 OK\"\n",
      "HTTP Request: POST https://api.openai.com/v1/chat/completions \"HTTP/1.1 200 OK\"\n"
     ]
    },
    {
     "name": "stderr",
     "output_type": "stream",
     "text": [
      "100%|██████████| 10/10 [00:02<00:00,  3.73it/s]\n",
      "  0%|          | 0/10 [00:00<?, ?it/s]"
     ]
    },
    {
     "name": "stdout",
     "output_type": "stream",
     "text": [
      "HTTP Request: POST https://api.openai.com/v1/chat/completions \"HTTP/1.1 200 OK\"\n",
      "HTTP Request: POST https://api.openai.com/v1/chat/completions \"HTTP/1.1 200 OK\"\n"
     ]
    },
    {
     "name": "stderr",
     "output_type": "stream",
     "text": [
      " 10%|█         | 1/10 [00:01<00:12,  1.42s/it]"
     ]
    },
    {
     "name": "stdout",
     "output_type": "stream",
     "text": [
      "HTTP Request: POST https://api.openai.com/v1/chat/completions \"HTTP/1.1 200 OK\"\n",
      "HTTP Request: POST https://api.openai.com/v1/chat/completions \"HTTP/1.1 200 OK\"\n",
      "HTTP Request: POST https://api.openai.com/v1/chat/completions \"HTTP/1.1 200 OK\"\n",
      "HTTP Request: POST https://api.openai.com/v1/chat/completions \"HTTP/1.1 200 OK\"\n",
      "HTTP Request: POST https://api.openai.com/v1/chat/completions \"HTTP/1.1 200 OK\"\n",
      "HTTP Request: POST https://api.openai.com/v1/chat/completions \"HTTP/1.1 200 OK\"\n"
     ]
    },
    {
     "name": "stderr",
     "output_type": "stream",
     "text": [
      " 40%|████      | 4/10 [00:01<00:01,  3.24it/s]"
     ]
    },
    {
     "name": "stdout",
     "output_type": "stream",
     "text": [
      "HTTP Request: POST https://api.openai.com/v1/chat/completions \"HTTP/1.1 200 OK\"\n",
      "HTTP Request: POST https://api.openai.com/v1/chat/completions \"HTTP/1.1 200 OK\"\n",
      "HTTP Request: POST https://api.openai.com/v1/chat/completions \"HTTP/1.1 200 OK\"\n",
      "HTTP Request: POST https://api.openai.com/v1/chat/completions \"HTTP/1.1 200 OK\"\n",
      "HTTP Request: POST https://api.openai.com/v1/chat/completions \"HTTP/1.1 200 OK\"\n",
      "HTTP Request: POST https://api.openai.com/v1/chat/completions \"HTTP/1.1 200 OK\"\n"
     ]
    },
    {
     "name": "stderr",
     "output_type": "stream",
     "text": [
      " 70%|███████   | 7/10 [00:01<00:00,  5.63it/s]"
     ]
    },
    {
     "name": "stdout",
     "output_type": "stream",
     "text": [
      "HTTP Request: POST https://api.openai.com/v1/chat/completions \"HTTP/1.1 200 OK\"\n",
      "HTTP Request: POST https://api.openai.com/v1/chat/completions \"HTTP/1.1 200 OK\"\n",
      "HTTP Request: POST https://api.openai.com/v1/chat/completions \"HTTP/1.1 200 OK\"\n",
      "HTTP Request: POST https://api.openai.com/v1/chat/completions \"HTTP/1.1 200 OK\"\n"
     ]
    },
    {
     "name": "stderr",
     "output_type": "stream",
     "text": [
      " 90%|█████████ | 9/10 [00:02<00:00,  5.66it/s]"
     ]
    },
    {
     "name": "stdout",
     "output_type": "stream",
     "text": [
      "HTTP Request: POST https://api.openai.com/v1/chat/completions \"HTTP/1.1 200 OK\"\n",
      "HTTP Request: POST https://api.openai.com/v1/chat/completions \"HTTP/1.1 200 OK\"\n"
     ]
    },
    {
     "name": "stderr",
     "output_type": "stream",
     "text": [
      "100%|██████████| 10/10 [00:02<00:00,  3.50it/s]\n",
      "  0%|          | 0/10 [00:00<?, ?it/s]"
     ]
    },
    {
     "name": "stdout",
     "output_type": "stream",
     "text": [
      "HTTP Request: POST https://api.openai.com/v1/chat/completions \"HTTP/1.1 200 OK\"\n",
      "HTTP Request: POST https://api.openai.com/v1/chat/completions \"HTTP/1.1 200 OK\"\n",
      "HTTP Request: POST https://api.openai.com/v1/chat/completions \"HTTP/1.1 200 OK\"\n",
      "HTTP Request: POST https://api.openai.com/v1/chat/completions \"HTTP/1.1 200 OK\"\n"
     ]
    },
    {
     "name": "stderr",
     "output_type": "stream",
     "text": [
      " 10%|█         | 1/10 [00:01<00:11,  1.33s/it]"
     ]
    },
    {
     "name": "stdout",
     "output_type": "stream",
     "text": [
      "HTTP Request: POST https://api.openai.com/v1/chat/completions \"HTTP/1.1 200 OK\"\n",
      "HTTP Request: POST https://api.openai.com/v1/chat/completions \"HTTP/1.1 200 OK\"\n"
     ]
    },
    {
     "name": "stderr",
     "output_type": "stream",
     "text": [
      " 30%|███       | 3/10 [00:01<00:02,  2.41it/s]"
     ]
    },
    {
     "name": "stdout",
     "output_type": "stream",
     "text": [
      "HTTP Request: POST https://api.openai.com/v1/chat/completions \"HTTP/1.1 200 OK\"\n",
      "HTTP Request: POST https://api.openai.com/v1/chat/completions \"HTTP/1.1 200 OK\"\n",
      "HTTP Request: POST https://api.openai.com/v1/chat/completions \"HTTP/1.1 200 OK\"\n",
      "HTTP Request: POST https://api.openai.com/v1/chat/completions \"HTTP/1.1 200 OK\"\n"
     ]
    },
    {
     "name": "stderr",
     "output_type": "stream",
     "text": [
      " 50%|█████     | 5/10 [00:01<00:01,  3.91it/s]"
     ]
    },
    {
     "name": "stdout",
     "output_type": "stream",
     "text": [
      "HTTP Request: POST https://api.openai.com/v1/chat/completions \"HTTP/1.1 200 OK\"\n",
      "HTTP Request: POST https://api.openai.com/v1/chat/completions \"HTTP/1.1 200 OK\"\n",
      "HTTP Request: POST https://api.openai.com/v1/chat/completions \"HTTP/1.1 200 OK\"\n",
      "HTTP Request: POST https://api.openai.com/v1/chat/completions \"HTTP/1.1 200 OK\"\n",
      "HTTP Request: POST https://api.openai.com/v1/chat/completions \"HTTP/1.1 200 OK\"\n",
      "HTTP Request: POST https://api.openai.com/v1/chat/completions \"HTTP/1.1 200 OK\"\n"
     ]
    },
    {
     "name": "stderr",
     "output_type": "stream",
     "text": [
      " 80%|████████  | 8/10 [00:01<00:00,  7.14it/s]"
     ]
    },
    {
     "name": "stdout",
     "output_type": "stream",
     "text": [
      "HTTP Request: POST https://api.openai.com/v1/chat/completions \"HTTP/1.1 200 OK\"\n",
      "HTTP Request: POST https://api.openai.com/v1/chat/completions \"HTTP/1.1 200 OK\"\n",
      "HTTP Request: POST https://api.openai.com/v1/chat/completions \"HTTP/1.1 200 OK\"\n",
      "HTTP Request: POST https://api.openai.com/v1/chat/completions \"HTTP/1.1 200 OK\"\n"
     ]
    },
    {
     "name": "stderr",
     "output_type": "stream",
     "text": [
      "100%|██████████| 10/10 [00:01<00:00,  5.33it/s]\n",
      "  0%|          | 0/10 [00:00<?, ?it/s]"
     ]
    },
    {
     "name": "stdout",
     "output_type": "stream",
     "text": [
      "HTTP Request: POST https://api.openai.com/v1/chat/completions \"HTTP/1.1 200 OK\"\n",
      "HTTP Request: POST https://api.openai.com/v1/chat/completions \"HTTP/1.1 200 OK\"\n"
     ]
    },
    {
     "name": "stderr",
     "output_type": "stream",
     "text": [
      " 10%|█         | 1/10 [00:01<00:09,  1.10s/it]"
     ]
    },
    {
     "name": "stdout",
     "output_type": "stream",
     "text": [
      "HTTP Request: POST https://api.openai.com/v1/chat/completions \"HTTP/1.1 200 OK\"\n",
      "HTTP Request: POST https://api.openai.com/v1/chat/completions \"HTTP/1.1 200 OK\"\n"
     ]
    },
    {
     "name": "stderr",
     "output_type": "stream",
     "text": [
      " 20%|██        | 2/10 [00:01<00:05,  1.44it/s]"
     ]
    },
    {
     "name": "stdout",
     "output_type": "stream",
     "text": [
      "HTTP Request: POST https://api.openai.com/v1/chat/completions \"HTTP/1.1 200 OK\"\n",
      "HTTP Request: POST https://api.openai.com/v1/chat/completions \"HTTP/1.1 200 OK\"\n"
     ]
    },
    {
     "name": "stderr",
     "output_type": "stream",
     "text": [
      " 30%|███       | 3/10 [00:01<00:03,  2.03it/s]"
     ]
    },
    {
     "name": "stdout",
     "output_type": "stream",
     "text": [
      "HTTP Request: POST https://api.openai.com/v1/chat/completions \"HTTP/1.1 200 OK\"\n",
      "HTTP Request: POST https://api.openai.com/v1/chat/completions \"HTTP/1.1 200 OK\"\n",
      "HTTP Request: POST https://api.openai.com/v1/chat/completions \"HTTP/1.1 200 OK\"\n",
      "HTTP Request: POST https://api.openai.com/v1/chat/completions \"HTTP/1.1 200 OK\"\n"
     ]
    },
    {
     "name": "stderr",
     "output_type": "stream",
     "text": [
      " 50%|█████     | 5/10 [00:02<00:01,  3.53it/s]"
     ]
    },
    {
     "name": "stdout",
     "output_type": "stream",
     "text": [
      "HTTP Request: POST https://api.openai.com/v1/chat/completions \"HTTP/1.1 200 OK\"\n",
      "HTTP Request: POST https://api.openai.com/v1/chat/completions \"HTTP/1.1 200 OK\"\n"
     ]
    },
    {
     "name": "stderr",
     "output_type": "stream",
     "text": [
      " 60%|██████    | 6/10 [00:02<00:00,  4.26it/s]"
     ]
    },
    {
     "name": "stdout",
     "output_type": "stream",
     "text": [
      "HTTP Request: POST https://api.openai.com/v1/chat/completions \"HTTP/1.1 200 OK\"\n",
      "HTTP Request: POST https://api.openai.com/v1/chat/completions \"HTTP/1.1 200 OK\"\n"
     ]
    },
    {
     "name": "stderr",
     "output_type": "stream",
     "text": [
      " 70%|███████   | 7/10 [00:02<00:00,  4.95it/s]"
     ]
    },
    {
     "name": "stdout",
     "output_type": "stream",
     "text": [
      "HTTP Request: POST https://api.openai.com/v1/chat/completions \"HTTP/1.1 200 OK\"\n",
      "HTTP Request: POST https://api.openai.com/v1/chat/completions \"HTTP/1.1 200 OK\"\n"
     ]
    },
    {
     "name": "stderr",
     "output_type": "stream",
     "text": [
      " 80%|████████  | 8/10 [00:02<00:00,  3.87it/s]"
     ]
    },
    {
     "name": "stdout",
     "output_type": "stream",
     "text": [
      "HTTP Request: POST https://api.openai.com/v1/chat/completions \"HTTP/1.1 200 OK\"\n",
      "HTTP Request: POST https://api.openai.com/v1/chat/completions \"HTTP/1.1 200 OK\"\n"
     ]
    },
    {
     "name": "stderr",
     "output_type": "stream",
     "text": [
      " 90%|█████████ | 9/10 [00:02<00:00,  3.98it/s]"
     ]
    },
    {
     "name": "stdout",
     "output_type": "stream",
     "text": [
      "HTTP Request: POST https://api.openai.com/v1/chat/completions \"HTTP/1.1 200 OK\"\n",
      "HTTP Request: POST https://api.openai.com/v1/chat/completions \"HTTP/1.1 200 OK\"\n"
     ]
    },
    {
     "name": "stderr",
     "output_type": "stream",
     "text": [
      "100%|██████████| 10/10 [00:03<00:00,  3.27it/s]\n",
      "  0%|          | 0/10 [00:00<?, ?it/s]"
     ]
    },
    {
     "name": "stdout",
     "output_type": "stream",
     "text": [
      "HTTP Request: POST https://api.openai.com/v1/chat/completions \"HTTP/1.1 200 OK\"\n",
      "HTTP Request: POST https://api.openai.com/v1/chat/completions \"HTTP/1.1 200 OK\"\n"
     ]
    },
    {
     "name": "stderr",
     "output_type": "stream",
     "text": [
      " 10%|█         | 1/10 [00:00<00:07,  1.16it/s]"
     ]
    },
    {
     "name": "stdout",
     "output_type": "stream",
     "text": [
      "HTTP Request: POST https://api.openai.com/v1/chat/completions \"HTTP/1.1 200 OK\"\n",
      "HTTP Request: POST https://api.openai.com/v1/chat/completions \"HTTP/1.1 200 OK\"\n"
     ]
    },
    {
     "name": "stderr",
     "output_type": "stream",
     "text": [
      " 20%|██        | 2/10 [00:00<00:03,  2.34it/s]"
     ]
    },
    {
     "name": "stdout",
     "output_type": "stream",
     "text": [
      "HTTP Request: POST https://api.openai.com/v1/chat/completions \"HTTP/1.1 200 OK\"\n",
      "HTTP Request: POST https://api.openai.com/v1/chat/completions \"HTTP/1.1 200 OK\"\n",
      "HTTP Request: POST https://api.openai.com/v1/chat/completions \"HTTP/1.1 200 OK\"\n",
      "HTTP Request: POST https://api.openai.com/v1/chat/completions \"HTTP/1.1 200 OK\"\n",
      "HTTP Request: POST https://api.openai.com/v1/chat/completions \"HTTP/1.1 200 OK\"\n",
      "HTTP Request: POST https://api.openai.com/v1/chat/completions \"HTTP/1.1 200 OK\"\n"
     ]
    },
    {
     "name": "stderr",
     "output_type": "stream",
     "text": [
      " 50%|█████     | 5/10 [00:01<00:00,  6.43it/s]"
     ]
    },
    {
     "name": "stdout",
     "output_type": "stream",
     "text": [
      "HTTP Request: POST https://api.openai.com/v1/chat/completions \"HTTP/1.1 200 OK\"\n",
      "HTTP Request: POST https://api.openai.com/v1/chat/completions \"HTTP/1.1 200 OK\"\n",
      "HTTP Request: POST https://api.openai.com/v1/chat/completions \"HTTP/1.1 200 OK\"\n",
      "HTTP Request: POST https://api.openai.com/v1/chat/completions \"HTTP/1.1 200 OK\"\n"
     ]
    },
    {
     "name": "stderr",
     "output_type": "stream",
     "text": [
      " 70%|███████   | 7/10 [00:01<00:00,  5.98it/s]"
     ]
    },
    {
     "name": "stdout",
     "output_type": "stream",
     "text": [
      "HTTP Request: POST https://api.openai.com/v1/chat/completions \"HTTP/1.1 200 OK\"\n",
      "HTTP Request: POST https://api.openai.com/v1/chat/completions \"HTTP/1.1 200 OK\"\n"
     ]
    },
    {
     "name": "stderr",
     "output_type": "stream",
     "text": [
      " 80%|████████  | 8/10 [00:01<00:00,  6.37it/s]"
     ]
    },
    {
     "name": "stdout",
     "output_type": "stream",
     "text": [
      "HTTP Request: POST https://api.openai.com/v1/chat/completions \"HTTP/1.1 200 OK\"\n",
      "HTTP Request: POST https://api.openai.com/v1/chat/completions \"HTTP/1.1 200 OK\"\n",
      "HTTP Request: POST https://api.openai.com/v1/chat/completions \"HTTP/1.1 200 OK\"\n",
      "HTTP Request: POST https://api.openai.com/v1/chat/completions \"HTTP/1.1 200 OK\"\n"
     ]
    },
    {
     "name": "stderr",
     "output_type": "stream",
     "text": [
      "100%|██████████| 10/10 [00:02<00:00,  4.81it/s]\n",
      "  0%|          | 0/10 [00:00<?, ?it/s]"
     ]
    },
    {
     "name": "stdout",
     "output_type": "stream",
     "text": [
      "HTTP Request: POST https://api.openai.com/v1/chat/completions \"HTTP/1.1 200 OK\"\n",
      "HTTP Request: POST https://api.openai.com/v1/chat/completions \"HTTP/1.1 200 OK\"\n"
     ]
    },
    {
     "name": "stderr",
     "output_type": "stream",
     "text": [
      " 10%|█         | 1/10 [00:00<00:07,  1.16it/s]"
     ]
    },
    {
     "name": "stdout",
     "output_type": "stream",
     "text": [
      "HTTP Request: POST https://api.openai.com/v1/chat/completions \"HTTP/1.1 200 OK\"\n",
      "HTTP Request: POST https://api.openai.com/v1/chat/completions \"HTTP/1.1 200 OK\"\n"
     ]
    },
    {
     "name": "stderr",
     "output_type": "stream",
     "text": [
      " 20%|██        | 2/10 [00:01<00:03,  2.25it/s]"
     ]
    },
    {
     "name": "stdout",
     "output_type": "stream",
     "text": [
      "HTTP Request: POST https://api.openai.com/v1/chat/completions \"HTTP/1.1 200 OK\"\n",
      "HTTP Request: POST https://api.openai.com/v1/chat/completions \"HTTP/1.1 200 OK\"\n",
      "HTTP Request: POST https://api.openai.com/v1/chat/completions \"HTTP/1.1 200 OK\"\n",
      "HTTP Request: POST https://api.openai.com/v1/chat/completions \"HTTP/1.1 200 OK\"\n",
      "HTTP Request: POST https://api.openai.com/v1/chat/completions \"HTTP/1.1 200 OK\"\n",
      "HTTP Request: POST https://api.openai.com/v1/chat/completions \"HTTP/1.1 200 OK\"\n",
      "HTTP Request: POST https://api.openai.com/v1/chat/completions \"HTTP/1.1 200 OK\"\n",
      "HTTP Request: POST https://api.openai.com/v1/chat/completions \"HTTP/1.1 200 OK\"\n"
     ]
    },
    {
     "name": "stderr",
     "output_type": "stream",
     "text": [
      " 60%|██████    | 6/10 [00:01<00:00,  7.23it/s]"
     ]
    },
    {
     "name": "stdout",
     "output_type": "stream",
     "text": [
      "HTTP Request: POST https://api.openai.com/v1/chat/completions \"HTTP/1.1 200 OK\"\n",
      "HTTP Request: POST https://api.openai.com/v1/chat/completions \"HTTP/1.1 200 OK\"\n",
      "HTTP Request: POST https://api.openai.com/v1/chat/completions \"HTTP/1.1 200 OK\"\n",
      "HTTP Request: POST https://api.openai.com/v1/chat/completions \"HTTP/1.1 200 OK\"\n"
     ]
    },
    {
     "name": "stderr",
     "output_type": "stream",
     "text": [
      " 80%|████████  | 8/10 [00:01<00:00,  7.95it/s]"
     ]
    },
    {
     "name": "stdout",
     "output_type": "stream",
     "text": [
      "HTTP Request: POST https://api.openai.com/v1/chat/completions \"HTTP/1.1 200 OK\"\n",
      "HTTP Request: POST https://api.openai.com/v1/chat/completions \"HTTP/1.1 200 OK\"\n",
      "HTTP Request: POST https://api.openai.com/v1/chat/completions \"HTTP/1.1 200 OK\"\n",
      "HTTP Request: POST https://api.openai.com/v1/chat/completions \"HTTP/1.1 200 OK\"\n"
     ]
    },
    {
     "name": "stderr",
     "output_type": "stream",
     "text": [
      "100%|██████████| 10/10 [00:01<00:00,  6.08it/s]\n",
      "  0%|          | 0/10 [00:00<?, ?it/s]"
     ]
    },
    {
     "name": "stdout",
     "output_type": "stream",
     "text": [
      "HTTP Request: POST https://api.openai.com/v1/chat/completions \"HTTP/1.1 200 OK\"\n",
      "HTTP Request: POST https://api.openai.com/v1/chat/completions \"HTTP/1.1 200 OK\"\n"
     ]
    },
    {
     "name": "stderr",
     "output_type": "stream",
     "text": [
      " 10%|█         | 1/10 [00:00<00:08,  1.12it/s]"
     ]
    },
    {
     "name": "stdout",
     "output_type": "stream",
     "text": [
      "HTTP Request: POST https://api.openai.com/v1/chat/completions \"HTTP/1.1 200 OK\"\n",
      "HTTP Request: POST https://api.openai.com/v1/chat/completions \"HTTP/1.1 200 OK\"\n",
      "HTTP Request: POST https://api.openai.com/v1/chat/completions \"HTTP/1.1 200 OK\"\n",
      "HTTP Request: POST https://api.openai.com/v1/chat/completions \"HTTP/1.1 200 OK\"\n"
     ]
    },
    {
     "name": "stderr",
     "output_type": "stream",
     "text": [
      " 30%|███       | 3/10 [00:01<00:02,  3.05it/s]"
     ]
    },
    {
     "name": "stdout",
     "output_type": "stream",
     "text": [
      "HTTP Request: POST https://api.openai.com/v1/chat/completions \"HTTP/1.1 200 OK\"\n",
      "HTTP Request: POST https://api.openai.com/v1/chat/completions \"HTTP/1.1 200 OK\"\n",
      "HTTP Request: POST https://api.openai.com/v1/chat/completions \"HTTP/1.1 200 OK\"\n",
      "HTTP Request: POST https://api.openai.com/v1/chat/completions \"HTTP/1.1 200 OK\"\n",
      "HTTP Request: POST https://api.openai.com/v1/chat/completions \"HTTP/1.1 200 OK\"\n",
      "HTTP Request: POST https://api.openai.com/v1/chat/completions \"HTTP/1.1 200 OK\"\n"
     ]
    },
    {
     "name": "stderr",
     "output_type": "stream",
     "text": [
      " 60%|██████    | 6/10 [00:01<00:00,  6.53it/s]"
     ]
    },
    {
     "name": "stdout",
     "output_type": "stream",
     "text": [
      "HTTP Request: POST https://api.openai.com/v1/chat/completions \"HTTP/1.1 200 OK\"\n",
      "HTTP Request: POST https://api.openai.com/v1/chat/completions \"HTTP/1.1 200 OK\"\n",
      "HTTP Request: POST https://api.openai.com/v1/chat/completions \"HTTP/1.1 200 OK\"\n",
      "HTTP Request: POST https://api.openai.com/v1/chat/completions \"HTTP/1.1 200 OK\"\n"
     ]
    },
    {
     "name": "stderr",
     "output_type": "stream",
     "text": [
      " 80%|████████  | 8/10 [00:01<00:00,  7.63it/s]"
     ]
    },
    {
     "name": "stdout",
     "output_type": "stream",
     "text": [
      "HTTP Request: POST https://api.openai.com/v1/chat/completions \"HTTP/1.1 200 OK\"\n",
      "HTTP Request: POST https://api.openai.com/v1/chat/completions \"HTTP/1.1 200 OK\"\n",
      "HTTP Request: POST https://api.openai.com/v1/chat/completions \"HTTP/1.1 200 OK\"\n",
      "HTTP Request: POST https://api.openai.com/v1/chat/completions \"HTTP/1.1 200 OK\"\n"
     ]
    },
    {
     "name": "stderr",
     "output_type": "stream",
     "text": [
      "100%|██████████| 10/10 [00:01<00:00,  5.41it/s]\n",
      "  0%|          | 0/10 [00:00<?, ?it/s]"
     ]
    },
    {
     "name": "stdout",
     "output_type": "stream",
     "text": [
      "HTTP Request: POST https://api.openai.com/v1/chat/completions \"HTTP/1.1 200 OK\"\n",
      "HTTP Request: POST https://api.openai.com/v1/chat/completions \"HTTP/1.1 200 OK\"\n"
     ]
    },
    {
     "name": "stderr",
     "output_type": "stream",
     "text": [
      " 10%|█         | 1/10 [00:01<00:09,  1.03s/it]"
     ]
    },
    {
     "name": "stdout",
     "output_type": "stream",
     "text": [
      "HTTP Request: POST https://api.openai.com/v1/chat/completions \"HTTP/1.1 200 OK\"\n",
      "HTTP Request: POST https://api.openai.com/v1/chat/completions \"HTTP/1.1 200 OK\"\n",
      "HTTP Request: POST https://api.openai.com/v1/chat/completions \"HTTP/1.1 200 OK\"\n",
      "HTTP Request: POST https://api.openai.com/v1/chat/completions \"HTTP/1.1 200 OK\"\n",
      "HTTP Request: POST https://api.openai.com/v1/chat/completions \"HTTP/1.1 200 OK\"\n",
      "HTTP Request: POST https://api.openai.com/v1/chat/completions \"HTTP/1.1 200 OK\"\n",
      "HTTP Request: POST https://api.openai.com/v1/chat/completions \"HTTP/1.1 200 OK\"\n",
      "HTTP Request: POST https://api.openai.com/v1/chat/completions \"HTTP/1.1 200 OK\"\n",
      "HTTP Request: POST https://api.openai.com/v1/chat/completions \"HTTP/1.1 200 OK\"\n",
      "HTTP Request: POST https://api.openai.com/v1/chat/completions \"HTTP/1.1 200 OK\"\n",
      "HTTP Request: POST https://api.openai.com/v1/chat/completions \"HTTP/1.1 200 OK\"\n",
      "HTTP Request: POST https://api.openai.com/v1/chat/completions \"HTTP/1.1 200 OK\"\n"
     ]
    },
    {
     "name": "stderr",
     "output_type": "stream",
     "text": [
      " 60%|██████    | 6/10 [00:01<00:00,  4.59it/s]"
     ]
    },
    {
     "name": "stdout",
     "output_type": "stream",
     "text": [
      "HTTP Request: POST https://api.openai.com/v1/chat/completions \"HTTP/1.1 200 OK\"\n",
      "HTTP Request: POST https://api.openai.com/v1/chat/completions \"HTTP/1.1 200 OK\"\n",
      "HTTP Request: POST https://api.openai.com/v1/chat/completions \"HTTP/1.1 200 OK\"\n",
      "HTTP Request: POST https://api.openai.com/v1/chat/completions \"HTTP/1.1 200 OK\"\n"
     ]
    },
    {
     "name": "stderr",
     "output_type": "stream",
     "text": [
      " 90%|█████████ | 9/10 [00:01<00:00,  6.81it/s]"
     ]
    },
    {
     "name": "stdout",
     "output_type": "stream",
     "text": [
      "HTTP Request: POST https://api.openai.com/v1/chat/completions \"HTTP/1.1 200 OK\"\n",
      "HTTP Request: POST https://api.openai.com/v1/chat/completions \"HTTP/1.1 200 OK\"\n"
     ]
    },
    {
     "name": "stderr",
     "output_type": "stream",
     "text": [
      "100%|██████████| 10/10 [00:01<00:00,  5.29it/s]\n",
      "/Library/Frameworks/Python.framework/Versions/3.12/lib/python3.12/site-packages/llama_index/core/evaluation/dataset_generation.py:296: DeprecationWarning: Call to deprecated class QueryResponseDataset. (Deprecated in favor of `LabelledRagDataset` which should be used instead.)\n",
      "  return QueryResponseDataset(queries=queries, responses=responses_dict)\n"
     ]
    }
   ],
   "source": [
    "eval_dataset = datase_generator.generate_dataset_from_nodes(num=20)"
   ]
  },
  {
   "cell_type": "code",
   "execution_count": 43,
   "metadata": {},
   "outputs": [],
   "source": [
    "eval_queries = list(eval_dataset.queries.values())"
   ]
  },
  {
   "cell_type": "code",
   "execution_count": 44,
   "metadata": {},
   "outputs": [
    {
     "data": {
      "text/plain": [
       "['What were the two main things the author worked on before college?',\n",
       " \"Describe the author's experience with programming on the IBM 1401 in 9th grade.\",\n",
       " \"How did the author's experience with microcomputers differ from using the IBM 1401?\",\n",
       " \"What was the first microcomputer the author's friend built, and how did it impact the author?\",\n",
       " \"Why did the author's father eventually buy a TRS-80 computer?\",\n",
       " 'Why did the author initially plan to study philosophy in college?',\n",
       " 'What realization did the author come to about philosophy once in college?',\n",
       " 'What influenced the author to switch to studying AI in college?',\n",
       " \"What novel and documentary inspired the author's interest in AI?\",\n",
       " 'How did the author feel when reading \"The Moon is a Harsh Mistress\" by Heinlein?',\n",
       " 'What novel by Heinlein inspired the author to work on AI?',\n",
       " 'Why did the author decide to switch to AI from philosophy?',\n",
       " 'What programming language was commonly used in AI at the time?',\n",
       " \"What was the author's undergraduate thesis about?\",\n",
       " 'Why did the author realize that AI, as practiced at the time, was a hoax?',\n",
       " 'What did the author decide to focus on after realizing the limitations of traditional AI approaches?',\n",
       " 'What was the main reason people cared about Lisp at the time according to the author?',\n",
       " 'When was the author\\'s book \"On Lisp\" published?',\n",
       " \"What were the two things that initially sparked the author's interest in AI?\",\n",
       " \"How did the author's experience with Lisp influence his decision to write a book about Lisp hacking?\"]"
      ]
     },
     "execution_count": 44,
     "metadata": {},
     "output_type": "execute_result"
    }
   ],
   "source": [
    "(eval_queries)"
   ]
  },
  {
   "cell_type": "code",
   "execution_count": 45,
   "metadata": {},
   "outputs": [],
   "source": [
    "eval_query = 'How did the author describe their early attempts at writing short stories?'"
   ]
  },
  {
   "cell_type": "code",
   "execution_count": 46,
   "metadata": {},
   "outputs": [
    {
     "name": "stdout",
     "output_type": "stream",
     "text": [
      "HTTP Request: POST https://api.openai.com/v1/embeddings \"HTTP/1.1 200 OK\"\n",
      "HTTP Request: POST https://api.openai.com/v1/embeddings \"HTTP/1.1 200 OK\"\n"
     ]
    }
   ],
   "source": [
    "vector_index = VectorStoreIndex.from_documents(\n",
    "    documents, llm=llm\n",
    ")\n",
    "\n",
    "query_engine = vector_index.as_query_engine()"
   ]
  },
  {
   "cell_type": "code",
   "execution_count": 47,
   "metadata": {},
   "outputs": [
    {
     "name": "stdout",
     "output_type": "stream",
     "text": [
      "HTTP Request: POST https://api.openai.com/v1/embeddings \"HTTP/1.1 200 OK\"\n",
      "HTTP Request: POST https://api.openai.com/v1/embeddings \"HTTP/1.1 200 OK\"\n"
     ]
    }
   ],
   "source": [
    "retriever = vector_index.as_retriever(similarity_top=3)\n",
    "nodes = retriever.retrieve(eval_query)"
   ]
  },
  {
   "cell_type": "code",
   "execution_count": 48,
   "metadata": {},
   "outputs": [
    {
     "data": {
      "text/html": [
       "<p style=\"font-size:20px\">I remember taking the boys to the coast on a sunny day in 2015 and figuring out how to deal with some problem involving continuations while I watched them play in the tide pools. It felt like I was doing life right. I remember that because I was slightly dismayed at how novel it felt. The good news is that I had more moments like this over the next few years.\n",
       "\n",
       "In the summer of 2016 we moved to England. We wanted our kids to see what it was like living in another country, and since I was a British citizen by birth, that seemed the obvious choice. We only meant to stay for a year, but we liked it so much that we still live there. So most of Bel was written in England.\n",
       "\n",
       "In the fall of 2019, Bel was finally finished. Like McCarthy's original Lisp, it's a spec rather than an implementation, although like McCarthy's Lisp it's a spec expressed as code.\n",
       "\n",
       "Now that I could write essays again, I wrote a bunch about topics I'd had stacked up. I kept writing essays through 2020, but I also started to think about other things I could work on. How should I choose what to do? Well, how had I chosen what to work on in the past? I wrote an essay for myself to answer that question, and I was surprised how long and messy the answer turned out to be. If this surprised me, who'd lived it, then I thought perhaps it would be interesting to other people, and encouraging to those with similarly messy lives. So I wrote a more detailed version for others to read, and this is the last sentence of it.\n",
       "\n",
       "\n",
       "\n",
       "\n",
       "\n",
       "\n",
       "\n",
       "\n",
       "\n",
       "Notes\n",
       "\n",
       "[1] My experience skipped a step in the evolution of computers: time-sharing machines with interactive OSes. I went straight from batch processing to microcomputers, which made microcomputers seem all the more exciting.\n",
       "\n",
       "[2] Italian words for abstract concepts can nearly always be predicted from their English cognates (except for occasional traps like polluzione). It's the everyday words that differ. So if you string together a lot of abstract concepts with a few simple verbs, you can make a little Italian go a long way.\n",
       "\n",
       "[3] I lived at Piazza San Felice 4, so my walk to the Accademia went straight down the spine of old Florence: past the Pitti, across the bridge, past Orsanmichele, between the Duomo and the Baptistery, and then up Via Ricasoli to Piazza San Marco. I saw Florence at street level in every possible condition, from empty dark winter evenings to sweltering summer days when the streets were packed with tourists.\n",
       "\n",
       "[4] You can of course paint people like still lives if you want to, and they're willing. That sort of portrait is arguably the apex of still life painting, though the long sitting does tend to produce pained expressions in the sitters.\n",
       "\n",
       "[5] Interleaf was one of many companies that had smart people and built impressive technology, and yet got crushed by Moore's Law. In the 1990s the exponential growth in the power of commodity (i.e. Intel) processors rolled up high-end, special-purpose hardware and software companies like a bulldozer.\n",
       "\n",
       "[6] The signature style seekers at RISD weren't specifically mercenary. In the art world, money and coolness are tightly coupled. Anything expensive comes to be seen as cool, and anything seen as cool will soon become equally expensive.\n",
       "\n",
       "[7] Technically the apartment wasn't rent-controlled but rent-stabilized, but this is a refinement only New Yorkers would know or care about. The point is that it was really cheap, less than half market price.\n",
       "\n",
       "[8] Most software you can launch as soon as it's done. But when the software is an online store builder and you're hosting the stores, if you don't have any users yet, that fact will be painfully obvious. So before we could launch publicly we had to launch privately, in the sense of recruiting an initial set of users and making sure they had decent-looking stores.\n",
       "\n",
       "[9] We'd had a code editor in Viaweb for users to define their own page styles. They didn't know it, but they were editing Lisp expressions underneath. But this wasn't an app editor, because the code ran when the merchants' sites were generated, not when shoppers visited them.\n",
       "\n",
       "[10] This was the first instance of what is now a familiar experience, and so was what happened next, when I read the comments and found they were full of angry people. How could I claim that Lisp was better than other languages? Weren't they all Turing complete?</p>"
      ],
      "text/plain": [
       "<IPython.core.display.HTML object>"
      ]
     },
     "metadata": {},
     "output_type": "display_data"
    }
   ],
   "source": [
    "from IPython.display import display, HTML\n",
    "display(HTML(f'<p style=\"font-size:20px\">{nodes[1].get_text()}</p>'))"
   ]
  },
  {
   "cell_type": "markdown",
   "metadata": {},
   "source": [
    "### Faithfulness Evaluator"
   ]
  },
  {
   "cell_type": "code",
   "execution_count": 49,
   "metadata": {},
   "outputs": [],
   "source": [
    "faithfulness_evaluator = FaithfulnessEvaluator(llm=llm)"
   ]
  },
  {
   "cell_type": "code",
   "execution_count": 50,
   "metadata": {},
   "outputs": [
    {
     "name": "stdout",
     "output_type": "stream",
     "text": [
      "HTTP Request: POST https://api.openai.com/v1/embeddings \"HTTP/1.1 200 OK\"\n",
      "HTTP Request: POST https://api.openai.com/v1/embeddings \"HTTP/1.1 200 OK\"\n",
      "HTTP Request: POST https://api.openai.com/v1/chat/completions \"HTTP/1.1 200 OK\"\n",
      "HTTP Request: POST https://api.openai.com/v1/chat/completions \"HTTP/1.1 200 OK\"\n"
     ]
    }
   ],
   "source": [
    "response_vector = query_engine.query(eval_query)"
   ]
  },
  {
   "cell_type": "code",
   "execution_count": 51,
   "metadata": {},
   "outputs": [
    {
     "name": "stdout",
     "output_type": "stream",
     "text": [
      "HTTP Request: POST https://api.openai.com/v1/chat/completions \"HTTP/1.1 200 OK\"\n",
      "HTTP Request: POST https://api.openai.com/v1/chat/completions \"HTTP/1.1 200 OK\"\n"
     ]
    }
   ],
   "source": [
    "eval_result = faithfulness_evaluator.evaluate_response(response=response_vector)"
   ]
  },
  {
   "cell_type": "code",
   "execution_count": 52,
   "metadata": {},
   "outputs": [
    {
     "data": {
      "text/plain": [
       "True"
      ]
     },
     "execution_count": 52,
     "metadata": {},
     "output_type": "execute_result"
    }
   ],
   "source": [
    "eval_result.passing"
   ]
  },
  {
   "cell_type": "code",
   "execution_count": 53,
   "metadata": {},
   "outputs": [
    {
     "data": {
      "text/plain": [
       "EvaluationResult(query=None, contexts=['What I Worked On\\n\\nFebruary 2021\\n\\nBefore college the two main things I worked on, outside of school, were writing and programming. I didn\\'t write essays. I wrote what beginning writers were supposed to write then, and probably still are: short stories. My stories were awful. They had hardly any plot, just characters with strong feelings, which I imagined made them deep.\\n\\nThe first programs I tried writing were on the IBM 1401 that our school district used for what was then called \"data processing.\" This was in 9th grade, so I was 13 or 14. The school district\\'s 1401 happened to be in the basement of our junior high school, and my friend Rich Draves and I got permission to use it. It was like a mini Bond villain\\'s lair down there, with all these alien-looking machines — CPU, disk drives, printer, card reader — sitting up on a raised floor under bright fluorescent lights.\\n\\nThe language we used was an early version of Fortran. You had to type programs on punch cards, then stack them in the card reader and press a button to load the program into memory and run it. The result would ordinarily be to print something on the spectacularly loud printer.\\n\\nI was puzzled by the 1401. I couldn\\'t figure out what to do with it. And in retrospect there\\'s not much I could have done with it. The only form of input to programs was data stored on punched cards, and I didn\\'t have any data stored on punched cards. The only other option was to do things that didn\\'t rely on any input, like calculate approximations of pi, but I didn\\'t know enough math to do anything interesting of that type. So I\\'m not surprised I can\\'t remember any programs I wrote, because they can\\'t have done much. My clearest memory is of the moment I learned it was possible for programs not to terminate, when one of mine didn\\'t. On a machine without time-sharing, this was a social as well as a technical error, as the data center manager\\'s expression made clear.\\n\\nWith microcomputers, everything changed. Now you could have a computer sitting right in front of you, on a desk, that could respond to your keystrokes as it was running instead of just churning through a stack of punch cards and then stopping. [1]\\n\\nThe first of my friends to get a microcomputer built it himself. It was sold as a kit by Heathkit. I remember vividly how impressed and envious I felt watching him sitting in front of it, typing programs right into the computer.\\n\\nComputers were expensive in those days and it took me years of nagging before I convinced my father to buy one, a TRS-80, in about 1980. The gold standard then was the Apple II, but a TRS-80 was good enough. This was when I really started programming. I wrote simple games, a program to predict how high my model rockets would fly, and a word processor that my father used to write at least one book. There was only room in memory for about 2 pages of text, so he\\'d write 2 pages at a time and then print them out, but it was a lot better than a typewriter.\\n\\nThough I liked programming, I didn\\'t plan to study it in college. In college I was going to study philosophy, which sounded much more powerful. It seemed, to my naive high school self, to be the study of the ultimate truths, compared to which the things studied in other fields would be mere domain knowledge. What I discovered when I got to college was that the other fields took up so much of the space of ideas that there wasn\\'t much left for these supposed ultimate truths. All that seemed left for philosophy were edge cases that people in other fields felt could safely be ignored.\\n\\nI couldn\\'t have put this into words when I was 18. All I knew at the time was that I kept taking philosophy courses and they kept being boring. So I decided to switch to AI.\\n\\nAI was in the air in the mid 1980s, but there were two things especially that made me want to work on it: a novel by Heinlein called The Moon is a Harsh Mistress, which featured an intelligent computer called Mike, and a PBS documentary that showed Terry Winograd using SHRDLU. I haven\\'t tried rereading The Moon is a Harsh Mistress, so I don\\'t know how well it has aged, but when I read it I was drawn entirely into its world.', \"I remember taking the boys to the coast on a sunny day in 2015 and figuring out how to deal with some problem involving continuations while I watched them play in the tide pools. It felt like I was doing life right. I remember that because I was slightly dismayed at how novel it felt. The good news is that I had more moments like this over the next few years.\\n\\nIn the summer of 2016 we moved to England. We wanted our kids to see what it was like living in another country, and since I was a British citizen by birth, that seemed the obvious choice. We only meant to stay for a year, but we liked it so much that we still live there. So most of Bel was written in England.\\n\\nIn the fall of 2019, Bel was finally finished. Like McCarthy's original Lisp, it's a spec rather than an implementation, although like McCarthy's Lisp it's a spec expressed as code.\\n\\nNow that I could write essays again, I wrote a bunch about topics I'd had stacked up. I kept writing essays through 2020, but I also started to think about other things I could work on. How should I choose what to do? Well, how had I chosen what to work on in the past? I wrote an essay for myself to answer that question, and I was surprised how long and messy the answer turned out to be. If this surprised me, who'd lived it, then I thought perhaps it would be interesting to other people, and encouraging to those with similarly messy lives. So I wrote a more detailed version for others to read, and this is the last sentence of it.\\n\\n\\n\\n\\n\\n\\n\\n\\n\\nNotes\\n\\n[1] My experience skipped a step in the evolution of computers: time-sharing machines with interactive OSes. I went straight from batch processing to microcomputers, which made microcomputers seem all the more exciting.\\n\\n[2] Italian words for abstract concepts can nearly always be predicted from their English cognates (except for occasional traps like polluzione). It's the everyday words that differ. So if you string together a lot of abstract concepts with a few simple verbs, you can make a little Italian go a long way.\\n\\n[3] I lived at Piazza San Felice 4, so my walk to the Accademia went straight down the spine of old Florence: past the Pitti, across the bridge, past Orsanmichele, between the Duomo and the Baptistery, and then up Via Ricasoli to Piazza San Marco. I saw Florence at street level in every possible condition, from empty dark winter evenings to sweltering summer days when the streets were packed with tourists.\\n\\n[4] You can of course paint people like still lives if you want to, and they're willing. That sort of portrait is arguably the apex of still life painting, though the long sitting does tend to produce pained expressions in the sitters.\\n\\n[5] Interleaf was one of many companies that had smart people and built impressive technology, and yet got crushed by Moore's Law. In the 1990s the exponential growth in the power of commodity (i.e. Intel) processors rolled up high-end, special-purpose hardware and software companies like a bulldozer.\\n\\n[6] The signature style seekers at RISD weren't specifically mercenary. In the art world, money and coolness are tightly coupled. Anything expensive comes to be seen as cool, and anything seen as cool will soon become equally expensive.\\n\\n[7] Technically the apartment wasn't rent-controlled but rent-stabilized, but this is a refinement only New Yorkers would know or care about. The point is that it was really cheap, less than half market price.\\n\\n[8] Most software you can launch as soon as it's done. But when the software is an online store builder and you're hosting the stores, if you don't have any users yet, that fact will be painfully obvious. So before we could launch publicly we had to launch privately, in the sense of recruiting an initial set of users and making sure they had decent-looking stores.\\n\\n[9] We'd had a code editor in Viaweb for users to define their own page styles. They didn't know it, but they were editing Lisp expressions underneath. But this wasn't an app editor, because the code ran when the merchants' sites were generated, not when shoppers visited them.\\n\\n[10] This was the first instance of what is now a familiar experience, and so was what happened next, when I read the comments and found they were full of angry people. How could I claim that Lisp was better than other languages? Weren't they all Turing complete?\"], response='The author described their early attempts at writing short stories as lacking in plot, focusing mainly on characters with strong feelings that they believed made the stories deep.', passing=True, feedback='YES', score=1.0, pairwise_source=None, invalid_result=False, invalid_reason=None)"
      ]
     },
     "execution_count": 53,
     "metadata": {},
     "output_type": "execute_result"
    }
   ],
   "source": [
    "eval_result"
   ]
  },
  {
   "cell_type": "markdown",
   "metadata": {},
   "source": [
    "### Relevancy Evaluation"
   ]
  },
  {
   "cell_type": "code",
   "execution_count": 54,
   "metadata": {},
   "outputs": [],
   "source": [
    "relevancy_evaluator = RelevancyEvaluator(llm=llm)"
   ]
  },
  {
   "cell_type": "code",
   "execution_count": 55,
   "metadata": {},
   "outputs": [
    {
     "name": "stdout",
     "output_type": "stream",
     "text": [
      "HTTP Request: POST https://api.openai.com/v1/embeddings \"HTTP/1.1 200 OK\"\n",
      "HTTP Request: POST https://api.openai.com/v1/embeddings \"HTTP/1.1 200 OK\"\n",
      "HTTP Request: POST https://api.openai.com/v1/chat/completions \"HTTP/1.1 200 OK\"\n",
      "HTTP Request: POST https://api.openai.com/v1/chat/completions \"HTTP/1.1 200 OK\"\n",
      "HTTP Request: POST https://api.openai.com/v1/chat/completions \"HTTP/1.1 200 OK\"\n",
      "HTTP Request: POST https://api.openai.com/v1/chat/completions \"HTTP/1.1 200 OK\"\n"
     ]
    }
   ],
   "source": [
    "response_vector = query_engine.query(eval_query)\n",
    "\n",
    "eval_result = relevancy_evaluator.evaluate_response(\n",
    "    query=eval_query, response=response_vector\n",
    ")"
   ]
  },
  {
   "cell_type": "code",
   "execution_count": 56,
   "metadata": {},
   "outputs": [
    {
     "data": {
      "text/plain": [
       "'How did the author describe their early attempts at writing short stories?'"
      ]
     },
     "execution_count": 56,
     "metadata": {},
     "output_type": "execute_result"
    }
   ],
   "source": [
    "eval_result.query"
   ]
  },
  {
   "cell_type": "code",
   "execution_count": 57,
   "metadata": {},
   "outputs": [
    {
     "data": {
      "text/plain": [
       "'The author described their early attempts at writing short stories as lacking in plot, focusing more on characters with strong feelings which the author believed made the stories deep.'"
      ]
     },
     "execution_count": 57,
     "metadata": {},
     "output_type": "execute_result"
    }
   ],
   "source": [
    "eval_result.response"
   ]
  },
  {
   "cell_type": "code",
   "execution_count": 58,
   "metadata": {},
   "outputs": [
    {
     "data": {
      "text/plain": [
       "True"
      ]
     },
     "execution_count": 58,
     "metadata": {},
     "output_type": "execute_result"
    }
   ],
   "source": [
    "eval_result.passing"
   ]
  },
  {
   "cell_type": "markdown",
   "metadata": {},
   "source": [
    "### Relevancy Evaluation with multiple source nodes"
   ]
  },
  {
   "cell_type": "code",
   "execution_count": 59,
   "metadata": {},
   "outputs": [
    {
     "name": "stdout",
     "output_type": "stream",
     "text": [
      "HTTP Request: POST https://api.openai.com/v1/embeddings \"HTTP/1.1 200 OK\"\n",
      "HTTP Request: POST https://api.openai.com/v1/embeddings \"HTTP/1.1 200 OK\"\n",
      "HTTP Request: POST https://api.openai.com/v1/chat/completions \"HTTP/1.1 200 OK\"\n",
      "HTTP Request: POST https://api.openai.com/v1/chat/completions \"HTTP/1.1 200 OK\"\n",
      "HTTP Request: POST https://api.openai.com/v1/chat/completions \"HTTP/1.1 200 OK\"\n",
      "HTTP Request: POST https://api.openai.com/v1/chat/completions \"HTTP/1.1 200 OK\"\n",
      "HTTP Request: POST https://api.openai.com/v1/chat/completions \"HTTP/1.1 200 OK\"\n",
      "HTTP Request: POST https://api.openai.com/v1/chat/completions \"HTTP/1.1 200 OK\"\n",
      "HTTP Request: POST https://api.openai.com/v1/chat/completions \"HTTP/1.1 200 OK\"\n",
      "HTTP Request: POST https://api.openai.com/v1/chat/completions \"HTTP/1.1 200 OK\"\n"
     ]
    }
   ],
   "source": [
    "query_engine = vector_index.as_query_engine(similarity_top_k=3)\n",
    "\n",
    "response_vector = query_engine.query(eval_query)\n",
    "\n",
    "eval_source_result_full = [\n",
    "    relevancy_evaluator.evaluate(\n",
    "        query=eval_query,\n",
    "        response=response_vector.response,\n",
    "        contexts=[source_node.get_content()]\n",
    "    )\n",
    "    for source_node in response_vector.source_nodes\n",
    "]\n",
    "\n",
    "eval_source_result = [\n",
    "    \"Pass\" if result.passing else \"Fail\" for result in eval_source_result_full\n",
    "]"
   ]
  },
  {
   "cell_type": "code",
   "execution_count": 60,
   "metadata": {},
   "outputs": [
    {
     "data": {
      "text/plain": [
       "['Pass', 'Fail', 'Fail']"
      ]
     },
     "execution_count": 60,
     "metadata": {},
     "output_type": "execute_result"
    }
   ],
   "source": [
    "eval_source_result"
   ]
  },
  {
   "cell_type": "markdown",
   "metadata": {},
   "source": [
    "### Correctness Evaluator"
   ]
  },
  {
   "cell_type": "code",
   "execution_count": 61,
   "metadata": {},
   "outputs": [],
   "source": [
    "correctness_evaluator = CorrectnessEvaluator(llm=llm)"
   ]
  },
  {
   "cell_type": "code",
   "execution_count": 62,
   "metadata": {},
   "outputs": [
    {
     "name": "stdout",
     "output_type": "stream",
     "text": [
      "HTTP Request: POST https://api.openai.com/v1/embeddings \"HTTP/1.1 200 OK\"\n",
      "HTTP Request: POST https://api.openai.com/v1/embeddings \"HTTP/1.1 200 OK\"\n",
      "HTTP Request: POST https://api.openai.com/v1/chat/completions \"HTTP/1.1 200 OK\"\n",
      "HTTP Request: POST https://api.openai.com/v1/chat/completions \"HTTP/1.1 200 OK\"\n",
      "The theory of relativity, proposed by Albert Einstein, consists of two main parts: the special theory of relativity and the general theory of relativity.\n",
      "\n",
      "1. Special Theory of Relativity:\n",
      "   - The special theory of relativity, published by Einstein in 1905, revolutionized the understanding of space and time. It is based on two postulates:\n",
      "     a. The laws of physics are the same for all observers in uniform motion relative to each other.\n",
      "     b. The speed of light in a vacuum is constant and is the same for all observers, regardless of their motion or the motion of the source of light.\n",
      "   - The theory introduced the concept of spacetime, where space and time are interconnected and form a four-dimensional continuum.\n",
      "   - One of the key implications of the special theory of relativity is the equivalence of mass and energy, as described by the famous equation E=mc^2, where E is energy, m is mass, and c is the speed of light.\n",
      "   - The theory also predicts phenomena such as time dilation and length contraction, where time and space intervals change for observers moving at different speeds.\n",
      "\n",
      "2. General Theory of Relativity:\n",
      "   - The general theory of relativity, published by Einstein in 1915, extends the principles of the special theory to include gravity. It describes how mass and energy curve spacetime, affecting the motion of objects.\n",
      "   - According to the general theory of relativity, gravity is not a force but a curvature of spacetime caused by mass and energy. Objects move along curved paths in this curved spacetime, which we perceive as the force of gravity.\n",
      "   - The theory predicts phenomena such as gravitational time dilation, where time runs slower in stronger gravitational fields, and gravitational lensing, where light is bent by the curvature of spacetime around massive objects.\n",
      "   - General relativity has been confirmed through various experiments and observations, including the bending of starlight by the Sun during a solar eclipse and the detection of gravitational waves.\n",
      "\n",
      "Overall, the theory of relativity has had a profound impact on our understanding of the universe, space, time, and gravity, and it continues to shape modern physics and cosmology.\n"
     ]
    }
   ],
   "source": [
    "response = chat_engine.chat(\"Can you explain the theory of relativity proposed by Albert Einstein in detail?\")\n",
    "print(response)"
   ]
  },
  {
   "cell_type": "code",
   "execution_count": null,
   "metadata": {},
   "outputs": [],
   "source": [
    "query = (\n",
    "    \"Can you explain the theory of relativity proposed by Albert Einstein in detail?\"\n",
    ")\n",
    "\n",
    "reference = \"\"\"\n",
    "\n",
    "\"\"\""
   ]
  },
  {
   "cell_type": "markdown",
   "metadata": {},
   "source": [
    "## Retrieval Evaluation"
   ]
  },
  {
   "cell_type": "code",
   "execution_count": 63,
   "metadata": {},
   "outputs": [],
   "source": [
    "from llama_index.core.text_splitter import SentenceSplitter\n",
    "\n",
    "parser = SentenceSplitter(chunk_size=1024, chunk_overlap=100)\n",
    "nodes = parser(documents)"
   ]
  },
  {
   "cell_type": "code",
   "execution_count": 64,
   "metadata": {},
   "outputs": [
    {
     "name": "stdout",
     "output_type": "stream",
     "text": [
      "HTTP Request: POST https://api.openai.com/v1/embeddings \"HTTP/1.1 200 OK\"\n",
      "HTTP Request: POST https://api.openai.com/v1/embeddings \"HTTP/1.1 200 OK\"\n"
     ]
    }
   ],
   "source": [
    "vector_index = VectorStoreIndex(nodes)"
   ]
  },
  {
   "cell_type": "code",
   "execution_count": 65,
   "metadata": {},
   "outputs": [],
   "source": [
    "retriever = vector_index.as_retriever(similarity_top_k=2)"
   ]
  },
  {
   "cell_type": "code",
   "execution_count": 66,
   "metadata": {},
   "outputs": [
    {
     "name": "stdout",
     "output_type": "stream",
     "text": [
      "HTTP Request: POST https://api.openai.com/v1/embeddings \"HTTP/1.1 200 OK\"\n",
      "HTTP Request: POST https://api.openai.com/v1/embeddings \"HTTP/1.1 200 OK\"\n"
     ]
    }
   ],
   "source": [
    "retrieved_nodes = retriever.retrieve(eval_query)"
   ]
  },
  {
   "cell_type": "code",
   "execution_count": 67,
   "metadata": {},
   "outputs": [
    {
     "data": {
      "text/markdown": [
       "**Node ID:** f4390815-0376-40f4-99b9-fb26164e5bd8<br>**Similarity:** 0.8364170196316774<br>**Text:** What I Worked On\n",
       "\n",
       "February 2021\n",
       "\n",
       "Before college the two main things I worked on, outside of school, were writing and programming. I didn't write essays. I wrote what beginning writers were supposed to write then, and probably still are: short stories. My stories were awful. They had hardly any plot, just characters with strong feelings, which I imagined made them deep.\n",
       "\n",
       "The first programs I tried writing were on the IBM 1401 that our school district used for what was then called \"data processing.\" This was in 9th grade, so I was 13 or 14. The school district's 1401 happened to be in the basement of our junior high school, and my friend Rich Draves and I got permission to use it. It was like a mini Bond villain's lair down there, with all these alien-looking machines — CPU, disk drives, printer, card reader — sitting up on a raised floor under bright fluorescent lights.\n",
       "\n",
       "The language we used was an early version of Fortran. You had to type programs on punch cards, then stack them in the card reader and press a button to load the program into memory and run it. The result would ordinarily be to print something on the spectacularly loud printer.\n",
       "\n",
       "I was puzzled by the 1401. I couldn't figure out what to do with it. And in retrospect there's not much I could have done with it. The only form of input to programs was data stored on punched cards, and I didn't have any data stored on punched cards. The only other option was to do things that didn't rely on any input, like calculate approximations of pi, but I didn't know enough math to do anything interesting of that type. So I'm not surprised I can't remember any programs I wrote, because they can't have done much. My clearest memory is of the moment I learned it was possible for programs not to terminate, when one of mine didn't. On a machine without time-sharing, this was a social as well as a technical error, as the data center manager's expression made clear.\n",
       "\n",
       "With microcomputers, everything changed. Now you could h...<br>"
      ],
      "text/plain": [
       "<IPython.core.display.Markdown object>"
      ]
     },
     "metadata": {},
     "output_type": "display_data"
    },
    {
     "data": {
      "text/markdown": [
       "**Node ID:** 48347b22-fe8e-4989-a8f4-f02456f32072<br>**Similarity:** 0.8328617552930265<br>**Text:** In one day it got 30,000 page views. What on earth had happened? The referring urls showed that someone had posted it on Slashdot. [10]\n",
       "\n",
       "Wow, I thought, there's an audience. If I write something and put it on the web, anyone can read it. That may seem obvious now, but it was surprising then. In the print era there was a narrow channel to readers, guarded by fierce monsters known as editors. The only way to get an audience for anything you wrote was to get it published as a book, or in a newspaper or magazine. Now anyone could publish anything.\n",
       "\n",
       "This had been possible in principle since 1993, but not many people had realized it yet. I had been intimately involved with building the infrastructure of the web for most of that time, and a writer as well, and it had taken me 8 years to realize it. Even then it took me several years to understand the implications. It meant there would be a whole new generation of essays. [11]\n",
       "\n",
       "In the print era, the channel for publishing essays had been vanishingly small. Except for a few officially anointed thinkers who went to the right parties in New York, the only people allowed to publish essays were specialists writing about their specialties. There were so many essays that had never been written, because there had been no way to publish them. Now they could be, and I was going to write them. [12]\n",
       "\n",
       "I've worked on several different things, but to the extent there was a turning point where I figured out what to work on, it was when I started publishing essays online. From then on I knew that whatever else I did, I'd always write essays too.\n",
       "\n",
       "I knew that online essays would be a marginal medium at first. Socially they'd seem more like rants posted by nutjobs on their GeoCities sites than the genteel and beautifully typeset compositions published in The New Yorker. But by this point I knew enough to find that encouraging instead of discouraging.\n",
       "\n",
       "One of the most conspicuous patterns I've noticed in my life is how well it has worked, f...<br>"
      ],
      "text/plain": [
       "<IPython.core.display.Markdown object>"
      ]
     },
     "metadata": {},
     "output_type": "display_data"
    }
   ],
   "source": [
    "from llama_index.core.response.notebook_utils import display_source_node\n",
    "\n",
    "for node in retrieved_nodes:\n",
    "    display_source_node(node, source_length=2000)"
   ]
  },
  {
   "cell_type": "code",
   "execution_count": 68,
   "metadata": {},
   "outputs": [
    {
     "name": "stderr",
     "output_type": "stream",
     "text": [
      "  0%|          | 0/19 [00:00<?, ?it/s]"
     ]
    },
    {
     "name": "stdout",
     "output_type": "stream",
     "text": [
      "HTTP Request: POST https://api.openai.com/v1/chat/completions \"HTTP/1.1 200 OK\"\n",
      "HTTP Request: POST https://api.openai.com/v1/chat/completions \"HTTP/1.1 200 OK\"\n"
     ]
    },
    {
     "name": "stderr",
     "output_type": "stream",
     "text": [
      "  5%|▌         | 1/19 [00:04<01:28,  4.90s/it]"
     ]
    },
    {
     "name": "stdout",
     "output_type": "stream",
     "text": [
      "HTTP Request: POST https://api.openai.com/v1/chat/completions \"HTTP/1.1 200 OK\"\n",
      "HTTP Request: POST https://api.openai.com/v1/chat/completions \"HTTP/1.1 200 OK\"\n"
     ]
    },
    {
     "name": "stderr",
     "output_type": "stream",
     "text": [
      " 11%|█         | 2/19 [00:06<00:50,  2.99s/it]"
     ]
    },
    {
     "name": "stdout",
     "output_type": "stream",
     "text": [
      "HTTP Request: POST https://api.openai.com/v1/chat/completions \"HTTP/1.1 200 OK\"\n",
      "HTTP Request: POST https://api.openai.com/v1/chat/completions \"HTTP/1.1 200 OK\"\n"
     ]
    },
    {
     "name": "stderr",
     "output_type": "stream",
     "text": [
      " 16%|█▌        | 3/19 [00:07<00:36,  2.26s/it]"
     ]
    },
    {
     "name": "stdout",
     "output_type": "stream",
     "text": [
      "HTTP Request: POST https://api.openai.com/v1/chat/completions \"HTTP/1.1 200 OK\"\n",
      "HTTP Request: POST https://api.openai.com/v1/chat/completions \"HTTP/1.1 200 OK\"\n"
     ]
    },
    {
     "name": "stderr",
     "output_type": "stream",
     "text": [
      " 21%|██        | 4/19 [00:09<00:29,  2.00s/it]"
     ]
    },
    {
     "name": "stdout",
     "output_type": "stream",
     "text": [
      "HTTP Request: POST https://api.openai.com/v1/chat/completions \"HTTP/1.1 200 OK\"\n",
      "HTTP Request: POST https://api.openai.com/v1/chat/completions \"HTTP/1.1 200 OK\"\n"
     ]
    },
    {
     "name": "stderr",
     "output_type": "stream",
     "text": [
      " 26%|██▋       | 5/19 [00:10<00:24,  1.77s/it]"
     ]
    },
    {
     "name": "stdout",
     "output_type": "stream",
     "text": [
      "HTTP Request: POST https://api.openai.com/v1/chat/completions \"HTTP/1.1 200 OK\"\n",
      "HTTP Request: POST https://api.openai.com/v1/chat/completions \"HTTP/1.1 200 OK\"\n"
     ]
    },
    {
     "name": "stderr",
     "output_type": "stream",
     "text": [
      " 32%|███▏      | 6/19 [00:12<00:22,  1.71s/it]"
     ]
    },
    {
     "name": "stdout",
     "output_type": "stream",
     "text": [
      "HTTP Request: POST https://api.openai.com/v1/chat/completions \"HTTP/1.1 200 OK\"\n",
      "HTTP Request: POST https://api.openai.com/v1/chat/completions \"HTTP/1.1 200 OK\"\n"
     ]
    },
    {
     "name": "stderr",
     "output_type": "stream",
     "text": [
      " 37%|███▋      | 7/19 [00:13<00:19,  1.62s/it]"
     ]
    },
    {
     "name": "stdout",
     "output_type": "stream",
     "text": [
      "HTTP Request: POST https://api.openai.com/v1/chat/completions \"HTTP/1.1 200 OK\"\n",
      "HTTP Request: POST https://api.openai.com/v1/chat/completions \"HTTP/1.1 200 OK\"\n"
     ]
    },
    {
     "name": "stderr",
     "output_type": "stream",
     "text": [
      " 42%|████▏     | 8/19 [00:16<00:21,  1.95s/it]"
     ]
    },
    {
     "name": "stdout",
     "output_type": "stream",
     "text": [
      "HTTP Request: POST https://api.openai.com/v1/chat/completions \"HTTP/1.1 200 OK\"\n",
      "HTTP Request: POST https://api.openai.com/v1/chat/completions \"HTTP/1.1 200 OK\"\n"
     ]
    },
    {
     "name": "stderr",
     "output_type": "stream",
     "text": [
      " 47%|████▋     | 9/19 [00:18<00:19,  1.95s/it]"
     ]
    },
    {
     "name": "stdout",
     "output_type": "stream",
     "text": [
      "HTTP Request: POST https://api.openai.com/v1/chat/completions \"HTTP/1.1 200 OK\"\n",
      "HTTP Request: POST https://api.openai.com/v1/chat/completions \"HTTP/1.1 200 OK\"\n"
     ]
    },
    {
     "name": "stderr",
     "output_type": "stream",
     "text": [
      " 53%|█████▎    | 10/19 [00:19<00:15,  1.73s/it]"
     ]
    },
    {
     "name": "stdout",
     "output_type": "stream",
     "text": [
      "HTTP Request: POST https://api.openai.com/v1/chat/completions \"HTTP/1.1 200 OK\"\n",
      "HTTP Request: POST https://api.openai.com/v1/chat/completions \"HTTP/1.1 200 OK\"\n"
     ]
    },
    {
     "name": "stderr",
     "output_type": "stream",
     "text": [
      " 58%|█████▊    | 11/19 [00:23<00:19,  2.43s/it]"
     ]
    },
    {
     "name": "stdout",
     "output_type": "stream",
     "text": [
      "HTTP Request: POST https://api.openai.com/v1/chat/completions \"HTTP/1.1 200 OK\"\n",
      "HTTP Request: POST https://api.openai.com/v1/chat/completions \"HTTP/1.1 200 OK\"\n"
     ]
    },
    {
     "name": "stderr",
     "output_type": "stream",
     "text": [
      " 63%|██████▎   | 12/19 [00:25<00:14,  2.08s/it]"
     ]
    },
    {
     "name": "stdout",
     "output_type": "stream",
     "text": [
      "HTTP Request: POST https://api.openai.com/v1/chat/completions \"HTTP/1.1 200 OK\"\n",
      "HTTP Request: POST https://api.openai.com/v1/chat/completions \"HTTP/1.1 200 OK\"\n"
     ]
    },
    {
     "name": "stderr",
     "output_type": "stream",
     "text": [
      " 68%|██████▊   | 13/19 [00:26<00:11,  1.90s/it]"
     ]
    },
    {
     "name": "stdout",
     "output_type": "stream",
     "text": [
      "HTTP Request: POST https://api.openai.com/v1/chat/completions \"HTTP/1.1 200 OK\"\n",
      "HTTP Request: POST https://api.openai.com/v1/chat/completions \"HTTP/1.1 200 OK\"\n"
     ]
    },
    {
     "name": "stderr",
     "output_type": "stream",
     "text": [
      " 74%|███████▎  | 14/19 [00:28<00:09,  1.98s/it]"
     ]
    },
    {
     "name": "stdout",
     "output_type": "stream",
     "text": [
      "HTTP Request: POST https://api.openai.com/v1/chat/completions \"HTTP/1.1 200 OK\"\n",
      "HTTP Request: POST https://api.openai.com/v1/chat/completions \"HTTP/1.1 200 OK\"\n"
     ]
    },
    {
     "name": "stderr",
     "output_type": "stream",
     "text": [
      " 79%|███████▉  | 15/19 [00:29<00:07,  1.77s/it]"
     ]
    },
    {
     "name": "stdout",
     "output_type": "stream",
     "text": [
      "HTTP Request: POST https://api.openai.com/v1/chat/completions \"HTTP/1.1 200 OK\"\n",
      "HTTP Request: POST https://api.openai.com/v1/chat/completions \"HTTP/1.1 200 OK\"\n"
     ]
    },
    {
     "name": "stderr",
     "output_type": "stream",
     "text": [
      " 84%|████████▍ | 16/19 [00:31<00:05,  1.75s/it]"
     ]
    },
    {
     "name": "stdout",
     "output_type": "stream",
     "text": [
      "HTTP Request: POST https://api.openai.com/v1/chat/completions \"HTTP/1.1 200 OK\"\n",
      "HTTP Request: POST https://api.openai.com/v1/chat/completions \"HTTP/1.1 200 OK\"\n"
     ]
    },
    {
     "name": "stderr",
     "output_type": "stream",
     "text": [
      " 89%|████████▉ | 17/19 [00:33<00:03,  1.68s/it]"
     ]
    },
    {
     "name": "stdout",
     "output_type": "stream",
     "text": [
      "HTTP Request: POST https://api.openai.com/v1/chat/completions \"HTTP/1.1 200 OK\"\n",
      "HTTP Request: POST https://api.openai.com/v1/chat/completions \"HTTP/1.1 200 OK\"\n"
     ]
    },
    {
     "name": "stderr",
     "output_type": "stream",
     "text": [
      " 95%|█████████▍| 18/19 [00:34<00:01,  1.55s/it]"
     ]
    },
    {
     "name": "stdout",
     "output_type": "stream",
     "text": [
      "HTTP Request: POST https://api.openai.com/v1/chat/completions \"HTTP/1.1 200 OK\"\n",
      "HTTP Request: POST https://api.openai.com/v1/chat/completions \"HTTP/1.1 200 OK\"\n"
     ]
    },
    {
     "name": "stderr",
     "output_type": "stream",
     "text": [
      "100%|██████████| 19/19 [00:35<00:00,  1.89s/it]\n"
     ]
    }
   ],
   "source": [
    "qa_dataset = generate_question_context_pairs(nodes, llm=llm, num_questions_per_chunk=2)"
   ]
  },
  {
   "cell_type": "code",
   "execution_count": 70,
   "metadata": {},
   "outputs": [
    {
     "name": "stdout",
     "output_type": "stream",
     "text": [
      "Describe the author's decision-making process and actions that led to them completing their dissertation in a short period of time in April 1990.\n"
     ]
    }
   ],
   "source": [
    "queries = qa_dataset.queries.values()\n",
    "print(list(queries)[5])"
   ]
  },
  {
   "cell_type": "code",
   "execution_count": 71,
   "metadata": {},
   "outputs": [
    {
     "data": {
      "text/plain": [
       "38"
      ]
     },
     "execution_count": 71,
     "metadata": {},
     "output_type": "execute_result"
    }
   ],
   "source": [
    "len(list(queries))"
   ]
  },
  {
   "cell_type": "code",
   "execution_count": 72,
   "metadata": {},
   "outputs": [],
   "source": [
    "retriever_evaluator = RetrieverEvaluator.from_metric_names(\n",
    "    [\"mrr\", \"hit_rate\"], retriever=retriever\n",
    ")"
   ]
  },
  {
   "cell_type": "code",
   "execution_count": 73,
   "metadata": {},
   "outputs": [
    {
     "name": "stdout",
     "output_type": "stream",
     "text": [
      "HTTP Request: POST https://api.openai.com/v1/embeddings \"HTTP/1.1 200 OK\"\n",
      "HTTP Request: POST https://api.openai.com/v1/embeddings \"HTTP/1.1 200 OK\"\n",
      "Query: How did the transition from using the IBM 1401 to microcomputers change the author's experience with programming? Provide specific examples from the text to support your answer.\n",
      "Metrics: {'mrr': 1.0, 'hit_rate': 1.0}\n",
      "\n"
     ]
    }
   ],
   "source": [
    "sample_id, sample_query = list(qa_dataset.queries.items())[0]\n",
    "sample_expected = qa_dataset.relevant_docs[sample_id]\n",
    "\n",
    "eval_result = retriever_evaluator.evaluate(sample_query, sample_expected)\n",
    "print(eval_result)"
   ]
  },
  {
   "cell_type": "code",
   "execution_count": 74,
   "metadata": {},
   "outputs": [
    {
     "name": "stdout",
     "output_type": "stream",
     "text": [
      "HTTP Request: POST https://api.openai.com/v1/embeddings \"HTTP/1.1 200 OK\"\n",
      "HTTP Request: POST https://api.openai.com/v1/embeddings \"HTTP/1.1 200 OK\"\n",
      "HTTP Request: POST https://api.openai.com/v1/embeddings \"HTTP/1.1 200 OK\"\n",
      "HTTP Request: POST https://api.openai.com/v1/embeddings \"HTTP/1.1 200 OK\"\n",
      "HTTP Request: POST https://api.openai.com/v1/embeddings \"HTTP/1.1 200 OK\"\n",
      "HTTP Request: POST https://api.openai.com/v1/embeddings \"HTTP/1.1 200 OK\"\n",
      "HTTP Request: POST https://api.openai.com/v1/embeddings \"HTTP/1.1 200 OK\"\n",
      "HTTP Request: POST https://api.openai.com/v1/embeddings \"HTTP/1.1 200 OK\"\n",
      "HTTP Request: POST https://api.openai.com/v1/embeddings \"HTTP/1.1 200 OK\"\n",
      "HTTP Request: POST https://api.openai.com/v1/embeddings \"HTTP/1.1 200 OK\"\n",
      "HTTP Request: POST https://api.openai.com/v1/embeddings \"HTTP/1.1 200 OK\"\n",
      "HTTP Request: POST https://api.openai.com/v1/embeddings \"HTTP/1.1 200 OK\"\n",
      "HTTP Request: POST https://api.openai.com/v1/embeddings \"HTTP/1.1 200 OK\"\n",
      "HTTP Request: POST https://api.openai.com/v1/embeddings \"HTTP/1.1 200 OK\"\n",
      "HTTP Request: POST https://api.openai.com/v1/embeddings \"HTTP/1.1 200 OK\"\n",
      "HTTP Request: POST https://api.openai.com/v1/embeddings \"HTTP/1.1 200 OK\"\n",
      "HTTP Request: POST https://api.openai.com/v1/embeddings \"HTTP/1.1 200 OK\"\n",
      "HTTP Request: POST https://api.openai.com/v1/embeddings \"HTTP/1.1 200 OK\"\n",
      "HTTP Request: POST https://api.openai.com/v1/embeddings \"HTTP/1.1 200 OK\"\n",
      "HTTP Request: POST https://api.openai.com/v1/embeddings \"HTTP/1.1 200 OK\"\n",
      "HTTP Request: POST https://api.openai.com/v1/embeddings \"HTTP/1.1 200 OK\"\n",
      "HTTP Request: POST https://api.openai.com/v1/embeddings \"HTTP/1.1 200 OK\"\n",
      "HTTP Request: POST https://api.openai.com/v1/embeddings \"HTTP/1.1 200 OK\"\n",
      "HTTP Request: POST https://api.openai.com/v1/embeddings \"HTTP/1.1 200 OK\"\n",
      "HTTP Request: POST https://api.openai.com/v1/embeddings \"HTTP/1.1 200 OK\"\n",
      "HTTP Request: POST https://api.openai.com/v1/embeddings \"HTTP/1.1 200 OK\"\n",
      "HTTP Request: POST https://api.openai.com/v1/embeddings \"HTTP/1.1 200 OK\"\n",
      "HTTP Request: POST https://api.openai.com/v1/embeddings \"HTTP/1.1 200 OK\"\n",
      "HTTP Request: POST https://api.openai.com/v1/embeddings \"HTTP/1.1 200 OK\"\n",
      "HTTP Request: POST https://api.openai.com/v1/embeddings \"HTTP/1.1 200 OK\"\n",
      "HTTP Request: POST https://api.openai.com/v1/embeddings \"HTTP/1.1 200 OK\"\n",
      "HTTP Request: POST https://api.openai.com/v1/embeddings \"HTTP/1.1 200 OK\"\n",
      "HTTP Request: POST https://api.openai.com/v1/embeddings \"HTTP/1.1 200 OK\"\n",
      "HTTP Request: POST https://api.openai.com/v1/embeddings \"HTTP/1.1 200 OK\"\n",
      "HTTP Request: POST https://api.openai.com/v1/embeddings \"HTTP/1.1 200 OK\"\n",
      "HTTP Request: POST https://api.openai.com/v1/embeddings \"HTTP/1.1 200 OK\"\n",
      "HTTP Request: POST https://api.openai.com/v1/embeddings \"HTTP/1.1 200 OK\"\n",
      "HTTP Request: POST https://api.openai.com/v1/embeddings \"HTTP/1.1 200 OK\"\n",
      "HTTP Request: POST https://api.openai.com/v1/embeddings \"HTTP/1.1 200 OK\"\n",
      "HTTP Request: POST https://api.openai.com/v1/embeddings \"HTTP/1.1 200 OK\"\n",
      "HTTP Request: POST https://api.openai.com/v1/embeddings \"HTTP/1.1 200 OK\"\n",
      "HTTP Request: POST https://api.openai.com/v1/embeddings \"HTTP/1.1 200 OK\"\n",
      "HTTP Request: POST https://api.openai.com/v1/embeddings \"HTTP/1.1 200 OK\"\n",
      "HTTP Request: POST https://api.openai.com/v1/embeddings \"HTTP/1.1 200 OK\"\n",
      "HTTP Request: POST https://api.openai.com/v1/embeddings \"HTTP/1.1 200 OK\"\n",
      "HTTP Request: POST https://api.openai.com/v1/embeddings \"HTTP/1.1 200 OK\"\n",
      "HTTP Request: POST https://api.openai.com/v1/embeddings \"HTTP/1.1 200 OK\"\n",
      "HTTP Request: POST https://api.openai.com/v1/embeddings \"HTTP/1.1 200 OK\"\n",
      "HTTP Request: POST https://api.openai.com/v1/embeddings \"HTTP/1.1 200 OK\"\n",
      "HTTP Request: POST https://api.openai.com/v1/embeddings \"HTTP/1.1 200 OK\"\n",
      "HTTP Request: POST https://api.openai.com/v1/embeddings \"HTTP/1.1 200 OK\"\n",
      "HTTP Request: POST https://api.openai.com/v1/embeddings \"HTTP/1.1 200 OK\"\n",
      "HTTP Request: POST https://api.openai.com/v1/embeddings \"HTTP/1.1 200 OK\"\n",
      "HTTP Request: POST https://api.openai.com/v1/embeddings \"HTTP/1.1 200 OK\"\n",
      "HTTP Request: POST https://api.openai.com/v1/embeddings \"HTTP/1.1 200 OK\"\n",
      "HTTP Request: POST https://api.openai.com/v1/embeddings \"HTTP/1.1 200 OK\"\n",
      "HTTP Request: POST https://api.openai.com/v1/embeddings \"HTTP/1.1 200 OK\"\n",
      "HTTP Request: POST https://api.openai.com/v1/embeddings \"HTTP/1.1 200 OK\"\n",
      "HTTP Request: POST https://api.openai.com/v1/embeddings \"HTTP/1.1 200 OK\"\n",
      "HTTP Request: POST https://api.openai.com/v1/embeddings \"HTTP/1.1 200 OK\"\n",
      "HTTP Request: POST https://api.openai.com/v1/embeddings \"HTTP/1.1 200 OK\"\n",
      "HTTP Request: POST https://api.openai.com/v1/embeddings \"HTTP/1.1 200 OK\"\n",
      "HTTP Request: POST https://api.openai.com/v1/embeddings \"HTTP/1.1 200 OK\"\n",
      "HTTP Request: POST https://api.openai.com/v1/embeddings \"HTTP/1.1 200 OK\"\n",
      "HTTP Request: POST https://api.openai.com/v1/embeddings \"HTTP/1.1 200 OK\"\n",
      "HTTP Request: POST https://api.openai.com/v1/embeddings \"HTTP/1.1 200 OK\"\n",
      "HTTP Request: POST https://api.openai.com/v1/embeddings \"HTTP/1.1 200 OK\"\n",
      "HTTP Request: POST https://api.openai.com/v1/embeddings \"HTTP/1.1 200 OK\"\n",
      "HTTP Request: POST https://api.openai.com/v1/embeddings \"HTTP/1.1 200 OK\"\n",
      "HTTP Request: POST https://api.openai.com/v1/embeddings \"HTTP/1.1 200 OK\"\n",
      "HTTP Request: POST https://api.openai.com/v1/embeddings \"HTTP/1.1 200 OK\"\n",
      "HTTP Request: POST https://api.openai.com/v1/embeddings \"HTTP/1.1 200 OK\"\n",
      "HTTP Request: POST https://api.openai.com/v1/embeddings \"HTTP/1.1 200 OK\"\n",
      "HTTP Request: POST https://api.openai.com/v1/embeddings \"HTTP/1.1 200 OK\"\n",
      "HTTP Request: POST https://api.openai.com/v1/embeddings \"HTTP/1.1 200 OK\"\n",
      "HTTP Request: POST https://api.openai.com/v1/embeddings \"HTTP/1.1 200 OK\"\n"
     ]
    }
   ],
   "source": [
    "eval_results = await retriever_evaluator.aevaluate_dataset(qa_dataset)"
   ]
  },
  {
   "cell_type": "code",
   "execution_count": 78,
   "metadata": {},
   "outputs": [],
   "source": [
    "def display_results(name, eval_results):\n",
    "    \"\"\"Display results from evaluate.\"\"\"\n",
    "    \n",
    "    metric_dicts = []\n",
    "    for eval_result in eval_results:\n",
    "        metric_dict = eval_result.metric_vals_dict\n",
    "        metric_dicts.append(metric_dict)\n",
    "        \n",
    "    full_df = pd.DataFrame(metric_dicts)\n",
    "    \n",
    "    hit_rate = full_df[\"hit_rate\"].mean()\n",
    "    mrr = full_df[\"mrr\"].mean()\n",
    "    \n",
    "    metric_df = pd.DataFrame(\n",
    "        {\"retrievers\": [name], \"hit_rate\":[hit_rate], \"mrr\":[mrr]}\n",
    "    )\n",
    "    \n",
    "    return metric_df"
   ]
  },
  {
   "cell_type": "code",
   "execution_count": 79,
   "metadata": {},
   "outputs": [
    {
     "data": {
      "text/html": [
       "<div>\n",
       "<style scoped>\n",
       "    .dataframe tbody tr th:only-of-type {\n",
       "        vertical-align: middle;\n",
       "    }\n",
       "\n",
       "    .dataframe tbody tr th {\n",
       "        vertical-align: top;\n",
       "    }\n",
       "\n",
       "    .dataframe thead th {\n",
       "        text-align: right;\n",
       "    }\n",
       "</style>\n",
       "<table border=\"1\" class=\"dataframe\">\n",
       "  <thead>\n",
       "    <tr style=\"text-align: right;\">\n",
       "      <th></th>\n",
       "      <th>retrievers</th>\n",
       "      <th>hit_rate</th>\n",
       "      <th>mrr</th>\n",
       "    </tr>\n",
       "  </thead>\n",
       "  <tbody>\n",
       "    <tr>\n",
       "      <th>0</th>\n",
       "      <td>top-2 eval</td>\n",
       "      <td>0.815789</td>\n",
       "      <td>0.710526</td>\n",
       "    </tr>\n",
       "  </tbody>\n",
       "</table>\n",
       "</div>"
      ],
      "text/plain": [
       "   retrievers  hit_rate       mrr\n",
       "0  top-2 eval  0.815789  0.710526"
      ]
     },
     "execution_count": 79,
     "metadata": {},
     "output_type": "execute_result"
    }
   ],
   "source": [
    "display_results(\"top-2 eval\", eval_results)"
   ]
  },
  {
   "cell_type": "markdown",
   "metadata": {},
   "source": [
    "## Metadata Extraction"
   ]
  },
  {
   "cell_type": "code",
   "execution_count": 80,
   "metadata": {},
   "outputs": [
    {
     "name": "stdout",
     "output_type": "stream",
     "text": [
      "Collecting llama_index-readers-web\n",
      "  Downloading llama_index_readers_web-0.1.23-py3-none-any.whl.metadata (1.2 kB)\n",
      "Requirement already satisfied: aiohttp<4.0.0,>=3.9.1 in /Library/Frameworks/Python.framework/Versions/3.12/lib/python3.12/site-packages (from llama_index-readers-web) (3.10.0)\n",
      "Requirement already satisfied: beautifulsoup4<5.0.0,>=4.12.3 in /Library/Frameworks/Python.framework/Versions/3.12/lib/python3.12/site-packages (from llama_index-readers-web) (4.12.3)\n",
      "Collecting chromedriver-autoinstaller<0.7.0,>=0.6.3 (from llama_index-readers-web)\n",
      "  Downloading chromedriver_autoinstaller-0.6.4-py3-none-any.whl.metadata (2.1 kB)\n",
      "Requirement already satisfied: html2text<2025.0.0,>=2024.2.26 in /Library/Frameworks/Python.framework/Versions/3.12/lib/python3.12/site-packages (from llama_index-readers-web) (2024.2.26)\n",
      "Requirement already satisfied: llama-index-core<0.11.0,>=0.10.1 in /Library/Frameworks/Python.framework/Versions/3.12/lib/python3.12/site-packages (from llama_index-readers-web) (0.10.64)\n",
      "Collecting newspaper3k<0.3.0,>=0.2.8 (from llama_index-readers-web)\n",
      "  Downloading newspaper3k-0.2.8-py3-none-any.whl.metadata (11 kB)\n",
      "Collecting playwright<2.0,>=1.30 (from llama_index-readers-web)\n",
      "  Downloading playwright-1.46.0-py3-none-macosx_11_0_arm64.whl.metadata (3.5 kB)\n",
      "Requirement already satisfied: requests<3.0.0,>=2.31.0 in /Library/Frameworks/Python.framework/Versions/3.12/lib/python3.12/site-packages (from llama_index-readers-web) (2.32.3)\n",
      "Collecting selenium<5.0.0,>=4.17.2 (from llama_index-readers-web)\n",
      "  Downloading selenium-4.23.1-py3-none-any.whl.metadata (7.1 kB)\n",
      "Collecting spider-client<0.0.28,>=0.0.27 (from llama_index-readers-web)\n",
      "  Downloading spider-client-0.0.27.tar.gz (5.8 kB)\n",
      "  Preparing metadata (setup.py) ... \u001b[?25ldone\n",
      "\u001b[?25hRequirement already satisfied: urllib3>=1.1.0 in /Library/Frameworks/Python.framework/Versions/3.12/lib/python3.12/site-packages (from llama_index-readers-web) (2.2.1)\n",
      "Requirement already satisfied: aiohappyeyeballs>=2.3.0 in /Library/Frameworks/Python.framework/Versions/3.12/lib/python3.12/site-packages (from aiohttp<4.0.0,>=3.9.1->llama_index-readers-web) (2.3.4)\n",
      "Requirement already satisfied: aiosignal>=1.1.2 in /Library/Frameworks/Python.framework/Versions/3.12/lib/python3.12/site-packages (from aiohttp<4.0.0,>=3.9.1->llama_index-readers-web) (1.3.1)\n",
      "Requirement already satisfied: attrs>=17.3.0 in /Library/Frameworks/Python.framework/Versions/3.12/lib/python3.12/site-packages (from aiohttp<4.0.0,>=3.9.1->llama_index-readers-web) (23.2.0)\n",
      "Requirement already satisfied: frozenlist>=1.1.1 in /Library/Frameworks/Python.framework/Versions/3.12/lib/python3.12/site-packages (from aiohttp<4.0.0,>=3.9.1->llama_index-readers-web) (1.4.1)\n",
      "Requirement already satisfied: multidict<7.0,>=4.5 in /Library/Frameworks/Python.framework/Versions/3.12/lib/python3.12/site-packages (from aiohttp<4.0.0,>=3.9.1->llama_index-readers-web) (6.0.5)\n",
      "Requirement already satisfied: yarl<2.0,>=1.0 in /Library/Frameworks/Python.framework/Versions/3.12/lib/python3.12/site-packages (from aiohttp<4.0.0,>=3.9.1->llama_index-readers-web) (1.9.4)\n",
      "Requirement already satisfied: soupsieve>1.2 in /Library/Frameworks/Python.framework/Versions/3.12/lib/python3.12/site-packages (from beautifulsoup4<5.0.0,>=4.12.3->llama_index-readers-web) (2.5)\n",
      "Requirement already satisfied: packaging>=23.1 in /Library/Frameworks/Python.framework/Versions/3.12/lib/python3.12/site-packages (from chromedriver-autoinstaller<0.7.0,>=0.6.3->llama_index-readers-web) (24.0)\n",
      "Requirement already satisfied: PyYAML>=6.0.1 in /Library/Frameworks/Python.framework/Versions/3.12/lib/python3.12/site-packages (from llama-index-core<0.11.0,>=0.10.1->llama_index-readers-web) (6.0.1)\n",
      "Requirement already satisfied: SQLAlchemy>=1.4.49 in /Library/Frameworks/Python.framework/Versions/3.12/lib/python3.12/site-packages (from SQLAlchemy[asyncio]>=1.4.49->llama-index-core<0.11.0,>=0.10.1->llama_index-readers-web) (2.0.31)\n",
      "Requirement already satisfied: dataclasses-json in /Library/Frameworks/Python.framework/Versions/3.12/lib/python3.12/site-packages (from llama-index-core<0.11.0,>=0.10.1->llama_index-readers-web) (0.6.7)\n",
      "Requirement already satisfied: deprecated>=1.2.9.3 in /Library/Frameworks/Python.framework/Versions/3.12/lib/python3.12/site-packages (from llama-index-core<0.11.0,>=0.10.1->llama_index-readers-web) (1.2.14)\n",
      "Requirement already satisfied: dirtyjson<2.0.0,>=1.0.8 in /Library/Frameworks/Python.framework/Versions/3.12/lib/python3.12/site-packages (from llama-index-core<0.11.0,>=0.10.1->llama_index-readers-web) (1.0.8)\n",
      "Requirement already satisfied: fsspec>=2023.5.0 in /Library/Frameworks/Python.framework/Versions/3.12/lib/python3.12/site-packages (from llama-index-core<0.11.0,>=0.10.1->llama_index-readers-web) (2024.5.0)\n",
      "Requirement already satisfied: httpx in /Library/Frameworks/Python.framework/Versions/3.12/lib/python3.12/site-packages (from llama-index-core<0.11.0,>=0.10.1->llama_index-readers-web) (0.27.0)\n",
      "Requirement already satisfied: nest-asyncio<2.0.0,>=1.5.8 in /Users/siddhiapraj/Library/Python/3.12/lib/python/site-packages (from llama-index-core<0.11.0,>=0.10.1->llama_index-readers-web) (1.6.0)\n",
      "Requirement already satisfied: networkx>=3.0 in /Library/Frameworks/Python.framework/Versions/3.12/lib/python3.12/site-packages (from llama-index-core<0.11.0,>=0.10.1->llama_index-readers-web) (3.3)\n",
      "Requirement already satisfied: nltk<4.0.0,>=3.8.1 in /Library/Frameworks/Python.framework/Versions/3.12/lib/python3.12/site-packages (from llama-index-core<0.11.0,>=0.10.1->llama_index-readers-web) (3.8.1)\n",
      "Requirement already satisfied: numpy<2.0.0 in /Library/Frameworks/Python.framework/Versions/3.12/lib/python3.12/site-packages (from llama-index-core<0.11.0,>=0.10.1->llama_index-readers-web) (1.26.4)\n",
      "Requirement already satisfied: openai>=1.1.0 in /Library/Frameworks/Python.framework/Versions/3.12/lib/python3.12/site-packages (from llama-index-core<0.11.0,>=0.10.1->llama_index-readers-web) (1.40.2)\n",
      "Requirement already satisfied: pandas in /Library/Frameworks/Python.framework/Versions/3.12/lib/python3.12/site-packages (from llama-index-core<0.11.0,>=0.10.1->llama_index-readers-web) (2.2.2)\n",
      "Requirement already satisfied: pillow>=9.0.0 in /Library/Frameworks/Python.framework/Versions/3.12/lib/python3.12/site-packages (from llama-index-core<0.11.0,>=0.10.1->llama_index-readers-web) (10.4.0)\n",
      "Requirement already satisfied: tenacity!=8.4.0,<9.0.0,>=8.2.0 in /Library/Frameworks/Python.framework/Versions/3.12/lib/python3.12/site-packages (from llama-index-core<0.11.0,>=0.10.1->llama_index-readers-web) (8.5.0)\n",
      "Requirement already satisfied: tiktoken>=0.3.3 in /Library/Frameworks/Python.framework/Versions/3.12/lib/python3.12/site-packages (from llama-index-core<0.11.0,>=0.10.1->llama_index-readers-web) (0.7.0)\n",
      "Requirement already satisfied: tqdm<5.0.0,>=4.66.1 in /Library/Frameworks/Python.framework/Versions/3.12/lib/python3.12/site-packages (from llama-index-core<0.11.0,>=0.10.1->llama_index-readers-web) (4.66.4)\n",
      "Requirement already satisfied: typing-extensions>=4.5.0 in /Library/Frameworks/Python.framework/Versions/3.12/lib/python3.12/site-packages (from llama-index-core<0.11.0,>=0.10.1->llama_index-readers-web) (4.11.0)\n",
      "Requirement already satisfied: typing-inspect>=0.8.0 in /Library/Frameworks/Python.framework/Versions/3.12/lib/python3.12/site-packages (from llama-index-core<0.11.0,>=0.10.1->llama_index-readers-web) (0.9.0)\n",
      "Requirement already satisfied: wrapt in /Library/Frameworks/Python.framework/Versions/3.12/lib/python3.12/site-packages (from llama-index-core<0.11.0,>=0.10.1->llama_index-readers-web) (1.16.0)\n",
      "Collecting cssselect>=0.9.2 (from newspaper3k<0.3.0,>=0.2.8->llama_index-readers-web)\n",
      "  Downloading cssselect-1.2.0-py2.py3-none-any.whl.metadata (2.2 kB)\n",
      "Requirement already satisfied: lxml>=3.6.0 in /Library/Frameworks/Python.framework/Versions/3.12/lib/python3.12/site-packages (from newspaper3k<0.3.0,>=0.2.8->llama_index-readers-web) (5.2.1)\n",
      "Collecting feedparser>=5.2.1 (from newspaper3k<0.3.0,>=0.2.8->llama_index-readers-web)\n",
      "  Downloading feedparser-6.0.11-py3-none-any.whl.metadata (2.4 kB)\n",
      "Collecting tldextract>=2.0.1 (from newspaper3k<0.3.0,>=0.2.8->llama_index-readers-web)\n",
      "  Downloading tldextract-5.1.2-py3-none-any.whl.metadata (11 kB)\n",
      "Collecting feedfinder2>=0.0.4 (from newspaper3k<0.3.0,>=0.2.8->llama_index-readers-web)\n",
      "  Downloading feedfinder2-0.0.4.tar.gz (3.3 kB)\n",
      "  Preparing metadata (setup.py) ... \u001b[?25ldone\n",
      "\u001b[?25hCollecting jieba3k>=0.35.1 (from newspaper3k<0.3.0,>=0.2.8->llama_index-readers-web)\n",
      "  Downloading jieba3k-0.35.1.zip (7.4 MB)\n",
      "\u001b[2K     \u001b[90m━━━━━━━━━━━━━━━━━━━━━━━━━━━━━━━━━━━━━━━━\u001b[0m \u001b[32m7.4/7.4 MB\u001b[0m \u001b[31m3.3 MB/s\u001b[0m eta \u001b[36m0:00:00\u001b[0m00:01\u001b[0m00:01\u001b[0m\n",
      "\u001b[?25h  Preparing metadata (setup.py) ... \u001b[?25ldone\n",
      "\u001b[?25hRequirement already satisfied: python-dateutil>=2.5.3 in /Library/Frameworks/Python.framework/Versions/3.12/lib/python3.12/site-packages (from newspaper3k<0.3.0,>=0.2.8->llama_index-readers-web) (2.9.0.post0)\n",
      "Collecting tinysegmenter==0.3 (from newspaper3k<0.3.0,>=0.2.8->llama_index-readers-web)\n",
      "  Downloading tinysegmenter-0.3.tar.gz (16 kB)\n",
      "  Preparing metadata (setup.py) ... \u001b[?25ldone\n",
      "\u001b[?25hRequirement already satisfied: greenlet==3.0.3 in /Library/Frameworks/Python.framework/Versions/3.12/lib/python3.12/site-packages (from playwright<2.0,>=1.30->llama_index-readers-web) (3.0.3)\n",
      "Collecting pyee==11.1.0 (from playwright<2.0,>=1.30->llama_index-readers-web)\n",
      "  Downloading pyee-11.1.0-py3-none-any.whl.metadata (2.8 kB)\n",
      "Requirement already satisfied: charset-normalizer<4,>=2 in /Library/Frameworks/Python.framework/Versions/3.12/lib/python3.12/site-packages (from requests<3.0.0,>=2.31.0->llama_index-readers-web) (3.3.2)\n",
      "Requirement already satisfied: idna<4,>=2.5 in /Library/Frameworks/Python.framework/Versions/3.12/lib/python3.12/site-packages (from requests<3.0.0,>=2.31.0->llama_index-readers-web) (3.7)\n",
      "Requirement already satisfied: certifi>=2017.4.17 in /Library/Frameworks/Python.framework/Versions/3.12/lib/python3.12/site-packages (from requests<3.0.0,>=2.31.0->llama_index-readers-web) (2024.2.2)\n",
      "Collecting trio~=0.17 (from selenium<5.0.0,>=4.17.2->llama_index-readers-web)\n",
      "  Downloading trio-0.26.2-py3-none-any.whl.metadata (8.6 kB)\n",
      "Collecting trio-websocket~=0.9 (from selenium<5.0.0,>=4.17.2->llama_index-readers-web)\n",
      "  Downloading trio_websocket-0.11.1-py3-none-any.whl.metadata (4.7 kB)\n",
      "Requirement already satisfied: websocket-client~=1.8 in /Library/Frameworks/Python.framework/Versions/3.12/lib/python3.12/site-packages (from selenium<5.0.0,>=4.17.2->llama_index-readers-web) (1.8.0)\n",
      "Requirement already satisfied: six in /Library/Frameworks/Python.framework/Versions/3.12/lib/python3.12/site-packages (from feedfinder2>=0.0.4->newspaper3k<0.3.0,>=0.2.8->llama_index-readers-web) (1.16.0)\n",
      "Collecting sgmllib3k (from feedparser>=5.2.1->newspaper3k<0.3.0,>=0.2.8->llama_index-readers-web)\n",
      "  Downloading sgmllib3k-1.0.0.tar.gz (5.8 kB)\n",
      "  Preparing metadata (setup.py) ... \u001b[?25ldone\n",
      "\u001b[?25hRequirement already satisfied: click in /Library/Frameworks/Python.framework/Versions/3.12/lib/python3.12/site-packages (from nltk<4.0.0,>=3.8.1->llama-index-core<0.11.0,>=0.10.1->llama_index-readers-web) (8.1.7)\n",
      "Requirement already satisfied: joblib in /Library/Frameworks/Python.framework/Versions/3.12/lib/python3.12/site-packages (from nltk<4.0.0,>=3.8.1->llama-index-core<0.11.0,>=0.10.1->llama_index-readers-web) (1.4.0)\n",
      "Requirement already satisfied: regex>=2021.8.3 in /Library/Frameworks/Python.framework/Versions/3.12/lib/python3.12/site-packages (from nltk<4.0.0,>=3.8.1->llama-index-core<0.11.0,>=0.10.1->llama_index-readers-web) (2024.7.24)\n",
      "Requirement already satisfied: anyio<5,>=3.5.0 in /Library/Frameworks/Python.framework/Versions/3.12/lib/python3.12/site-packages (from openai>=1.1.0->llama-index-core<0.11.0,>=0.10.1->llama_index-readers-web) (4.4.0)\n",
      "Requirement already satisfied: distro<2,>=1.7.0 in /Library/Frameworks/Python.framework/Versions/3.12/lib/python3.12/site-packages (from openai>=1.1.0->llama-index-core<0.11.0,>=0.10.1->llama_index-readers-web) (1.9.0)\n",
      "Requirement already satisfied: jiter<1,>=0.4.0 in /Library/Frameworks/Python.framework/Versions/3.12/lib/python3.12/site-packages (from openai>=1.1.0->llama-index-core<0.11.0,>=0.10.1->llama_index-readers-web) (0.5.0)\n",
      "Requirement already satisfied: pydantic<3,>=1.9.0 in /Library/Frameworks/Python.framework/Versions/3.12/lib/python3.12/site-packages (from openai>=1.1.0->llama-index-core<0.11.0,>=0.10.1->llama_index-readers-web) (2.8.2)\n",
      "Requirement already satisfied: sniffio in /Library/Frameworks/Python.framework/Versions/3.12/lib/python3.12/site-packages (from openai>=1.1.0->llama-index-core<0.11.0,>=0.10.1->llama_index-readers-web) (1.3.1)\n",
      "Requirement already satisfied: httpcore==1.* in /Library/Frameworks/Python.framework/Versions/3.12/lib/python3.12/site-packages (from httpx->llama-index-core<0.11.0,>=0.10.1->llama_index-readers-web) (1.0.5)\n",
      "Requirement already satisfied: h11<0.15,>=0.13 in /Library/Frameworks/Python.framework/Versions/3.12/lib/python3.12/site-packages (from httpcore==1.*->httpx->llama-index-core<0.11.0,>=0.10.1->llama_index-readers-web) (0.14.0)\n",
      "Collecting requests-file>=1.4 (from tldextract>=2.0.1->newspaper3k<0.3.0,>=0.2.8->llama_index-readers-web)\n",
      "  Downloading requests_file-2.1.0-py2.py3-none-any.whl.metadata (1.7 kB)\n",
      "Requirement already satisfied: filelock>=3.0.8 in /Library/Frameworks/Python.framework/Versions/3.12/lib/python3.12/site-packages (from tldextract>=2.0.1->newspaper3k<0.3.0,>=0.2.8->llama_index-readers-web) (3.15.4)\n",
      "Collecting sortedcontainers (from trio~=0.17->selenium<5.0.0,>=4.17.2->llama_index-readers-web)\n",
      "  Downloading sortedcontainers-2.4.0-py2.py3-none-any.whl.metadata (10 kB)\n",
      "Collecting outcome (from trio~=0.17->selenium<5.0.0,>=4.17.2->llama_index-readers-web)\n",
      "  Downloading outcome-1.3.0.post0-py2.py3-none-any.whl.metadata (2.6 kB)\n",
      "Collecting wsproto>=0.14 (from trio-websocket~=0.9->selenium<5.0.0,>=4.17.2->llama_index-readers-web)\n",
      "  Downloading wsproto-1.2.0-py3-none-any.whl.metadata (5.6 kB)\n",
      "Requirement already satisfied: mypy-extensions>=0.3.0 in /Library/Frameworks/Python.framework/Versions/3.12/lib/python3.12/site-packages (from typing-inspect>=0.8.0->llama-index-core<0.11.0,>=0.10.1->llama_index-readers-web) (1.0.0)\n",
      "Collecting pysocks!=1.5.7,<2.0,>=1.5.6 (from urllib3[socks]<3,>=1.26->selenium<5.0.0,>=4.17.2->llama_index-readers-web)\n",
      "  Downloading PySocks-1.7.1-py3-none-any.whl.metadata (13 kB)\n",
      "Requirement already satisfied: marshmallow<4.0.0,>=3.18.0 in /Library/Frameworks/Python.framework/Versions/3.12/lib/python3.12/site-packages (from dataclasses-json->llama-index-core<0.11.0,>=0.10.1->llama_index-readers-web) (3.21.3)\n",
      "Requirement already satisfied: pytz>=2020.1 in /Library/Frameworks/Python.framework/Versions/3.12/lib/python3.12/site-packages (from pandas->llama-index-core<0.11.0,>=0.10.1->llama_index-readers-web) (2024.1)\n",
      "Requirement already satisfied: tzdata>=2022.7 in /Library/Frameworks/Python.framework/Versions/3.12/lib/python3.12/site-packages (from pandas->llama-index-core<0.11.0,>=0.10.1->llama_index-readers-web) (2024.1)\n",
      "Requirement already satisfied: annotated-types>=0.4.0 in /Library/Frameworks/Python.framework/Versions/3.12/lib/python3.12/site-packages (from pydantic<3,>=1.9.0->openai>=1.1.0->llama-index-core<0.11.0,>=0.10.1->llama_index-readers-web) (0.7.0)\n",
      "Requirement already satisfied: pydantic-core==2.20.1 in /Library/Frameworks/Python.framework/Versions/3.12/lib/python3.12/site-packages (from pydantic<3,>=1.9.0->openai>=1.1.0->llama-index-core<0.11.0,>=0.10.1->llama_index-readers-web) (2.20.1)\n",
      "Downloading llama_index_readers_web-0.1.23-py3-none-any.whl (72 kB)\n",
      "\u001b[2K   \u001b[90m━━━━━━━━━━━━━━━━━━━━━━━━━━━━━━━━━━━━━━━━\u001b[0m \u001b[32m72.9/72.9 kB\u001b[0m \u001b[31m7.0 MB/s\u001b[0m eta \u001b[36m0:00:00\u001b[0m\n",
      "\u001b[?25hDownloading chromedriver_autoinstaller-0.6.4-py3-none-any.whl (7.6 kB)\n",
      "Downloading newspaper3k-0.2.8-py3-none-any.whl (211 kB)\n",
      "\u001b[2K   \u001b[90m━━━━━━━━━━━━━━━━━━━━━━━━━━━━━━━━━━━━━━━━\u001b[0m \u001b[32m211.1/211.1 kB\u001b[0m \u001b[31m11.3 MB/s\u001b[0m eta \u001b[36m0:00:00\u001b[0m\n",
      "\u001b[?25hDownloading playwright-1.46.0-py3-none-macosx_11_0_arm64.whl (33.1 MB)\n",
      "\u001b[2K   \u001b[90m━━━━━━━━━━━━━━━━━━━━━━━━━━━━━━━━━━━━━━━━\u001b[0m \u001b[32m33.1/33.1 MB\u001b[0m \u001b[31m4.5 MB/s\u001b[0m eta \u001b[36m0:00:00\u001b[0m00:01\u001b[0m00:01\u001b[0m\n",
      "\u001b[?25hDownloading pyee-11.1.0-py3-none-any.whl (15 kB)\n",
      "Downloading selenium-4.23.1-py3-none-any.whl (9.4 MB)\n",
      "\u001b[2K   \u001b[90m━━━━━━━━━━━━━━━━━━━━━━━━━━━━━━━━━━━━━━━━\u001b[0m \u001b[32m9.4/9.4 MB\u001b[0m \u001b[31m5.4 MB/s\u001b[0m eta \u001b[36m0:00:00\u001b[0m00:01\u001b[0m00:01\u001b[0m\n",
      "\u001b[?25hDownloading cssselect-1.2.0-py2.py3-none-any.whl (18 kB)\n",
      "Downloading feedparser-6.0.11-py3-none-any.whl (81 kB)\n",
      "\u001b[2K   \u001b[90m━━━━━━━━━━━━━━━━━━━━━━━━━━━━━━━━━━━━━━━━\u001b[0m \u001b[32m81.3/81.3 kB\u001b[0m \u001b[31m5.9 MB/s\u001b[0m eta \u001b[36m0:00:00\u001b[0m\n",
      "\u001b[?25hDownloading tldextract-5.1.2-py3-none-any.whl (97 kB)\n",
      "\u001b[2K   \u001b[90m━━━━━━━━━━━━━━━━━━━━━━━━━━━━━━━━━━━━━━━━\u001b[0m \u001b[32m97.6/97.6 kB\u001b[0m \u001b[31m4.0 MB/s\u001b[0m eta \u001b[36m0:00:00\u001b[0m\n",
      "\u001b[?25hDownloading trio-0.26.2-py3-none-any.whl (475 kB)\n",
      "\u001b[2K   \u001b[90m━━━━━━━━━━━━━━━━━━━━━━━━━━━━━━━━━━━━━━━━\u001b[0m \u001b[32m476.0/476.0 kB\u001b[0m \u001b[31m6.6 MB/s\u001b[0m eta \u001b[36m0:00:00\u001b[0ma \u001b[36m0:00:01\u001b[0m\n",
      "\u001b[?25hDownloading trio_websocket-0.11.1-py3-none-any.whl (17 kB)\n",
      "Downloading PySocks-1.7.1-py3-none-any.whl (16 kB)\n",
      "Downloading requests_file-2.1.0-py2.py3-none-any.whl (4.2 kB)\n",
      "Downloading wsproto-1.2.0-py3-none-any.whl (24 kB)\n",
      "Downloading outcome-1.3.0.post0-py2.py3-none-any.whl (10 kB)\n",
      "Downloading sortedcontainers-2.4.0-py2.py3-none-any.whl (29 kB)\n",
      "Building wheels for collected packages: tinysegmenter, spider-client, feedfinder2, jieba3k, sgmllib3k\n",
      "  Building wheel for tinysegmenter (setup.py) ... \u001b[?25ldone\n",
      "\u001b[?25h  Created wheel for tinysegmenter: filename=tinysegmenter-0.3-py3-none-any.whl size=13538 sha256=da56f5c07e987c5905634c08496b8180af33b0e2636ab4afce036641b7a53be5\n",
      "  Stored in directory: /Users/siddhiapraj/Library/Caches/pip/wheels/a5/91/9f/00d66475960891a64867914273fcaf78df6cb04d905b104a2a\n",
      "  Building wheel for spider-client (setup.py) ... \u001b[?25ldone\n",
      "\u001b[?25h  Created wheel for spider-client: filename=spider_client-0.0.27-py3-none-any.whl size=5973 sha256=73299065951073e7932afd664e2d2297c5caeb4e74461fc5a771174b3ada36d5\n",
      "  Stored in directory: /Users/siddhiapraj/Library/Caches/pip/wheels/6c/41/42/4155300999390be7e455a6b05c602849f5810bf9383c43adb2\n",
      "  Building wheel for feedfinder2 (setup.py) ... \u001b[?25ldone\n",
      "\u001b[?25h  Created wheel for feedfinder2: filename=feedfinder2-0.0.4-py3-none-any.whl size=3340 sha256=e076075ccb8ba92638c9fc25ed38d2991754d17d8bcda2a3c7c1eb9b84048878\n",
      "  Stored in directory: /Users/siddhiapraj/Library/Caches/pip/wheels/9f/9f/fb/364871d7426d3cdd4d293dcf7e53d97f160c508b2ccf00cc79\n",
      "  Building wheel for jieba3k (setup.py) ... \u001b[?25ldone\n",
      "\u001b[?25h  Created wheel for jieba3k: filename=jieba3k-0.35.1-py3-none-any.whl size=7398382 sha256=1d46f007c8d49f77a498e0208c8a304ff19550ce2441cbb95ace31454c4a61f3\n",
      "  Stored in directory: /Users/siddhiapraj/Library/Caches/pip/wheels/26/72/f7/fff392a8d4ea988dea4ccf9788599d09462a7f5e51e04f8a92\n",
      "  Building wheel for sgmllib3k (setup.py) ... \u001b[?25ldone\n",
      "\u001b[?25h  Created wheel for sgmllib3k: filename=sgmllib3k-1.0.0-py3-none-any.whl size=6049 sha256=3bf6db2e2495be1c060999b36684f30ba3b9faed87988640e786dbe88782f1f4\n",
      "  Stored in directory: /Users/siddhiapraj/Library/Caches/pip/wheels/03/f5/1a/23761066dac1d0e8e683e5fdb27e12de53209d05a4a37e6246\n",
      "Successfully built tinysegmenter spider-client feedfinder2 jieba3k sgmllib3k\n",
      "Installing collected packages: tinysegmenter, sortedcontainers, sgmllib3k, jieba3k, wsproto, pysocks, pyee, outcome, feedparser, cssselect, chromedriver-autoinstaller, trio, spider-client, requests-file, playwright, feedfinder2, trio-websocket, tldextract, selenium, newspaper3k, llama_index-readers-web\n",
      "Successfully installed chromedriver-autoinstaller-0.6.4 cssselect-1.2.0 feedfinder2-0.0.4 feedparser-6.0.11 jieba3k-0.35.1 llama_index-readers-web-0.1.23 newspaper3k-0.2.8 outcome-1.3.0.post0 playwright-1.46.0 pyee-11.1.0 pysocks-1.7.1 requests-file-2.1.0 selenium-4.23.1 sgmllib3k-1.0.0 sortedcontainers-2.4.0 spider-client-0.0.27 tinysegmenter-0.3 tldextract-5.1.2 trio-0.26.2 trio-websocket-0.11.1 wsproto-1.2.0\n",
      "\n",
      "\u001b[1m[\u001b[0m\u001b[34;49mnotice\u001b[0m\u001b[1;39;49m]\u001b[0m\u001b[39;49m A new release of pip is available: \u001b[0m\u001b[31;49m24.0\u001b[0m\u001b[39;49m -> \u001b[0m\u001b[32;49m24.2\u001b[0m\n",
      "\u001b[1m[\u001b[0m\u001b[34;49mnotice\u001b[0m\u001b[1;39;49m]\u001b[0m\u001b[39;49m To update, run: \u001b[0m\u001b[32;49mpip3 install --upgrade pip\u001b[0m\n"
     ]
    }
   ],
   "source": [
    "!pip3 install llama_index-readers-web"
   ]
  },
  {
   "cell_type": "code",
   "execution_count": 82,
   "metadata": {},
   "outputs": [],
   "source": [
    "from llama_index.core.schema import MetadataMode"
   ]
  },
  {
   "cell_type": "code",
   "execution_count": 83,
   "metadata": {},
   "outputs": [],
   "source": [
    "llm = OpenAI(temperature=0.1, model=\"gpt-3.5-turbo\", max_tokens=512)\n",
    "Settings.llm = llm"
   ]
  },
  {
   "cell_type": "code",
   "execution_count": 84,
   "metadata": {},
   "outputs": [],
   "source": [
    "from llama_index.core.extractors import (\n",
    "    QuestionsAnsweredExtractor,\n",
    ")\n",
    "\n",
    "node_parser = TokenTextSplitter(\n",
    "    separator=\" \", chunk_size=256, chunk_overlap=128\n",
    ")\n",
    "\n",
    "question_extractor = QuestionsAnsweredExtractor(questions=3, llm=llm, metadata_mode=MetadataMode.EMBED)"
   ]
  },
  {
   "cell_type": "code",
   "execution_count": 85,
   "metadata": {},
   "outputs": [],
   "source": [
    "from llama_index.readers.web import SimpleWebPageReader\n",
    "\n",
    "reader = SimpleWebPageReader(html_to_text=True)\n",
    "docs = reader.load_data(urls=[\"https://eugeneyan.com/writing/llm-patterns/\"])"
   ]
  },
  {
   "cell_type": "code",
   "execution_count": 86,
   "metadata": {},
   "outputs": [
    {
     "name": "stdout",
     "output_type": "stream",
     "text": [
      "# [eugeneyan](/)\n",
      "\n",
      "  * [Start Here](/start-here/ \"Start Here\")\n",
      "  * [Writing](/writing/ \"Writing\")\n",
      "  * [Speaking](/speaking/ \"Speaking\")\n",
      "  * [Prototyping](/prototyping/ \"Prototyping\")\n",
      "  * [About](/about/ \"About\")\n",
      "\n",
      "# Patterns for Building LLM-based Systems & Products\n",
      "\n",
      "[ [llm](/tag/llm/) [engineering](/tag/engineering/)\n",
      "[production](/tag/production/) [🔥](/tag/🔥/) ]  · 66 min read\n",
      "\n",
      "> Discussions on [HackerNews](https://news.ycombinator.com/item?id=36965993),\n",
      "> [Twitter](https://twitter.com/eugeneyan/status/1686531758701899776), and\n",
      "> [LinkedIn](https://www.linkedin.com/posts/eugeneyan_patterns-for-building-\n",
      "> llm-based-systems-activity-7092300473981927424-_wVo)\n",
      "\n",
      "“There is a large class of problems that are easy to imagine and build demos\n",
      "for, but extremely hard to make products out of. For example, self-driving:\n",
      "It’s easy to demo a car self-driving around a block, but making it into a\n",
      "product takes a decade.” -\n",
      "[Karpathy](https://twitter.com/eugeneyan/status/1672692174704766976)\n",
      "\n",
      "This write-up is about practical patterns for integrating large language\n",
      "models (LLMs) into systems & products. We’ll build on academic research,\n",
      "industry resources, and practitioner know-how, and distill them into key ideas\n",
      "and practices.\n",
      "\n",
      "There are seven key patterns. They’re also organized along the spectrum of\n",
      "improving performance vs. reducing cost/risk, and closer to the data vs.\n",
      "closer to the user.\n",
      "\n",
      "  * Evals: To measure performance\n",
      "  * RAG: To add recent, external knowledge\n",
      "  * Fine-tuning: To get better at specific tasks\n",
      "  * Caching: To reduce latency & cost\n",
      "  * Guardrails: To ensure output quality\n",
      "  * Defensive UX: To anticipate & manage errors gracefully\n",
      "  * Collect user feedback: To build our data flywheel\n",
      "\n",
      "(Also see this addendum on [how to match these LLM patterns to potential\n",
      "problems](/writing/llm-problems/).)\n",
      "\n",
      "![Image](/assets/llm-patterns-og.png)\n",
      "\n",
      "LLM patterns: From data to user, from defensive to offensive (see connections\n",
      "between patterns)\n",
      "\n",
      "## Evals: To measure performance\n",
      "\n",
      "Evaluations are a set of measurements used to assess a model’s performance on\n",
      "a task. They include benchmark data and metrics. From a [HackerNews\n",
      "comment](https://news.ycombinator.com/item?id=36789901):\n",
      "\n",
      "> How important evals are to the team is a major differentiator between folks\n",
      "> rushing out hot garbage and those seriously building products in the space.\n",
      "\n",
      "### Why evals?\n",
      "\n",
      "Evals enable us to measure how well our system or product is doing and detect\n",
      "any regressions. (A system or product can be made up of multiple components\n",
      "such as LLMs, prompt templates, retrieved context, and parameters like\n",
      "temperature.) A representative set of evals takes us a step towards measuring\n",
      "system changes at scale. Without evals, we would be flying blind, or would\n",
      "have to visually inspect LLM outputs with each change.\n",
      "\n",
      "### More about evals\n",
      "\n",
      "**There are many benchmarks in the field of language modeling**. Some notable\n",
      "ones are:\n",
      "\n",
      "  * **[MMLU](https://arxiv.org/abs/2009.03300)** : A set of 57 tasks that span elementary math, US history, computer science, law, and more. To perform well, models must possess extensive world knowledge and problem-solving ability.\n",
      "  * **[EleutherAI Eval](https://github.com/EleutherAI/lm-evaluation-harness)** : Unified framework to test models via zero/few-shot settings on 200 tasks. Incorporates a large number of evals including BigBench, MMLU, etc.\n",
      "  * **[HELM](https://arxiv.org/abs/2211.09110)** : Instead of specific tasks and metrics, HELM offers a comprehensive assessment of LLMs by evaluating them across domains. Metrics include accuracy, calibration, robustness, fairness, bias, toxicity, etc. Tasks include Q&A, information retrieval, summarization, text classification, etc.\n",
      "  * **[AlpacaEval](https://github.com/tatsu-lab/alpaca_eval)** : Automated evaluation framework which measures how often a strong LLM (e.g., GPT-4) prefers the output of one model over a reference model. Metrics include win rate, bias, latency, price, variance, etc. Validated to have high agreement with 20k human annotations.\n",
      "\n",
      "We can group metrics into two categories: context-dependent or context-free.\n",
      "\n",
      "  * **Context-dependent** : These take context into account. They’re often proposed for a specific task; repurposing them for other tasks will require some adjustment.\n",
      "  * **Context-free** : These aren’t tied to the context when evaluating generated output; they only compare the output with the provided gold references. As they’re task agnostic, they’re easier to apply to a wide variety of tasks.\n",
      "\n",
      "To get a better sense of these metrics (and their potential shortfalls), we’ll\n",
      "explore a few of the commonly used metrics such as BLEU, ROUGE, BERTScore, and\n",
      "MoverScore.\n",
      "\n",
      "**[BLEU](https://dl.acm.org/doi/10.3115/1073083.1073135) (Bilingual Evaluation\n",
      "Understudy)** is a precision-based metric: It counts the number of n-grams in\n",
      "the generated output that also show up in the reference, and then divides it\n",
      "by the total number of words in the output. It’s predominantly used in machine\n",
      "translation and remains a popular metric due to its cost-effectiveness.\n",
      "\n",
      "First, precision for various values of \\\\(n\\\\) is computed:\n",
      "\n",
      "\\\\[\\text{precision}_n = \\frac{\\sum_{p \\in \\text{output}} \\sum_{\\text{n-gram}\n",
      "\\in p} \\text{Count}_{\\text{clip}} (\\text{n-gram})}{\\sum_{p \\in \\text{output}}\n",
      "\\sum_{\\text{n-gram} \\in p} \\text{Count}(\\text{n-gram})}\\\\]\n",
      "\n",
      "\\\\(Count_{clip}(\\text{n-gram})\\\\) is clipped by the maximum number of times an\n",
      "n-gram appears in any corresponding reference sentence.\n",
      "\n",
      "\\\\[\\text{Count}_{\\text{clip}}(n\\text{-gram}) = \\min \\left(\\text{matched }\n",
      "n\\text{-gram count}, \\max_{r \\in R} \\left(n\\text{-gram count in }\n",
      "r\\right)\\right)\\\\]\n",
      "\n",
      "Once we’ve computed precision at various \\\\(n\\\\), a final BLEU-N score is\n",
      "computed as the geometric mean of all the \\\\(precision_n\\\\) scores.\n",
      "\n",
      "However, since precision relies solely on n-grams and doesn’t consider the\n",
      "length of the generated output, an output containing just one unigram of a\n",
      "common word (like a stop word) would achieve perfect precision. This can be\n",
      "misleading and encourage outputs that contain fewer words to increase BLEU\n",
      "scores. To counter this, a brevity penalty is added to penalize excessively\n",
      "short sentences.\n",
      "\n",
      "\\\\[BP = \\begin{cases} 1 & \\text{if } |p| > |r| \\\\\\ e^{1-\\frac{|r|}{|p|}} &\n",
      "\\text{otherwise} \\end{cases}\\\\]\n",
      "\n",
      "Thus, the final formula is:\n",
      "\n",
      "\\\\[\\text{BLEU-N} = BP \\cdot \\exp\\left(\\sum_{n=1}^{N} W_n\n",
      "\\log(\\text{precision}_n)\\right)\\\\]\n",
      "\n",
      "**[ROUGE](https://aclanthology.org/W04-1013/) (Recall-Oriented Understudy for\n",
      "Gisting Evaluation)**: In contrast to BLEU, ROUGE is recall-oriented. It\n",
      "counts the number of words in the reference that also occur in the output.\n",
      "It’s typically used to assess automatic summarization tasks.\n",
      "\n",
      "There are several ROUGE variants. ROUGE-N is most similar to BLEU in that it\n",
      "also counts the number of matching n-grams between the output and the\n",
      "reference.\n",
      "\n",
      "\\\\[\\text{ROUGE-N} = \\frac{\\sum_{s_r \\in \\text{references}} \\sum_{n\\text{-gram}\n",
      "\\in s_r} \\text{Count}_{\\text{match}} (n\\text{-gram})}{\\sum_{s_r \\in\n",
      "\\text{references}} \\sum_{n\\text{-gram} \\in s_r} \\text{Count}\n",
      "(n\\text{-gram})}\\\\]\n",
      "\n",
      "Other variants include:\n",
      "\n",
      "  * ROUGE-L: This measures the longest common subsequence (LCS) between the output and the reference. It considers sentence-level structure similarity and zeros in on the longest series of co-occurring in-sequence n-grams.\n",
      "  * ROUGE-S: This measures the skip-bigram between the output and reference. Skip-bigrams are pairs of words that maintain their sentence order regardless of the words that might be sandwiched between them.\n",
      "\n",
      "**[BERTScore](https://arxiv.org/abs/1904.09675)** is an embedding-based metric\n",
      "that uses cosine similarity to compare each token or n-gram in the generated\n",
      "output with the reference sentence. There are three components to BERTScore:\n",
      "\n",
      "  * Recall: Average cosine similarity between each token in the reference and its closest match in the generated output.\n",
      "  * Precision: Average cosine similarity between each token in the generated output and its nearest match in the reference.\n",
      "  * F1: Harmonic mean of recall and precision\n",
      "\n",
      "\\\\[Recall_{\\text{BERT}} = \\frac{1}{|r|} \\sum_{i \\in r} \\max_{j \\in p}\n",
      "\\vec{i}^T \\vec{j}, \\quad Precision_{\\text{BERT}} = \\frac{1}{|p|} \\sum_{j \\in\n",
      "p} \\max_{i \\in r} \\vec{i}^T \\vec{j}\\\\] \\\\[\\text{BERTscore} = F_{\\text{BERT}} =\n",
      "\\frac{2 \\cdot P_{\\text{BERT}} \\cdot R_{\\text{BERT}}}{P_{\\text{BERT}} +\n",
      "R_{\\text{BERT}}}\\\\]\n",
      "\n",
      "BERTScore is useful because it can account for synonyms and paraphrasing.\n",
      "Simpler metrics like BLEU and ROUGE can’t do this due to their reliance on\n",
      "exact matches. BERTScore has been shown to have better correlation for tasks\n",
      "such as image captioning and machine translation.\n",
      "\n",
      "**[MoverScore](https://arxiv.org/abs/1909.02622)** also uses contextualized\n",
      "embeddings to compute the distance between tokens in the generated output and\n",
      "reference. But unlike BERTScore, which is based on one-to-one matching (or\n",
      "“hard alignment”) of tokens, MoverScore allows for many-to-one matching (or\n",
      "“soft alignment”).\n",
      "\n",
      "![BERTScore \\(left\\) vs. MoverScore \\(right\\)](/assets/mover-score.jpg)\n",
      "\n",
      "BERTScore (left) vs. MoverScore (right;\n",
      "[source](https://arxiv.org/abs/1909.02622))\n",
      "\n",
      "MoverScore enables the mapping of semantically related words in one sequence\n",
      "to their counterparts in another sequence. It does this by solving a\n",
      "constrained optimization problem that finds the minimum effort to transform\n",
      "one text into another. The idea is to measure the distance that words would\n",
      "have to move to convert one sequence to another.\n",
      "\n",
      "However, there are several pitfalls to using these conventional benchmarks and\n",
      "metrics.\n",
      "\n",
      "First, there’s **poor correlation between these metrics and human judgments.**\n",
      "BLEU, ROUGE, and others have had [negative correlation with how humans\n",
      "evaluate fluency](https://arxiv.org/abs/2008.12009). They also showed moderate\n",
      "to less correlation with human adequacy scores. In particular, BLEU and ROUGE\n",
      "have [low correlation with tasks that require creativity and\n",
      "diversity](https://arxiv.org/abs/2303.16634).\n",
      "\n",
      "Second, these metrics often have **poor adaptability to a wider variety of\n",
      "tasks**. Adopting a metric proposed for one task to another is not always\n",
      "prudent. For example, exact match metrics such as BLEU and ROUGE are a poor\n",
      "fit for tasks like abstractive summarization or dialogue. Since they’re based\n",
      "on n-gram overlap between output and reference, they don’t make sense for a\n",
      "dialogue task where a wide variety of responses are possible. An output can\n",
      "have zero n-gram overlap with the reference but yet be a good response.\n",
      "\n",
      "Third, these metrics have **poor reproducibility**. Even for the same metric,\n",
      "[high variance is reported across different\n",
      "studies](https://arxiv.org/abs/2008.12009), possibly due to variations in\n",
      "human judgment collection or metric parameter settings. Another study of\n",
      "[ROUGE scores](https://aclanthology.org/2023.acl-long.107/) across 2,000\n",
      "studies found that scores were hard to reproduce, difficult to compare, and\n",
      "often incorrect because evals were often conducted with untested, incorrect\n",
      "ROUGE implementations.\n",
      "\n",
      "![Dimensions of model evaluations with ROUGE](/assets/rogue-scores.jpg)\n",
      "\n",
      "Dimensions of model evaluations with ROUGE\n",
      "([source](https://aclanthology.org/2023.acl-long.107/))\n",
      "\n",
      "And even with recent benchmarks such as MMLU, **the same model can get\n",
      "significantly different scores based on the eval implementation**.\n",
      "[Huggingface compared the original MMLU\n",
      "implementation](https://huggingface.co/blog/evaluating-mmlu-leaderboard) with\n",
      "the HELM and EleutherAI implementations and found that the same example could\n",
      "have different prompts across various providers.\n",
      "\n",
      "![Different prompts for the same question across MMLU\n",
      "implementations](/assets/mmlu-prompt.jpg)\n",
      "\n",
      "Different prompts for the same question across MMLU implementations\n",
      "([source](https://huggingface.co/blog/evaluating-mmlu-leaderboard))\n",
      "\n",
      "Furthermore, the evaluation approach differed across all three benchmarks:\n",
      "\n",
      "  * Original MMLU: Compares predicted probabilities on the answers only (A, B, C, D)\n",
      "  * HELM: Uses the next token probabilities from the model and picks the token with the highest probability, even if it’s _not_ one of the options.\n",
      "  * EleutherAI: Computes probability of the full answer sequence (i.e., a letter followed by the answer text) for each answer. Then, pick answer with highest probability.\n",
      "\n",
      "![Different eval for the same question across MMLU\n",
      "implementations](/assets/mmlu-eval.jpg)\n",
      "\n",
      "Different eval for the same question across MMLU implementations\n",
      "([source](https://huggingface.co/blog/evaluating-mmlu-leaderboard))\n",
      "\n",
      "As a result, even for the same eval, both absolute scores and model ranking\n",
      "can fluctuate widely depending on eval implementation. This means that model\n",
      "metrics aren’t truly comparable—even for the same eval—unless the eval’s\n",
      "implementation is identical down to minute details like prompts and\n",
      "tokenization. Similarly, the author of QLoRA found MMLU overly sensitive and\n",
      "concluded: “[do not work with/report or trust MMLU\n",
      "scores](https://twitter.com/Tim_Dettmers/status/1673446047266504704)”.\n",
      "\n",
      "Beyond conventional evals such as those mentioned above, **an emerging trend\n",
      "is to use a strong LLM as a reference-free metric** to evaluate generations\n",
      "from other LLMs. This means we may not need human judgments or gold references\n",
      "for evaluation.\n",
      "\n",
      "**[G-Eval](https://arxiv.org/abs/2303.16634) is a framework that applies\n",
      "LLMs** with Chain-of-Though (CoT) and a form-filling paradigm to **evaluate\n",
      "LLM outputs**. First, they provide a task introduction and evaluation criteria\n",
      "to an LLM and ask it to generate a CoT of evaluation steps. Then, to evaluate\n",
      "coherence in news summarization, they concatenate the prompt, CoT, news\n",
      "article, and summary and ask the LLM to output a score between 1 to 5.\n",
      "Finally, they use the probabilities of the output tokens from the LLM to\n",
      "normalize the score and take their weighted summation as the final result.\n",
      "\n",
      "![Overview of G-Eval](/assets/geval.jpg)\n",
      "\n",
      "Overview of G-Eval ([source](https://arxiv.org/abs/2303.16634))\n",
      "\n",
      "They found that GPT-4 as an evaluator had a high Spearman correlation with\n",
      "human judgments (0.514), outperforming all previous methods. It also\n",
      "outperformed traditional metrics on aspects such as coherence, consistency,\n",
      "fluency, and relevance. On topical chat, it did better than traditional\n",
      "metrics such as ROUGE-L, BLEU-4, and BERTScore across several criteria such as\n",
      "naturalness, coherence, engagingness, and groundedness.\n",
      "\n",
      "**The[Vicuna](https://arxiv.org/abs/2306.05685) paper adopted a similar\n",
      "approach.** They start by defining eight categories (writing, roleplay,\n",
      "extraction, reasoning, math, coding, STEM, and humanities/social science)\n",
      "before developing 10 questions for each category. Next, they generated answers\n",
      "from five chatbots: LLaMA, Alpaca, ChatGPT, Bard, and Vicuna. Finally, they\n",
      "asked GPT-4 to rate the quality of the answers based on helpfulness,\n",
      "relevance, accuracy, and detail.\n",
      "\n",
      "Overall, they found that GPT-4 not only provided consistent scores but could\n",
      "also give detailed explanations for those scores. Under the single answer\n",
      "grading paradigm, GPT-4 had higher agreement with humans (85%) than the humans\n",
      "had amongst themselves (81%). This suggests that GPT-4’s judgment aligns\n",
      "closely with the human evaluators.\n",
      "\n",
      "**[QLoRA](https://arxiv.org/abs/2305.14314) also used an LLM to evaluate\n",
      "another LLM’s output.** They asked GPT-4 to rate the performance of various\n",
      "models against gpt-3.5-turbo on the Vicuna benchmark. Given the responses from\n",
      "gpt-3.5-turbo and another model, GPT-4 was prompted to score both out of 10\n",
      "and explain its ratings. They also measured performance via direct comparisons\n",
      "between models, simplifying the task to a three-class rating scheme that\n",
      "included ties.\n",
      "\n",
      "To validate the automated evaluation, they collected human judgments on the\n",
      "Vicuna benchmark. Using Mechanical Turk, they enlisted two annotators for\n",
      "comparisons to gpt-3.5-turbo, and three annotators for pairwise comparisons.\n",
      "They found that human and GPT-4 ranking of models were largely in agreement,\n",
      "with a Spearman rank correlation of 0.55 at the model level. This provides an\n",
      "additional data point suggesting that LLM-based automated evals could be a\n",
      "cost-effective and reasonable alternative to human evals.\n",
      "\n",
      "### How to apply evals?\n",
      "\n",
      "**Building solid evals should be the starting point** for any LLM-based system\n",
      "or product (as well as conventional machine learning systems).\n",
      "\n",
      "Unfortunately, classical metrics such as BLEU and ROUGE don’t make sense for\n",
      "more complex tasks such as abstractive summarization or dialogue. Furthermore,\n",
      "we’ve seen that benchmarks like MMLU (and metrics like ROUGE) are sensitive to\n",
      "how they’re implemented and measured. And to be candid, unless your LLM system\n",
      "is studying for a school exam, using MMLU as an eval [doesn’t quite make\n",
      "sense](https://twitter.com/Tim_Dettmers/status/1680782418335367169).\n",
      "\n",
      "Thus, instead of using off-the-shelf benchmarks, we can **start by collecting\n",
      "a set of task-specific evals** (i.e., prompt, context, expected outputs as\n",
      "references). These evals will then guide prompt engineering, model selection,\n",
      "fine-tuning, and so on. And as we update our systems, we can run these evals\n",
      "to quickly measure improvements or regressions. Think of it as Eval Driven\n",
      "Development (EDD).\n",
      "\n",
      "In addition to the evaluation dataset, we **also need useful metrics**. They\n",
      "help us distill performance changes into a single number that’s comparable\n",
      "across eval runs. And if we can simplify the problem, we can choose metrics\n",
      "that are easier to compute and interpret.\n",
      "\n",
      "The simplest task is probably classification: If we’re using an LLM for\n",
      "classification-like tasks (e.g., toxicity detection, document categorization)\n",
      "or extractive QA without dialogue, we can rely on standard classification\n",
      "metrics such as recall, precision, PRAUC, etc. If our task has no correct\n",
      "answer but we have references (e.g., machine translation, extractive\n",
      "summarization), we can rely on reference metrics based on matching (BLEU,\n",
      "ROUGE) or semantic similarity (BERTScore, MoverScore).\n",
      "\n",
      "However, these metrics may not work for more open-ended tasks such as\n",
      "abstractive summarization, dialogue, and others. But collecting human\n",
      "judgments can be slow and expensive. Thus, we may opt to lean on **automated\n",
      "evaluations via a strong LLM**.\n",
      "\n",
      "Relative to human judgments which are typically noisy (due to differing biases\n",
      "among annotators), LLM judgments tend to be less noisy (as the bias is more\n",
      "systematic) but more biased. Nonetheless, since we’re aware of these biases,\n",
      "we can mitigate them accordingly:\n",
      "\n",
      "  * Position bias: LLMs tend to favor the response in the first position. To mitigate this, we can evaluate the same pair of responses twice while swapping their order. If the same response is preferred in both orders, we mark it as a win; else, it’s a tie.\n",
      "  * Verbosity bias: LLMs tend to favor longer, wordier responses over more concise ones, even if the latter is clearer and of higher quality. A possible solution is to ensure that comparison responses are similar in length.\n",
      "  * Self-enhancement bias: LLMs have a slight bias towards their own answers. [GPT-4 favors itself with a 10% higher win rate while Claude-v1 favors itself with a 25% higher win rate.](https://arxiv.org/abs/2306.05685) To counter this, don’t use the same LLM for evaluation tasks.\n",
      "\n",
      "Another tip: Rather than asking an LLM for a direct evaluation (via giving a\n",
      "score), try giving it a reference and asking for a comparison. This helps with\n",
      "reducing noise.\n",
      "\n",
      "Finally, sometimes the best eval is human eval aka vibe check. (Not to be\n",
      "confused with the poorly named code evaluation benchmark\n",
      "[HumanEval](https://arxiv.org/abs/2107.03374).) As mentioned in the [Latent\n",
      "Space podcast with MosaicML](https://www.latent.space/p/mosaic-mpt-7b#details)\n",
      "(34th minute):\n",
      "\n",
      "> The vibe-based eval cannot be underrated. … One of our evals was just having\n",
      "> a bunch of prompts and watching the answers as the models trained and see if\n",
      "> they change. Honestly, I don’t really believe that any of these eval metrics\n",
      "> capture what we care about. One of our prompts was “suggest games for a\n",
      "> 3-year-old and a 7-year-old to play” and that was a lot more valuable to see\n",
      "> how the answer changed during the course of training. — Jonathan Frankle\n",
      "\n",
      "Also see this [deep dive into evals](/writing/abstractive/) for abstractive\n",
      "summarization. It covers reference, context, and preference-based metrics, and\n",
      "also discusses hallucination detection.\n",
      "\n",
      "## Retrieval-Augmented Generation: To add knowledge\n",
      "\n",
      "Retrieval-Augmented Generation (RAG) fetches relevant data from outside the\n",
      "foundation model and enhances the input with this data, providing richer\n",
      "context to improve output.\n",
      "\n",
      "### Why RAG?\n",
      "\n",
      "RAG helps reduce hallucination by grounding the model on the retrieved\n",
      "context, thus increasing factuality. In addition, it’s cheaper to keep\n",
      "retrieval indices up-to-date than to continuously pre-train an LLM. This cost\n",
      "efficiency makes it easier to provide LLMs with access to recent data via RAG.\n",
      "Finally, if we need to update or remove data such as biased or toxic\n",
      "documents, it’s more straightforward to update the retrieval index (compared\n",
      "to fine-tuning or prompting an LLM not to generate toxic outputs).\n",
      "\n",
      "In short, RAG applies mature and simpler ideas from the field of information\n",
      "retrieval to support LLM generation. In a [recent Sequoia\n",
      "survey](https://www.sequoiacap.com/article/llm-stack-perspective/), 88% of\n",
      "respondents believe that retrieval will be a key component of their stack.\n",
      "\n",
      "### More about RAG\n",
      "\n",
      "Before diving into RAG, it helps to have a basic understanding of text\n",
      "embeddings. (Feel free to skip this section if you’re familiar with the\n",
      "subject.)\n",
      "\n",
      "A text embedding is a **compressed, abstract representation of text data**\n",
      "where text of arbitrary length can be represented as a fixed-size vector of\n",
      "numbers. It’s usually learned from a corpus of text such as Wikipedia. Think\n",
      "of them as a universal encoding for text, where **similar items are close to\n",
      "each other while dissimilar items are farther apart**.\n",
      "\n",
      "A good embedding is one that does well on a downstream task, such as\n",
      "retrieving similar items. Huggingface’s [Massive Text Embedding Benchmark\n",
      "(MTEB)](https://huggingface.co/spaces/mteb/leaderboard) scores various models\n",
      "on diverse tasks such as classification, clustering, retrieval, summarization,\n",
      "etc.\n",
      "\n",
      "Quick note: While we mainly discuss text embeddings here, embeddings can take\n",
      "many modalities. For example, [CLIP](https://arxiv.org/abs/2103.00020) is\n",
      "multimodal and embeds images and text in the same space, allowing us to find\n",
      "images most similar to an input text. We can also [embed products based on\n",
      "user behavior](/writing/search-query-matching/#supervised-techniques-improves-\n",
      "modeling-of-our-desired-event) (e.g., clicks, purchases) or [graph\n",
      "relationships](/writing/search-query-matching/#self-supervised-techniques-no-\n",
      "need-for-labels).\n",
      "\n",
      "**RAG has its roots in open-domain Q &A.** An early [Meta\n",
      "paper](https://arxiv.org/abs/2005.04611) showed that retrieving relevant\n",
      "documents via TF-IDF and providing them as context to a language model (BERT)\n",
      "improved performance on an open-domain QA task. They converted each task into\n",
      "a cloze statement and queried the language model for the missing token.\n",
      "\n",
      "Following that, **[Dense Passage Retrieval\n",
      "(DPR)](https://arxiv.org/abs/2004.04906)** showed that using dense embeddings\n",
      "(instead of a sparse vector space such as TF-IDF) for document retrieval can\n",
      "outperform strong baselines like Lucene BM25 (65.2% vs. 42.9% for top-5\n",
      "accuracy.) They also showed that higher retrieval precision translates to\n",
      "higher end-to-end QA accuracy, highlighting the importance of upstream\n",
      "retrieval.\n",
      "\n",
      "To learn the DPR embedding, they fine-tuned two independent BERT-based\n",
      "encoders on existing question-answer pairs. The passage encoder (\\\\(E_p\\\\))\n",
      "embeds text passages into vectors while the query encoder (\\\\(E_q\\\\)) embeds\n",
      "questions into vectors. The query embedding is then used to retrieve \\\\(k\\\\)\n",
      "passages that are most similar to the question.\n",
      "\n",
      "They trained the encoders so that the dot-product similarity makes a good\n",
      "ranking function, and optimized the loss function as the negative log-\n",
      "likelihood of the positive passage. The DPR embeddings are optimized for\n",
      "maximum inner product between the question and relevant passage vectors. The\n",
      "goal is to learn a vector space such that pairs of questions and their\n",
      "relevant passages are close together.\n",
      "\n",
      "For inference, they embed all passages (via \\\\(E_p\\\\)) and index them in FAISS\n",
      "offline. Then, given a question at query time, they compute the question\n",
      "embedding (via \\\\(E_q\\\\)), retrieve the top \\\\(k\\\\) passages via approximate\n",
      "nearest neighbors, and provide it to the language model (BERT) that outputs\n",
      "the answer to the question.\n",
      "\n",
      "**[Retrieval Augmented Generation (RAG)](https://arxiv.org/abs/2005.11401)** ,\n",
      "from which this pattern gets its name, highlighted the downsides of pre-\n",
      "trained LLMs. These include not being able to expand or revise memory, not\n",
      "providing insights into generated output, and hallucinations.\n",
      "\n",
      "To address these downsides, they introduced RAG (aka semi-parametric models).\n",
      "Dense vector retrieval serves as the non-parametric component while a pre-\n",
      "trained LLM acts as the parametric component. They reused the DPR encoders to\n",
      "initialize the retriever and build the document index. For the LLM, they used\n",
      "BART, a 400M parameter seq2seq model.\n",
      "\n",
      "![Overview of Retrieval Augmented Generation](/assets/rag.jpg)\n",
      "\n",
      "Overview of Retrieval Augmented Generation\n",
      "([source](https://arxiv.org/abs/2005.11401))\n",
      "\n",
      "During inference, they concatenate the input with the retrieved document.\n",
      "Then, the LLM generates \\\\(\\text{token}_i\\\\) based on the original input, the\n",
      "retrieved document, and the previous \\\\(i-1\\\\) tokens. For generation, they\n",
      "proposed two approaches that vary in how the retrieved passages are used to\n",
      "generate output.\n",
      "\n",
      "In the first approach, RAG-Sequence, the model uses the same document to\n",
      "generate the complete sequence. Thus, for \\\\(k\\\\) retrieved documents, the\n",
      "generator produces an output for each document. Then, the probability of each\n",
      "output sequence is marginalized (sum the probability of each output sequence\n",
      "in \\\\(k\\\\) and weigh it by the probability of each document being retrieved).\n",
      "Finally, the output sequence with the highest probability is selected.\n",
      "\n",
      "On the other hand, RAG-Token can generate each token based on a _different_\n",
      "document. Given \\\\(k\\\\) retrieved documents, the generator produces a\n",
      "distribution for the next output token for each document before marginalizing\n",
      "(aggregating all the individual token distributions.). The process is then\n",
      "repeated for the next token. This means that, for each token generation, it\n",
      "can retrieve a different set of \\\\(k\\\\) relevant documents based on the\n",
      "original input _and_ previously generated tokens. Thus, documents can have\n",
      "different retrieval probabilities and contribute differently to the next\n",
      "generated token.\n",
      "\n",
      "[**Fusion-in-Decoder (FiD)**](https://arxiv.org/abs/2007.01282) also uses\n",
      "retrieval with generative models for open-domain QA. It supports two methods\n",
      "for retrieval, BM25 (Lucene with default parameters) and DPR. FiD is named for\n",
      "how it performs fusion on the retrieved documents in the decoder only.\n",
      "\n",
      "![Overview of Fusion-in-Decoder](/assets/fid.jpg)\n",
      "\n",
      "Overview of Fusion-in-Decoder ([source](https://arxiv.org/abs/2007.01282))\n",
      "\n",
      "For each retrieved passage, the title and passage are concatenated with the\n",
      "question. These pairs are processed independently in the encoder. They also\n",
      "add special tokens such as `question:`, `title:`, and `context:` before their\n",
      "corresponding sections. The decoder attends over the concatenation of these\n",
      "retrieved passages.\n",
      "\n",
      "Because it processes passages independently in the encoder, it can scale to a\n",
      "large number of passages as it only needs to do self-attention over one\n",
      "context at a time. Thus, compute grows linearly (instead of quadratically)\n",
      "with the number of retrieved passages, making it more scalable than\n",
      "alternatives such as RAG-Token. Then, during decoding, the decoder processes\n",
      "the encoded passages jointly, allowing it to better aggregate context across\n",
      "multiple retrieved passages.\n",
      "\n",
      "[**Retrieval-Enhanced Transformer (RETRO)**](https://arxiv.org/abs/2112.04426)\n",
      "adopts a similar pattern where it combines a frozen BERT retriever, a\n",
      "differentiable encoder, and chunked cross-attention to generate output. What’s\n",
      "different is that RETRO does retrieval throughout the entire pre-training\n",
      "stage, and not just during inference. Furthermore, they fetch relevant\n",
      "documents based on chunks of the input. This allows for finer-grained,\n",
      "repeated retrieval during generation instead of only retrieving once per\n",
      "query.\n",
      "\n",
      "For each input chunk (\\\\(C_u\\\\)), the \\\\(k\\\\) retrieved chunks \\\\(RET(C_u)\\\\)\n",
      "are fed into an encoder. The output is the encoded neighbors \\\\(E^{j}_{u}\\\\)\n",
      "where \\\\(E^{j}_{u} = \\text{Encoder}(\\text{RET}(C_{u})^{j}, H_{u}) \\in\n",
      "\\mathbb{R}^{r \\times d_{0}}\\\\). Here, each chunk encoding is conditioned on\n",
      "\\\\(H_u\\\\) (the intermediate activations) and the activations of chunk\n",
      "\\\\(C_u\\\\) through cross-attention layers. In short, the encoding of the\n",
      "retrieved chunks depends on the attended activation of the input chunk.\n",
      "\\\\(E^{j}_{u}\\\\) is then used to condition the generation of the next chunk.\n",
      "\n",
      "![Overview of RETRO](/assets/retro.jpg)\n",
      "\n",
      "Overview of RETRO ([source](https://arxiv.org/abs/2112.04426))\n",
      "\n",
      "During retrieval, RETRO splits the input sequence into chunks of 64 tokens.\n",
      "Then, it finds text similar to the _previous_ chunk to provide context to the\n",
      "_current_ chunk. The retrieval index consists of two contiguous chunks of\n",
      "tokens, \\\\(N\\\\) and \\\\(F\\\\). The former is the neighbor chunk (64 tokens)\n",
      "which is used to compute the key while the latter is the continuation chunk\n",
      "(64 tokens) in the original document.\n",
      "\n",
      "Retrieval is based on approximate \\\\(k\\\\)-nearest neighbors via \\\\(L_2\\\\)\n",
      "distance (euclidean) on BERT embeddings. (Interesting departure from the usual\n",
      "cosine or dot product similarity.) The retrieval index, built on SCaNN, can\n",
      "query a 2T token database in 10ms.\n",
      "\n",
      "They also demonstrated how to RETRO-fit existing baseline models. By freezing\n",
      "the pre-trained weights and only training the chunked cross-attention and\n",
      "neighbor encoder parameters (< 10% of weights for a 7B model), they can\n",
      "enhance transformers with retrieval while only requiring 6M training sequences\n",
      "(3% of pre-training sequences). RETRO-fitted models were able to surpass the\n",
      "performance of baseline models and achieve performance close to that of RETRO\n",
      "trained from scratch.\n",
      "\n",
      "![Performance from RETRO-fitting a pre-trained model](/assets/retrofit.jpg)\n",
      "\n",
      "Performance from RETRO-fitting a pre-trained model\n",
      "([source](https://arxiv.org/abs/2112.04426))\n",
      "\n",
      "**[Internet-augmented LMs](https://arxiv.org/abs/2203.05115)** proposes using\n",
      "a humble “off-the-shelf” search engine to augment LLMs. First, they retrieve a\n",
      "set of relevant documents via Google Search. Since these retrieved documents\n",
      "tend to be long (average length 2,056 words), they chunk them into paragraphs\n",
      "of six sentences each. Finally, they embed the question and paragraphs via TF-\n",
      "IDF and applied cosine similarity to rank the most relevant paragraphs for\n",
      "each query.\n",
      "\n",
      "![Overview of internet-augmented LLMs](/assets/internet-llm.jpg)\n",
      "\n",
      "Overview of internet-augmented LLMs\n",
      "([source](https://arxiv.org/abs/2203.05115))\n",
      "\n",
      "The retrieved paragraphs are used to condition the LLM via few-shot prompting.\n",
      "They adopt the conventional \\\\(k\\\\)-shot prompting (\\\\(k=15\\\\)) from closed-\n",
      "book QA (only providing question-answer pairs) and extend it with an evidence\n",
      "paragraph, such that each context is an evidence, question, and answer\n",
      "triplet.\n",
      "\n",
      "For the generator, they used Gopher, a 280B parameter model trained on 300B\n",
      "tokens. For each question, they generated four candidate answers based on each\n",
      "of the 50 retrieved paragraphs. Finally, they select the best answer by\n",
      "estimating the answer probability via several methods including direct\n",
      "inference, RAG, noisy channel inference, and Product-of-Experts (PoE). PoE\n",
      "consistently performed the best.\n",
      "\n",
      "RAG has also been **applied to non-QA tasks such as code generation**. While\n",
      "**[CodeT5+](https://arxiv.org/abs/2305.07922)** can be used as a standalone\n",
      "generator, when combined with RAG, it significantly outperforms similar models\n",
      "in code generation.\n",
      "\n",
      "To assess the impact of RAG on code generation, they evaluate the model in\n",
      "three settings:\n",
      "\n",
      "  * Retrieval-based: Fetch the top-1 code sample as the prediction\n",
      "  * Generative-only: Output code based on the decoder only\n",
      "  * Retrieval-augmented: Append top-1 code sample to encoder input before code generation via the decoder.\n",
      "\n",
      "![>Overview of RAG for CodeT5+](/assets/codet5.jpg)\n",
      "\n",
      "Overview of RAG for CodeT5+ ([source](https://arxiv.org/abs/2305.07922))\n",
      "\n",
      "As a qualitative example, they showed that retrieved code provides crucial\n",
      "context (e.g., use `urllib3` for an HTTP request) and guides the generative\n",
      "process towards more correct predictions. In contrast, the generative-only\n",
      "approach returns incorrect output that only captures the concepts of\n",
      "“download” and “compress”.\n",
      "\n",
      "**What if we don’t have relevance judgments for query-passage pairs?** Without\n",
      "them, we would not be able to train the bi-encoders that embed the queries and\n",
      "documents in the same embedding space where relevance is represented by the\n",
      "inner product. **[Hypothetical document embeddings\n",
      "(HyDE)](https://arxiv.org/abs/2212.10496)** suggests a solution.\n",
      "\n",
      "![Overview of HyDE](/assets/hyde.jpg)\n",
      "\n",
      "Overview of HyDE ([source](https://arxiv.org/abs/2212.10496))\n",
      "\n",
      "Given a query, HyDE first prompts an LLM, such as InstructGPT, to generate a\n",
      "hypothetical document. Then, an unsupervised encoder, such as Contriver,\n",
      "encodes the document into an embedding vector. Finally, the inner product is\n",
      "computed between the _hypothetical_ document and the corpus, and the most\n",
      "similar _real_ documents are retrieved.\n",
      "\n",
      "The expectation is that the encoder’s dense bottleneck serves as a lossy\n",
      "compressor and the extraneous, non-factual details are excluded via the\n",
      "embedding. This reframes the relevance modeling problem from a representation\n",
      "learning task to a generation task.\n",
      "\n",
      "### How to apply RAG\n",
      "\n",
      "From experience with [Obsidian-Copilot](/writing/obsidian-copilot/), I’ve\n",
      "found that hybrid retrieval (traditional search index + embedding-based\n",
      "search) works better than either alone. There, I complemented classical\n",
      "retrieval (BM25 via OpenSearch) with semantic search (`e5-small-v2`).\n",
      "\n",
      "Why not embedding-based search only? While it’s great in many instances, there\n",
      "are situations where it falls short, such as:\n",
      "\n",
      "  * Searching for a person or object’s name (e.g., Eugene, Kaptir 2.0)\n",
      "  * Searching for an acronym or phrase (e.g., RAG, RLHF)\n",
      "  * Searching for an ID (e.g., `gpt-3.5-turbo`, `titan-xlarge-v1.01`)\n",
      "\n",
      "But keyword search has its limitations too. It only models simple word\n",
      "frequencies and doesn’t capture semantic or correlation information. Thus, it\n",
      "doesn’t deal well with synonyms or hypernyms (i.e., words that represent a\n",
      "generalization). This is where combining it with semantic search is\n",
      "complementary.\n",
      "\n",
      "In addition, with a conventional search index, we can use metadata to refine\n",
      "results. For example, we can use date filters to prioritize newer documents or\n",
      "narrow our search to a specific time period. And if the search is related to\n",
      "e-commerce, filters on average rating or categories are helpful. Finally,\n",
      "having metadata is handy for downstream ranking, such as prioritizing\n",
      "documents that are cited more, or boosting products by their sales volume.\n",
      "\n",
      "**With regard to embeddings** , the seemingly popular approach is to use\n",
      "[`text-embedding-ada-002`](https://openai.com/blog/new-and-improved-embedding-\n",
      "model). Its benefits include ease of use via an API and not having to maintain\n",
      "our own embedding infra or self-host embedding models. Nonetheless, personal\n",
      "experience and anecdotes from others suggest there are better alternatives for\n",
      "retrieval.\n",
      "\n",
      "The OG embedding approaches include Word2vec and\n",
      "[fastText](https://fasttext.cc). FastText is an open-source, lightweight\n",
      "library that enables users to leverage pre-trained embeddings or train new\n",
      "embedding models. It comes with pre-trained embeddings for 157 languages and\n",
      "is extremely fast, even without a GPU. It’s my go-to for early-stage proof of\n",
      "concepts.\n",
      "\n",
      "Another good baseline is [sentence-\n",
      "transformers](https://github.com/UKPLab/sentence-transformers). It makes it\n",
      "simple to compute embeddings for sentences, paragraphs, and even images. It’s\n",
      "based on workhorse transformers such as BERT and RoBERTa and is available in\n",
      "more than 100 languages.\n",
      "\n",
      "More recently, instructor models have shown SOTA performance. During training,\n",
      "these models prepend the task description to the text. Then, when embedding\n",
      "new text, we simply have to describe the task to get task-specific embeddings.\n",
      "(Not that different from instruction tuning for embedding models IMHO.)\n",
      "\n",
      "An example is the [E5](https://arxiv.org/abs/2212.03533) family of models. For\n",
      "open QA and information retrieval, we simply prepend documents in the index\n",
      "with `passage:`, and prepend queries with `query:`. If the task is symmetric\n",
      "(e.g., semantic similarity, paraphrase retrieval) or if we want to use\n",
      "embeddings as features (e.g., classification, clustering), we just use the\n",
      "`query:` prefix.\n",
      "\n",
      "The [Instructor](https://arxiv.org/abs/2212.09741) model takes it a step\n",
      "further, allowing users to customize the prepended prompt: “Represent the\n",
      "`domain` `task_type` for the `task_objective`:” For example, “Represent the\n",
      "Wikipedia document for retrieval:”. (The domain and task objective are\n",
      "optional). This brings the concept of prompt tuning into the field of text\n",
      "embedding.\n",
      "\n",
      "Finally, as of Aug 1st, the top embedding model on the [MTEB\n",
      "Leaderboard](https://huggingface.co/spaces/mteb/leaderboard) is the\n",
      "[GTE](https://huggingface.co/thenlper/gte-large) family of models by Alibaba\n",
      "DAMO Academy. The top performing model’s size is half of the next best model\n",
      "`e5-large-v2` (0.67GB vs 1.34GB). In 2nd position is `gte-base` with a model\n",
      "size of only 0.22GB and embedding dimension of 768. (H/T\n",
      "[Nirant](https://twitter.com/NirantK).)\n",
      "\n",
      "To retrieve documents with low latency at scale, we use approximate nearest\n",
      "neighbors (ANN). It optimizes for retrieval speed and returns the approximate\n",
      "(instead of exact) top \\\\(k\\\\) most similar neighbors, trading off a little\n",
      "accuracy loss for a large speed up.\n",
      "\n",
      "ANN embedding indices are data structures that let us do ANN searches\n",
      "efficiently. At a high level, they build partitions over the embedding space\n",
      "so we can quickly zoom in on the specific space where the query vector is.\n",
      "Some popular techniques include:\n",
      "\n",
      "  * [Locality Sensitive Hashing](https://en.wikipedia.org/wiki/Locality-sensitive_hashing) (LSH): The core idea is to create hash functions so that similar items are likely to end up in the same hash bucket. By only needing to check the relevant buckets, we can perform ANN queries efficiently.\n",
      "  * [Facebook AI Similarity Search](https://github.com/facebookresearch/faiss) (FAISS): It uses a combination of quantization and indexing for efficient retrieval, supports both CPU and GPU, and can handle billions of vectors due to its efficient use of memory.\n",
      "  * [Hierarchical Navigable Small Worlds](https://github.com/nmslib/hnswlib) (HNSW): Inspired by “six degrees of separation”, it builds a hierarchical graph structure that embodies the small world phenomenon. Here, most nodes can be reached from any other node via a minimum number of hops. This structure allows HNSW to initiate queries from broader, coarser approximations and progressively narrow the search at lower levels.\n",
      "  * [Scalable Nearest Neighbors](https://github.com/google-research/google-research/tree/master/scann) (ScaNN): It has a two-step process. First, coarse quantization reduces the search space. Then, fine-grained search is done within the reduced set. Best recall/latency trade-off I’ve seen.\n",
      "\n",
      "When evaluating an ANN index, some factors to consider include:\n",
      "\n",
      "  * Recall: How does it fare against exact nearest neighbors?\n",
      "  * Latency/throughput: How many queries can it handle per second?\n",
      "  * Memory footprint: How much RAM is required to serve an index?\n",
      "  * Ease of adding new items: Can new items be added without having to reindex all documents (LSH) or does the index need to be rebuilt (ScaNN)?\n",
      "\n",
      "No single framework is better than all others in every aspect. Thus, start by\n",
      "defining your functional and non-functional requirements before benchmarking.\n",
      "Personally, I’ve found ScaNN to be outstanding in the recall-latency trade-off\n",
      "(see benchmark graph [here](/writing/real-time-recommendations/#how-to-design-\n",
      "and-implement-an-mvp)).\n",
      "\n",
      "## Fine-tuning: To get better at specific tasks\n",
      "\n",
      "Fine-tuning is the process of taking a pre-trained model (that has already\n",
      "been trained with a vast amount of data) and further refining it on a specific\n",
      "task. The intent is to harness the knowledge that the model has already\n",
      "acquired during its pre-training and apply it to a specific task, usually\n",
      "involving a smaller, task-specific, dataset.\n",
      "\n",
      "The term “fine-tuning” is used loosely and can refer to several concepts such\n",
      "as:\n",
      "\n",
      "  * **Continued pre-training** : With domain-specific data, apply the same pre-training regime (next token prediction, masked language modeling) on the base model.\n",
      "  * **Instruction fine-tuning** : The pre-trained (base) model is fine-tuned on examples of instruction-output pairs to follow instructions, answer questions, be waifu, etc.\n",
      "  * **Single-task fine-tuning** : The pre-trained model is honed for a narrow and specific task such as toxicity detection or summarization, similar to BERT and T5.\n",
      "  * **Reinforcement learning with human feedback (RLHF)** : This combines instruction fine-tuning with reinforcement learning. It requires collecting human preferences (e.g., pairwise comparisons) which are then used to train a reward model. The reward model is then used to further fine-tune the instructed LLM via RL techniques such as proximal policy optimization (PPO).\n",
      "\n",
      "We’ll mainly focus on single-task and instruction fine-tuning here.\n",
      "\n",
      "### Why fine-tuning?\n",
      "\n",
      "Fine-tuning an open LLM is becoming an increasingly viable alternative to\n",
      "using a 3rd-party, cloud-based LLM for several reasons.\n",
      "\n",
      "**Performance & control:** Fine-tuning can improve the performance of an off-\n",
      "the-shelf base model, and may even surpass a 3rd-party LLM. It also provides\n",
      "greater control over LLM behavior, resulting in a more robust system or\n",
      "product. Overall, fine-tuning enables us to build products that are\n",
      "differentiated from simply using 3rd-party or open LLMs.\n",
      "\n",
      "**Modularization:** Single-task fine-tuning lets us to use an army of smaller\n",
      "models that each specialize on their own tasks. Via this setup, a system can\n",
      "be modularized into individual models for tasks like content moderation,\n",
      "extraction, summarization, etc. Also, given that each model only has to focus\n",
      "on a narrow set of tasks, we can get around the alignment tax, where fine-\n",
      "tuning a model on one task reduces performance on other tasks.\n",
      "\n",
      "**Reduced dependencies:** By fine-tuning and hosting our own models, we can\n",
      "reduce legal concerns about proprietary data (e.g., PII, internal documents\n",
      "and code) being exposed to external APIs. It also gets around constraints that\n",
      "come with 3rd-party LLMs such as rate-limiting, high costs, or overly\n",
      "restrictive safety filters. By fine-tuning and hosting our own LLMs, we can\n",
      "ensure data doesn’t leave our network, and can scale throughput as needed.\n",
      "\n",
      "### More about fine-tuning\n",
      "\n",
      "Why do we need to fine-tune a _base_ model? At the risk of oversimplifying,\n",
      "base models are primarily optimized to predict the next word based on the\n",
      "corpus they’re trained on. Hence, they aren’t naturally adept at following\n",
      "instructions or answering questions. When posed a question, they tend to\n",
      "respond with more questions. Thus, we perform instruction fine-tuning so they\n",
      "learn to respond appropriately.\n",
      "\n",
      "However, fine-tuning isn’t without its challenges. First, we **need a\n",
      "significant volume of demonstration data**. For instance, in the [InstructGPT\n",
      "paper](https://arxiv.org/abs/2203.02155), they used 13k instruction-output\n",
      "samples for supervised fine-tuning, 33k output comparisons for reward\n",
      "modeling, and 31k prompts without human labels as input for RLHF.\n",
      "\n",
      "Furthermore, fine-tuning comes with an alignment tax—the process can lead to\n",
      "**lower performance on certain critical tasks**. (There’s no free lunch after\n",
      "all.) The same InstructGPT paper found that RLHF led to performance\n",
      "regressions (relative to the GPT-3 base model) on public NLP tasks like SQuAD,\n",
      "HellaSwag, and WMT 2015 French to English. (A workaround is to have several\n",
      "smaller, specialized models that excel at narrow tasks.)\n",
      "\n",
      "Fine-tuning is similar to the concept of transfer learning. As defined in\n",
      "Wikipedia: “Transfer learning is a technique in machine learning in which\n",
      "knowledge learned from a task is re-used to boost performance on a related\n",
      "task.” Several years ago, transfer learning made it easy for me to apply\n",
      "ResNet models trained on ImageNet to [classify fashion\n",
      "products](/writing/image-categorization-is-now-live/) and [build image\n",
      "search](/writing/image-search-is-now-live/).\n",
      "\n",
      "**[ULMFit](https://arxiv.org/abs/1801.06146)** is one of the earlier papers to\n",
      "apply transfer learning to text. They established the protocol of self-\n",
      "supervised pre-training (on unlabeled data) followed by fine-tuning (on\n",
      "labeled data). They used AWS-LSTM, an LSTM variant with dropout at various\n",
      "gates.\n",
      "\n",
      "![Overview of ULMFit](/assets/ulmfit.jpg)\n",
      "\n",
      "Overview of ULMFit ([source](https://arxiv.org/abs/1801.06146))\n",
      "\n",
      "During pre-training (next word prediction), the model is trained on\n",
      "wikitext-103 which contains 28.6 Wikipedia articles and 103M words. Then,\n",
      "during target task fine-tuning, the LM is fine-tuned with data from the domain\n",
      "of the specific task. Finally, during classifier fine-tuning, the model is\n",
      "augmented with two additional linear blocks and fine-tuned on the target\n",
      "classification tasks which includes sentiment analysis, question\n",
      "classification, and topic classification.\n",
      "\n",
      "Since then, the pre-training followed by fine-tuning paradigm has driven much\n",
      "progress in language modeling. **[Bidirectional Encoder Representations from\n",
      "Transformers (BERT; encoder only)](https://arxiv.org/abs/1810.04805)** was\n",
      "pre-trained on masked language modeling and next sentence prediction on\n",
      "English Wikipedia and BooksCorpus. It was then fine-tuned on task-specific\n",
      "inputs and labels for single-sentence classification, sentence pair\n",
      "classification, single-sentence tagging, and question & answering.\n",
      "\n",
      "![Overview of BERT](/assets/bert.jpg)\n",
      "\n",
      "Overview of BERT ([source](https://arxiv.org/abs/1810.04805))\n",
      "\n",
      "**[Generative Pre-trained Transformers (GPT; decoder only)](https://s3-us-\n",
      "west-2.amazonaws.com/openai-assets/research-covers/language-\n",
      "unsupervised/language_understanding_paper.pdf)** was first pre-trained on\n",
      "BooksCorpus via next token prediction. This was followed by single-task fine-\n",
      "tuning for tasks such as text classification, textual entailment, similarity,\n",
      "and Q&A. Interestingly, they found that including language modeling as an\n",
      "auxiliary objective helped the model generalize and converge faster during\n",
      "training.\n",
      "\n",
      "![Overview of GPT](/assets/gpt.jpg)\n",
      "\n",
      "Overview of GPT ([source](https://s3-us-west-2.amazonaws.com/openai-\n",
      "assets/research-covers/language-unsupervised/language_understanding_paper.pd))\n",
      "\n",
      "**[Text-to-text Transfer Transformer (T5; encoder-\n",
      "decoder)](https://arxiv.org/abs/1910.10683)** was pre-trained on the Colossal\n",
      "Clean Crawled Corpus (C4), a cleaned version of the Common Crawl from April\n",
      "2019. It employed the same denoising objective as BERT, namely masked language\n",
      "modeling. It was then fine-tuned on tasks such as text classification,\n",
      "abstractive summarization, Q&A, and machine translation.\n",
      "\n",
      "![Overview of T5](/assets/t5.jpg)\n",
      "\n",
      "Overview of T5 ([source](https://arxiv.org/abs/1910.10683))\n",
      "\n",
      "But unlike ULMFIt, BERT, and GPT which used different classifier heads for\n",
      "downstream tasks, T5 represented downstream tasks as text-to-text only. For\n",
      "example, a translation task would have input text starting with `Translation\n",
      "English to German:`, while a summarization task might start with `Summarize:`\n",
      "or `TL;DR:`. The prefix essentially became a hyperparameter (first instance of\n",
      "prompt engineering?) This design choice allowed them to use a single fine-\n",
      "tuned model across a variety of downstream tasks.\n",
      "\n",
      "**[InstructGPT](https://arxiv.org/abs/2203.02155)** expanded this idea of\n",
      "single-task fine-tuning to instruction fine-tuning. The base model was GPT-3,\n",
      "pre-trained on internet data including Common Crawl, WebText, Books, and\n",
      "Wikipedia. It then applied supervised fine-tuning on demonstrations of desired\n",
      "behavior (instruction and output). Next, it trained a reward model on the\n",
      "dataset of comparisons. Finally, it optimized the instructed model against the\n",
      "reward model via PPO, with this last stage focusing more on alignment than\n",
      "specific task performance.\n",
      "\n",
      "![Overview of fine-tuning steps in InstructGPT](/assets/instructgpt.jpg)\n",
      "\n",
      "Overview of fine-tuning steps in InstructGPT\n",
      "([source](https://arxiv.org/abs/2203.02155))\n",
      "\n",
      "Next, let’s move from fine-tuned models to fine-tuning techniques.\n",
      "\n",
      "**[Soft prompt tuning](https://arxiv.org/abs/2104.08691)** prepends a\n",
      "trainable tensor to the model’s input embeddings, essentially creating a soft\n",
      "prompt. Unlike discrete text prompts, soft prompts can be learned via\n",
      "backpropagation, meaning they can be fine-tuned to incorporate signals from\n",
      "any number of labeled examples.\n",
      "\n",
      "Next, there’s **[prefix tuning](https://arxiv.org/abs/2101.00190)**. Instead\n",
      "of adding a soft prompt to the model input, it prepends trainable parameters\n",
      "to the hidden states of all transformer blocks. During fine-tuning, the LM’s\n",
      "original parameters are kept frozen while the prefix parameters are updated.\n",
      "\n",
      "![Overview of prefix-tuning](/assets/prefix.jpg)\n",
      "\n",
      "Overview of prefix-tuning ([source](https://arxiv.org/abs/2101.00190))\n",
      "\n",
      "The paper showed that this achieved performance comparable to full fine-tuning\n",
      "despite requiring updates on just 0.1% of parameters. Moreover, in settings\n",
      "with limited data and involved extrapolation to new topics, it outperformed\n",
      "full fine-tuning. One hypothesis is that training fewer parameters helped\n",
      "reduce overfitting on smaller target datasets.\n",
      "\n",
      "There’s also the **[adapter](https://arxiv.org/abs/1902.00751)** technique.\n",
      "This method adds fully connected network layers twice to each transformer\n",
      "block, after the attention layer and after the feed-forward network layer. On\n",
      "GLUE, it’s able to achieve within 0.4% of the performance of full fine-tuning\n",
      "by just adding 3.6% parameters per task.\n",
      "\n",
      "![Overview of adapters](/assets/adapter.jpg)\n",
      "\n",
      "Overview of adapters ([source](https://arxiv.org/abs/1902.00751))\n",
      "\n",
      "**[Low-Rank Adaptation (LoRA)](https://arxiv.org/abs/2106.09685)** is a\n",
      "technique where adapters are designed to be the product of two low-rank\n",
      "matrices. It was inspired by [Aghajanyan et\n",
      "al.](https://arxiv.org/abs/2012.13255) which showed that, when adapting to a\n",
      "specific task, pre-trained language models have a low intrinsic dimension and\n",
      "can still learn efficiently despite a random projection into a smaller\n",
      "subspace. Thus, LoRA hypothesized that weight updates during adaption also\n",
      "have low intrinsic rank.\n",
      "\n",
      "![Overview of LoRA](/assets/lora.jpg)\n",
      "\n",
      "Overview of LoRA ([source](https://arxiv.org/abs/2106.09685))\n",
      "\n",
      "Similar to prefix tuning, they found that LoRA outperformed several baselines\n",
      "including full fine-tuning. Again, the hypothesis is that LoRA, thanks to its\n",
      "reduced rank, provides implicit regularization. In contrast, full fine-tuning,\n",
      "which updates all weights, could be prone to overfitting.\n",
      "\n",
      "**[QLoRA](https://arxiv.org/abs/2305.14314)** builds on the idea of LoRA. But\n",
      "instead of using the full 16-bit model during fine-tuning, it applies a 4-bit\n",
      "quantized model. It introduced several innovations such as 4-bit NormalFloat\n",
      "(to quantize models), double quantization (for additional memory savings), and\n",
      "paged optimizers (that prevent OOM errors by transferring data to CPU RAM when\n",
      "the GPU runs out of memory).\n",
      "\n",
      "![Overview of QLoRA](/assets/qlora.jpg)\n",
      "\n",
      "Overview of QLoRA ([source](https://arxiv.org/abs/2305.14314))\n",
      "\n",
      "As a result, QLoRA reduces the average memory requirements for fine-tuning a\n",
      "65B model from > 780GB memory to a more manageable 48B without degrading\n",
      "runtime or predictive performance compared to a 16-bit fully fine-tuned\n",
      "baseline.\n",
      "\n",
      "(Fun fact: During a meetup with Tim Dettmers, an author of QLoRA, he quipped\n",
      "that double quantization was “a bit of a silly idea but works perfectly.” Hey,\n",
      "if it works, it works.)\n",
      "\n",
      "### How to apply fine-tuning?\n",
      "\n",
      "The first step is to **collect demonstration data/labels**. These could be for\n",
      "straightforward tasks such as document classification, entity extraction, or\n",
      "summarization, or they could be more complex such as Q&A or dialogue. Some\n",
      "ways to collect this data include:\n",
      "\n",
      "  * **Via experts or crowd-sourced human annotators** : While this is expensive and slow, it usually leads to higher-quality data with [good guidelines](/writing/labeling-guidelines/).\n",
      "  * **Via user feedback** : This can be as simple as asking users to select attributes that describe a product, rating LLM responses with thumbs up or down (e.g., ChatGPT), or logging which images users choose to download (e.g., Midjourney).\n",
      "  * **Query larger open models with permissive licenses** : With prompt engineering, we might be able to elicit reasonable demonstration data from a larger model (Falcon 40B Instruct) that can be used to fine-tune a smaller model.\n",
      "  * **Reuse open-source data** : If your task can be framed as a natural language inference (NLI) task, we could fine-tune a model to perform NLI using [MNLI data](https://cims.nyu.edu/~sbowman/multinli/). Then, we can continue fine-tuning the model on internal data to classify inputs as entailment, neutral, or contradiction.\n",
      "\n",
      "Note: Some LLM terms prevent users from using their output to develop other\n",
      "models.\n",
      "\n",
      "  * [OpenAI Terms of Use](https://openai.com/policies/terms-of-use) (Section 2c, iii): You may not use output from the Services to develop models that compete with OpenAI.\n",
      "  * [LLaMA 2 Community License Agreement](https://ai.meta.com/llama/license/) (Section 1b-v): You will not use the Llama Materials or any output or results of the Llama Materials to improve any other large language model (excluding Llama 2 or derivative works thereof).\n",
      "\n",
      "The next step is to **define evaluation metrics**. We’ve discussed this in a\n",
      "previous section.\n",
      "\n",
      "Then, **select a pre-trained model.** There are [several open LLMs with\n",
      "permissive licenses](https://github.com/eugeneyan/open-llms) to choose from.\n",
      "Excluding Llama 2 (since it isn’t fully commercial use), Falcon-40B is known\n",
      "to be the best-performing model. Nonetheless, I’ve found it unwieldy to fine-\n",
      "tune and serve in production given how heavy it is.\n",
      "\n",
      "Instead, I’m inclined to use smaller models like the Falcon-7B. And if we can\n",
      "simplify and frame the task more narrowly, BERT (340M params), RoBERTA (355M\n",
      "params), and BART (406M params) are solid picks for classification and natural\n",
      "language inference tasks. Beyond that, Flan-T5 (770M and 3B variants) is a\n",
      "reliable baseline for translation, abstractive summarization, headline\n",
      "generation, etc.\n",
      "\n",
      "We may also need to **update the model architecture** , such as when the pre-\n",
      "trained model’s architecture doesn’t align with the task. For example, we\n",
      "might need to update the classification heads on BERT or T5 to match our task.\n",
      "Tip: If the task is a simple binary classification task, NLI models can work\n",
      "out of the box. Entailment is mapped to positive, contradiction is mapped to\n",
      "negative, while the neural label can indicate uncertainty.\n",
      "\n",
      "**Then, pick a fine-tuning approach.** LoRA and QLoRA are good places to\n",
      "start. But if your fine-tuning is more intensive, such as continued pre-\n",
      "training on new domain knowledge, you may find full fine-tuning necessary.\n",
      "\n",
      "**Finally, basic hyperparameter tuning.** Generally, most papers focus on\n",
      "learning rate, batch size, and number of epochs (see LoRA, QLoRA). And if\n",
      "we’re using LoRA, we might want to tune the rank parameter (though the QLoRA\n",
      "paper found that different rank and alpha led to similar results). Other\n",
      "hyperparameters include input sequence length, loss type (contrastive loss vs.\n",
      "token match), and data ratios (like the mix of pre-training or demonstration\n",
      "data, or the ratio of positive to negative examples, among others).\n",
      "\n",
      "## Caching: To reduce latency and cost\n",
      "\n",
      "Caching is a technique to store data that has been previously retrieved or\n",
      "computed. This way, future requests for the same data can be served faster. In\n",
      "the space of serving LLM generations, the popularized approach is to cache the\n",
      "LLM response keyed on the embedding of the input request. Then, for each new\n",
      "request, if a semantically similar request is received, we can serve the\n",
      "cached response.\n",
      "\n",
      "For some practitioners, this sounds like “[a disaster waiting to\n",
      "happen.](https://twitter.com/HanchungLee/status/1681146845186363392)” I’m\n",
      "inclined to agree. Thus, I think the key to adopting this pattern is figuring\n",
      "out how to cache safely, instead of solely depending on semantic similarity.\n",
      "\n",
      "### Why caching?\n",
      "\n",
      "Caching can significantly reduce latency for responses that have been served\n",
      "before. In addition, by eliminating the need to compute a response for the\n",
      "same input again and again, we can reduce the number of LLM requests and thus\n",
      "save cost. Also, there are certain use cases that do not support latency on\n",
      "the order of seconds. Thus, pre-computing and caching may be the only way to\n",
      "serve those use cases.\n",
      "\n",
      "### More about caching\n",
      "\n",
      "A cache is a high-speed storage layer that stores a subset of data that’s\n",
      "accessed more frequently. This lets us serve these requests faster via the\n",
      "cache instead of the data’s primary storage (e.g., search index, relational\n",
      "database). Overall, caching enables efficient reuse of previously fetched or\n",
      "computed data. (More about [caching](https://aws.amazon.com/caching/) and\n",
      "[best practices](https://aws.amazon.com/caching/best-practices/).)\n",
      "\n",
      "An example of caching for LLMs is\n",
      "[GPTCache](https://github.com/zilliztech/GPTCache).\n",
      "\n",
      "![Overview of GPTCache](/assets/gptcache.jpg)\n",
      "\n",
      "Overview of GPTCache ([source](https://github.com/zilliztech/GPTCache))\n",
      "\n",
      "When a new request is received:\n",
      "\n",
      "  * Embedding generator: This embeds the request via various models such as OpenAI’s `text-embedding-ada-002`, FastText, Sentence Transformers, and more.\n",
      "  * Similarity evaluator: This computes the similarity of the request via the vector store and then provides a distance metric. The vector store can either be local (FAISS, Hnswlib) or cloud-based. It can also compute similarity via a model.\n",
      "  * Cache storage: If the request is similar, the cached response is fetched and served.\n",
      "  * LLM: If the request isn’t similar enough, it gets passed to the LLM which then generates the result. Finally, the response is served and cached for future use.\n",
      "\n",
      "Redis also shared a [similar\n",
      "example](https://www.youtube.com/live/9VgpXcfJYvw?feature=share&t=1517),\n",
      "mentioning that some teams go as far as precomputing all the queries they\n",
      "anticipate receiving. Then, they set a similarity threshold on which queries\n",
      "are similar enough to warrant a cached response.\n",
      "\n",
      "### How to apply caching?\n",
      "\n",
      "**We should start with having a good understanding of user request patterns**.\n",
      "This allows us to design the cache thoughtfully so it can be applied reliably.\n",
      "\n",
      "First, let’s consider a non-LLM example. Imagine we’re caching product prices\n",
      "for an e-commerce site. During checkout, is it safe to display the (possibly\n",
      "outdated) cached price? Probably not, since the price the customer sees during\n",
      "checkout should be the same as the final amount they’re charged. Caching isn’t\n",
      "appropriate here as we need to ensure consistency for the customer.\n",
      "\n",
      "Now, bringing it back to LLM responses. Imagine we get a request for a summary\n",
      "of “Mission Impossible 2” that’s semantically similar enough to “Mission\n",
      "Impossible 3”. If we’re looking up cache based on semantic similarity, we\n",
      "could serve the wrong response.\n",
      "\n",
      "We also need to **consider if caching is effective for the usage pattern.**\n",
      "One way to quantify this is via the cache hit rate (percentage of requests\n",
      "served directly from the cache). If the usage pattern is uniformly random, the\n",
      "cache would need frequent updates. Thus, the effort to keep the cache up-to-\n",
      "date could negate any benefit a cache has to offer. On the other hand, if the\n",
      "usage follows a power law where a small proportion of unique requests account\n",
      "for the majority of traffic (e.g., search queries, product views), then\n",
      "caching could be an effective strategy.\n",
      "\n",
      "Beyond semantic similarity, we could also explore caching based on:\n",
      "\n",
      "  * **Item IDs:** This applies when we pre-compute [summaries of product reviews](https://www.cnbc.com/2023/06/12/amazon-is-using-generative-ai-to-summarize-product-reviews.html) or generate a summary for an entire movie trilogy.\n",
      "  * **Pairs of Item IDs:** Such as when we generate comparisons between two movies. While this appears to be \\\\(O(N^2)\\\\), in practice, a small number of combinations drive the bulk of traffic, such as comparison between popular movies in a series or genre.\n",
      "  * **Constrained input:** Such as variables like movie genre, director, or lead actor. For example, if a user is looking for movies by a specific director, we could execute a structured query and run it through an LLM to frame the response more eloquently. Another example is [generating code based on drop-down options](https://cheatlayer.com)—if the code has been verified to work, we can cache it for reliable reuse.\n",
      "\n",
      "Also, **caching doesn’t only have to occur on-the-fly.** As Redis shared, we\n",
      "can pre-compute LLM generations offline or asynchronously before serving them.\n",
      "By serving from a cache, we shift the latency from generation (typically\n",
      "seconds) to cache lookup (milliseconds). Pre-computing in batch can also help\n",
      "reduce cost relative to serving in real-time.\n",
      "\n",
      "While the approaches listed here may not be as flexible as semantically\n",
      "caching on natural language inputs, I think it provides a good balance between\n",
      "efficiency and reliability.\n",
      "\n",
      "## Guardrails: To ensure output quality\n",
      "\n",
      "In the context of LLMs, guardrails validate the output of LLMs, ensuring that\n",
      "the output doesn’t just sound good but is also syntactically correct, factual,\n",
      "and free from harmful content. It also includes guarding against adversarial\n",
      "input.\n",
      "\n",
      "### Why guardrails?\n",
      "\n",
      "First, they help ensure that model outputs are reliable and consistent enough\n",
      "to use in production. For example, we may require output to be in a specific\n",
      "JSON schema so that it’s machine-readable, or we need code generated to be\n",
      "executable. Guardrails can help with such syntactic validation.\n",
      "\n",
      "Second, they provide an additional layer of safety and maintain quality\n",
      "control over an LLM’s output. For example, to verify if the content generated\n",
      "is appropriate for serving, we may want to check that the output isn’t\n",
      "harmful, verify it for factual accuracy, or ensure coherence with the context\n",
      "provided.\n",
      "\n",
      "### More about guardrails\n",
      "\n",
      "**One approach is to control the model’s responses via prompts.** For example,\n",
      "Anthropic shared about prompts designed to guide the model toward generating\n",
      "responses that are [helpful, harmless, and\n",
      "honest](https://arxiv.org/abs/2204.05862) (HHH). They found that Python fine-\n",
      "tuning with the HHH prompt led to better performance compared to fine-tuning\n",
      "with RLHF.\n",
      "\n",
      "![Example of HHH prompt](/assets/hhh.jpg)\n",
      "\n",
      "Example of HHH prompt ([source](https://arxiv.org/abs/2204.05862))\n",
      "\n",
      "**A more common approach is to validate the output.** An example is the\n",
      "[Guardrails package](https://github.com/ShreyaR/guardrails). It allows users\n",
      "to add structural, type, and quality requirements on LLM outputs via Pydantic-\n",
      "style validation. And if the check fails, it can trigger corrective action\n",
      "such as filtering on the offending output or regenerating another response.\n",
      "\n",
      "Most of the validation logic is in\n",
      "[`validators.py`](https://github.com/ShreyaR/guardrails/blob/main/guardrails/validators.py).\n",
      "It’s interesting to see how they’re implemented. Broadly speaking, its\n",
      "validators fall into the following categories:\n",
      "\n",
      "  * Single output value validation: This includes ensuring that the output (i) is one of the predefined choices, (ii) has a length within a certain range, (iii) if numeric, falls within an expected range, and (iv) is a complete sentence.\n",
      "  * Syntactic checks: This includes ensuring that generated URLs are valid and reachable, and that Python and SQL code is bug-free.\n",
      "  * Semantic checks: This verifies that the output is aligned with the reference document, or that the extractive summary closely matches the source document. These checks can be done via cosine similarity or fuzzy matching techniques.\n",
      "  * Safety checks: This ensures that the generated output is free of inappropriate language or that the quality of translated text is high.\n",
      "\n",
      "Nvidia’s [NeMo-Guardrails](https://github.com/NVIDIA/NeMo-Guardrails) follows\n",
      "a similar principle but is designed to guide LLM-based conversational systems.\n",
      "Rather than focusing on syntactic guardrails, it emphasizes semantic ones.\n",
      "This includes ensuring that the assistant steers clear of politically charged\n",
      "topics, provides factually correct information, and can detect jailbreaking\n",
      "attempts.\n",
      "\n",
      "Thus, NeMo’s approach is somewhat different: Instead of using more\n",
      "deterministic checks like verifying if a value exists in a list or inspecting\n",
      "code for syntax errors, NeMo leans heavily on using another LLM to validate\n",
      "outputs (inspired by [SelfCheckGPT](https://arxiv.org/abs/2303.08896)).\n",
      "\n",
      "In their example for fact-checking and preventing hallucination, they ask the\n",
      "LLM itself to check whether the most recent output is consistent with the\n",
      "given context. To fact-check, the LLM is queried if the response is true based\n",
      "on the documents retrieved from the knowledge base. To prevent hallucinations,\n",
      "since there isn’t a knowledge base available, they get the LLM to generate\n",
      "multiple alternative completions which serve as the context. The underlying\n",
      "assumption is that if the LLM produces multiple completions that disagree with\n",
      "one another, the original completion is likely a hallucination.\n",
      "\n",
      "The moderation example follows a similar approach: The response is screened\n",
      "for harmful and unethical content via an LLM. Given the nuance of ethics and\n",
      "harmful content, heuristics and conventional machine learning techniques fall\n",
      "short. Thus, an LLM is required for a deeper understanding of the intent and\n",
      "structure of dialogue.\n",
      "\n",
      "Apart from using guardrails to verify the output of LLMs, we can also\n",
      "**directly steer the output to adhere to a specific grammar.** An example of\n",
      "this is Microsoft’s [Guidance](https://github.com/microsoft/guidance). Unlike\n",
      "Guardrails which [imposes JSON schema via a\n",
      "prompt](https://github.com/ShreyaR/guardrails/blob/main/guardrails/constants.xml#L14),\n",
      "Guidance enforces the schema by injecting tokens that make up the structure.\n",
      "\n",
      "We can think of Guidance as a domain-specific language for LLM interactions\n",
      "and output. It draws inspiration from [Handlebars](https://handlebarsjs.com),\n",
      "a popular templating language used in web applications that empowers users to\n",
      "perform variable interpolation and logical control.\n",
      "\n",
      "However, Guidance sets itself apart from regular templating languages by\n",
      "executing linearly. This means it maintains the order of tokens generated.\n",
      "Thus, by inserting tokens that are part of the structure—instead of relying on\n",
      "the LLM to generate them correctly—Guidance can dictate the specific output\n",
      "format. In their examples, they show how to [generate JSON that’s always\n",
      "valid](https://github.com/microsoft/guidance#guaranteeing-valid-syntax-json-\n",
      "example-notebook), [generate complex output\n",
      "formats](https://github.com/microsoft/guidance#rich-output-structure-example-\n",
      "notebook) with multiple keys, ensure that LLMs [play the right\n",
      "roles](https://github.com/microsoft/guidance#role-based-chat-model-example-\n",
      "notebook), and have [agents interact with each\n",
      "other](https://github.com/microsoft/guidance#agents-notebook).\n",
      "\n",
      "They also introduced a concept called [token\n",
      "healing](https://github.com/microsoft/guidance#token-healing-notebook), a\n",
      "useful feature that helps avoid subtle bugs that occur due to tokenization. In\n",
      "simple terms, it rewinds the generation by one token before the end of the\n",
      "prompt and then restricts the first generated token to have a prefix matching\n",
      "the last token in the prompt. This eliminates the need to fret about token\n",
      "boundaries when crafting prompts.\n",
      "\n",
      "### How to apply guardrails?\n",
      "\n",
      "Though the concept of guardrails for LLMs in industry is still nascent, there\n",
      "are a handful of immediately useful and practical strategies we can consider.\n",
      "\n",
      "**Structural guidance:** Apply guidance whenever possible. It provides direct\n",
      "control over outputs and offers a more precise method to ensure that output\n",
      "conforms to a specific structure or format.\n",
      "\n",
      "**Syntactic guardrails:** These include checking if categorical output is\n",
      "within a set of acceptable choices, or if numeric output is within an expected\n",
      "range. Also, if we generate SQL, these can verify its free from syntax errors\n",
      "and also ensure that all columns in the query match the schema. Ditto for\n",
      "generating code (e.g., Python, JavaScript).\n",
      "\n",
      "**Content safety guardrails:** These verify that the output has no harmful or\n",
      "inappropriate content. It can be as simple as checking against the [List of\n",
      "Dirty, Naughty, Obscene, and Otherwise Bad\n",
      "Words](https://github.com/LDNOOBW/List-of-Dirty-Naughty-Obscene-and-Otherwise-\n",
      "Bad-Words) or using [profanity detection](https://pypi.org/project/profanity-\n",
      "check/) models. (It’s [common to run moderation classifiers on\n",
      "output](https://twitter.com/goodside/status/1685023251532320768).) More\n",
      "complex and nuanced output can rely on an LLM evaluator.\n",
      "\n",
      "**Semantic/factuality guardrails:** These confirm that the output is\n",
      "semantically relevant to the input. Say we’re generating a two-sentence\n",
      "summary of a movie based on its synopsis. We can validate if the produced\n",
      "summary is semantically similar to the output, or have (another) LLM ascertain\n",
      "if the summary accurately represents the provided synopsis.\n",
      "\n",
      "**Input guardrails:** These limit the types of input the model will respond\n",
      "to, helping to mitigate the risk of the model responding to inappropriate or\n",
      "adversarial prompts which would lead to generating harmful content. For\n",
      "example, you’ll get an error if you ask Midjourney to generate NSFW content.\n",
      "This can be as straightforward as comparing against a list of strings or using\n",
      "a moderation classifier.\n",
      "\n",
      "![An example of an input guardrail on Midjourney](/assets/input-guardrail.jpg)\n",
      "\n",
      "An example of an input guardrail on Midjourney\n",
      "\n",
      "## Defensive UX: To anticipate & handle errors gracefully\n",
      "\n",
      "Defensive UX is a design strategy that acknowledges that bad things, such as\n",
      "inaccuracies or hallucinations, can happen during user interactions with\n",
      "machine learning or LLM-based products. Thus, the intent is to anticipate and\n",
      "manage these in advance, primarily by guiding user behavior, averting misuse,\n",
      "and handling errors gracefully.\n",
      "\n",
      "### Why defensive UX?\n",
      "\n",
      "Machine learning and LLMs aren’t perfect—they can produce inaccurate output.\n",
      "Also, they respond differently to the same input over time, such as search\n",
      "engines displaying varying results due to personalization, or LLMs generating\n",
      "diverse output on more creative, higher temperature, settings. This can\n",
      "violate the principle of consistency which advocates for a consistent UI and\n",
      "predictable behaviors.\n",
      "\n",
      "Defensive UX can help mitigate the above by providing:\n",
      "\n",
      "  * **Increased accessibility** : By helping users understand how ML/LLM features work and their limitations, defensive UX makes it more accessible and user-friendly.\n",
      "  * **Increased trust** : When users see that the feature can handle difficult scenarios gracefully and doesn’t produce harmful output, they’re likely to trust it more.\n",
      "  * **Better UX** : By designing the system and UX to handle ambiguous situations and errors, defensive UX paves the way for a smoother, more enjoyable user experience.\n",
      "\n",
      "### More about defensive UX\n",
      "\n",
      "To learn more about defensive UX, we can look at Human-AI guidelines from\n",
      "Microsoft, Google, and Apple.\n",
      "\n",
      "**Microsoft’s[Guidelines for Human-AI\n",
      "Interaction](https://www.microsoft.com/en-us/research/publication/guidelines-\n",
      "for-human-ai-interaction/)** is based on a survey of 168 potential guidelines.\n",
      "These were collected from internal and external industry sources, academic\n",
      "literature, and public articles. After combining guidelines that were similar,\n",
      "filtering guidelines that were too vague or too specific or not AI-specific,\n",
      "and a round of heuristic evaluation, they narrowed it down to 18 guidelines.\n",
      "\n",
      "![Guidelines for Human-AI interaction across the user journey](/assets/ms-\n",
      "guidelines.jpg)\n",
      "\n",
      "Guidelines for Human-AI interaction across the user journey\n",
      "([source](https://www.microsoft.com/en-us/research/project/guidelines-for-\n",
      "human-ai-interaction/))\n",
      "\n",
      "These guidelines follow a certain style: Each one is a succinct action rule of\n",
      "3 - 10 words, beginning with a verb. Each rule is accompanied by a one-liner\n",
      "that addresses potential ambiguities. They are organized based on their likely\n",
      "application during user interaction:\n",
      "\n",
      "  * Initially: Make clear what the system can do (G1), make clear how well the system can do what it can do (G2)\n",
      "  * During interaction: Time services based on context (G3), mitigate social biases (G6)\n",
      "  * When wrong: Support efficient dismissal (G8), support efficient correction (G9)\n",
      "  * Over time: Learn from user behavior (G13), provide global controls (G17)\n",
      "\n",
      "**Google’s[People + AI Guidebook](https://pair.withgoogle.com/guidebook/)** is\n",
      "rooted in data and insights drawn from Google’s product team and academic\n",
      "research. In contrast to Microsoft’s guidelines which are organized around the\n",
      "user, Google organizes its guidelines into concepts that a developer needs to\n",
      "keep in mind.\n",
      "\n",
      "There are 23 patterns grouped around common questions that come up during the\n",
      "product development process, including:\n",
      "\n",
      "  * How do I get started with human-centered AI: Determine if the AI adds value, invest early in good data practices (e.g., evals)\n",
      "  * How do I onboard users to new AI features: Make it safe to explore, anchor on familiarity, automate in phases\n",
      "  * How do I help users build trust in my product: Set the right expectations, be transparent, automate more when the risk is low.\n",
      "\n",
      "**Apple’s[Human Interface Guidelines for Machine\n",
      "Learning](https://developer.apple.com/design/human-interface-\n",
      "guidelines/machine-learning)** differs from the bottom-up approach of academic\n",
      "literature and user studies. Instead, its primary source is practitioner\n",
      "knowledge and experience. Thus, it doesn’t include many references or data\n",
      "points, but instead focuses on Apple’s longstanding design principles. This\n",
      "results in a unique perspective that distinguishes it from the other two\n",
      "guidelines.\n",
      "\n",
      "The document focuses on how Apple’s design principles can be applied to ML-\n",
      "infused products, emphasizing aspects of UI rather than model functionality.\n",
      "It starts by asking developers to consider the role of ML in their app and\n",
      "work backwards from the user experience. This includes questions such as\n",
      "whether ML is:\n",
      "\n",
      "  * Critical or complementary: For example, Face ID cannot work without ML but the keyboard can still work without QuickType.\n",
      "  * Proactive or reactive: Siri Suggestions are proactive while autocorrect is reactive.\n",
      "  * Dynamic or static: Recommendations are dynamic while object detection in Photos only improves with each iOS release.\n",
      "\n",
      "It then delves into several patterns, split into inputs and outputs of a\n",
      "system. Inputs focus on explicit feedback, implicit feedback, calibration, and\n",
      "corrections. This section guides the design for how AI products request and\n",
      "process user data and interactions. Outputs focus on mistakes, multiple\n",
      "options, confidence, attribution, and limitations. The intent is to ensure the\n",
      "model’s output is presented in a comprehensible and useful manner.\n",
      "\n",
      "The differences between the three guidelines are insightful. Google has more\n",
      "emphasis on considerations for training data and model development, likely due\n",
      "to its engineering-driven culture. Microsoft has more focus on mental models,\n",
      "likely an artifact of the HCI academic study. Lastly, Apple’s approach centers\n",
      "around providing a seamless UX, a focus likely influenced by its cultural\n",
      "values and principles.\n",
      "\n",
      "### How to apply defensive UX?\n",
      "\n",
      "Here are some patterns based on the guidelines above. (Disclaimer: I’m not a\n",
      "designer.)\n",
      "\n",
      "**Set the right expectations.** This principle is consistent across all three\n",
      "guidelines:\n",
      "\n",
      "  * Microsoft: Make clear how well the system can do what it can do (help the user understand how often the AI system may make mistakes)\n",
      "  * Google: Set the right expectations (be transparent with your users about what your AI-powered product can and cannot do)\n",
      "  * Apple: Help people establish realistic expectations (describe the limitation in marketing material or within the feature’s context)\n",
      "\n",
      "This can be as simple as adding a brief disclaimer above AI-generated results,\n",
      "like those of Bard, or highlighting our app’s limitations on its landing page,\n",
      "like how ChatGPT does it.\n",
      "\n",
      "![Example of a disclaimer on Google Bard results \\(Note: The code provided\n",
      "will not work.\\)](/assets/bard-disclaimer.png)\n",
      "\n",
      "Example of a disclaimer on Google Bard results (Note: `nrows` is not a valid\n",
      "argument.)\n",
      "\n",
      "By being transparent about our product’s capabilities and limitations, we help\n",
      "users calibrate their expectations about its functionality and output. While\n",
      "this may cause users to trust it less in the short run, it helps foster trust\n",
      "in the long run—users are less likely to overestimate our product and\n",
      "subsequently face disappointment.\n",
      "\n",
      "**Enable efficient dismissal.** This is explicitly mentioned as Microsoft’s\n",
      "Guideline 8: Support efficient dismissal (make it easy to dismiss or ignore\n",
      "undesired AI system services).\n",
      "\n",
      "For example, if a user is navigating our site and a chatbot pops up asking if\n",
      "they need help, it should be easy for the user to dismiss the chatbot. This\n",
      "ensures the chatbot doesn’t get in the way, especially on devices with smaller\n",
      "screens. Similarly, GitHub Copilot allows users to conveniently ignore its\n",
      "code suggestions by simply continuing to type. While this may reduce usage of\n",
      "the AI feature in the short term, it prevents it from becoming a nuisance and\n",
      "potentially reducing customer satisfaction in the long term.\n",
      "\n",
      "**Provide attribution.** This is listed in all three guidelines:\n",
      "\n",
      "  * Microsoft: Make clear why the system did what it did (enable the user to access an explanation of why the AI system behaved as it did)\n",
      "  * Google: Add context from human sources (help users appraise your recommendations with input from 3rd-party sources)\n",
      "  * Apple: Consider using attributions to help people distinguish among results\n",
      "\n",
      "Citations are becoming an increasingly common design element. Take BingChat\n",
      "for example. When we make a query, it includes citations, usually from\n",
      "reputable sources, in its responses. This not only shows where the information\n",
      "came from, but also allows users to assess the quality of the sources.\n",
      "Similarly, imagine we’re using an LLM to explain why a user might like a\n",
      "product. Alongside the LLM-generated explanation, we could include a quote\n",
      "from an actual review or mention the product rating.\n",
      "\n",
      "Context from experts and the community also enhances user trust. For example,\n",
      "if a user is seeking recommendations for a hiking trail, mentioning that a\n",
      "suggested trail comes highly recommended by the relevant community can go a\n",
      "long way. It not only adds value to the recommendation but also helps users\n",
      "calibrate trust through the human connection.\n",
      "\n",
      "![Example of attribution via social proof](/assets/social-proof.jpg)\n",
      "\n",
      "Example of attribution via social proof\n",
      "([source](https://pair.withgoogle.com/guidebook/patterns))\n",
      "\n",
      "Finally, Apple’s guidelines include popular attributions such as “Because\n",
      "you’ve read non-fiction”, “New books by authors you’ve read”. These\n",
      "descriptors not only personalize the experience but also provide context,\n",
      "enhancing user understanding and trust.\n",
      "\n",
      "**Anchor on familiarity.** When introducing users to a new AI product or\n",
      "feature, it helps to guide them with familiar UX patterns and features. This\n",
      "makes it easier for users to focus on the main task and start to earn customer\n",
      "trust in our new product. Resist the temptation to showcase new and “magical”\n",
      "features via exotic UI elements.\n",
      "\n",
      "Along a similar vein, chat-based features are becoming more common due to\n",
      "ChatGPT’s growing popularity. For example, chat with your docs, chat to query\n",
      "your data, chat to buy groceries. However, I [question whether chat is the\n",
      "right UX](/writing/llm-ux/) for most user experiences—it just takes too much\n",
      "effort relative to the familiar UX of clicking on text and images.\n",
      "\n",
      "Furthermore, increasing user effort leads to higher expectations that are\n",
      "harder to meet. Netflix shared that users have [higher expectations for\n",
      "recommendations](https://slideslive.com/38934788/a-human-perspective-on-\n",
      "algorithmic-similarity?ref=folder-59726) that result from explicit actions\n",
      "such as search. In general, the more effort a user puts in (e.g., chat,\n",
      "search), the higher the expectations they have. Contrast this with lower-\n",
      "effort interactions such as scrolling over recommendations slates or clicking\n",
      "on a product.\n",
      "\n",
      "Thus, while chat offers more flexibility, it also demands more user effort.\n",
      "Moreover, using a chat box is less intuitive as it lacks signifiers on how\n",
      "users can adjust the output. Overall, I think that sticking with a familiar\n",
      "and constrained UI makes it easier for users to navigate our product; chat\n",
      "should only be considered as a secondary or tertiary option.\n",
      "\n",
      "## Collect user feedback: To build our data flywheel\n",
      "\n",
      "Gathering user feedback allows us to learn their preferences. Specific to LLM\n",
      "products, user feedback contributes to building evals, fine-tuning, and\n",
      "guardrails. If we think about it, data—such as corpus for pre-training,\n",
      "expert-crafted demonstrations, human preferences for reward modeling—is one of\n",
      "the few moats for LLM products. Thus, we want to be deliberately thinking\n",
      "about collecting user feedback when designing our UX.\n",
      "\n",
      "Feedback can be explicit or implicit. Explicit feedback is information users\n",
      "provide in response to a request by our product; implicit feedback is\n",
      "information we learn from user interactions without needing users to\n",
      "deliberately provide feedback.\n",
      "\n",
      "### Why collect user feedback\n",
      "\n",
      "User feedback **helps our models improve**. By learning what users like,\n",
      "dislike, or complain about, we can improve our models to better meet their\n",
      "needs. It also allows us to **adapt to individual preferences**.\n",
      "Recommendation systems are a prime example. As users interact with items, we\n",
      "learn what they like and dislike and better cater to their tastes over time.\n",
      "\n",
      "In addition, the feedback loop helps us **evaluate our system’s overall\n",
      "performance**. While evals can help us measure model/system performance, user\n",
      "feedback offers a concrete measure of user satisfaction and product\n",
      "effectiveness.\n",
      "\n",
      "### How to collect user feedback\n",
      "\n",
      "**Make it easy for users to provide feedback.** This is echoed across all\n",
      "three guidelines:\n",
      "\n",
      "  * Microsoft: Encourage granular feedback (enable the user to provide feedback indicating their preferences during regular interaction with the AI system)\n",
      "  * Google: Let users give feedback (give users the opportunity for real-time teaching, feedback, and error correction)\n",
      "  * Apple: Provide actionable information your app can use to improve the content and experience it presents to people\n",
      "\n",
      "ChatGPT is one such example. Users can indicate thumbs up/down on responses,\n",
      "or choose to regenerate a response if it’s really bad or unhelpful. This is\n",
      "useful feedback on human preferences which can then be used to fine-tune LLMs.\n",
      "\n",
      "Midjourney is another good example. After images are generated, users can\n",
      "generate a new set of images (negative feedback), tweak an image by asking for\n",
      "a variation (positive feedback), or upscale and download the image (strong\n",
      "positive feedback). This enables Midjourney to gather rich comparison data on\n",
      "the outputs generated.\n",
      "\n",
      "![>Example of collecting user feedback as part of the\n",
      "UX](/assets/midjourney.jpg)\n",
      "\n",
      "Example of collecting user feedback as part of the UX\n",
      "\n",
      "**Consider implicit feedback too.** Implicit feedback is information that\n",
      "arises as users interact with our product. Unlike the specific responses we\n",
      "get from explicit feedback, implicit feedback can provide a wide range of data\n",
      "on user behavior and preferences.\n",
      "\n",
      "Copilot-like assistants are a prime example. Users indicate whether a\n",
      "suggestion was helpful by either wholly accepting it (strong positive\n",
      "feedback), accepting and making minor tweaks (positive feedback), or ignoring\n",
      "it (neutral/negative feedback). Alternatively, they may update the comment\n",
      "that led to the generated code, suggesting that the initial code generation\n",
      "didn’t meet their needs.\n",
      "\n",
      "Chatbots, such as ChatGPT and BingChat, are another example. How has daily\n",
      "usage changed over time? If the product is sticky, it suggests that users like\n",
      "it. Also, how long is the average conversation? This can be tricky to\n",
      "interpret: Is a longer conversation better because the conversation was\n",
      "engaging and fruitful? Or is it worse because it took the user longer to get\n",
      "what they needed?\n",
      "\n",
      "## Other patterns common in machine learning\n",
      "\n",
      "Apart from the seven patterns above, there are other patterns in machine\n",
      "learning that are also relevant to LLM systems and products. They include:\n",
      "\n",
      "  * [Data flywheel](/writing/more-patterns/#data-flywheel-to-continuously-improve--build-a-moat): Continuous data collection improves the model and leads to a better user experience. This, in turn, promotes more usage which provides more data to further evaluate and fine-tune models, creating a virtuous cycle.\n",
      "  * [Cascade](/writing/more-patterns/#cascade-to-split-a-problem-into-smaller-problems): Rather than assigning a single, complex task to the LLM, we can simplify and break it down so it only has to handle tasks it excels at, such as reasoning or communicating eloquently. RAG is an example of this. Instead of relying on the LLM to retrieve and rank items based on its internal knowledge, we can augment LLMs with external knowledge and focus on applying the LLM’s reasoning abilities.\n",
      "  * [Monitoring](/writing/practical-guide-to-maintaining-machine-learning/#monitor-models-for-misbehaviour-when-retraining): This helps demonstrate the value added by the AI system, or the lack of it. Someone shared an anecdote of running an LLM-based customer support solution in prod for two weeks before discontinuing it—an A/B test showed that losses were 12x more when using an LLM as a substitute for their support team!\n",
      "\n",
      "(Read more about design patterns for [machine learning code](/writing/design-\n",
      "patterns/) and [systems](/writing/more-patterns/).)\n",
      "\n",
      "Also, here’s what others said:\n",
      "\n",
      "> Separation of concerns/task decomposition- having distinct prompts for\n",
      "> distinct subtasks and chaining them together helps w attention and\n",
      "> reliability (hurts latency). We were having trouble specifying a rigid\n",
      "> output structure AND variable response content so we split up the tasks —\n",
      "> [Erick Enriquez](https://twitter.com/generick_ez/status/1681153738822516736)\n",
      "\n",
      "> A few others that will be needed: role based access control: who can access\n",
      "> what; security: if I’m using a DB with an LLM, how do I ensure that I have\n",
      "> the right security guards —\n",
      "> [Krishna](https://twitter.com/ntkris/status/16812092400299991050)\n",
      "\n",
      "> Consistent output format: setting outputs to a standardized format such as\n",
      "> JSON; Tool augmentation: offload tasks to more specialised, proven, reliable\n",
      "> models — [Paul Tune](https://twitter.com/ptuls/status/1681284873741561857)\n",
      "\n",
      "> Security: mitigate cache poisoning, input validation, mitigate prompt\n",
      "> injection, training data provenance, output with non-vulnerable code,\n",
      "> mitigate malicious input aimed at influencing requests used by tools (AI\n",
      "> Agent), mitigate denial of service (stress test llm), to name a few :) —\n",
      "> [Anderson\n",
      "> Darario](https://www.linkedin.com/feed/update/urn:li:activity:7087089908229558272?commentUrn=urn%3Ali%3Acomment%3A%28activity%3A7087089908229558272%2C7087224131292684288%29)\n",
      "\n",
      "> Another ux/ui related: incentivize users to provide feedback on generated\n",
      "> answers (implicit or explicit). Implicit could be sth like copilot’s ghost\n",
      "> text style, if accepted with TAB, meaning positive feedback etc. — [Wen\n",
      "> Yang](https://www.linkedin.com/feed/update/urn:li:activity:7087089908229558272?commentUrn=urn%3Ali%3Acomment%3A%28activity%3A7087089908229558272%2C7087149792660750336%29)\n",
      "\n",
      "> Great list. I would add consistency checks like self-consistency sampling,\n",
      "> chaining and decomposition of tasks, and the emsembling of multiple model\n",
      "> outputs. Applying each of these almost daily. [Dan\n",
      "> White](https://www.threads.net/@dwhitena/post/Cu3BBaJtoyj/?igshid=OGQ5ZDc2ODk2ZA==)\n",
      "\n",
      "> Guardrails is super relevant for building analytics tools where llm is a\n",
      "> translator from natural to programming language —\n",
      "> [m_voitko](https://www.threads.net/@m_voitko/post/Cu1b4liNwCS/?igshid=OGQ5ZDc2ODk2ZA==)\n",
      "\n",
      "## Conclusion\n",
      "\n",
      "This is the longest post I’ve written by far. If you’re still with me, thank\n",
      "you! I hope you found reading about these patterns helpful, and that the 2x2\n",
      "below makes sense.\n",
      "\n",
      "![LLM patterns across the axis of data to user, and defensive to\n",
      "offensive.](/assets/llm-patterns.png)\n",
      "\n",
      "LLM patterns across the axis of data to user, and defensive to offensive.\n",
      "\n",
      "We’re still so early on the journey towards building LLM-based systems and\n",
      "products. Are there any other key patterns or resources? What have you found\n",
      "useful or not useful? I’d love to hear your experience. **Please[reach\n",
      "out!](https://twitter.com/eugeneyan)**\n",
      "\n",
      "## References\n",
      "\n",
      "Hendrycks, Dan, et al. [“Measuring massive multitask language\n",
      "understanding.”](https://arxiv.org/abs/2009.03300) arXiv preprint\n",
      "arXiv:2009.03300 (2020).\n",
      "\n",
      "Gao, Leo, et al. [“A Framework for Few-Shot Language Model\n",
      "Evaluation.”](https://github.com/EleutherAI/lm-evaluation-harness) v0.0.1,\n",
      "Zenodo, (2021), doi:10.5281/zenodo.5371628.\n",
      "\n",
      "Liang, Percy, et al. [“Holistic evaluation of language\n",
      "models.”](https://arxiv.org/abs/2211.09110) arXiv preprint arXiv:2211.09110\n",
      "(2022).\n",
      "\n",
      "Dubois, Yann, et al. [“AlpacaFarm: A Simulation Framework for Methods That\n",
      "Learn from Human Feedback.”](https://github.com/tatsu-lab/alpaca_eval) (2023)\n",
      "\n",
      "Papineni, Kishore, et al. [“Bleu: a method for automatic evaluation of machine\n",
      "translation.”](https://dl.acm.org/doi/10.3115/1073083.1073135) Proceedings of\n",
      "the 40th annual meeting of the Association for Computational Linguistics.\n",
      "2002.\n",
      "\n",
      "Lin, Chin-Yew. [“Rouge: A package for automatic evaluation of\n",
      "summaries.”](https://aclanthology.org/W04-1013/) Text summarization branches\n",
      "out. 2004.\n",
      "\n",
      "Zhang, Tianyi, et al. [“Bertscore: Evaluating text generation with\n",
      "bert.”](https://arxiv.org/abs/1904.09675) arXiv preprint arXiv:1904.09675\n",
      "(2019).\n",
      "\n",
      "Zhao, Wei, et al. [“MoverScore: Text generation evaluating with contextualized\n",
      "embeddings and earth mover distance.”](https://arxiv.org/abs/1909.02622) arXiv\n",
      "preprint arXiv:1909.02622 (2019).\n",
      "\n",
      "Sai, Ananya B., Akash Kumar Mohankumar, and Mitesh M. Khapra. [“A survey of\n",
      "evaluation metrics used for NLG systems.”](https://arxiv.org/abs/2008.12009)\n",
      "ACM Computing Surveys (CSUR) 55.2 (2022): 1-39.\n",
      "\n",
      "Grusky, Max. [“Rogue Scores.”](https://aclanthology.org/2023.acl-long.107/)\n",
      "Proceedings of the 61st Annual Meeting of the Association for Computational\n",
      "Linguistics (Volume 1: Long Papers). 2023.\n",
      "\n",
      "Liu, Yang, et al. [“Gpteval: Nlg evaluation using gpt-4 with better human\n",
      "alignment.”](https://arxiv.org/abs/2303.16634) arXiv preprint arXiv:2303.16634\n",
      "(2023).\n",
      "\n",
      "Fourrier, Clémentine, et al. [“What’s going on with the Open LLM\n",
      "Leaderboard?”](https://huggingface.co/blog/evaluating-mmlu-leaderboard#whats-\n",
      "going-on-with-the-open-llm-leaderboard) (2023).\n",
      "\n",
      "Zheng, Lianmin, et al. [“Judging LLM-as-a-judge with MT-Bench and Chatbot\n",
      "Arena.”](https://arxiv.org/abs/2306.05685) arXiv preprint arXiv:2306.05685\n",
      "(2023).\n",
      "\n",
      "Dettmers, Tim, et al. [“Qlora: Efficient finetuning of quantized\n",
      "llms.”](https://arxiv.org/abs/2305.14314) arXiv preprint arXiv:2305.14314\n",
      "(2023).\n",
      "\n",
      "Swyx et al. [MPT-7B and The Beginning of\n",
      "Context=Infinity](https://www.latent.space/p/mosaic-mpt-7b#details) (2023).\n",
      "\n",
      "Fradin, Michelle, Reeder, Lauren [“The New Language Model\n",
      "Stack”](https://www.sequoiacap.com/article/llm-stack-perspective/) (2023).\n",
      "\n",
      "Radford, Alec, et al. [“Learning transferable visual models from natural\n",
      "language supervision.”](https://arxiv.org/abs/2103.00020) International\n",
      "conference on machine learning. PMLR, 2021.\n",
      "\n",
      "Yan, Ziyou. [“Search: Query Matching via Lexical, Graph, and Embedding\n",
      "Methods.”](https://eugeneyan.com/writing/search-query-matching/)\n",
      "eugeneyan.com, (2021).\n",
      "\n",
      "Petroni, Fabio, et al. [“How context affects language models’ factual\n",
      "predictions.”](https://arxiv.org/abs/2005.04611) arXiv preprint\n",
      "arXiv:2005.04611 (2020).\n",
      "\n",
      "Karpukhin, Vladimir, et al. [“Dense passage retrieval for open-domain question\n",
      "answering.”](https://arxiv.org/abs/2004.04906) arXiv preprint arXiv:2004.04906\n",
      "(2020).\n",
      "\n",
      "Lewis, Patrick, et al. [“Retrieval-augmented generation for knowledge-\n",
      "intensive nlp tasks.”](https://arxiv.org/abs/2005.11401) Advances in Neural\n",
      "Information Processing Systems 33 (2020): 9459-9474.\n",
      "\n",
      "Izacard, Gautier, and Edouard Grave. [“Leveraging passage retrieval with\n",
      "generative models for open domain question\n",
      "answering.”](https://arxiv.org/abs/2007.01282) arXiv preprint arXiv:2007.01282\n",
      "(2020).\n",
      "\n",
      "Borgeaud, Sebastian, et al. [“Improving language models by retrieving from\n",
      "trillions of tokens.”](https://arxiv.org/abs/2112.04426) International\n",
      "conference on machine learning. PMLR, (2022).\n",
      "\n",
      "Lazaridou, Angeliki, et al. [“Internet-augmented language models through few-\n",
      "shot prompting for open-domain question\n",
      "answering.”](https://arxiv.org/abs/2203.05115) arXiv preprint arXiv:2203.05115\n",
      "(2022).\n",
      "\n",
      "Wang, Yue, et al. [“Codet5+: Open code large language models for code\n",
      "understanding and generation.”](https://arxiv.org/abs/2305.07922) arXiv\n",
      "preprint arXiv:2305.07922 (2023).\n",
      "\n",
      "Gao, Luyu, et al. [“Precise zero-shot dense retrieval without relevance\n",
      "labels.”](https://arxiv.org/abs/2212.10496) arXiv preprint arXiv:2212.10496\n",
      "(2022).\n",
      "\n",
      "Yan, Ziyou. [“Obsidian-Copilot: An Assistant for Writing &\n",
      "Reflecting.”](https://eugeneyan.com/writing/obsidian-copilot/) eugeneyan.com,\n",
      "(2023).\n",
      "\n",
      "Bojanowski, Piotr, et al. [“Enriching word vectors with subword\n",
      "information.”](https://arxiv.org/abs/1607.04606) Transactions of the\n",
      "association for computational linguistics 5 (2017): 135-146.\n",
      "\n",
      "Reimers, Nils, and Iryna Gurevych. [“Making Monolingual Sentence Embeddings\n",
      "Multilingual Using Knowledge Distillation.”](https://arxiv.org/abs/2004.09813)\n",
      "Proceedings of the 2020 Conference on Empirical Methods in Natural Language\n",
      "Processing, Association for Computational Linguistics, (2020).\n",
      "\n",
      "Wang, Liang, et al. [“Text embeddings by weakly-supervised contrastive pre-\n",
      "training.”](https://arxiv.org/abs/2212.03533) arXiv preprint arXiv:2212.03533\n",
      "(2022).\n",
      "\n",
      "Su, Hongjin, et al. [“One embedder, any task: Instruction-finetuned text\n",
      "embeddings.”](https://arxiv.org/abs/2212.09741) arXiv preprint\n",
      "arXiv:2212.09741 (2022).\n",
      "\n",
      "Johnson, Jeff, et al. [“Billion-Scale Similarity Search with\n",
      "GPUs.”](https://arxiv.org/abs/1702.08734) IEEE Transactions on Big Data, vol.\n",
      "7, no. 3, IEEE, 2019, pp. 535–47.\n",
      "\n",
      "Malkov, Yu A., and Dmitry A. Yashunin. [“Efficient and Robust Approximate\n",
      "Nearest Neighbor Search Using Hierarchical Navigable Small World\n",
      "Graphs.”](https://arxiv.org/abs/1603.09320) IEEE Transactions on Pattern\n",
      "Analysis and Machine Intelligence, vol. 42, no. 4, IEEE, 2018, pp. 824–36.\n",
      "\n",
      "Guo, Ruiqi, et al. [“Accelerating Large-Scale Inference with Anisotropic\n",
      "Vector Quantization.”](https://arxiv.org/abs/1908.10396.) International\n",
      "Conference on Machine Learning, (2020)\n",
      "\n",
      "Ouyang, Long, et al. [“Training language models to follow instructions with\n",
      "human feedback.”](https://arxiv.org/abs/2203.02155) Advances in Neural\n",
      "Information Processing Systems 35 (2022): 27730-27744.\n",
      "\n",
      "Howard, Jeremy, and Sebastian Ruder. [“Universal language model fine-tuning\n",
      "for text classification.”](https://arxiv.org/abs/1801.06146) arXiv preprint\n",
      "arXiv:1801.06146 (2018).\n",
      "\n",
      "Devlin, Jacob, et al. [“Bert: Pre-training of deep bidirectional transformers\n",
      "for language understanding.”](https://arxiv.org/abs/1810.04805) arXiv preprint\n",
      "arXiv:1810.04805 (2018).\n",
      "\n",
      "Radford, Alec, et al. [“Improving language understanding with unsupervised\n",
      "learning.”](https://openai.com/research/language-unsupervised) (2018).\n",
      "\n",
      "Raffel, Colin, et al. [“Exploring the limits of transfer learning with a\n",
      "unified text-to-text transformer.”](https://arxiv.org/abs/1910.10683) The\n",
      "Journal of Machine Learning Research 21.1 (2020): 5485-5551.\n",
      "\n",
      "Lester, Brian, Rami Al-Rfou, and Noah Constant. [“The power of scale for\n",
      "parameter-efficient prompt tuning.”](https://arxiv.org/abs/2104.08691) arXiv\n",
      "preprint arXiv:2104.08691 (2021).\n",
      "\n",
      "Li, Xiang Lisa, and Percy Liang. [“Prefix-tuning: Optimizing continuous\n",
      "prompts for generation.”](https://arxiv.org/abs/2101.00190) arXiv preprint\n",
      "arXiv:2101.00190 (2021).\n",
      "\n",
      "Houlsby, Neil, et al. [“Parameter-efficient transfer learning for\n",
      "NLP.”](https://arxiv.org/abs/1902.00751) International Conference on Machine\n",
      "Learning. PMLR, 2019.\n",
      "\n",
      "Hu, Edward J., et al. [“Lora: Low-rank adaptation of large language\n",
      "models.”](https://arxiv.org/abs/2106.09685) arXiv preprint arXiv:2106.09685\n",
      "(2021).\n",
      "\n",
      "Dettmers, Tim, et al. [“Qlora: Efficient finetuning of quantized\n",
      "llms.”](https://arxiv.org/abs/2305.14314) arXiv preprint arXiv:2305.14314\n",
      "(2023).\n",
      "\n",
      "Williams, Adina, et al. [“A Broad-Coverage Challenge Corpus for Sentence\n",
      "Understanding through Inference.”](https://cims.nyu.edu/~sbowman/multinli/)\n",
      "Proceedings of the 2018 Conference of the North American Chapter of the\n",
      "Association for Computational Linguistics: Human Language Technologies, Volume\n",
      "1 (Long Papers), Association for Computational Linguistics, (2018).\n",
      "\n",
      "[GPTCache](https://github.com/zilliztech/GPTCache) (2023).\n",
      "\n",
      "Bai, Yuntao, et al. [“Training a helpful and harmless assistant with\n",
      "reinforcement learning from human\n",
      "feedback.”](https://arxiv.org/abs/2204.05862) arXiv preprint arXiv:2204.05862\n",
      "(2022).\n",
      "\n",
      "[Guardrails](https://github.com/ShreyaR/guardrails) (2023)\n",
      "\n",
      "[NeMo-Guardrails](https://github.com/NVIDIA/NeMo-Guardrails) (2023)\n",
      "\n",
      "Manakul, Potsawee, Adian Liusie, and Mark JF Gales. [“Selfcheckgpt: Zero-\n",
      "resource black-box hallucination detection for generative large language\n",
      "models.”](https://arxiv.org/abs/2303.08896) arXiv preprint arXiv:2303.08896\n",
      "(2023).\n",
      "\n",
      "[Guidance](https://github.com/microsoft/guidance) (2023).\n",
      "\n",
      "Amershi, Saleema, et al. [“Guidelines for human-AI\n",
      "interaction.”](https://www.microsoft.com/en-\n",
      "us/research/publication/guidelines-for-human-ai-interaction/) Proceedings of\n",
      "the 2019 chi conference on human factors in computing systems. 2019.\n",
      "\n",
      "[People + AI Guidebook](https://pair.withgoogle.com/guidebook/) (2023).\n",
      "\n",
      "[Human Interface Guidelines for Machine\n",
      "Learning](https://developer.apple.com/design/human-interface-\n",
      "guidelines/machine-learning) (2023).\n",
      "\n",
      "Schendel, Zachary A., Faraz Farzin, and Siddhi Sundar. [“A Human Perspective\n",
      "on Algorithmic Similarity.”](https://slideslive.com/38934788/a-human-\n",
      "perspective-on-algorithmic-similarity?ref=folder-59726) Proceedings of the\n",
      "14th ACM Conference on Recommender Systems. 2020.\n",
      "\n",
      "  \n",
      "\n",
      "If you found this useful, please cite this write-up as:\n",
      "\n",
      "> Yan, Ziyou. (Jul 2023). Patterns for Building LLM-based Systems & Products.\n",
      "> eugeneyan.com. https://eugeneyan.com/writing/llm-patterns/.\n",
      "\n",
      "or\n",
      "\n",
      "    \n",
      "    \n",
      "    @article{yan2023llm-patterns,\n",
      "      title   = {Patterns for Building LLM-based Systems & Products},\n",
      "      author  = {Yan, Ziyou},\n",
      "      journal = {eugeneyan.com},\n",
      "      year    = {2023},\n",
      "      month   = {Jul},\n",
      "      url     = {https://eugeneyan.com/writing/llm-patterns/}\n",
      "    }\n",
      "\n",
      "  \n",
      "Share on:\n",
      "\n",
      "![](/assets/icon-twitter.svg)\n",
      "\n",
      "![](/assets/icon-linkedin.svg)\n",
      "\n",
      "![](/assets/icon-facebook.svg)\n",
      "\n",
      "![](/assets/icon-mail.svg)\n",
      "\n",
      "  \n",
      "Browse related tags: [ [llm](/tag/llm/) [engineering](/tag/engineering/)\n",
      "[production](/tag/production/) [🔥](/tag/🔥/) ]\n",
      "\n",
      "[ ![](/assets/icon-search.svg)Search](/search/ \"Search\")\n",
      "\n",
      "[« Obsidian-Copilot: An Assistant for Writing & Reflecting](/writing/obsidian-\n",
      "copilot/) [How to Match LLM Patterns to Problems »](/writing/llm-problems/)\n",
      "\n",
      "* * *\n",
      "\n",
      "Join **8,000+** readers getting updates on machine learning, RecSys, LLMs, and\n",
      "engineering.\n",
      "\n",
      "Get email updates\n",
      "\n",
      "* * *\n",
      "\n",
      "  * ![](/assets/icon-twitter.svg) [Twitter](https://twitter.com/eugeneyan \"Twitter\")\n",
      "  * ![](/assets/icon-linkedin.svg) [LinkedIn](https://www.linkedin.com/in/eugeneyan/ \"Linkedin\")\n",
      "  * ![](/assets/icon-threads.svg) [Threads](https://www.threads.net/@eugeneyan \"Threads\")\n",
      "  * ![](/assets/icon-github.svg) [GitHub](https://github.com/eugeneyan/ \"GitHub\")\n",
      "\n",
      "Eugene Yan designs, builds, and operates machine learning systems that serve\n",
      "customers at scale. He's currently a Senior Applied Scientist at Amazon.\n",
      "Previously, he led machine learning at Lazada (acquired by Alibaba) and a\n",
      "Healthtech Series A. He [writes](/writing/) & [speaks](/speaking/) about\n",
      "machine learning, recommenders, LLMs, and engineering at\n",
      "[eugeneyan.com](https://eugeneyan.com/) and\n",
      "[ApplyingML.com](https://applyingml.com/).\n",
      "\n",
      "© Eugene Yan 2015 - 2024 • [Feedback](/site-feedback/) • [RSS](/rss/)\n",
      "\n",
      "\n"
     ]
    }
   ],
   "source": [
    "print(docs[0].get_content())"
   ]
  },
  {
   "cell_type": "code",
   "execution_count": 87,
   "metadata": {},
   "outputs": [],
   "source": [
    "orig_nodes = node_parser.get_nodes_from_documents(docs)"
   ]
  },
  {
   "cell_type": "code",
   "execution_count": 88,
   "metadata": {},
   "outputs": [
    {
     "name": "stdout",
     "output_type": "stream",
     "text": [
      "because evals were often conducted with untested, incorrect\n",
      "ROUGE implementations.\n",
      "\n",
      "![Dimensions of model evaluations with ROUGE](/assets/rogue-scores.jpg)\n",
      "\n",
      "Dimensions of model evaluations with ROUGE\n",
      "([source](https://aclanthology.org/2023.acl-long.107/))\n",
      "\n",
      "And even with recent benchmarks such as MMLU, **the same model can get\n",
      "significantly different scores based on the eval implementation**.\n",
      "[Huggingface compared the original MMLU\n",
      "implementation](https://huggingface.co/blog/evaluating-mmlu-leaderboard) with\n",
      "the HELM and EleutherAI implementations and found that the same example could\n",
      "have different prompts across various providers.\n",
      "\n",
      "![Different prompts for the same question across MMLU\n",
      "implementations](/assets/mmlu-prompt.jpg)\n",
      "\n",
      "Different prompts for the same question across MMLU implementations\n",
      "([source](https://huggingface.co/blog/evaluating-mmlu-leaderboard))\n",
      "\n",
      "Furthermore, the evaluation approach differed across all three benchmarks:\n",
      "\n",
      "  * Original MMLU: Compares predicted probabilities on the answers only (A, B, C, D)\n",
      "  * HELM: Uses the next token probabilities from the model and picks the token with the\n"
     ]
    }
   ],
   "source": [
    "print(orig_nodes[20:28][3].get_content(metadata_mode=\"all\"))"
   ]
  },
  {
   "cell_type": "code",
   "execution_count": 89,
   "metadata": {},
   "outputs": [
    {
     "name": "stderr",
     "output_type": "stream",
     "text": [
      "  0%|          | 0/8 [00:00<?, ?it/s]"
     ]
    },
    {
     "name": "stdout",
     "output_type": "stream",
     "text": [
      "HTTP Request: POST https://api.openai.com/v1/chat/completions \"HTTP/1.1 200 OK\"\n",
      "HTTP Request: POST https://api.openai.com/v1/chat/completions \"HTTP/1.1 200 OK\"\n"
     ]
    },
    {
     "name": "stderr",
     "output_type": "stream",
     "text": [
      " 12%|█▎        | 1/8 [00:04<00:32,  4.67s/it]"
     ]
    },
    {
     "name": "stdout",
     "output_type": "stream",
     "text": [
      "HTTP Request: POST https://api.openai.com/v1/chat/completions \"HTTP/1.1 200 OK\"\n",
      "HTTP Request: POST https://api.openai.com/v1/chat/completions \"HTTP/1.1 200 OK\"\n"
     ]
    },
    {
     "name": "stderr",
     "output_type": "stream",
     "text": [
      " 25%|██▌       | 2/8 [00:04<00:12,  2.11s/it]"
     ]
    },
    {
     "name": "stdout",
     "output_type": "stream",
     "text": [
      "HTTP Request: POST https://api.openai.com/v1/chat/completions \"HTTP/1.1 200 OK\"\n",
      "HTTP Request: POST https://api.openai.com/v1/chat/completions \"HTTP/1.1 200 OK\"\n"
     ]
    },
    {
     "name": "stderr",
     "output_type": "stream",
     "text": [
      " 38%|███▊      | 3/8 [00:05<00:06,  1.29s/it]"
     ]
    },
    {
     "name": "stdout",
     "output_type": "stream",
     "text": [
      "HTTP Request: POST https://api.openai.com/v1/chat/completions \"HTTP/1.1 200 OK\"\n",
      "HTTP Request: POST https://api.openai.com/v1/chat/completions \"HTTP/1.1 200 OK\"\n"
     ]
    },
    {
     "name": "stderr",
     "output_type": "stream",
     "text": [
      " 50%|█████     | 4/8 [00:06<00:04,  1.18s/it]"
     ]
    },
    {
     "name": "stdout",
     "output_type": "stream",
     "text": [
      "HTTP Request: POST https://api.openai.com/v1/chat/completions \"HTTP/1.1 200 OK\"\n",
      "HTTP Request: POST https://api.openai.com/v1/chat/completions \"HTTP/1.1 200 OK\"\n"
     ]
    },
    {
     "name": "stderr",
     "output_type": "stream",
     "text": [
      " 62%|██████▎   | 5/8 [00:06<00:02,  1.26it/s]"
     ]
    },
    {
     "name": "stdout",
     "output_type": "stream",
     "text": [
      "HTTP Request: POST https://api.openai.com/v1/chat/completions \"HTTP/1.1 200 OK\"\n",
      "HTTP Request: POST https://api.openai.com/v1/chat/completions \"HTTP/1.1 200 OK\"\n"
     ]
    },
    {
     "name": "stderr",
     "output_type": "stream",
     "text": [
      " 75%|███████▌  | 6/8 [00:07<00:01,  1.07it/s]"
     ]
    },
    {
     "name": "stdout",
     "output_type": "stream",
     "text": [
      "HTTP Request: POST https://api.openai.com/v1/chat/completions \"HTTP/1.1 200 OK\"\n",
      "HTTP Request: POST https://api.openai.com/v1/chat/completions \"HTTP/1.1 200 OK\"\n"
     ]
    },
    {
     "name": "stderr",
     "output_type": "stream",
     "text": [
      " 88%|████████▊ | 7/8 [00:08<00:00,  1.33it/s]"
     ]
    },
    {
     "name": "stdout",
     "output_type": "stream",
     "text": [
      "HTTP Request: POST https://api.openai.com/v1/chat/completions \"HTTP/1.1 200 OK\"\n",
      "HTTP Request: POST https://api.openai.com/v1/chat/completions \"HTTP/1.1 200 OK\"\n"
     ]
    },
    {
     "name": "stderr",
     "output_type": "stream",
     "text": [
      "100%|██████████| 8/8 [00:08<00:00,  1.01s/it]\n"
     ]
    }
   ],
   "source": [
    "nodes_1 = node_parser.get_nodes_from_documents(docs)[20:28]\n",
    "nodes_1 = question_extractor(nodes_1)"
   ]
  },
  {
   "cell_type": "code",
   "execution_count": 90,
   "metadata": {},
   "outputs": [
    {
     "name": "stdout",
     "output_type": "stream",
     "text": [
      "[Excerpt from document]\n",
      "questions_this_excerpt_can_answer: 1. How do different implementations of the MMLU benchmark affect the scores of the same model?\n",
      "2. What are the differences in evaluation approaches between the original MMLU benchmark, HELM, and EleutherAI implementations?\n",
      "3. How can the use of untested or incorrect ROUGE implementations impact model evaluations?\n",
      "Excerpt:\n",
      "-----\n",
      "because evals were often conducted with untested, incorrect\n",
      "ROUGE implementations.\n",
      "\n",
      "![Dimensions of model evaluations with ROUGE](/assets/rogue-scores.jpg)\n",
      "\n",
      "Dimensions of model evaluations with ROUGE\n",
      "([source](https://aclanthology.org/2023.acl-long.107/))\n",
      "\n",
      "And even with recent benchmarks such as MMLU, **the same model can get\n",
      "significantly different scores based on the eval implementation**.\n",
      "[Huggingface compared the original MMLU\n",
      "implementation](https://huggingface.co/blog/evaluating-mmlu-leaderboard) with\n",
      "the HELM and EleutherAI implementations and found that the same example could\n",
      "have different prompts across various providers.\n",
      "\n",
      "![Different prompts for the same question across MMLU\n",
      "implementations](/assets/mmlu-prompt.jpg)\n",
      "\n",
      "Different prompts for the same question across MMLU implementations\n",
      "([source](https://huggingface.co/blog/evaluating-mmlu-leaderboard))\n",
      "\n",
      "Furthermore, the evaluation approach differed across all three benchmarks:\n",
      "\n",
      "  * Original MMLU: Compares predicted probabilities on the answers only (A, B, C, D)\n",
      "  * HELM: Uses the next token probabilities from the model and picks the token with the\n",
      "-----\n"
     ]
    }
   ],
   "source": [
    "print(nodes_1[3].get_content(metadata_mode=\"all\"))"
   ]
  },
  {
   "cell_type": "code",
   "execution_count": 91,
   "metadata": {},
   "outputs": [],
   "source": [
    "from llama_index.core import VectorStoreIndex\n",
    "from llama_index.core.response.notebook_utils import (\n",
    "    display_source_node,\n",
    "    display_response\n",
    ")"
   ]
  },
  {
   "cell_type": "code",
   "execution_count": 92,
   "metadata": {},
   "outputs": [
    {
     "name": "stdout",
     "output_type": "stream",
     "text": [
      "HTTP Request: POST https://api.openai.com/v1/embeddings \"HTTP/1.1 200 OK\"\n",
      "HTTP Request: POST https://api.openai.com/v1/embeddings \"HTTP/1.1 200 OK\"\n",
      "HTTP Request: POST https://api.openai.com/v1/embeddings \"HTTP/1.1 200 OK\"\n",
      "HTTP Request: POST https://api.openai.com/v1/embeddings \"HTTP/1.1 200 OK\"\n",
      "HTTP Request: POST https://api.openai.com/v1/embeddings \"HTTP/1.1 200 OK\"\n",
      "HTTP Request: POST https://api.openai.com/v1/embeddings \"HTTP/1.1 200 OK\"\n",
      "HTTP Request: POST https://api.openai.com/v1/embeddings \"HTTP/1.1 200 OK\"\n",
      "HTTP Request: POST https://api.openai.com/v1/embeddings \"HTTP/1.1 200 OK\"\n"
     ]
    }
   ],
   "source": [
    "index0 = VectorStoreIndex(orig_nodes)\n",
    "index1 = VectorStoreIndex(orig_nodes[:20] + nodes_1 + orig_nodes[28:])"
   ]
  },
  {
   "cell_type": "code",
   "execution_count": 93,
   "metadata": {},
   "outputs": [],
   "source": [
    "query_engine0 = index0.as_query_engine(similarity_top_k=1)\n",
    "query_engine1 = index1.as_query_engine(similarity_top_k=1)"
   ]
  },
  {
   "cell_type": "code",
   "execution_count": 94,
   "metadata": {},
   "outputs": [
    {
     "name": "stdout",
     "output_type": "stream",
     "text": [
      "HTTP Request: POST https://api.openai.com/v1/embeddings \"HTTP/1.1 200 OK\"\n",
      "HTTP Request: POST https://api.openai.com/v1/embeddings \"HTTP/1.1 200 OK\"\n",
      "HTTP Request: POST https://api.openai.com/v1/chat/completions \"HTTP/1.1 200 OK\"\n",
      "HTTP Request: POST https://api.openai.com/v1/chat/completions \"HTTP/1.1 200 OK\"\n",
      "HTTP Request: POST https://api.openai.com/v1/embeddings \"HTTP/1.1 200 OK\"\n",
      "HTTP Request: POST https://api.openai.com/v1/embeddings \"HTTP/1.1 200 OK\"\n",
      "HTTP Request: POST https://api.openai.com/v1/chat/completions \"HTTP/1.1 200 OK\"\n",
      "HTTP Request: POST https://api.openai.com/v1/chat/completions \"HTTP/1.1 200 OK\"\n"
     ]
    }
   ],
   "source": [
    "query_str = (\n",
    "    \"Can you describe metrics for evaluating text generation quality, compare them and tell me about their downsides\"\n",
    ")\n",
    "\n",
    "response0 = query_engine0.query(query_str)\n",
    "response1 = query_engine1.query(query_str)"
   ]
  },
  {
   "cell_type": "code",
   "execution_count": 95,
   "metadata": {},
   "outputs": [
    {
     "data": {
      "text/markdown": [
       "**`Final Response:`** Metrics for evaluating text generation quality can be categorized as context-dependent or context-free. Context-dependent metrics consider the context and are usually tailored for specific tasks, while context-free metrics do not take context into account and are more versatile across different tasks.\n",
       "\n",
       "Some commonly used metrics for evaluating text generation quality include BLEU, ROUGE, BERTScore, and MoverScore. \n",
       "\n",
       "BLEU is a precision-based metric that compares the generated output to a reference by counting overlapping n-grams. ROUGE evaluates the quality of summaries by comparing n-grams and word sequences. BERTScore leverages contextual embeddings to measure the similarity between the generated text and the reference. MoverScore assesses the fluency and relevance of generated text by considering the distance between the generated output and the reference in embedding space.\n",
       "\n",
       "Each of these metrics has its own strengths and weaknesses. For example, BLEU may not capture the semantic similarity between the generated text and the reference accurately. ROUGE may not consider the overall coherence of the generated text. BERTScore could be computationally expensive due to its reliance on contextual embeddings. MoverScore may not be suitable for all text generation tasks due to its focus on semantic similarity.\n",
       "\n",
       "Understanding the nuances and limitations of these metrics is crucial for effectively evaluating the quality of text generation models."
      ],
      "text/plain": [
       "<IPython.core.display.Markdown object>"
      ]
     },
     "metadata": {},
     "output_type": "display_data"
    },
    {
     "data": {
      "text/markdown": [
       "---"
      ],
      "text/plain": [
       "<IPython.core.display.Markdown object>"
      ]
     },
     "metadata": {},
     "output_type": "display_data"
    },
    {
     "data": {
      "text/markdown": [
       "**`Source Node 1/1`**"
      ],
      "text/plain": [
       "<IPython.core.display.Markdown object>"
      ]
     },
     "metadata": {},
     "output_type": "display_data"
    },
    {
     "data": {
      "text/markdown": [
       "**Node ID:** 06b3b93b-3298-41d3-8257-8dd9af35106b<br>**Similarity:** 0.8358353798659922<br>**Text:** GPT-4) prefers the output of one model over a reference model. Metrics include win rate, bias, latency, price, variance, etc. Validated to have high agreement with 20k human annotations.\n",
       "\n",
       "We can group metrics into two categories: context-dependent or context-free.\n",
       "\n",
       "  * **Context-dependent** : These take context into account. They’re often proposed for a specific task; repurposing them for other tasks will require some adjustment.\n",
       "  * **Context-free** : These aren’t tied to the context when evaluating generated output; they only compare the output with the provided gold references. As they’re task agnostic, they’re easier to apply to a wide variety of tasks.\n",
       "\n",
       "To get a better sense of these metrics (and their potential shortfalls), we’ll\n",
       "explore a few of the commonly used metrics such as BLEU, ROUGE, BERTScore, and\n",
       "MoverScore.\n",
       "\n",
       "**[BLEU](https://dl.acm.org/doi/10.3115/1073083.1073135) (Bilingual Evaluation\n",
       "Understudy)** is a precision-based metric: It counts the number of n-grams in\n",
       "th...<br>**Metadata:** {}<br>"
      ],
      "text/plain": [
       "<IPython.core.display.Markdown object>"
      ]
     },
     "metadata": {},
     "output_type": "display_data"
    }
   ],
   "source": [
    "display_response(\n",
    "    response0, source_length=1000, show_source=True, show_source_metadata=True\n",
    ")"
   ]
  },
  {
   "cell_type": "code",
   "execution_count": 96,
   "metadata": {},
   "outputs": [
    {
     "data": {
      "text/markdown": [
       "**`Final Response:`** Metrics for evaluating text generation quality include BLEU and ROUGE. These metrics have been found to have poor correlation with human judgments in terms of fluency and adequacy. Additionally, they exhibit low correlation with tasks that require creativity and diversity in text generation. One of the downsides of these metrics is their lack of adaptability to a wider variety of tasks, such as abstractive summarization or dialogue generation, where exact match metrics like BLEU and ROUGE fall short due to their reliance on n-gram overlap between output and reference."
      ],
      "text/plain": [
       "<IPython.core.display.Markdown object>"
      ]
     },
     "metadata": {},
     "output_type": "display_data"
    },
    {
     "data": {
      "text/markdown": [
       "---"
      ],
      "text/plain": [
       "<IPython.core.display.Markdown object>"
      ]
     },
     "metadata": {},
     "output_type": "display_data"
    },
    {
     "data": {
      "text/markdown": [
       "**`Source Node 1/1`**"
      ],
      "text/plain": [
       "<IPython.core.display.Markdown object>"
      ]
     },
     "metadata": {},
     "output_type": "display_data"
    },
    {
     "data": {
      "text/markdown": [
       "**Node ID:** a05d9353-8731-4453-975d-1eeba1e01794<br>**Similarity:** 0.8430247197465677<br>**Text:** finds the minimum effort to transform\n",
       "one text into another. The idea is to measure the distance that words would\n",
       "have to move to convert one sequence to another.\n",
       "\n",
       "However, there are several pitfalls to using these conventional benchmarks and\n",
       "metrics.\n",
       "\n",
       "First, there’s **poor correlation between these metrics and human judgments.**\n",
       "BLEU, ROUGE, and others have had [negative correlation with how humans\n",
       "evaluate fluency](https://arxiv.org/abs/2008.12009). They also showed moderate\n",
       "to less correlation with human adequacy scores. In particular, BLEU and ROUGE\n",
       "have [low correlation with tasks that require creativity and\n",
       "diversity](https://arxiv.org/abs/2303.16634).\n",
       "\n",
       "Second, these metrics often have **poor adaptability to a wider variety of\n",
       "tasks**. Adopting a metric proposed for one task to another is not always\n",
       "prudent. For example, exact match metrics such as BLEU and ROUGE are a poor\n",
       "fit for tasks like abstractive summarization or dialogue. Since they’re based\n",
       "on n-gram overlap between ...<br>**Metadata:** {'questions_this_excerpt_can_answer': '1. How do conventional benchmarks and metrics for measuring text transformation performance compare to human judgments in terms of fluency and adequacy?\\n2. Why do metrics like BLEU and ROUGE have low correlation with tasks that require creativity and diversity in text generation?\\n3. In what ways do exact match metrics like BLEU and ROUGE fall short when applied to tasks like abstractive summarization or dialogue generation?'}<br>"
      ],
      "text/plain": [
       "<IPython.core.display.Markdown object>"
      ]
     },
     "metadata": {},
     "output_type": "display_data"
    }
   ],
   "source": [
    "display_response(\n",
    "    response1, source_length=1000, show_source=True, show_source_metadata=True\n",
    ")"
   ]
  },
  {
   "cell_type": "code",
   "execution_count": 97,
   "metadata": {},
   "outputs": [],
   "source": [
    "from pydantic import BaseModel, Field\n",
    "from typing import List"
   ]
  },
  {
   "cell_type": "code",
   "execution_count": 98,
   "metadata": {},
   "outputs": [],
   "source": [
    "class NodeMetadata(BaseModel):\n",
    "    \"\"\"Node metadata\"\"\"\n",
    "    \n",
    "    entities: List[str] = Field(\n",
    "        ..., description=\"Unique entities in this text chunk.\"\n",
    "    )\n",
    "    summary: str = Field(\n",
    "        ..., description=\"A concise summary of this text chunk.\"\n",
    "    )"
   ]
  },
  {
   "cell_type": "code",
   "execution_count": 99,
   "metadata": {},
   "outputs": [],
   "source": [
    "from llama_index.program.openai import OpenAIPydanticProgram\n",
    "from llama_index.core.extractors import PydanticProgramExtractor\n",
    "\n",
    "EXTRACT_TEMPLATE_STR = \"\"\"\\\n",
    "    Here is the content of the section:\n",
    "    -------\n",
    "    {context_str}\n",
    "    -------\n",
    "    Given the contextual information, extract out a {class_name} object.\\\n",
    "    \"\"\"\n",
    "    \n",
    "openai_program = OpenAIPydanticProgram.from_defaults(\n",
    "    output_cls = NodeMetadata,\n",
    "    prompt_template_str = \"{input}\",\n",
    "    extract_template_str=EXTRACT_TEMPLATE_STR\n",
    ")\n",
    "\n",
    "metadata_extractor = PydanticProgramExtractor(\n",
    "    program=openai_program, input_key=\"input\", show_progress=True\n",
    ")"
   ]
  },
  {
   "cell_type": "code",
   "execution_count": 100,
   "metadata": {},
   "outputs": [
    {
     "name": "stderr",
     "output_type": "stream",
     "text": [
      "  0%|          | 0/1 [00:00<?, ?it/s]"
     ]
    },
    {
     "name": "stdout",
     "output_type": "stream",
     "text": [
      "HTTP Request: POST https://api.openai.com/v1/chat/completions \"HTTP/1.1 200 OK\"\n",
      "HTTP Request: POST https://api.openai.com/v1/chat/completions \"HTTP/1.1 200 OK\"\n"
     ]
    },
    {
     "name": "stderr",
     "output_type": "stream",
     "text": [
      "100%|██████████| 1/1 [00:01<00:00,  1.38s/it]\n"
     ]
    }
   ],
   "source": [
    "extract_metadata = metadata_extractor.extract(orig_nodes[0:1])"
   ]
  },
  {
   "cell_type": "code",
   "execution_count": 101,
   "metadata": {},
   "outputs": [
    {
     "data": {
      "text/plain": [
       "[{'entities': ['eugeneyan', 'llm', 'engineering', 'production'],\n",
       "  'summary': 'Patterns for Building LLM-based Systems & Products - Discussions on HackerNews, Twitter, and LinkedIn. Talks about the challenges of turning demos into products, using self-driving as an example.'}]"
      ]
     },
     "execution_count": 101,
     "metadata": {},
     "output_type": "execute_result"
    }
   ],
   "source": [
    "extract_metadata"
   ]
  },
  {
   "cell_type": "code",
   "execution_count": 102,
   "metadata": {},
   "outputs": [
    {
     "name": "stderr",
     "output_type": "stream",
     "text": [
      "  0%|          | 0/1 [00:00<?, ?it/s]"
     ]
    },
    {
     "name": "stdout",
     "output_type": "stream",
     "text": [
      "HTTP Request: POST https://api.openai.com/v1/chat/completions \"HTTP/1.1 200 OK\"\n",
      "HTTP Request: POST https://api.openai.com/v1/chat/completions \"HTTP/1.1 200 OK\"\n"
     ]
    },
    {
     "name": "stderr",
     "output_type": "stream",
     "text": [
      "100%|██████████| 1/1 [00:06<00:00,  6.72s/it]\n"
     ]
    },
    {
     "data": {
      "text/plain": [
       "[TextNode(id_='e02950f3-7a3e-4f6b-aaa2-70a5bc467fe0', embedding=None, metadata={'entities': ['eugeneyan', 'llm', 'engineering', 'production'], 'summary': 'Patterns for Building LLM-based Systems & Products - Discussions on HackerNews, Twitter, and LinkedIn. There is a large class of problems that are easy to imagine and build demos for, but extremely hard to make products out of. For example, self-driving: It’s easy to demo a'}, excluded_embed_metadata_keys=[], excluded_llm_metadata_keys=[], relationships={<NodeRelationship.SOURCE: '1'>: RelatedNodeInfo(node_id='https://eugeneyan.com/writing/llm-patterns/', node_type=<ObjectType.DOCUMENT: '4'>, metadata={}, hash='9334f3e5536220806763ea4446ce87ad664393600f6c5f9e2ae6ea2bc25bad78'), <NodeRelationship.NEXT: '3'>: RelatedNodeInfo(node_id='3a576536-3908-45e0-9a53-97715a0fdb5b', node_type=<ObjectType.TEXT: '1'>, metadata={}, hash='993e43bb060cf2f183f894f8dec6708eadcac2b7d2760a94916dc82c24255acc')}, text='# [eugeneyan](/)\\n\\n  * [Start Here](/start-here/ \"Start Here\")\\n  * [Writing](/writing/ \"Writing\")\\n  * [Speaking](/speaking/ \"Speaking\")\\n  * [Prototyping](/prototyping/ \"Prototyping\")\\n  * [About](/about/ \"About\")\\n\\n# Patterns for Building LLM-based Systems & Products\\n\\n[ [llm](/tag/llm/) [engineering](/tag/engineering/)\\n[production](/tag/production/) [🔥](/tag/🔥/) ]  · 66 min read\\n\\n> Discussions on [HackerNews](https://news.ycombinator.com/item?id=36965993),\\n> [Twitter](https://twitter.com/eugeneyan/status/1686531758701899776), and\\n> [LinkedIn](https://www.linkedin.com/posts/eugeneyan_patterns-for-building-\\n> llm-based-systems-activity-7092300473981927424-_wVo)\\n\\n“There is a large class of problems that are easy to imagine and build demos\\nfor, but extremely hard to make products out of. For example, self-driving:\\nIt’s easy to demo a', mimetype='text/plain', start_char_idx=0, end_char_idx=838, text_template='[Excerpt from document]\\n{metadata_str}\\nExcerpt:\\n-----\\n{content}\\n-----\\n', metadata_template='{key}: {value}', metadata_seperator='\\n')]"
      ]
     },
     "execution_count": 102,
     "metadata": {},
     "output_type": "execute_result"
    }
   ],
   "source": [
    "metadata_nodes = metadata_extractor.process_nodes(orig_nodes[0:1])\n",
    "metadata_nodes"
   ]
  },
  {
   "cell_type": "markdown",
   "metadata": {},
   "source": [
    "## Ingestion Pipeline"
   ]
  },
  {
   "cell_type": "code",
   "execution_count": 103,
   "metadata": {},
   "outputs": [
    {
     "name": "stdout",
     "output_type": "stream",
     "text": [
      "Collecting llama-index-vector-stores-qdrant\n",
      "  Downloading llama_index_vector_stores_qdrant-0.2.15-py3-none-any.whl.metadata (768 bytes)\n",
      "Requirement already satisfied: grpcio<2.0.0,>=1.60.0 in /Library/Frameworks/Python.framework/Versions/3.12/lib/python3.12/site-packages (from llama-index-vector-stores-qdrant) (1.65.4)\n",
      "Requirement already satisfied: llama-index-core<0.11.0,>=0.10.1 in /Library/Frameworks/Python.framework/Versions/3.12/lib/python3.12/site-packages (from llama-index-vector-stores-qdrant) (0.10.64)\n",
      "Collecting qdrant-client>=1.7.1 (from llama-index-vector-stores-qdrant)\n",
      "  Downloading qdrant_client-1.11.0-py3-none-any.whl.metadata (10 kB)\n",
      "Requirement already satisfied: PyYAML>=6.0.1 in /Library/Frameworks/Python.framework/Versions/3.12/lib/python3.12/site-packages (from llama-index-core<0.11.0,>=0.10.1->llama-index-vector-stores-qdrant) (6.0.1)\n",
      "Requirement already satisfied: SQLAlchemy>=1.4.49 in /Library/Frameworks/Python.framework/Versions/3.12/lib/python3.12/site-packages (from SQLAlchemy[asyncio]>=1.4.49->llama-index-core<0.11.0,>=0.10.1->llama-index-vector-stores-qdrant) (2.0.31)\n",
      "Requirement already satisfied: aiohttp<4.0.0,>=3.8.6 in /Library/Frameworks/Python.framework/Versions/3.12/lib/python3.12/site-packages (from llama-index-core<0.11.0,>=0.10.1->llama-index-vector-stores-qdrant) (3.10.0)\n",
      "Requirement already satisfied: dataclasses-json in /Library/Frameworks/Python.framework/Versions/3.12/lib/python3.12/site-packages (from llama-index-core<0.11.0,>=0.10.1->llama-index-vector-stores-qdrant) (0.6.7)\n",
      "Requirement already satisfied: deprecated>=1.2.9.3 in /Library/Frameworks/Python.framework/Versions/3.12/lib/python3.12/site-packages (from llama-index-core<0.11.0,>=0.10.1->llama-index-vector-stores-qdrant) (1.2.14)\n",
      "Requirement already satisfied: dirtyjson<2.0.0,>=1.0.8 in /Library/Frameworks/Python.framework/Versions/3.12/lib/python3.12/site-packages (from llama-index-core<0.11.0,>=0.10.1->llama-index-vector-stores-qdrant) (1.0.8)\n",
      "Requirement already satisfied: fsspec>=2023.5.0 in /Library/Frameworks/Python.framework/Versions/3.12/lib/python3.12/site-packages (from llama-index-core<0.11.0,>=0.10.1->llama-index-vector-stores-qdrant) (2024.5.0)\n",
      "Requirement already satisfied: httpx in /Library/Frameworks/Python.framework/Versions/3.12/lib/python3.12/site-packages (from llama-index-core<0.11.0,>=0.10.1->llama-index-vector-stores-qdrant) (0.27.0)\n",
      "Requirement already satisfied: nest-asyncio<2.0.0,>=1.5.8 in /Users/siddhiapraj/Library/Python/3.12/lib/python/site-packages (from llama-index-core<0.11.0,>=0.10.1->llama-index-vector-stores-qdrant) (1.6.0)\n",
      "Requirement already satisfied: networkx>=3.0 in /Library/Frameworks/Python.framework/Versions/3.12/lib/python3.12/site-packages (from llama-index-core<0.11.0,>=0.10.1->llama-index-vector-stores-qdrant) (3.3)\n",
      "Requirement already satisfied: nltk<4.0.0,>=3.8.1 in /Library/Frameworks/Python.framework/Versions/3.12/lib/python3.12/site-packages (from llama-index-core<0.11.0,>=0.10.1->llama-index-vector-stores-qdrant) (3.8.1)\n",
      "Requirement already satisfied: numpy<2.0.0 in /Library/Frameworks/Python.framework/Versions/3.12/lib/python3.12/site-packages (from llama-index-core<0.11.0,>=0.10.1->llama-index-vector-stores-qdrant) (1.26.4)\n",
      "Requirement already satisfied: openai>=1.1.0 in /Library/Frameworks/Python.framework/Versions/3.12/lib/python3.12/site-packages (from llama-index-core<0.11.0,>=0.10.1->llama-index-vector-stores-qdrant) (1.40.2)\n",
      "Requirement already satisfied: pandas in /Library/Frameworks/Python.framework/Versions/3.12/lib/python3.12/site-packages (from llama-index-core<0.11.0,>=0.10.1->llama-index-vector-stores-qdrant) (2.2.2)\n",
      "Requirement already satisfied: pillow>=9.0.0 in /Library/Frameworks/Python.framework/Versions/3.12/lib/python3.12/site-packages (from llama-index-core<0.11.0,>=0.10.1->llama-index-vector-stores-qdrant) (10.4.0)\n",
      "Requirement already satisfied: requests>=2.31.0 in /Library/Frameworks/Python.framework/Versions/3.12/lib/python3.12/site-packages (from llama-index-core<0.11.0,>=0.10.1->llama-index-vector-stores-qdrant) (2.32.3)\n",
      "Requirement already satisfied: tenacity!=8.4.0,<9.0.0,>=8.2.0 in /Library/Frameworks/Python.framework/Versions/3.12/lib/python3.12/site-packages (from llama-index-core<0.11.0,>=0.10.1->llama-index-vector-stores-qdrant) (8.5.0)\n",
      "Requirement already satisfied: tiktoken>=0.3.3 in /Library/Frameworks/Python.framework/Versions/3.12/lib/python3.12/site-packages (from llama-index-core<0.11.0,>=0.10.1->llama-index-vector-stores-qdrant) (0.7.0)\n",
      "Requirement already satisfied: tqdm<5.0.0,>=4.66.1 in /Library/Frameworks/Python.framework/Versions/3.12/lib/python3.12/site-packages (from llama-index-core<0.11.0,>=0.10.1->llama-index-vector-stores-qdrant) (4.66.4)\n",
      "Requirement already satisfied: typing-extensions>=4.5.0 in /Library/Frameworks/Python.framework/Versions/3.12/lib/python3.12/site-packages (from llama-index-core<0.11.0,>=0.10.1->llama-index-vector-stores-qdrant) (4.11.0)\n",
      "Requirement already satisfied: typing-inspect>=0.8.0 in /Library/Frameworks/Python.framework/Versions/3.12/lib/python3.12/site-packages (from llama-index-core<0.11.0,>=0.10.1->llama-index-vector-stores-qdrant) (0.9.0)\n",
      "Requirement already satisfied: wrapt in /Library/Frameworks/Python.framework/Versions/3.12/lib/python3.12/site-packages (from llama-index-core<0.11.0,>=0.10.1->llama-index-vector-stores-qdrant) (1.16.0)\n",
      "Collecting grpcio-tools>=1.41.0 (from qdrant-client>=1.7.1->llama-index-vector-stores-qdrant)\n",
      "  Downloading grpcio_tools-1.65.4-cp312-cp312-macosx_10_9_universal2.whl.metadata (5.3 kB)\n",
      "Collecting portalocker<3.0.0,>=2.7.0 (from qdrant-client>=1.7.1->llama-index-vector-stores-qdrant)\n",
      "  Downloading portalocker-2.10.1-py3-none-any.whl.metadata (8.5 kB)\n",
      "Requirement already satisfied: pydantic>=1.10.8 in /Library/Frameworks/Python.framework/Versions/3.12/lib/python3.12/site-packages (from qdrant-client>=1.7.1->llama-index-vector-stores-qdrant) (2.8.2)\n",
      "Requirement already satisfied: urllib3<3,>=1.26.14 in /Library/Frameworks/Python.framework/Versions/3.12/lib/python3.12/site-packages (from qdrant-client>=1.7.1->llama-index-vector-stores-qdrant) (2.2.1)\n",
      "Requirement already satisfied: aiohappyeyeballs>=2.3.0 in /Library/Frameworks/Python.framework/Versions/3.12/lib/python3.12/site-packages (from aiohttp<4.0.0,>=3.8.6->llama-index-core<0.11.0,>=0.10.1->llama-index-vector-stores-qdrant) (2.3.4)\n",
      "Requirement already satisfied: aiosignal>=1.1.2 in /Library/Frameworks/Python.framework/Versions/3.12/lib/python3.12/site-packages (from aiohttp<4.0.0,>=3.8.6->llama-index-core<0.11.0,>=0.10.1->llama-index-vector-stores-qdrant) (1.3.1)\n",
      "Requirement already satisfied: attrs>=17.3.0 in /Library/Frameworks/Python.framework/Versions/3.12/lib/python3.12/site-packages (from aiohttp<4.0.0,>=3.8.6->llama-index-core<0.11.0,>=0.10.1->llama-index-vector-stores-qdrant) (23.2.0)\n",
      "Requirement already satisfied: frozenlist>=1.1.1 in /Library/Frameworks/Python.framework/Versions/3.12/lib/python3.12/site-packages (from aiohttp<4.0.0,>=3.8.6->llama-index-core<0.11.0,>=0.10.1->llama-index-vector-stores-qdrant) (1.4.1)\n",
      "Requirement already satisfied: multidict<7.0,>=4.5 in /Library/Frameworks/Python.framework/Versions/3.12/lib/python3.12/site-packages (from aiohttp<4.0.0,>=3.8.6->llama-index-core<0.11.0,>=0.10.1->llama-index-vector-stores-qdrant) (6.0.5)\n",
      "Requirement already satisfied: yarl<2.0,>=1.0 in /Library/Frameworks/Python.framework/Versions/3.12/lib/python3.12/site-packages (from aiohttp<4.0.0,>=3.8.6->llama-index-core<0.11.0,>=0.10.1->llama-index-vector-stores-qdrant) (1.9.4)\n",
      "Collecting protobuf<6.0dev,>=5.26.1 (from grpcio-tools>=1.41.0->qdrant-client>=1.7.1->llama-index-vector-stores-qdrant)\n",
      "  Using cached protobuf-5.27.3-cp38-abi3-macosx_10_9_universal2.whl.metadata (592 bytes)\n",
      "Requirement already satisfied: setuptools in /Library/Frameworks/Python.framework/Versions/3.12/lib/python3.12/site-packages (from grpcio-tools>=1.41.0->qdrant-client>=1.7.1->llama-index-vector-stores-qdrant) (69.2.0)\n",
      "Requirement already satisfied: anyio in /Library/Frameworks/Python.framework/Versions/3.12/lib/python3.12/site-packages (from httpx->llama-index-core<0.11.0,>=0.10.1->llama-index-vector-stores-qdrant) (4.4.0)\n",
      "Requirement already satisfied: certifi in /Library/Frameworks/Python.framework/Versions/3.12/lib/python3.12/site-packages (from httpx->llama-index-core<0.11.0,>=0.10.1->llama-index-vector-stores-qdrant) (2024.2.2)\n",
      "Requirement already satisfied: httpcore==1.* in /Library/Frameworks/Python.framework/Versions/3.12/lib/python3.12/site-packages (from httpx->llama-index-core<0.11.0,>=0.10.1->llama-index-vector-stores-qdrant) (1.0.5)\n",
      "Requirement already satisfied: idna in /Library/Frameworks/Python.framework/Versions/3.12/lib/python3.12/site-packages (from httpx->llama-index-core<0.11.0,>=0.10.1->llama-index-vector-stores-qdrant) (3.7)\n",
      "Requirement already satisfied: sniffio in /Library/Frameworks/Python.framework/Versions/3.12/lib/python3.12/site-packages (from httpx->llama-index-core<0.11.0,>=0.10.1->llama-index-vector-stores-qdrant) (1.3.1)\n",
      "Requirement already satisfied: h11<0.15,>=0.13 in /Library/Frameworks/Python.framework/Versions/3.12/lib/python3.12/site-packages (from httpcore==1.*->httpx->llama-index-core<0.11.0,>=0.10.1->llama-index-vector-stores-qdrant) (0.14.0)\n",
      "Collecting h2<5,>=3 (from httpx[http2]>=0.20.0->qdrant-client>=1.7.1->llama-index-vector-stores-qdrant)\n",
      "  Downloading h2-4.1.0-py3-none-any.whl.metadata (3.6 kB)\n",
      "Requirement already satisfied: click in /Library/Frameworks/Python.framework/Versions/3.12/lib/python3.12/site-packages (from nltk<4.0.0,>=3.8.1->llama-index-core<0.11.0,>=0.10.1->llama-index-vector-stores-qdrant) (8.1.7)\n",
      "Requirement already satisfied: joblib in /Library/Frameworks/Python.framework/Versions/3.12/lib/python3.12/site-packages (from nltk<4.0.0,>=3.8.1->llama-index-core<0.11.0,>=0.10.1->llama-index-vector-stores-qdrant) (1.4.0)\n",
      "Requirement already satisfied: regex>=2021.8.3 in /Library/Frameworks/Python.framework/Versions/3.12/lib/python3.12/site-packages (from nltk<4.0.0,>=3.8.1->llama-index-core<0.11.0,>=0.10.1->llama-index-vector-stores-qdrant) (2024.7.24)\n",
      "Requirement already satisfied: distro<2,>=1.7.0 in /Library/Frameworks/Python.framework/Versions/3.12/lib/python3.12/site-packages (from openai>=1.1.0->llama-index-core<0.11.0,>=0.10.1->llama-index-vector-stores-qdrant) (1.9.0)\n",
      "Requirement already satisfied: jiter<1,>=0.4.0 in /Library/Frameworks/Python.framework/Versions/3.12/lib/python3.12/site-packages (from openai>=1.1.0->llama-index-core<0.11.0,>=0.10.1->llama-index-vector-stores-qdrant) (0.5.0)\n",
      "Requirement already satisfied: annotated-types>=0.4.0 in /Library/Frameworks/Python.framework/Versions/3.12/lib/python3.12/site-packages (from pydantic>=1.10.8->qdrant-client>=1.7.1->llama-index-vector-stores-qdrant) (0.7.0)\n",
      "Requirement already satisfied: pydantic-core==2.20.1 in /Library/Frameworks/Python.framework/Versions/3.12/lib/python3.12/site-packages (from pydantic>=1.10.8->qdrant-client>=1.7.1->llama-index-vector-stores-qdrant) (2.20.1)\n",
      "Requirement already satisfied: charset-normalizer<4,>=2 in /Library/Frameworks/Python.framework/Versions/3.12/lib/python3.12/site-packages (from requests>=2.31.0->llama-index-core<0.11.0,>=0.10.1->llama-index-vector-stores-qdrant) (3.3.2)\n",
      "Requirement already satisfied: greenlet!=0.4.17 in /Library/Frameworks/Python.framework/Versions/3.12/lib/python3.12/site-packages (from SQLAlchemy[asyncio]>=1.4.49->llama-index-core<0.11.0,>=0.10.1->llama-index-vector-stores-qdrant) (3.0.3)\n",
      "Requirement already satisfied: mypy-extensions>=0.3.0 in /Library/Frameworks/Python.framework/Versions/3.12/lib/python3.12/site-packages (from typing-inspect>=0.8.0->llama-index-core<0.11.0,>=0.10.1->llama-index-vector-stores-qdrant) (1.0.0)\n",
      "Requirement already satisfied: marshmallow<4.0.0,>=3.18.0 in /Library/Frameworks/Python.framework/Versions/3.12/lib/python3.12/site-packages (from dataclasses-json->llama-index-core<0.11.0,>=0.10.1->llama-index-vector-stores-qdrant) (3.21.3)\n",
      "Requirement already satisfied: python-dateutil>=2.8.2 in /Library/Frameworks/Python.framework/Versions/3.12/lib/python3.12/site-packages (from pandas->llama-index-core<0.11.0,>=0.10.1->llama-index-vector-stores-qdrant) (2.9.0.post0)\n",
      "Requirement already satisfied: pytz>=2020.1 in /Library/Frameworks/Python.framework/Versions/3.12/lib/python3.12/site-packages (from pandas->llama-index-core<0.11.0,>=0.10.1->llama-index-vector-stores-qdrant) (2024.1)\n",
      "Requirement already satisfied: tzdata>=2022.7 in /Library/Frameworks/Python.framework/Versions/3.12/lib/python3.12/site-packages (from pandas->llama-index-core<0.11.0,>=0.10.1->llama-index-vector-stores-qdrant) (2024.1)\n",
      "Collecting hyperframe<7,>=6.0 (from h2<5,>=3->httpx[http2]>=0.20.0->qdrant-client>=1.7.1->llama-index-vector-stores-qdrant)\n",
      "  Downloading hyperframe-6.0.1-py3-none-any.whl.metadata (2.7 kB)\n",
      "Collecting hpack<5,>=4.0 (from h2<5,>=3->httpx[http2]>=0.20.0->qdrant-client>=1.7.1->llama-index-vector-stores-qdrant)\n",
      "  Downloading hpack-4.0.0-py3-none-any.whl.metadata (2.5 kB)\n",
      "Requirement already satisfied: packaging>=17.0 in /Library/Frameworks/Python.framework/Versions/3.12/lib/python3.12/site-packages (from marshmallow<4.0.0,>=3.18.0->dataclasses-json->llama-index-core<0.11.0,>=0.10.1->llama-index-vector-stores-qdrant) (24.0)\n",
      "Requirement already satisfied: six>=1.5 in /Library/Frameworks/Python.framework/Versions/3.12/lib/python3.12/site-packages (from python-dateutil>=2.8.2->pandas->llama-index-core<0.11.0,>=0.10.1->llama-index-vector-stores-qdrant) (1.16.0)\n",
      "Downloading llama_index_vector_stores_qdrant-0.2.15-py3-none-any.whl (11 kB)\n",
      "Downloading qdrant_client-1.11.0-py3-none-any.whl (258 kB)\n",
      "\u001b[2K   \u001b[90m━━━━━━━━━━━━━━━━━━━━━━━━━━━━━━━━━━━━━━━━\u001b[0m \u001b[32m258.9/258.9 kB\u001b[0m \u001b[31m2.6 MB/s\u001b[0m eta \u001b[36m0:00:00\u001b[0ma \u001b[36m0:00:01\u001b[0m\n",
      "\u001b[?25hDownloading grpcio_tools-1.65.4-cp312-cp312-macosx_10_9_universal2.whl (5.3 MB)\n",
      "\u001b[2K   \u001b[90m━━━━━━━━━━━━━━━━━━━━━━━━━━━━━━━━━━━━━━━━\u001b[0m \u001b[32m5.3/5.3 MB\u001b[0m \u001b[31m6.9 MB/s\u001b[0m eta \u001b[36m0:00:00\u001b[0m00:01\u001b[0m00:01\u001b[0m\n",
      "\u001b[?25hDownloading portalocker-2.10.1-py3-none-any.whl (18 kB)\n",
      "Downloading h2-4.1.0-py3-none-any.whl (57 kB)\n",
      "\u001b[2K   \u001b[90m━━━━━━━━━━━━━━━━━━━━━━━━━━━━━━━━━━━━━━━━\u001b[0m \u001b[32m57.5/57.5 kB\u001b[0m \u001b[31m4.1 MB/s\u001b[0m eta \u001b[36m0:00:00\u001b[0m\n",
      "\u001b[?25hUsing cached protobuf-5.27.3-cp38-abi3-macosx_10_9_universal2.whl (412 kB)\n",
      "Downloading hpack-4.0.0-py3-none-any.whl (32 kB)\n",
      "Downloading hyperframe-6.0.1-py3-none-any.whl (12 kB)\n",
      "Installing collected packages: protobuf, portalocker, hyperframe, hpack, h2, grpcio-tools, qdrant-client, llama-index-vector-stores-qdrant\n",
      "  Attempting uninstall: protobuf\n",
      "    Found existing installation: protobuf 4.25.4\n",
      "    Uninstalling protobuf-4.25.4:\n",
      "      Successfully uninstalled protobuf-4.25.4\n",
      "\u001b[31mERROR: pip's dependency resolver does not currently take into account all the packages that are installed. This behaviour is the source of the following dependency conflicts.\n",
      "google-cloud-translate 3.11.3 requires protobuf!=3.20.0,!=3.20.1,!=4.21.0,!=4.21.1,!=4.21.2,!=4.21.3,!=4.21.4,!=4.21.5,<5.0.0dev,>=3.19.5, but you have protobuf 5.27.3 which is incompatible.\n",
      "tensorflow 2.17.0 requires protobuf!=4.21.0,!=4.21.1,!=4.21.2,!=4.21.3,!=4.21.4,!=4.21.5,<5.0.0dev,>=3.20.3, but you have protobuf 5.27.3 which is incompatible.\n",
      "opentelemetry-proto 1.26.0 requires protobuf<5.0,>=3.19, but you have protobuf 5.27.3 which is incompatible.\n",
      "tensorboard 2.17.0 requires protobuf!=4.24.0,<5.0.0,>=3.19.6, but you have protobuf 5.27.3 which is incompatible.\n",
      "google-cloud-firestore 2.7.2 requires protobuf!=3.20.0,!=3.20.1,!=4.21.0,!=4.21.1,!=4.21.2,!=4.21.3,!=4.21.4,!=4.21.5,<5.0.0dev,>=3.19.5, but you have protobuf 5.27.3 which is incompatible.\u001b[0m\u001b[31m\n",
      "\u001b[0mSuccessfully installed grpcio-tools-1.65.4 h2-4.1.0 hpack-4.0.0 hyperframe-6.0.1 llama-index-vector-stores-qdrant-0.2.15 portalocker-2.10.1 protobuf-5.27.3 qdrant-client-1.11.0\n",
      "\n",
      "\u001b[1m[\u001b[0m\u001b[34;49mnotice\u001b[0m\u001b[1;39;49m]\u001b[0m\u001b[39;49m A new release of pip is available: \u001b[0m\u001b[31;49m24.0\u001b[0m\u001b[39;49m -> \u001b[0m\u001b[32;49m24.2\u001b[0m\n",
      "\u001b[1m[\u001b[0m\u001b[34;49mnotice\u001b[0m\u001b[1;39;49m]\u001b[0m\u001b[39;49m To update, run: \u001b[0m\u001b[32;49mpip3 install --upgrade pip\u001b[0m\n"
     ]
    }
   ],
   "source": [
    "!pip3 install llama-index-vector-stores-qdrant"
   ]
  },
  {
   "cell_type": "code",
   "execution_count": 104,
   "metadata": {},
   "outputs": [],
   "source": [
    "from llama_index.core.ingestion import IngestionCache, IngestionPipeline\n",
    "from llama_index.core.extractors import TitleExtractor"
   ]
  },
  {
   "cell_type": "markdown",
   "metadata": {},
   "source": [
    "#### Text Splitter"
   ]
  },
  {
   "cell_type": "code",
   "execution_count": 105,
   "metadata": {},
   "outputs": [],
   "source": [
    "pipeline = IngestionPipeline(\n",
    "    transformations = [\n",
    "        TokenTextSplitter(chunk_size=1024, chunk_overlap=100),\n",
    "    ]\n",
    ")\n",
    "nodes = pipeline.run(documents=documents)"
   ]
  },
  {
   "cell_type": "code",
   "execution_count": 106,
   "metadata": {},
   "outputs": [
    {
     "data": {
      "text/plain": [
       "TextNode(id_='fd821463-045f-4d22-b2dc-722add800256', embedding=None, metadata={'file_path': '/Users/siddhiapraj/GenAIExperiments/LlamaIndex/data1/paul_graham_essay.txt', 'file_name': 'paul_graham_essay.txt', 'file_type': 'text/plain', 'file_size': 75040, 'creation_date': '2024-08-12', 'last_modified_date': '2024-08-12'}, excluded_embed_metadata_keys=['file_name', 'file_type', 'file_size', 'creation_date', 'last_modified_date', 'last_accessed_date'], excluded_llm_metadata_keys=['file_name', 'file_type', 'file_size', 'creation_date', 'last_modified_date', 'last_accessed_date'], relationships={<NodeRelationship.SOURCE: '1'>: RelatedNodeInfo(node_id='a4ce4638-afc1-4c0e-8f0b-27c32355442b', node_type=<ObjectType.DOCUMENT: '4'>, metadata={'file_path': '/Users/siddhiapraj/GenAIExperiments/LlamaIndex/data1/paul_graham_essay.txt', 'file_name': 'paul_graham_essay.txt', 'file_type': 'text/plain', 'file_size': 75040, 'creation_date': '2024-08-12', 'last_modified_date': '2024-08-12'}, hash='e599db1e7a83a45547da88295586cafccf5d5cd7a79caa219831d86795de75f4'), <NodeRelationship.NEXT: '3'>: RelatedNodeInfo(node_id='ae24b83e-3a15-475e-b1c8-88a9cb4c18aa', node_type=<ObjectType.TEXT: '1'>, metadata={}, hash='d09f1cb17a2dabdb53d351fa55494efb9db68bb6c26d598066567504f9cd4855')}, text='What I Worked On\\n\\nFebruary 2021\\n\\nBefore college the two main things I worked on, outside of school, were writing and programming. I didn\\'t write essays. I wrote what beginning writers were supposed to write then, and probably still are: short stories. My stories were awful. They had hardly any plot, just characters with strong feelings, which I imagined made them deep.\\n\\nThe first programs I tried writing were on the IBM 1401 that our school district used for what was then called \"data processing.\" This was in 9th grade, so I was 13 or 14. The school district\\'s 1401 happened to be in the basement of our junior high school, and my friend Rich Draves and I got permission to use it. It was like a mini Bond villain\\'s lair down there, with all these alien-looking machines — CPU, disk drives, printer, card reader — sitting up on a raised floor under bright fluorescent lights.\\n\\nThe language we used was an early version of Fortran. You had to type programs on punch cards, then stack them in the card reader and press a button to load the program into memory and run it. The result would ordinarily be to print something on the spectacularly loud printer.\\n\\nI was puzzled by the 1401. I couldn\\'t figure out what to do with it. And in retrospect there\\'s not much I could have done with it. The only form of input to programs was data stored on punched cards, and I didn\\'t have any data stored on punched cards. The only other option was to do things that didn\\'t rely on any input, like calculate approximations of pi, but I didn\\'t know enough math to do anything interesting of that type. So I\\'m not surprised I can\\'t remember any programs I wrote, because they can\\'t have done much. My clearest memory is of the moment I learned it was possible for programs not to terminate, when one of mine didn\\'t. On a machine without time-sharing, this was a social as well as a technical error, as the data center manager\\'s expression made clear.\\n\\nWith microcomputers, everything changed. Now you could have a computer sitting right in front of you, on a desk, that could respond to your keystrokes as it was running instead of just churning through a stack of punch cards and then stopping. [1]\\n\\nThe first of my friends to get a microcomputer built it himself. It was sold as a kit by Heathkit. I remember vividly how impressed and envious I felt watching him sitting in front of it, typing programs right into the computer.\\n\\nComputers were expensive in those days and it took me years of nagging before I convinced my father to buy one, a TRS-80, in about 1980. The gold standard then was the Apple II, but a TRS-80 was good enough. This was when I really started programming. I wrote simple games, a program to predict how high my model rockets would fly, and a word processor that my father used to write at least one book. There was only room in memory for about 2 pages of text, so he\\'d write 2 pages at a time and then print them out, but it was a lot better than a typewriter.\\n\\nThough I liked programming, I didn\\'t plan to study it in college. In college I was going to study philosophy, which sounded much more powerful. It seemed, to my naive high school self, to be the study of the ultimate truths, compared to which the things studied in other fields would be mere domain knowledge. What I discovered when I got to college was that the other fields took up so much of the space of ideas that there wasn\\'t much left for these supposed ultimate truths. All that seemed left for philosophy were edge cases that people in other fields felt could safely be ignored.\\n\\nI couldn\\'t have put this into words when I was 18. All I knew at the time was that I kept taking philosophy courses and they kept being boring. So I decided to switch to AI.\\n\\nAI was in the air in the mid 1980s, but there were two things especially that made me want to work on it: a novel by Heinlein called The Moon is a Harsh Mistress, which featured an intelligent computer called Mike, and a PBS documentary that showed Terry Winograd using SHRDLU. I haven\\'t tried rereading The Moon is a Harsh Mistress, so I don\\'t know how well it has aged, but when I read it I was drawn entirely into its world. It seemed only a matter of time before we\\'d have Mike, and when I saw Winograd using SHRDLU, it seemed like that time would be a few years at most. All you had to do was teach SHRDLU more words.\\n\\nThere weren\\'t any classes in AI at Cornell then, not even graduate', mimetype='text/plain', start_char_idx=0, end_char_idx=4433, text_template='{metadata_str}\\n\\n{content}', metadata_template='{key}: {value}', metadata_seperator='\\n')"
      ]
     },
     "execution_count": 106,
     "metadata": {},
     "output_type": "execute_result"
    }
   ],
   "source": [
    "nodes[0]"
   ]
  },
  {
   "cell_type": "markdown",
   "metadata": {},
   "source": [
    "#### Text Splitter + Metadata Extractor"
   ]
  },
  {
   "cell_type": "code",
   "execution_count": 107,
   "metadata": {},
   "outputs": [
    {
     "name": "stderr",
     "output_type": "stream",
     "text": [
      "  0%|          | 0/5 [00:00<?, ?it/s]"
     ]
    },
    {
     "name": "stdout",
     "output_type": "stream",
     "text": [
      "HTTP Request: POST https://api.openai.com/v1/chat/completions \"HTTP/1.1 200 OK\"\n",
      "HTTP Request: POST https://api.openai.com/v1/chat/completions \"HTTP/1.1 200 OK\"\n"
     ]
    },
    {
     "name": "stderr",
     "output_type": "stream",
     "text": [
      " 20%|██        | 1/5 [00:03<00:15,  3.98s/it]"
     ]
    },
    {
     "name": "stdout",
     "output_type": "stream",
     "text": [
      "HTTP Request: POST https://api.openai.com/v1/chat/completions \"HTTP/1.1 200 OK\"\n",
      "HTTP Request: POST https://api.openai.com/v1/chat/completions \"HTTP/1.1 200 OK\"\n",
      "HTTP Request: POST https://api.openai.com/v1/chat/completions \"HTTP/1.1 200 OK\"\n",
      "HTTP Request: POST https://api.openai.com/v1/chat/completions \"HTTP/1.1 200 OK\"\n"
     ]
    },
    {
     "name": "stderr",
     "output_type": "stream",
     "text": [
      " 60%|██████    | 3/5 [00:04<00:02,  1.09s/it]"
     ]
    },
    {
     "name": "stdout",
     "output_type": "stream",
     "text": [
      "HTTP Request: POST https://api.openai.com/v1/chat/completions \"HTTP/1.1 200 OK\"\n",
      "HTTP Request: POST https://api.openai.com/v1/chat/completions \"HTTP/1.1 200 OK\"\n"
     ]
    },
    {
     "name": "stderr",
     "output_type": "stream",
     "text": [
      " 80%|████████  | 4/5 [00:04<00:00,  1.31it/s]"
     ]
    },
    {
     "name": "stdout",
     "output_type": "stream",
     "text": [
      "HTTP Request: POST https://api.openai.com/v1/chat/completions \"HTTP/1.1 200 OK\"\n",
      "HTTP Request: POST https://api.openai.com/v1/chat/completions \"HTTP/1.1 200 OK\"\n"
     ]
    },
    {
     "name": "stderr",
     "output_type": "stream",
     "text": [
      "100%|██████████| 5/5 [00:04<00:00,  1.06it/s]\n"
     ]
    },
    {
     "name": "stdout",
     "output_type": "stream",
     "text": [
      "HTTP Request: POST https://api.openai.com/v1/chat/completions \"HTTP/1.1 200 OK\"\n",
      "HTTP Request: POST https://api.openai.com/v1/chat/completions \"HTTP/1.1 200 OK\"\n"
     ]
    }
   ],
   "source": [
    "pipeline = IngestionPipeline(\n",
    "    transformations = [\n",
    "        TokenTextSplitter(chunk_size=1024, chunk_overlap=100),\n",
    "        TitleExtractor()\n",
    "    ]\n",
    ")\n",
    "nodes = pipeline.run(documents=documents)"
   ]
  },
  {
   "cell_type": "code",
   "execution_count": 108,
   "metadata": {},
   "outputs": [
    {
     "data": {
      "text/plain": [
       "'Navigating the Intersection of Art, Programming, and Artificial Intelligence: A Journey of Exploration and Transition'"
      ]
     },
     "execution_count": 108,
     "metadata": {},
     "output_type": "execute_result"
    }
   ],
   "source": [
    "nodes[0].metadata['document_title']"
   ]
  },
  {
   "cell_type": "markdown",
   "metadata": {},
   "source": [
    "#### Text Splitter + Metadata Extractor + OpenAI Embedding"
   ]
  },
  {
   "cell_type": "code",
   "execution_count": 109,
   "metadata": {},
   "outputs": [
    {
     "name": "stderr",
     "output_type": "stream",
     "text": [
      "  0%|          | 0/5 [00:00<?, ?it/s]"
     ]
    },
    {
     "name": "stdout",
     "output_type": "stream",
     "text": [
      "HTTP Request: POST https://api.openai.com/v1/chat/completions \"HTTP/1.1 200 OK\"\n",
      "HTTP Request: POST https://api.openai.com/v1/chat/completions \"HTTP/1.1 200 OK\"\n",
      "HTTP Request: POST https://api.openai.com/v1/chat/completions \"HTTP/1.1 200 OK\"\n",
      "HTTP Request: POST https://api.openai.com/v1/chat/completions \"HTTP/1.1 200 OK\"\n"
     ]
    },
    {
     "name": "stderr",
     "output_type": "stream",
     "text": [
      " 20%|██        | 1/5 [00:00<00:03,  1.06it/s]"
     ]
    },
    {
     "name": "stdout",
     "output_type": "stream",
     "text": [
      "HTTP Request: POST https://api.openai.com/v1/chat/completions \"HTTP/1.1 200 OK\"\n",
      "HTTP Request: POST https://api.openai.com/v1/chat/completions \"HTTP/1.1 200 OK\"\n",
      "HTTP Request: POST https://api.openai.com/v1/chat/completions \"HTTP/1.1 200 OK\"\n",
      "HTTP Request: POST https://api.openai.com/v1/chat/completions \"HTTP/1.1 200 OK\"\n"
     ]
    },
    {
     "name": "stderr",
     "output_type": "stream",
     "text": [
      " 80%|████████  | 4/5 [00:01<00:00,  2.71it/s]"
     ]
    },
    {
     "name": "stdout",
     "output_type": "stream",
     "text": [
      "HTTP Request: POST https://api.openai.com/v1/chat/completions \"HTTP/1.1 200 OK\"\n",
      "HTTP Request: POST https://api.openai.com/v1/chat/completions \"HTTP/1.1 200 OK\"\n"
     ]
    },
    {
     "name": "stderr",
     "output_type": "stream",
     "text": [
      "100%|██████████| 5/5 [00:02<00:00,  1.95it/s]\n"
     ]
    },
    {
     "name": "stdout",
     "output_type": "stream",
     "text": [
      "HTTP Request: POST https://api.openai.com/v1/chat/completions \"HTTP/1.1 200 OK\"\n",
      "HTTP Request: POST https://api.openai.com/v1/chat/completions \"HTTP/1.1 200 OK\"\n",
      "HTTP Request: POST https://api.openai.com/v1/embeddings \"HTTP/1.1 200 OK\"\n",
      "HTTP Request: POST https://api.openai.com/v1/embeddings \"HTTP/1.1 200 OK\"\n"
     ]
    }
   ],
   "source": [
    "pipeline = IngestionPipeline(\n",
    "    transformations = [\n",
    "        TokenTextSplitter(chunk_size=1024, chunk_overlap=100),\n",
    "        TitleExtractor(),\n",
    "        OpenAIEmbedding()\n",
    "    ]\n",
    ")\n",
    "nodes = pipeline.run(documents=documents)"
   ]
  },
  {
   "cell_type": "code",
   "execution_count": 110,
   "metadata": {},
   "outputs": [
    {
     "data": {
      "text/plain": [
       "'The Journey of a Multidisciplinary Mind: Exploring Art, Programming, and Artificial Intelligence'"
      ]
     },
     "execution_count": 110,
     "metadata": {},
     "output_type": "execute_result"
    }
   ],
   "source": [
    "nodes[0].metadata['document_title']"
   ]
  },
  {
   "cell_type": "code",
   "execution_count": 111,
   "metadata": {},
   "outputs": [
    {
     "data": {
      "text/plain": [
       "TextNode(id_='7c3df5ad-490a-477b-be9b-91c16b86c8a1', embedding=[-0.0002311031857971102, -0.008464585989713669, -0.011479275301098824, -0.026945943012833595, -0.0037769849877804518, 0.0331408865749836, -0.02105453610420227, -0.005491287913173437, -0.020557835698127747, -0.023538032546639442, 0.031816355884075165, 0.028946537524461746, 0.0057430868037045, -0.0089888796210289, -0.005446447059512138, 0.021992744877934456, 0.022241095080971718, 0.006688195280730724, -0.00024533155374228954, -0.01761903055012226, -0.019564436748623848, -0.006560571026057005, 0.015370086766779423, -0.01206565648317337, 0.007733333855867386, 0.008436990901827812, 0.020406067371368408, -0.04001189395785332, -0.003223372157663107, -0.019398869946599007, 0.015673626214265823, -0.00381492730230093, -0.004280583001673222, -0.0061673508025705814, -0.03620386868715286, -0.0007359946612268686, -0.0025421350728720427, -0.001129646203480661, 0.017646625638008118, -0.01408004853874445, 0.03774915263056755, 0.021578829735517502, -0.015107939951121807, -0.00685031246393919, -0.020281892269849777, 0.009409694001078606, 0.01960582844913006, -0.008202438242733479, -0.004915254656225443, 0.024945346638560295, 0.015287303365767002, 0.037418022751808167, -0.0064191496931016445, 0.002462801057845354, -0.01924710161983967, 0.005318822804838419, 0.029470831155776978, 0.02013012208044529, 0.005594766698777676, 0.012486470863223076, 0.01058935560286045, 0.004911805037409067, -0.0023851918522268534, 0.01110674999654293, -0.006315670907497406, -0.003409634344279766, -0.025373060256242752, 0.00617079995572567, 0.018350282683968544, -0.014459471218287945, 0.0006191495922394097, -0.0012201903155073524, -0.033858343958854675, -0.0014694023411720991, 0.03220267593860626, 0.013100446201860905, -0.0014081773115321994, -0.005363663658499718, -0.0027473685331642628, -0.0062673804350197315, -0.015880582854151726, -0.007857508957386017, 0.0030940233264118433, 0.009789117611944675, 0.004111567046493292, -0.012369194999337196, 0.00490490673109889, 0.020199108868837357, -0.012638240121304989, -0.031457629054784775, 0.009251026436686516, 0.018777996301651, 0.006215641275048256, 0.024421053007245064, -0.005939696915447712, 0.016391079872846603, -0.0036355636548250914, 0.010237526148557663, -0.005377460736781359, -0.029857153072953224, -0.003780434373766184, -0.005922450218349695, 0.006822718307375908, -0.017632829025387764, -0.035210467875003815, 0.024876361712813377, 0.004994588438421488, 0.0003132396668661386, 0.018005352467298508, -0.02280678041279316, 0.018709011375904083, 0.03258899971842766, 0.00523259025067091, -0.04840059578418732, -0.01865382120013237, -0.03184394910931587, 0.016763605177402496, -0.030050313100218773, -0.019357480108737946, -0.024062326177954674, 0.010492774657905102, 0.017757004126906395, 0.016156528145074844, -0.005260184407234192, 0.016128933057188988, 0.031126495450735092, -0.020709605887532234, -0.02320689894258976, 0.01414213515818119, -0.013024562038481236, 0.011624145321547985, 0.005605114623904228, 0.024628011509776115, 0.006357062608003616, -0.011713827028870583, 0.005925899837166071, -0.024779781699180603, 0.0033354745246469975, -0.008423194289207458, -0.009871900081634521, 0.01090669073164463, 0.021758193150162697, -0.011493071913719177, -0.01610133796930313, -0.010554862208664417, 0.02687695622444153, 0.012355397455394268, -0.0027404699940234423, 0.01957823522388935, 0.01905394159257412, 0.00675028283149004, -0.015921974554657936, -0.01961962692439556, 0.005587868392467499, 0.011417187750339508, 0.0028094558510929346, 0.01661183498799801, 0.0235656276345253, -0.01534249261021614, 5.702126145479269e-05, 0.021909961476922035, 0.02655962109565735, 0.00045013384078629315, 0.005898305214941502, 0.003411359153687954, 0.032368242740631104, 0.028035921975970268, 0.004270235076546669, -0.010837704874575138, -0.021068332716822624, -0.01090669073164463, 0.031292062252759933, -0.043764736503362656, 0.009209634736180305, 0.011210229247808456, 0.016087541356682777, 0.025497235357761383, 0.0033734168391674757, -0.03203711286187172, -0.015535653568804264, 0.006902052089571953, 0.0010908416006714106, 0.022972347214818, 0.016087541356682777, -0.01726030372083187, 0.0025197146460413933, 0.008637050166726112, -0.01385929249227047, -0.0005419714725576341, -0.002411061665043235, 0.015452870167791843, 0.006136307027190924, -0.019109129905700684, -0.02328968234360218, -0.6512280702590942, -0.03653499856591225, 0.005787927657365799, -0.014983764849603176, -0.0015806423034518957, 0.010396194644272327, -0.006532976869493723, 0.008216235786676407, 0.0029060363303869963, 0.040729351341724396, -0.015770206227898598, -0.0036769553553313017, 0.015439072623848915, 0.008740529417991638, 0.0022489444818347692, -0.0037079988978803158, 0.026476837694644928, -0.014804401434957981, -0.01361784152686596, -0.000945108593441546, -0.02408992126584053, 0.019950758665800095, 0.0007342700264416635, -0.015066548250615597, -0.010616949759423733, 0.019633423537015915, 0.010734225623309612, -0.0026404401287436485, -0.002988819731399417, 0.01881938800215721, -0.02824287861585617, 0.010023669339716434, 0.010975676588714123, -0.007133155129849911, 0.05516122654080391, -0.01801915094256401, -0.014956170693039894, 0.018074339255690575, 0.02432447299361229, 0.021040737628936768, -0.025055725127458572, -0.03336164355278015, -0.008623253554105759, 0.00648123724386096, -0.0016642878763377666, 0.01694296859204769, 0.02560761384665966, -0.0026611359789967537, 0.009920191019773483, 0.0015487363561987877, -0.0026421649381518364, 0.01841926947236061, 0.003507939400151372, -0.008147249929606915, 0.010485876351594925, 0.005456794518977404, 0.029746774584054947, -0.006519179791212082, 0.0016392804682254791, -0.012790009379386902, -0.007878203876316547, 0.019564436748623848, -0.035569194704294205, 0.01428010780364275, -0.009464883245527744, 0.00097873923368752, 0.00015306274872273207, -0.0059500448405742645, 0.0008873327751643956, -0.02196515165269375, 0.010313411243259907, 0.019026346504688263, -0.007257330231368542, -0.02021290548145771, -0.0014314600266516209, 0.014956170693039894, 0.023717395961284637, 0.003344097640365362, -0.01276241522282362, 0.006812370382249355, 0.011624145321547985, -0.008085162378847599, -0.005194647703319788, -0.01385929249227047, 0.028422243893146515, 8.132805669447407e-05, -0.027428844943642616, 0.0005531816859729588, 0.005984537769109011, -0.004742789547890425, -0.005580969620496035, 0.015825394541025162, -0.02460041642189026, -0.035210467875003815, 0.0022886113729327917, -0.0005635296110995114, -0.00849218014627695, -0.006939994171261787, 0.01184490043669939, -0.03471376746892929, 0.00762985460460186, 0.003594171954318881, 0.026338865980505943, 0.016225513070821762, 0.02164781466126442, -0.0116862328723073, -0.0013366042403504252, 0.018515849485993385, 0.012796907685697079, -0.03479655086994171, -0.009375201538205147, 0.0014763009967282414, -0.03043663501739502, 6.607567775063217e-05, -0.0028577460907399654, -0.02221349999308586, 0.010106452740728855, -0.0003218629281036556, 0.013410883955657482, -0.005008385516703129, 0.026932144537568092, -0.018281297758221626, -0.022861968725919724, -0.01016854029148817, -0.003559679025784135, 0.00496354466304183, 0.0035527804866433144, -0.030850552022457123, -0.031071307137608528, 0.024393459782004356, -0.018943563103675842, -0.01485959067940712, 0.025373060256242752, -0.010382397100329399, 0.0021799583919346333, -0.006294975057244301, 0.009740826673805714, -0.007947190664708614, 0.0007541035301983356, -0.0067226882092654705, -0.027704788371920586, -0.004270235076546669, 0.010699733160436153, -0.002095450647175312, -0.007878203876316547, -0.02057163417339325, -0.0024093370884656906, -0.004128813743591309, 0.0030250372365117073, -0.00026085341232828796, 0.007050372194498777, -0.007981683127582073, -0.010030568577349186, 0.01178281381726265, -0.008699137717485428, -0.009740826673805714, -0.010727327316999435, -0.02280678041279316, -0.018446864560246468, -0.019150521606206894, -0.0233724657446146, 0.040812134742736816, -0.009906393475830555, 0.0028939638286828995, 0.0025007433723658323, 0.0016841214383020997, 0.0019160868832841516, 0.037445615977048874, -0.027539221569895744, -0.03115409053862095, 0.009616652503609657, 0.008278323337435722, -0.002445554593577981, 0.005687898024916649, -0.009326910600066185, 0.020392268896102905, -0.011541361920535564, -0.005035980138927698, 0.001233125221915543, -0.012769313529133797, -0.006443295162171125, 0.025235088542103767, 0.020585430786013603, -0.010975676588714123, 0.022144515067338943, 0.007167648058384657, 0.023344872519373894, 0.010251323692500591, 0.010810110718011856, -0.0003830880450550467, 0.021192507818341255, 0.012279513292014599, -0.01677740179002285, 0.008195539936423302, -0.010306512005627155, 0.028946537524461746, -0.005881058983504772, -0.010106452740728855, 0.012776211835443974, 0.022875767201185226, 0.0016159976366907358, 0.006905501242727041, 0.002447279402986169, -0.010844603180885315, 0.019923165440559387, -0.034658581018447876, -0.0047220936976373196, -0.027456438168883324, 0.015549450181424618, -0.005173951853066683, -0.0038701160810887814, -0.009940886870026588, -0.01585298962891102, -0.03443782404065132, 0.006319120060652494, 0.02272399701178074, -0.011210229247808456, 0.013410883955657482, -0.051546361297369, 0.009292418137192726, 0.004301278851926327, 0.0331684835255146, -0.0014564675511792302, -0.0038252752274274826, 0.009747725911438465, 0.03642462193965912, 0.0017358609475195408, 0.0016427297377958894, -0.011430984362959862, -0.027539221569895744, 0.01304525788873434, -0.011382694356143475, 0.017688017338514328, 0.0011675885180011392, 0.01669461838901043, 0.01530110090970993, 0.013990365900099277, -0.01921950653195381, 0.039929114282131195, -0.004159857518970966, -0.021661613136529922, 0.03322366997599602, 0.02520749345421791, -0.03907368704676628, 0.006146654952317476, 0.0067088911309838295, 0.047600358724594116, -0.00027271040016785264, -0.013224621303379536, 0.027456438168883324, -0.0243658646941185, 0.01665322668850422, -0.0016410051612183452, -0.007919595576822758, 0.003642462193965912, -0.00762985460460186, 0.0024903956800699234, 0.009699434973299503, 0.017191318795084953, 0.02723568305373192, -0.013507463969290257, 0.006836515385657549, -0.020074933767318726, -0.00675028283149004, 0.003073327476158738, -0.008954386226832867, -0.006491585168987513, 1.3285200111567974e-05, -0.016184121370315552, -0.011127445846796036, -0.004587570670992136, -0.025317871943116188, 3.1949828098731814e-06, -0.008112756535410881, 0.03366518020629883, 0.0034389535430818796, 0.01633589155972004, 0.0025093667209148407, 0.02927766926586628, 0.0130797503516078, -0.042964499443769455, -0.021799584850668907, 0.011513767763972282, -0.0022334225941449404, -0.0058638122864067554, 0.006508831866085529, -0.006232887506484985, 0.008043770678341389, 0.003476895857602358, 1.9183371477993205e-06, -0.005808623507618904, -0.003904609242454171, 0.007491882424801588, 0.0008968183537945151, -0.006964139640331268, 0.010458281263709068, 0.027553020045161247, -0.015797799453139305, 0.00836800504475832, -0.01741207391023636, 0.023275885730981827, 0.01713612861931324, -0.016639430075883865, -0.01633589155972004, 0.04898007959127426, -0.02253083698451519, -0.014266310259699821, 0.006764079909771681, 0.017950164154171944, -0.011430984362959862, 0.0029284567572176456, 0.005073922220617533, -0.00287154340185225, 0.013479869812726974, 0.014349093660712242, 0.010568659752607346, -0.0027749629225581884, 0.00165566464420408, 0.022861968725919724, 0.02025429718196392, 0.002374843927100301, -0.03446542099118233, -0.027580613270401955, 0.005587868392467499, 0.09211014211177826, 0.027622004970908165, -0.0201715137809515, 0.006039726547896862, 0.009292418137192726, -0.004846268333494663, -0.017632829025387764, -0.029912341386079788, 0.030271068215370178, -0.0004341808089520782, 0.012976272031664848, -0.01288659032434225, 0.007981683127582073, 0.006701992359012365, 0.01846066117286682, -0.0033354745246469975, 0.0002992269000969827, -0.03587273508310318, 0.0033130538649857044, -0.015107939951121807, 0.019757598638534546, 0.007981683127582073, 0.008257627487182617, 0.006343265064060688, -0.007167648058384657, -0.023662207648158073, 0.027911746874451637, 0.0021885817404836416, 0.02025429718196392, -0.02244805358350277, -0.005073922220617533, 0.009775320068001747, 0.028229082003235817, 0.003359619528055191, -0.01132750604301691, 0.02916729263961315, 0.009223432280123234, 0.02504192851483822, 0.0004257731488905847, -0.00894748792052269, 0.011410288512706757, 0.024145109578967094, -0.0008489593164995313, -0.02556622214615345, -0.0018453762168064713, -0.016404876485466957, -0.004960095509886742, 0.038687363266944885, -0.017522450536489487, -0.037252455949783325, 0.006805471610277891, 0.01865382120013237, -0.024959145113825798, -0.005708593875169754, 0.0060293786227703094, 0.016708415001630783, 0.02288956381380558, 0.004063277039676905, 0.004170205444097519, 0.01222432404756546, -0.006560571026057005, -0.01694296859204769, 0.0058638122864067554, -0.005753434728831053, 0.007153850980103016, -0.02404852956533432, -0.009099257178604603, 0.018515849485993385, -0.0015806423034518957, 0.040205057710409164, 0.009409694001078606, -0.0054947370663285255, -0.04909045621752739, 0.006119060795754194, 0.01610133796930313, -0.001990246819332242, 0.0211787112057209, 0.00266630994156003, -0.0017462087562307715, 0.016473863273859024, -0.016087541356682777, -0.03366518020629883, 0.01485959067940712, -0.01641867496073246, -3.567870953702368e-05, -0.003171632532030344, -0.01408004853874445, 0.0014392209704965353, -0.01709473691880703, 0.007602259982377291, 0.004204698372632265, 0.01184490043669939, -0.004925602115690708, -0.015204519964754581, 0.02177198976278305, 0.004570324439555407, 0.004946297965943813, 0.01629449985921383, 0.007077966351062059, -0.023827774450182915, 0.0052049956284463406, -0.012431282550096512, -0.029222480952739716, -0.026656201109290123, 0.002847398165613413, 0.006036277394741774, 0.023262089118361473, 0.02408992126584053, -0.0008174843969754875, -0.022061731666326523, 0.021233899518847466, 0.0023886412382125854, 0.0165704432874918, 0.012596848420798779, 0.03228545933961868, 0.02308272384107113, 0.014024859294295311, -0.0002765908429864794, 0.0015633958391845226, -0.011989771388471127, -0.003987392410635948, -0.03813547641038895, 0.02048885077238083, 0.014956170693039894, -0.007898899726569653, 0.013266013003885746, 0.00787130557000637, -0.018005352467298508, -0.027415046468377113, -0.02004733867943287, 0.006215641275048256, 0.024710794910788536, -0.0047220936976373196, -0.024076122790575027, -0.014004163444042206, -0.0008054118952713907, -0.020309485495090485, 0.003380315378308296, -0.013238418847322464, 0.010679037310183048, 0.009223432280123234, 0.002988819731399417, -0.006401903461664915, -0.010899792425334454, -0.011900089681148529, -0.026973536238074303, -0.00527398195117712, -0.004159857518970966, 0.01650145836174488, 0.0285602156072855, 0.008857806213200092, 0.004335771780461073, -0.010458281263709068, 0.0026939043309539557, -0.00845078844577074, -0.028449837118387222, -0.010347903706133366, 0.0022041036281734705, 0.05041498690843582, 0.01066523976624012, 0.037611182779073715, -0.025235088542103767, 0.02875337563455105, 0.013714422471821308, 0.002383467275649309, 0.000758846290409565, 0.018984954804182053, -0.007278026081621647, -0.011251620948314667, 0.001183110405690968, 0.024352068081498146, -0.008354207500815392, 0.011389592662453651, -0.014569848775863647, 0.013838596642017365, 0.023869166150689125, -0.005484389141201973, 0.005429200362414122, -0.013376390561461449, -0.05129801109433174, -0.014625038020312786, 0.02420029789209366, 0.01202426478266716, 0.009209634736180305, -0.015563247725367546, -0.006512281019240618, 0.03452060744166374, -0.0010934285819530487, 0.008699137717485428, 0.007526375353336334, 0.0335548035800457, -0.016832590103149414, -0.0028801667504012585, 0.0165842417627573, 0.001365923322737217, -0.018515849485993385, -0.004611716140061617, -0.04175034537911415, 0.024945346638560295, 0.013548855669796467, -0.0021730598527938128, 0.01654285006225109, 0.0063915555365383625, -0.027028724551200867, 0.005070473067462444, 0.00031841362942941487, -0.013107345439493656, -0.006288076285272837, 0.009299316443502903, -0.009037169627845287, -0.0054085045121610165, -0.041557181626558304, 0.0005178263527341187, -0.009457984007894993, -0.010961879976093769, -0.008899197913706303, 0.01206565648317337, 0.017605233937501907, -0.03358239680528641, -0.02820148877799511, 0.013604044914245605, -0.010851502418518066, 0.05444377288222313, -0.0024058877024799585, 0.027070116251707077, 0.02708391472697258, 0.017205115407705307, -0.008216235786676407, 0.01610133796930313, 0.004811775404959917, 0.0015478739514946938, 0.03628665208816528, 0.02460041642189026, -0.019040143117308617, 0.008161047473549843, -0.021385667845606804, -0.0077057392336428165, -0.017632829025387764, -0.04186072200536728, 0.00033371991594322026, 0.010099554434418678, -0.00968563836067915, -0.011555159464478493, -0.00638120761141181, -0.056899674236774445, 0.013231519609689713, -0.0014728517271578312, -0.0032854594755917788, -0.010113351978361607, -0.005915551912039518, -0.0034648231230676174, -0.008554267697036266, -0.0014047279255464673, 0.012686530128121376, 0.011865596286952496, 0.007046922575682402, -0.007912697270512581, -0.03131965547800064, 0.0017634553369134665, 0.015439072623848915, 0.004297829698771238, 0.010527268052101135, -0.02748403325676918, 0.01272102352231741, 0.00034040294121950865, -0.0077195363119244576, -0.0008028249139897525, -0.01957823522388935, 0.0183778777718544, 0.031016116961836815, -0.006357062608003616, 0.0022661909461021423, -0.014445673674345016, -0.013093547895550728, 0.0016228962922468781, -0.004742789547890425, -0.004063277039676905, -0.007885103113949299, -0.022861968725919724, -0.010727327316999435, 0.014224918559193611, 0.01136199850589037, -0.007560868747532368, -0.003997740335762501, -0.01050657220184803, -0.012976272031664848, 0.012010467238724232, -0.0002561106230132282, 0.006491585168987513, -0.043157659471035004, -0.006329467985779047, -0.011831103824079037, 0.001382307498715818, -0.009009575471282005, 0.006691644433885813, 0.0014892359031364322, -0.005636158399283886, 0.04381992295384407, -0.01709473691880703, 0.011851799674332142, 0.00368040450848639, -0.011582753621041775, -0.02771858498454094, 0.002160987351089716, -0.01350056566298008, -0.011155040934681892, 0.01945406012237072, -0.03096092864871025, -0.03104371204972267, -0.016473863273859024, 0.012796907685697079, 0.018984954804182053, -0.018557241186499596, -0.0005928486934863031, 0.00886470451951027, -0.00031927594682201743, -0.002530062571167946, -0.009837407618761063, -0.004159857518970966, -0.014942373149096966, -0.01385929249227047, -0.004760035779327154, 0.0021006246097385883, -0.001331430277787149, 0.013190128840506077, -0.006643354427069426, 0.023344872519373894, -0.004249539226293564, -0.04881451278924942, 0.005487838294357061, 0.0151769258081913, 0.014418079517781734, -0.005187749397009611, 0.0012262266827747226, -0.02053024247288704, -0.0015806423034518957, -0.014666429720818996, -0.0031129943672567606, 0.012210526503622532, -0.013410883955657482, -0.02636645920574665, 0.025055725127458572, 0.0009054415859282017, 0.003880464006215334, -0.0020971752237528563, 0.0009382099960930645, -0.016239311546087265, 0.007188343908637762, -0.05827939510345459, 0.009582159109413624, -0.009540767408907413, 0.04986310005187988, -0.002904311753809452, -0.01032720785588026, -0.027622004970908165, -0.037804342806339264, -0.03071257844567299, -0.022392865270376205, 0.017591437324881554, 0.012362295761704445, 0.03617627173662186, 0.004487541038542986, 0.004052929114550352, 0.02464180812239647, -0.027511628344655037, -0.0060880170203745365, -0.007767826784402132, -0.022351473569869995, 0.0018039846327155828, 0.008105858229100704, 0.011665537022054195, -0.006739934906363487, -0.008802616968750954, -0.020944157615303993, -0.010810110718011856, -0.0056465063244104385, -0.004766934551298618, 0.013355694711208344, -0.0013917931355535984, 0.003949449863284826, 0.01086529903113842, -0.003526910673826933, 0.008243829943239689, 0.009651144966483116, -0.010754921473562717, -0.024158906191587448, -0.013914481736719608, 0.002381742699071765, -0.020599227398633957, -0.004046030342578888, -0.007581564597785473, 0.009237228892743587, 0.002921558218076825, 0.004166755825281143, 0.00800927821546793, 0.010637645609676838, 0.01340398471802473, -0.016929171979427338, 0.03821825981140137, -0.02333107404410839, 0.003413083730265498, 0.02137187123298645, 0.010237526148557663, -0.01846066117286682, -0.021482249721884727, 0.007650550454854965, -0.00015220041677821428, -0.023579424247145653, 0.011134345084428787, -0.01104466337710619, -0.0004331028903834522, 0.016391079872846603, 0.034575797617435455, -0.009354505687952042, -0.012976272031664848, -0.022903360426425934, 0.0028491229750216007, -0.02944323606789112, 0.009285518899559975, 0.008671543560922146, 0.005111864767968655, -0.02544204704463482, -0.0012357122031971812, 0.015287303365767002, 0.0066950940527021885, -0.028946537524461746, -0.0014556051464751363, -0.01941266842186451, 0.004756586626172066, 0.021592626348137856, 0.011727624572813511, -0.010444484651088715, -0.01350056566298008, 0.023634612560272217, -0.009292418137192726, -0.008637050166726112, 0.2109316736459732, -0.01463883463293314, 0.014335296116769314, 0.008726732805371284, -0.02364841103553772, -0.00290086236782372, 0.03203711286187172, 0.0005885370192117989, -0.006443295162171125, 0.02440725639462471, -0.008802616968750954, 0.028187690302729607, -0.022282486781477928, -0.0009218257619068027, -7.8094337368384e-05, -0.00022980970970820636, -0.04061897099018097, -0.0335548035800457, -0.014107642695307732, -0.03705929219722748, 0.012534760870039463, 0.009582159109413624, -0.02729087322950363, -0.016998156905174255, 0.02872578240931034, 0.006463990546762943, -0.012189830653369427, -0.00263699097558856, 0.018998751416802406, 0.007885103113949299, -0.014652632176876068, -0.0038459710776805878, -0.007305620238184929, -0.011948379687964916, -0.016929171979427338, 0.006094915326684713, 0.0034303301945328712, 0.009720130823552608, 0.011520667001605034, -0.005049777217209339, 0.011430984362959862, -0.017356883734464645, 0.004532381892204285, -0.03247862309217453, -0.00037920757313258946, 0.024696998298168182, -0.014066250994801521, -0.01481819897890091, -0.013321202248334885, 0.02540065534412861, -0.021468451246619225, 0.0005609426298178732, 0.029663991183042526, 0.026987334713339806, -0.005453345365822315, -0.002209277590736747, -0.006398453842848539, 0.012003568932414055, -0.0024421054404228926, 0.020792389288544655, -0.0042081475257873535, 0.015011359937489033, -0.018364081159234047, 0.045116860419511795, 0.009575260803103447, -0.010354802943766117, -0.01058935560286045, 0.006639905273914337, -0.007574665825814009, -0.02584216557443142, -0.008692239411175251, -0.016266904771327972, -0.020916562527418137, -0.01846066117286682, -0.029222480952739716, -0.02400713786482811, 0.03256140649318695, 0.0018298543291166425, 0.00731941731646657, 0.028532620519399643, -0.00860945601016283, -0.02364841103553772, -0.0017255130223929882, -0.01941266842186451, -0.013017663732171059, -0.0383562296628952, 0.0010227177990600467, -0.020102528855204582, -0.001741034910082817, -0.011506869457662106, -0.016349688172340393, 0.001907463651150465, -0.01909533143043518, -0.013879988342523575, 0.006853761617094278, -0.013576449826359749, 0.005280880257487297, 0.023137914016842842, -0.0030250372365117073, 0.003904609242454171, -0.02632506750524044, 0.007981683127582073, 0.019109129905700684, 0.0075677670538425446, 0.003666607430204749, 0.0015297651989385486, 0.008064466528594494, -0.006177698727697134, 0.009209634736180305, -0.007533274125307798, -0.009513173252344131, -0.03211989253759384, 0.009278620593249798, -0.00968563836067915, 0.003745941212400794, 0.023455249145627022, -0.012569254264235497, -0.028891347348690033, 0.012079453095793724, -0.014066250994801521, -0.025304075330495834, -0.004956645891070366, -0.009223432280123234, 0.01432149950414896, -0.017991555854678154, -0.012714125216007233, -0.03176116570830345, 0.008333511650562286, -0.021634018048644066, -0.0019833482801914215, 0.008519774302840233, -0.0303538516163826, 0.003442402696236968, 0.0033337497152388096, -0.008857806213200092, -0.010106452740728855, 0.010023669339716434, -0.007850609719753265, 0.0026214690878987312, -0.00832661334425211, -0.007257330231368542, 0.01521831750869751, -0.010630746372044086, -0.0007877341704443097, 0.004784180782735348, -0.029250076040625572, 0.013493667356669903, 0.03068498522043228, -0.009409694001078606, -0.027097711339592934, -0.0048876600340008736, 0.015839191153645515, 0.0031837052665650845, -0.0019454059656709433, 0.017232710495591164, -0.007781623862683773, -0.014418079517781734, -0.021799584850668907, -0.02109592780470848, 0.006136307027190924, -0.046193044632673264, 0.030574606731534004, 0.01669461838901043, -0.0017272375989705324, -0.009361403994262218, -0.02069580741226673, -0.17803913354873657, 0.01869521290063858, 0.01997835375368595, -0.024738389998674393, 0.03730764240026474, 0.014569848775863647, 0.021827178075909615, 0.004149509593844414, 0.0029629499185830355, -0.010685935616493225, 0.0011175735853612423, 0.002259292406961322, -0.014694023877382278, -0.010851502418518066, -0.015646031126379967, 0.021509842947125435, -0.010230627842247486, 0.01472161803394556, 0.03603830188512802, 0.006505382247269154, 0.006467440165579319, -0.02988474629819393, -0.002481772331520915, -0.0018936664564535022, 0.02057163417339325, 0.011769016273319721, 0.00015004460874479264, 0.012934880331158638, -0.012631341814994812, -0.022158311679959297, 0.005967291537672281, 0.020985549315810204, 0.011927683837711811, -0.00280083273537457, 0.04972513020038605, -0.005629259627312422, 0.003973595332354307, -0.018433066084980965, -0.03187154605984688, 0.005215343553572893, 0.0319543294608593, 0.02695973962545395, 0.032175082713365555, -0.019523045048117638, -0.0151769258081913, 0.007581564597785473, 0.027097711339592934, -0.02695973962545395, -0.005129110999405384, -0.012231222353875637, -0.0024403806310147047, -0.030767768621444702, 0.0019488552352413535, -0.009796015918254852, 0.005763782653957605, 0.0036873030476272106, -0.0014081773115321994, 0.03087814524769783, -0.01156205777078867, 0.0021920311264693737, -0.015135534107685089, -0.010989474132657051, 0.013790306635200977, 0.010272019542753696, -0.0024593519046902657, -0.030133096501231194, -0.022875767201185226, -0.004146060440689325, -0.030050313100218773, 0.016128933057188988, -0.005180850625038147, -0.021440858021378517, 0.006463990546762943, -0.003883913392201066, 0.0024731489829719067, 0.017080940306186676, -0.027097711339592934, 0.020157717168331146, -0.006588165648281574, 0.0033785905689001083, -0.009271722286939621, 0.02800832688808441, -0.0013081475626677275, -0.004984240513294935, -0.000726077938452363, -0.007767826784402132, 0.0060017844662070274, -0.004387511406093836, 0.0034165328834205866, -0.023979542776942253, 0.016446268185973167, -0.007685043383389711, -0.013486768119037151, -0.007595361676067114, -0.0007786797941662371, 0.01312114205211401, 0.005208445247262716, 0.0002420978416921571, 0.0003406185132917017, -0.02208932675421238, 0.02004733867943287, -0.01032720785588026, 0.0003330731706228107, -0.004853167105466127, 0.04580672085285187, 0.01637728326022625, -0.014066250994801521, 0.019881773740053177, 0.051987871527671814, -0.0009933988330885768, -0.030381446704268456, 0.013093547895550728, 0.0015590841649100184, 0.030629796907305717, 0.006360511761158705, 0.02204793505370617, 0.020626822486519814, -0.030491823330521584, 0.0128796910867095, -0.012631341814994812, 0.04169515520334244, 0.0013469521654769778, -0.009740826673805714, 0.020309485495090485, -0.014487065374851227, -0.013128041289746761, -0.11975974589586258, -0.0015754683408886194, -0.0009589057881385088, 0.009044067934155464, -0.008664645254611969, 0.02971918135881424, -0.0247659832239151, 0.026821767911314964, -0.018957359716296196, 0.03523806110024452, -0.008271425031125546, -0.030491823330521584, 0.01589438132941723, -0.003059530397877097, -0.0054223015904426575, -0.024421053007245064, -0.005739637650549412, -0.0193712767213583, -0.016280703246593475, 0.026476837694644928, 0.00570169510319829, -0.008919893763959408, -0.00046824265155009925, -0.002428308129310608, 0.006132857874035835, 0.005308474879711866, -0.034410230815410614, 0.01812952756881714, 0.00926482304930687, 0.009092357940971851, -0.00870603695511818, -0.018667619675397873, 0.018074339255690575, -0.011906987987458706, 0.02364841103553772, -0.02352423593401909, -0.0036217663437128067, 0.010030568577349186, 0.022420458495616913, -0.0029750224202871323, 0.0027439191471785307, 0.023800179362297058, 0.017605233937501907, -0.01737068220973015, 0.009533869102597237, 0.005715492181479931, -0.025152305141091347, 0.02312411554157734, 0.006967588793486357, -0.03951519727706909, -0.03628665208816528, 0.012507166713476181, -0.03286494314670563, 0.0006122509948909283, 0.019109129905700684, 0.010147844441235065, 0.023275885730981827, 0.006401903461664915, 0.0010934285819530487, 0.006819268688559532, -0.015052750706672668, -0.018764199689030647, -0.005636158399283886, -0.0006463128374889493, 0.026587214320898056, -0.01140339020639658, -0.02820148877799511, -0.009982278570532799, 0.007733333855867386, -0.006091466173529625, -0.005215343553572893, 0.018805591389536858, -0.03214748948812485, 0.012389890849590302, 0.007229735609143972, -0.012003568932414055, -0.018681416288018227, -0.0011434433981776237, 0.016515254974365234, -0.001131370896473527, -0.006467440165579319, -0.011948379687964916, -0.001534076756797731, -0.015135534107685089, 0.00195747846737504, 0.006670949049293995, -0.022558430209755898, 0.008768124505877495, 0.00486351503059268, -0.021758193150162697, 0.00015780553803779185, 0.025897353887557983, 0.011568957008421421, -0.010554862208664417, 0.018667619675397873, 0.0006695956108160317, 0.0026249182410538197, -0.0006139756296761334, -0.006063872016966343, -0.005080820992588997, -0.018957359716296196, 0.009099257178604603, -0.057782694697380066, 0.027180494740605354, 0.012210526503622532, -0.030822956934571266, 0.004201249219477177, 0.00021482679585460573, 0.011789712123572826, -0.027456438168883324, -0.018902171403169632, -0.009140648879110813, -0.04776592552661896, 0.01403865683823824, -0.020778590813279152, -0.0024576273281127214, -0.011651740409433842, 0.001047725323587656, 0.014514660462737083, -0.0008261076873168349, -0.0015090693486854434, -0.0032268213108181953, 0.008319715037941933, -0.00293535552918911, 0.0183778777718544, 0.008374903351068497, -0.00796788651496172, -0.008692239411175251, -0.04050859436392784, 0.010789414867758751, -0.006301873363554478, -0.01932988502085209, -0.00465310737490654, -0.008912994526326656, 0.00894748792052269, -0.0025128161069005728, -0.006277728360146284, 0.01234159991145134, 0.01673601008951664, 0.019357480108737946, -0.004397859331220388, 0.0758846327662468, -0.027373654767870903, -0.023579424247145653, 0.009451085701584816, -0.01390068419277668, 0.0027663398068398237, 0.008312816731631756, -0.009382099844515324, 0.0016642878763377666, 0.020916562527418137, 0.004597918596118689, 0.027553020045161247, 0.01966101862490177, -0.03821825981140137, -0.020640619099140167, -0.0005428338190540671, 0.001909188344143331, 0.011430984362959862, -0.014652632176876068, -0.005108415149152279, 0.01423871610313654, 0.01833648607134819, -0.018446864560246468, 0.010230627842247486, -0.016804996877908707, 0.014887184835970402, -0.03703169897198677, -0.006995182950049639, 0.018667619675397873, -0.001569432090036571, -0.003421706845983863, -0.009506274946033955, -0.01481819897890091, 0.010616949759423733, 0.021565031260252, 0.025538627058267593, -0.005981088615953922, -0.005687898024916649, 0.018984954804182053, -0.012389890849590302, 0.0005096342647448182, 0.01428010780364275, 0.0030319360084831715, -0.005608564242720604, 0.012576152570545673, 0.031016116961836815, 0.002612845739349723, 0.012824502773582935, 0.011134345084428787, 0.008278323337435722, 0.012113946489989758, 0.008243829943239689, -0.0002295941230840981, 0.006512281019240618, -0.007484984118491411, 0.0239657461643219, -0.0023024086840450764, -0.015715017914772034, -0.0018884924938902259, 0.025304075330495834, 0.0243658646941185, 0.018984954804182053, -0.00108135596383363, 0.006833065766841173, -0.01694296859204769, -0.040453407913446426, 0.016197919845581055, -0.018777996301651, -0.025980137288570404, 0.011224026791751385, 0.00662265857681632, 0.009368302300572395, 0.006488136015832424, -0.010561760514974594, 0.016322094947099686, -0.02763580158352852, 0.008299019187688828, -0.0038908119313418865, -0.013128041289746761, -0.017715612426400185, 0.04210907220840454, 0.018433066084980965, 0.010568659752607346, 0.051987871527671814, -0.029056914150714874, 0.011700030416250229, 0.034851741045713425, 0.030547013506293297, -0.003811477916315198, -0.004063277039676905, -0.004432352259755135, 0.0035165627487003803, -0.007033125497400761, -0.00041887452243827283, -0.004373714327812195, 0.00796788651496172, -0.019923165440559387, -0.01673601008951664, 0.0247659832239151, -0.005618911702185869, 0.05494047328829765, 0.010527268052101135, -0.004856616258621216, 0.011513767763972282, -0.018750403076410294, 0.004111567046493292, 0.015052750706672668, 0.0012969373492524028, -0.009651144966483116, -0.017522450536489487, 0.01817091926932335, -0.008588760159909725, 0.02101314440369606, -0.04812465235590935, -0.011989771388471127, 0.008781921118497849, -0.01463883463293314, 0.03711448237299919, -0.0031975023448467255, -0.01690157689154148, 0.024834970012307167, 0.01770181395113468, 0.022268690168857574, 0.0035700269509106874, -0.02400713786482811, 0.0009882248705253005, 0.02305513061583042, -0.0004318093997426331, -0.01459744293242693, -0.025152305141091347, 0.027014927938580513, -0.005463693290948868, -0.03617627173662186, -0.02088896930217743, 0.008830211125314236, -0.016998156905174255, 0.0009597680764272809, -0.010975676588714123, 0.025745585560798645, -0.0002252824924653396, -0.007816117256879807, -0.0015720190713182092, -0.023220697417855263, -0.02109592780470848, -0.009457984007894993, -0.007823015563189983, -0.023703599348664284, -0.0051774014718830585, -0.028256677091121674], metadata={'file_path': '/Users/siddhiapraj/GenAIExperiments/LlamaIndex/data1/paul_graham_essay.txt', 'file_name': 'paul_graham_essay.txt', 'file_type': 'text/plain', 'file_size': 75040, 'creation_date': '2024-08-12', 'last_modified_date': '2024-08-12', 'document_title': 'The Journey of a Multidisciplinary Mind: Exploring Art, Programming, and Artificial Intelligence'}, excluded_embed_metadata_keys=['file_name', 'file_type', 'file_size', 'creation_date', 'last_modified_date', 'last_accessed_date'], excluded_llm_metadata_keys=['file_name', 'file_type', 'file_size', 'creation_date', 'last_modified_date', 'last_accessed_date'], relationships={<NodeRelationship.SOURCE: '1'>: RelatedNodeInfo(node_id='a4ce4638-afc1-4c0e-8f0b-27c32355442b', node_type=<ObjectType.DOCUMENT: '4'>, metadata={'file_path': '/Users/siddhiapraj/GenAIExperiments/LlamaIndex/data1/paul_graham_essay.txt', 'file_name': 'paul_graham_essay.txt', 'file_type': 'text/plain', 'file_size': 75040, 'creation_date': '2024-08-12', 'last_modified_date': '2024-08-12'}, hash='e599db1e7a83a45547da88295586cafccf5d5cd7a79caa219831d86795de75f4'), <NodeRelationship.NEXT: '3'>: RelatedNodeInfo(node_id='e563032f-f7bf-4976-8242-d877a3d38d29', node_type=<ObjectType.TEXT: '1'>, metadata={}, hash='d09f1cb17a2dabdb53d351fa55494efb9db68bb6c26d598066567504f9cd4855')}, text='What I Worked On\\n\\nFebruary 2021\\n\\nBefore college the two main things I worked on, outside of school, were writing and programming. I didn\\'t write essays. I wrote what beginning writers were supposed to write then, and probably still are: short stories. My stories were awful. They had hardly any plot, just characters with strong feelings, which I imagined made them deep.\\n\\nThe first programs I tried writing were on the IBM 1401 that our school district used for what was then called \"data processing.\" This was in 9th grade, so I was 13 or 14. The school district\\'s 1401 happened to be in the basement of our junior high school, and my friend Rich Draves and I got permission to use it. It was like a mini Bond villain\\'s lair down there, with all these alien-looking machines — CPU, disk drives, printer, card reader — sitting up on a raised floor under bright fluorescent lights.\\n\\nThe language we used was an early version of Fortran. You had to type programs on punch cards, then stack them in the card reader and press a button to load the program into memory and run it. The result would ordinarily be to print something on the spectacularly loud printer.\\n\\nI was puzzled by the 1401. I couldn\\'t figure out what to do with it. And in retrospect there\\'s not much I could have done with it. The only form of input to programs was data stored on punched cards, and I didn\\'t have any data stored on punched cards. The only other option was to do things that didn\\'t rely on any input, like calculate approximations of pi, but I didn\\'t know enough math to do anything interesting of that type. So I\\'m not surprised I can\\'t remember any programs I wrote, because they can\\'t have done much. My clearest memory is of the moment I learned it was possible for programs not to terminate, when one of mine didn\\'t. On a machine without time-sharing, this was a social as well as a technical error, as the data center manager\\'s expression made clear.\\n\\nWith microcomputers, everything changed. Now you could have a computer sitting right in front of you, on a desk, that could respond to your keystrokes as it was running instead of just churning through a stack of punch cards and then stopping. [1]\\n\\nThe first of my friends to get a microcomputer built it himself. It was sold as a kit by Heathkit. I remember vividly how impressed and envious I felt watching him sitting in front of it, typing programs right into the computer.\\n\\nComputers were expensive in those days and it took me years of nagging before I convinced my father to buy one, a TRS-80, in about 1980. The gold standard then was the Apple II, but a TRS-80 was good enough. This was when I really started programming. I wrote simple games, a program to predict how high my model rockets would fly, and a word processor that my father used to write at least one book. There was only room in memory for about 2 pages of text, so he\\'d write 2 pages at a time and then print them out, but it was a lot better than a typewriter.\\n\\nThough I liked programming, I didn\\'t plan to study it in college. In college I was going to study philosophy, which sounded much more powerful. It seemed, to my naive high school self, to be the study of the ultimate truths, compared to which the things studied in other fields would be mere domain knowledge. What I discovered when I got to college was that the other fields took up so much of the space of ideas that there wasn\\'t much left for these supposed ultimate truths. All that seemed left for philosophy were edge cases that people in other fields felt could safely be ignored.\\n\\nI couldn\\'t have put this into words when I was 18. All I knew at the time was that I kept taking philosophy courses and they kept being boring. So I decided to switch to AI.\\n\\nAI was in the air in the mid 1980s, but there were two things especially that made me want to work on it: a novel by Heinlein called The Moon is a Harsh Mistress, which featured an intelligent computer called Mike, and a PBS documentary that showed Terry Winograd using SHRDLU. I haven\\'t tried rereading The Moon is a Harsh Mistress, so I don\\'t know how well it has aged, but when I read it I was drawn entirely into its world. It seemed only a matter of time before we\\'d have Mike, and when I saw Winograd using SHRDLU, it seemed like that time would be a few years at most. All you had to do was teach SHRDLU more words.\\n\\nThere weren\\'t any classes in AI at Cornell then, not even graduate', mimetype='text/plain', start_char_idx=0, end_char_idx=4433, text_template='[Excerpt from document]\\n{metadata_str}\\nExcerpt:\\n-----\\n{content}\\n-----\\n', metadata_template='{key}: {value}', metadata_seperator='\\n')"
      ]
     },
     "execution_count": 111,
     "metadata": {},
     "output_type": "execute_result"
    }
   ],
   "source": [
    "nodes[0]"
   ]
  },
  {
   "cell_type": "code",
   "execution_count": 112,
   "metadata": {},
   "outputs": [
    {
     "name": "stderr",
     "output_type": "stream",
     "text": [
      "  0%|          | 0/5 [00:00<?, ?it/s]"
     ]
    },
    {
     "name": "stdout",
     "output_type": "stream",
     "text": [
      "HTTP Request: POST https://api.openai.com/v1/chat/completions \"HTTP/1.1 200 OK\"\n",
      "HTTP Request: POST https://api.openai.com/v1/chat/completions \"HTTP/1.1 200 OK\"\n"
     ]
    },
    {
     "name": "stderr",
     "output_type": "stream",
     "text": [
      " 20%|██        | 1/5 [00:03<00:13,  3.32s/it]"
     ]
    },
    {
     "name": "stdout",
     "output_type": "stream",
     "text": [
      "HTTP Request: POST https://api.openai.com/v1/chat/completions \"HTTP/1.1 200 OK\"\n",
      "HTTP Request: POST https://api.openai.com/v1/chat/completions \"HTTP/1.1 200 OK\"\n",
      "HTTP Request: POST https://api.openai.com/v1/chat/completions \"HTTP/1.1 200 OK\"\n",
      "HTTP Request: POST https://api.openai.com/v1/chat/completions \"HTTP/1.1 200 OK\"\n"
     ]
    },
    {
     "name": "stderr",
     "output_type": "stream",
     "text": [
      " 60%|██████    | 3/5 [00:03<00:02,  1.01s/it]"
     ]
    },
    {
     "name": "stdout",
     "output_type": "stream",
     "text": [
      "HTTP Request: POST https://api.openai.com/v1/chat/completions \"HTTP/1.1 200 OK\"\n",
      "HTTP Request: POST https://api.openai.com/v1/chat/completions \"HTTP/1.1 200 OK\"\n"
     ]
    },
    {
     "name": "stderr",
     "output_type": "stream",
     "text": [
      " 80%|████████  | 4/5 [00:04<00:00,  1.18it/s]"
     ]
    },
    {
     "name": "stdout",
     "output_type": "stream",
     "text": [
      "HTTP Request: POST https://api.openai.com/v1/chat/completions \"HTTP/1.1 200 OK\"\n",
      "HTTP Request: POST https://api.openai.com/v1/chat/completions \"HTTP/1.1 200 OK\"\n"
     ]
    },
    {
     "name": "stderr",
     "output_type": "stream",
     "text": [
      "100%|██████████| 5/5 [00:16<00:00,  3.23s/it]\n"
     ]
    },
    {
     "name": "stdout",
     "output_type": "stream",
     "text": [
      "HTTP Request: POST https://api.openai.com/v1/chat/completions \"HTTP/1.1 200 OK\"\n",
      "HTTP Request: POST https://api.openai.com/v1/chat/completions \"HTTP/1.1 200 OK\"\n"
     ]
    }
   ],
   "source": [
    "pipeline = IngestionPipeline(\n",
    "    transformations = [\n",
    "        TokenTextSplitter(chunk_size=1024, chunk_overlap=100),\n",
    "        TitleExtractor()\n",
    "    ]\n",
    ")\n",
    "nodes = pipeline.run(documents=documents)"
   ]
  },
  {
   "cell_type": "code",
   "execution_count": 113,
   "metadata": {},
   "outputs": [],
   "source": [
    "pipeline.cache.persist(\"./llama_cache.json\")\n",
    "new_cache = IngestionCache.from_persist_path(\"./llama_cache.json\")"
   ]
  },
  {
   "cell_type": "code",
   "execution_count": 119,
   "metadata": {},
   "outputs": [],
   "source": [
    "new_pipeline = IngestionPipeline(\n",
    "    transformations = [\n",
    "        TokenTextSplitter(chunk_size=1024, chunk_overlap=100),\n",
    "        TitleExtractor(),\n",
    "    ],\n",
    "    cache=new_cache,\n",
    ")\n",
    "nodes = new_pipeline.run(documents=documents)"
   ]
  },
  {
   "cell_type": "code",
   "execution_count": 120,
   "metadata": {},
   "outputs": [],
   "source": [
    "pipeline = IngestionPipeline(\n",
    "    transformations = [\n",
    "        TokenTextSplitter(chunk_size=1024, chunk_overlap=100),\n",
    "        TitleExtractor(),\n",
    "        OpenAIEmbedding()\n",
    "    ],\n",
    "    cache=new_cache,\n",
    ")\n",
    "nodes = pipeline.run(documents=documents)"
   ]
  },
  {
   "cell_type": "code",
   "execution_count": 121,
   "metadata": {},
   "outputs": [],
   "source": [
    "pipeline.cache.persist(\"./nodes_embedding.json\")\n",
    "nodes_embedding_cache = IngestionCache.from_persist_path(\"./nodes_embedding.json\")"
   ]
  },
  {
   "cell_type": "code",
   "execution_count": 122,
   "metadata": {},
   "outputs": [],
   "source": [
    "pipeline = IngestionPipeline(\n",
    "    transformations = [\n",
    "        TokenTextSplitter(chunk_size=1024, chunk_overlap=100),\n",
    "        TitleExtractor(),\n",
    "        OpenAIEmbedding()\n",
    "    ],\n",
    "    cache=nodes_embedding_cache,\n",
    ")\n",
    "nodes = pipeline.run(documents=documents)"
   ]
  },
  {
   "cell_type": "code",
   "execution_count": 123,
   "metadata": {},
   "outputs": [
    {
     "data": {
      "text/plain": [
       "'What I Worked On\\n\\nFebruary 2021\\n\\nBefore college the two main things I worked on, outside of school, were writing and programming. I didn\\'t write essays. I wrote what beginning writers were supposed to write then, and probably still are: short stories. My stories were awful. They had hardly any plot, just characters with strong feelings, which I imagined made them deep.\\n\\nThe first programs I tried writing were on the IBM 1401 that our school district used for what was then called \"data processing.\" This was in 9th grade, so I was 13 or 14. The school district\\'s 1401 happened to be in the basement of our junior high school, and my friend Rich Draves and I got permission to use it. It was like a mini Bond villain\\'s lair down there, with all these alien-looking machines — CPU, disk drives, printer, card reader — sitting up on a raised floor under bright fluorescent lights.\\n\\nThe language we used was an early version of Fortran. You had to type programs on punch cards, then stack them in the card reader and press a button to load the program into memory and run it. The result would ordinarily be to print something on the spectacularly loud printer.\\n\\nI was puzzled by the 1401. I couldn\\'t figure out what to do with it. And in retrospect there\\'s not much I could have done with it. The only form of input to programs was data stored on punched cards, and I didn\\'t have any data stored on punched cards. The only other option was to do things that didn\\'t rely on any input, like calculate approximations of pi, but I didn\\'t know enough math to do anything interesting of that type. So I\\'m not surprised I can\\'t remember any programs I wrote, because they can\\'t have done much. My clearest memory is of the moment I learned it was possible for programs not to terminate, when one of mine didn\\'t. On a machine without time-sharing, this was a social as well as a technical error, as the data center manager\\'s expression made clear.\\n\\nWith microcomputers, everything changed. Now you could have a computer sitting right in front of you, on a desk, that could respond to your keystrokes as it was running instead of just churning through a stack of punch cards and then stopping. [1]\\n\\nThe first of my friends to get a microcomputer built it himself. It was sold as a kit by Heathkit. I remember vividly how impressed and envious I felt watching him sitting in front of it, typing programs right into the computer.\\n\\nComputers were expensive in those days and it took me years of nagging before I convinced my father to buy one, a TRS-80, in about 1980. The gold standard then was the Apple II, but a TRS-80 was good enough. This was when I really started programming. I wrote simple games, a program to predict how high my model rockets would fly, and a word processor that my father used to write at least one book. There was only room in memory for about 2 pages of text, so he\\'d write 2 pages at a time and then print them out, but it was a lot better than a typewriter.\\n\\nThough I liked programming, I didn\\'t plan to study it in college. In college I was going to study philosophy, which sounded much more powerful. It seemed, to my naive high school self, to be the study of the ultimate truths, compared to which the things studied in other fields would be mere domain knowledge. What I discovered when I got to college was that the other fields took up so much of the space of ideas that there wasn\\'t much left for these supposed ultimate truths. All that seemed left for philosophy were edge cases that people in other fields felt could safely be ignored.\\n\\nI couldn\\'t have put this into words when I was 18. All I knew at the time was that I kept taking philosophy courses and they kept being boring. So I decided to switch to AI.\\n\\nAI was in the air in the mid 1980s, but there were two things especially that made me want to work on it: a novel by Heinlein called The Moon is a Harsh Mistress, which featured an intelligent computer called Mike, and a PBS documentary that showed Terry Winograd using SHRDLU. I haven\\'t tried rereading The Moon is a Harsh Mistress, so I don\\'t know how well it has aged, but when I read it I was drawn entirely into its world. It seemed only a matter of time before we\\'d have Mike, and when I saw Winograd using SHRDLU, it seemed like that time would be a few years at most. All you had to do was teach SHRDLU more words.\\n\\nThere weren\\'t any classes in AI at Cornell then, not even graduate'"
      ]
     },
     "execution_count": 123,
     "metadata": {},
     "output_type": "execute_result"
    }
   ],
   "source": [
    "nodes[0].text"
   ]
  },
  {
   "cell_type": "code",
   "execution_count": 124,
   "metadata": {},
   "outputs": [
    {
     "name": "stdout",
     "output_type": "stream",
     "text": [
      "Payload indexes have no effect in the local Qdrant. Please use server Qdrant if you need payload indexes.\n",
      "Payload indexes have no effect in the local Qdrant. Please use server Qdrant if you need payload indexes.\n"
     ]
    }
   ],
   "source": [
    "import qdrant_client\n",
    "from llama_index.vector_stores.qdrant import QdrantVectorStore\n",
    "\n",
    "client = qdrant_client.QdrantClient(location=\":memory:\")\n",
    "vector_store = QdrantVectorStore(client=client, collection_name=\"llama_index_vector_store\")\n",
    "pipeline = IngestionPipeline(\n",
    "    transformations = [\n",
    "        TokenTextSplitter(chunk_size=1024, chunk_overlap=100),\n",
    "        TitleExtractor(),\n",
    "        OpenAIEmbedding()\n",
    "    ],\n",
    "    cache=nodes_embedding_cache,\n",
    "    vector_store=vector_store\n",
    ")\n",
    "nodes = pipeline.run(documents=documents)"
   ]
  },
  {
   "cell_type": "code",
   "execution_count": 125,
   "metadata": {},
   "outputs": [],
   "source": [
    "index = VectorStoreIndex.from_vector_store(vector_store)"
   ]
  },
  {
   "cell_type": "code",
   "execution_count": 126,
   "metadata": {},
   "outputs": [],
   "source": [
    "query_engine = index.as_query_engine()"
   ]
  },
  {
   "cell_type": "code",
   "execution_count": 127,
   "metadata": {},
   "outputs": [
    {
     "name": "stdout",
     "output_type": "stream",
     "text": [
      "HTTP Request: POST https://api.openai.com/v1/embeddings \"HTTP/1.1 200 OK\"\n",
      "HTTP Request: POST https://api.openai.com/v1/embeddings \"HTTP/1.1 200 OK\"\n",
      "HTTP Request: POST https://api.openai.com/v1/chat/completions \"HTTP/1.1 200 OK\"\n",
      "HTTP Request: POST https://api.openai.com/v1/chat/completions \"HTTP/1.1 200 OK\"\n",
      "Paul Graham spent his childhood in the United Kingdom and later moved to the United States for his education.\n"
     ]
    }
   ],
   "source": [
    "response = query_engine.query(\"What did Paul Graham do growing up?\")\n",
    "print(response)"
   ]
  },
  {
   "cell_type": "markdown",
   "metadata": {},
   "source": [
    "## Observability"
   ]
  },
  {
   "cell_type": "code",
   "execution_count": 128,
   "metadata": {},
   "outputs": [
    {
     "name": "stdout",
     "output_type": "stream",
     "text": [
      "Collecting llama-index-callbacks-arize-phoenix\n",
      "  Downloading llama_index_callbacks_arize_phoenix-0.1.6-py3-none-any.whl.metadata (792 bytes)\n",
      "Collecting arize-phoenix>=3.0.3 (from llama-index-callbacks-arize-phoenix)\n",
      "  Downloading arize_phoenix-4.23.0-py3-none-any.whl.metadata (11 kB)\n",
      "Requirement already satisfied: llama-index-core<0.11.0,>=0.10.11.post1 in /Library/Frameworks/Python.framework/Versions/3.12/lib/python3.12/site-packages (from llama-index-callbacks-arize-phoenix) (0.10.64)\n",
      "Collecting openinference-instrumentation-llama-index>=1.0.0 (from llama-index-callbacks-arize-phoenix)\n",
      "  Downloading openinference_instrumentation_llama_index-2.2.4-py3-none-any.whl.metadata (5.4 kB)\n",
      "Collecting aioitertools (from arize-phoenix>=3.0.3->llama-index-callbacks-arize-phoenix)\n",
      "  Downloading aioitertools-0.11.0-py3-none-any.whl.metadata (3.3 kB)\n",
      "Collecting aiosqlite (from arize-phoenix>=3.0.3->llama-index-callbacks-arize-phoenix)\n",
      "  Downloading aiosqlite-0.20.0-py3-none-any.whl.metadata (4.3 kB)\n",
      "Collecting alembic<2,>=1.3.0 (from arize-phoenix>=3.0.3->llama-index-callbacks-arize-phoenix)\n",
      "  Downloading alembic-1.13.2-py3-none-any.whl.metadata (7.4 kB)\n",
      "Collecting arize-phoenix-evals>=0.13.1 (from arize-phoenix>=3.0.3->llama-index-callbacks-arize-phoenix)\n",
      "  Downloading arize_phoenix_evals-0.14.1-py3-none-any.whl.metadata (4.4 kB)\n",
      "Requirement already satisfied: cachetools in /Library/Frameworks/Python.framework/Versions/3.12/lib/python3.12/site-packages (from arize-phoenix>=3.0.3->llama-index-callbacks-arize-phoenix) (5.4.0)\n",
      "Requirement already satisfied: fastapi in /Library/Frameworks/Python.framework/Versions/3.12/lib/python3.12/site-packages (from arize-phoenix>=3.0.3->llama-index-callbacks-arize-phoenix) (0.112.0)\n",
      "Requirement already satisfied: grpcio in /Library/Frameworks/Python.framework/Versions/3.12/lib/python3.12/site-packages (from arize-phoenix>=3.0.3->llama-index-callbacks-arize-phoenix) (1.65.4)\n",
      "Collecting hdbscan>=0.8.33 (from arize-phoenix>=3.0.3->llama-index-callbacks-arize-phoenix)\n",
      "  Downloading hdbscan-0.8.38.post1.tar.gz (5.8 MB)\n",
      "\u001b[2K     \u001b[90m━━━━━━━━━━━━━━━━━━━━━━━━━━━━━━━━━━━━━━━━\u001b[0m \u001b[32m5.8/5.8 MB\u001b[0m \u001b[31m3.1 MB/s\u001b[0m eta \u001b[36m0:00:00\u001b[0ma \u001b[36m0:00:01\u001b[0m\n",
      "\u001b[?25h  Installing build dependencies ... \u001b[?25ldone\n",
      "\u001b[?25h  Getting requirements to build wheel ... \u001b[?25ldone\n",
      "\u001b[?25h  Preparing metadata (pyproject.toml) ... \u001b[?25ldone\n",
      "\u001b[?25hRequirement already satisfied: httpx in /Library/Frameworks/Python.framework/Versions/3.12/lib/python3.12/site-packages (from arize-phoenix>=3.0.3->llama-index-callbacks-arize-phoenix) (0.27.0)\n",
      "Requirement already satisfied: jinja2 in /Library/Frameworks/Python.framework/Versions/3.12/lib/python3.12/site-packages (from arize-phoenix>=3.0.3->llama-index-callbacks-arize-phoenix) (3.1.4)\n",
      "Requirement already satisfied: numpy<2 in /Library/Frameworks/Python.framework/Versions/3.12/lib/python3.12/site-packages (from arize-phoenix>=3.0.3->llama-index-callbacks-arize-phoenix) (1.26.4)\n",
      "Collecting openinference-instrumentation-langchain>=0.1.26 (from arize-phoenix>=3.0.3->llama-index-callbacks-arize-phoenix)\n",
      "  Downloading openinference_instrumentation_langchain-0.1.27-py3-none-any.whl.metadata (4.8 kB)\n",
      "Collecting openinference-instrumentation-openai>=0.1.11 (from arize-phoenix>=3.0.3->llama-index-callbacks-arize-phoenix)\n",
      "  Downloading openinference_instrumentation_openai-0.1.13-py3-none-any.whl.metadata (5.0 kB)\n",
      "Collecting openinference-instrumentation>=0.1.12 (from arize-phoenix>=3.0.3->llama-index-callbacks-arize-phoenix)\n",
      "  Downloading openinference_instrumentation-0.1.13-py3-none-any.whl.metadata (4.7 kB)\n",
      "Collecting openinference-semantic-conventions>=0.1.9 (from arize-phoenix>=3.0.3->llama-index-callbacks-arize-phoenix)\n",
      "  Downloading openinference_semantic_conventions-0.1.9-py3-none-any.whl.metadata (1.2 kB)\n",
      "Collecting opentelemetry-exporter-otlp (from arize-phoenix>=3.0.3->llama-index-callbacks-arize-phoenix)\n",
      "  Downloading opentelemetry_exporter_otlp-1.26.0-py3-none-any.whl.metadata (2.3 kB)\n",
      "Requirement already satisfied: opentelemetry-proto>=1.12.0 in /Library/Frameworks/Python.framework/Versions/3.12/lib/python3.12/site-packages (from arize-phoenix>=3.0.3->llama-index-callbacks-arize-phoenix) (1.26.0)\n",
      "Requirement already satisfied: opentelemetry-sdk in /Library/Frameworks/Python.framework/Versions/3.12/lib/python3.12/site-packages (from arize-phoenix>=3.0.3->llama-index-callbacks-arize-phoenix) (1.26.0)\n",
      "Requirement already satisfied: opentelemetry-semantic-conventions in /Library/Frameworks/Python.framework/Versions/3.12/lib/python3.12/site-packages (from arize-phoenix>=3.0.3->llama-index-callbacks-arize-phoenix) (0.47b0)\n",
      "Requirement already satisfied: pandas>=1.0 in /Library/Frameworks/Python.framework/Versions/3.12/lib/python3.12/site-packages (from arize-phoenix>=3.0.3->llama-index-callbacks-arize-phoenix) (2.2.2)\n",
      "Requirement already satisfied: protobuf<6.0,>=3.20 in /Library/Frameworks/Python.framework/Versions/3.12/lib/python3.12/site-packages (from arize-phoenix>=3.0.3->llama-index-callbacks-arize-phoenix) (5.27.3)\n",
      "Requirement already satisfied: psutil in /Users/siddhiapraj/Library/Python/3.12/lib/python/site-packages (from arize-phoenix>=3.0.3->llama-index-callbacks-arize-phoenix) (5.9.8)\n",
      "Requirement already satisfied: pyarrow in /Library/Frameworks/Python.framework/Versions/3.12/lib/python3.12/site-packages (from arize-phoenix>=3.0.3->llama-index-callbacks-arize-phoenix) (17.0.0)\n",
      "Requirement already satisfied: pydantic!=2.0.*,<3,>=1.0 in /Library/Frameworks/Python.framework/Versions/3.12/lib/python3.12/site-packages (from arize-phoenix>=3.0.3->llama-index-callbacks-arize-phoenix) (2.8.2)\n",
      "Collecting python-multipart (from arize-phoenix>=3.0.3->llama-index-callbacks-arize-phoenix)\n",
      "  Downloading python_multipart-0.0.9-py3-none-any.whl.metadata (2.5 kB)\n",
      "Requirement already satisfied: scikit-learn in /Library/Frameworks/Python.framework/Versions/3.12/lib/python3.12/site-packages (from arize-phoenix>=3.0.3->llama-index-callbacks-arize-phoenix) (1.4.2)\n",
      "Requirement already satisfied: scipy in /Library/Frameworks/Python.framework/Versions/3.12/lib/python3.12/site-packages (from arize-phoenix>=3.0.3->llama-index-callbacks-arize-phoenix) (1.13.0)\n",
      "Requirement already satisfied: sqlalchemy<3,>=2.0.4 in /Library/Frameworks/Python.framework/Versions/3.12/lib/python3.12/site-packages (from sqlalchemy[asyncio]<3,>=2.0.4->arize-phoenix>=3.0.3->llama-index-callbacks-arize-phoenix) (2.0.31)\n",
      "Collecting sqlean-py>=3.45.1 (from arize-phoenix>=3.0.3->llama-index-callbacks-arize-phoenix)\n",
      "  Downloading sqlean.py-3.45.1-cp312-cp312-macosx_11_0_arm64.whl.metadata (4.4 kB)\n",
      "Requirement already satisfied: starlette in /Library/Frameworks/Python.framework/Versions/3.12/lib/python3.12/site-packages (from arize-phoenix>=3.0.3->llama-index-callbacks-arize-phoenix) (0.37.2)\n",
      "Collecting strawberry-graphql==0.236.0 (from arize-phoenix>=3.0.3->llama-index-callbacks-arize-phoenix)\n",
      "  Downloading strawberry_graphql-0.236.0-py3-none-any.whl.metadata (7.8 kB)\n",
      "Requirement already satisfied: tqdm in /Library/Frameworks/Python.framework/Versions/3.12/lib/python3.12/site-packages (from arize-phoenix>=3.0.3->llama-index-callbacks-arize-phoenix) (4.66.4)\n",
      "Requirement already satisfied: typing-extensions>=4.6 in /Library/Frameworks/Python.framework/Versions/3.12/lib/python3.12/site-packages (from arize-phoenix>=3.0.3->llama-index-callbacks-arize-phoenix) (4.11.0)\n",
      "Collecting umap-learn (from arize-phoenix>=3.0.3->llama-index-callbacks-arize-phoenix)\n",
      "  Downloading umap_learn-0.5.6-py3-none-any.whl.metadata (21 kB)\n",
      "Requirement already satisfied: uvicorn in /Library/Frameworks/Python.framework/Versions/3.12/lib/python3.12/site-packages (from arize-phoenix>=3.0.3->llama-index-callbacks-arize-phoenix) (0.30.5)\n",
      "Requirement already satisfied: wrapt in /Library/Frameworks/Python.framework/Versions/3.12/lib/python3.12/site-packages (from arize-phoenix>=3.0.3->llama-index-callbacks-arize-phoenix) (1.16.0)\n",
      "Collecting graphql-core<3.3.0,>=3.2.0 (from strawberry-graphql==0.236.0->arize-phoenix>=3.0.3->llama-index-callbacks-arize-phoenix)\n",
      "  Downloading graphql_core-3.2.3-py3-none-any.whl.metadata (10 kB)\n",
      "Requirement already satisfied: python-dateutil<3.0.0,>=2.7.0 in /Library/Frameworks/Python.framework/Versions/3.12/lib/python3.12/site-packages (from strawberry-graphql==0.236.0->arize-phoenix>=3.0.3->llama-index-callbacks-arize-phoenix) (2.9.0.post0)\n",
      "Requirement already satisfied: PyYAML>=6.0.1 in /Library/Frameworks/Python.framework/Versions/3.12/lib/python3.12/site-packages (from llama-index-core<0.11.0,>=0.10.11.post1->llama-index-callbacks-arize-phoenix) (6.0.1)\n",
      "Requirement already satisfied: aiohttp<4.0.0,>=3.8.6 in /Library/Frameworks/Python.framework/Versions/3.12/lib/python3.12/site-packages (from llama-index-core<0.11.0,>=0.10.11.post1->llama-index-callbacks-arize-phoenix) (3.10.0)\n",
      "Requirement already satisfied: dataclasses-json in /Library/Frameworks/Python.framework/Versions/3.12/lib/python3.12/site-packages (from llama-index-core<0.11.0,>=0.10.11.post1->llama-index-callbacks-arize-phoenix) (0.6.7)\n",
      "Requirement already satisfied: deprecated>=1.2.9.3 in /Library/Frameworks/Python.framework/Versions/3.12/lib/python3.12/site-packages (from llama-index-core<0.11.0,>=0.10.11.post1->llama-index-callbacks-arize-phoenix) (1.2.14)\n",
      "Requirement already satisfied: dirtyjson<2.0.0,>=1.0.8 in /Library/Frameworks/Python.framework/Versions/3.12/lib/python3.12/site-packages (from llama-index-core<0.11.0,>=0.10.11.post1->llama-index-callbacks-arize-phoenix) (1.0.8)\n",
      "Requirement already satisfied: fsspec>=2023.5.0 in /Library/Frameworks/Python.framework/Versions/3.12/lib/python3.12/site-packages (from llama-index-core<0.11.0,>=0.10.11.post1->llama-index-callbacks-arize-phoenix) (2024.5.0)\n",
      "Requirement already satisfied: nest-asyncio<2.0.0,>=1.5.8 in /Users/siddhiapraj/Library/Python/3.12/lib/python/site-packages (from llama-index-core<0.11.0,>=0.10.11.post1->llama-index-callbacks-arize-phoenix) (1.6.0)\n",
      "Requirement already satisfied: networkx>=3.0 in /Library/Frameworks/Python.framework/Versions/3.12/lib/python3.12/site-packages (from llama-index-core<0.11.0,>=0.10.11.post1->llama-index-callbacks-arize-phoenix) (3.3)\n",
      "Requirement already satisfied: nltk<4.0.0,>=3.8.1 in /Library/Frameworks/Python.framework/Versions/3.12/lib/python3.12/site-packages (from llama-index-core<0.11.0,>=0.10.11.post1->llama-index-callbacks-arize-phoenix) (3.8.1)\n",
      "Requirement already satisfied: openai>=1.1.0 in /Library/Frameworks/Python.framework/Versions/3.12/lib/python3.12/site-packages (from llama-index-core<0.11.0,>=0.10.11.post1->llama-index-callbacks-arize-phoenix) (1.40.2)\n",
      "Requirement already satisfied: pillow>=9.0.0 in /Library/Frameworks/Python.framework/Versions/3.12/lib/python3.12/site-packages (from llama-index-core<0.11.0,>=0.10.11.post1->llama-index-callbacks-arize-phoenix) (10.4.0)\n",
      "Requirement already satisfied: requests>=2.31.0 in /Library/Frameworks/Python.framework/Versions/3.12/lib/python3.12/site-packages (from llama-index-core<0.11.0,>=0.10.11.post1->llama-index-callbacks-arize-phoenix) (2.32.3)\n",
      "Requirement already satisfied: tenacity!=8.4.0,<9.0.0,>=8.2.0 in /Library/Frameworks/Python.framework/Versions/3.12/lib/python3.12/site-packages (from llama-index-core<0.11.0,>=0.10.11.post1->llama-index-callbacks-arize-phoenix) (8.5.0)\n",
      "Requirement already satisfied: tiktoken>=0.3.3 in /Library/Frameworks/Python.framework/Versions/3.12/lib/python3.12/site-packages (from llama-index-core<0.11.0,>=0.10.11.post1->llama-index-callbacks-arize-phoenix) (0.7.0)\n",
      "Requirement already satisfied: typing-inspect>=0.8.0 in /Library/Frameworks/Python.framework/Versions/3.12/lib/python3.12/site-packages (from llama-index-core<0.11.0,>=0.10.11.post1->llama-index-callbacks-arize-phoenix) (0.9.0)\n",
      "Requirement already satisfied: opentelemetry-api in /Library/Frameworks/Python.framework/Versions/3.12/lib/python3.12/site-packages (from openinference-instrumentation-llama-index>=1.0.0->llama-index-callbacks-arize-phoenix) (1.26.0)\n",
      "Requirement already satisfied: opentelemetry-instrumentation in /Library/Frameworks/Python.framework/Versions/3.12/lib/python3.12/site-packages (from openinference-instrumentation-llama-index>=1.0.0->llama-index-callbacks-arize-phoenix) (0.47b0)\n",
      "Requirement already satisfied: aiohappyeyeballs>=2.3.0 in /Library/Frameworks/Python.framework/Versions/3.12/lib/python3.12/site-packages (from aiohttp<4.0.0,>=3.8.6->llama-index-core<0.11.0,>=0.10.11.post1->llama-index-callbacks-arize-phoenix) (2.3.4)\n",
      "Requirement already satisfied: aiosignal>=1.1.2 in /Library/Frameworks/Python.framework/Versions/3.12/lib/python3.12/site-packages (from aiohttp<4.0.0,>=3.8.6->llama-index-core<0.11.0,>=0.10.11.post1->llama-index-callbacks-arize-phoenix) (1.3.1)\n",
      "Requirement already satisfied: attrs>=17.3.0 in /Library/Frameworks/Python.framework/Versions/3.12/lib/python3.12/site-packages (from aiohttp<4.0.0,>=3.8.6->llama-index-core<0.11.0,>=0.10.11.post1->llama-index-callbacks-arize-phoenix) (23.2.0)\n",
      "Requirement already satisfied: frozenlist>=1.1.1 in /Library/Frameworks/Python.framework/Versions/3.12/lib/python3.12/site-packages (from aiohttp<4.0.0,>=3.8.6->llama-index-core<0.11.0,>=0.10.11.post1->llama-index-callbacks-arize-phoenix) (1.4.1)\n",
      "Requirement already satisfied: multidict<7.0,>=4.5 in /Library/Frameworks/Python.framework/Versions/3.12/lib/python3.12/site-packages (from aiohttp<4.0.0,>=3.8.6->llama-index-core<0.11.0,>=0.10.11.post1->llama-index-callbacks-arize-phoenix) (6.0.5)\n",
      "Requirement already satisfied: yarl<2.0,>=1.0 in /Library/Frameworks/Python.framework/Versions/3.12/lib/python3.12/site-packages (from aiohttp<4.0.0,>=3.8.6->llama-index-core<0.11.0,>=0.10.11.post1->llama-index-callbacks-arize-phoenix) (1.9.4)\n",
      "Collecting Mako (from alembic<2,>=1.3.0->arize-phoenix>=3.0.3->llama-index-callbacks-arize-phoenix)\n",
      "  Downloading Mako-1.3.5-py3-none-any.whl.metadata (2.9 kB)\n",
      "Requirement already satisfied: joblib>=1.0 in /Library/Frameworks/Python.framework/Versions/3.12/lib/python3.12/site-packages (from hdbscan>=0.8.33->arize-phoenix>=3.0.3->llama-index-callbacks-arize-phoenix) (1.4.0)\n",
      "Requirement already satisfied: click in /Library/Frameworks/Python.framework/Versions/3.12/lib/python3.12/site-packages (from nltk<4.0.0,>=3.8.1->llama-index-core<0.11.0,>=0.10.11.post1->llama-index-callbacks-arize-phoenix) (8.1.7)\n",
      "Requirement already satisfied: regex>=2021.8.3 in /Library/Frameworks/Python.framework/Versions/3.12/lib/python3.12/site-packages (from nltk<4.0.0,>=3.8.1->llama-index-core<0.11.0,>=0.10.11.post1->llama-index-callbacks-arize-phoenix) (2024.7.24)\n",
      "Requirement already satisfied: anyio<5,>=3.5.0 in /Library/Frameworks/Python.framework/Versions/3.12/lib/python3.12/site-packages (from openai>=1.1.0->llama-index-core<0.11.0,>=0.10.11.post1->llama-index-callbacks-arize-phoenix) (4.4.0)\n",
      "Requirement already satisfied: distro<2,>=1.7.0 in /Library/Frameworks/Python.framework/Versions/3.12/lib/python3.12/site-packages (from openai>=1.1.0->llama-index-core<0.11.0,>=0.10.11.post1->llama-index-callbacks-arize-phoenix) (1.9.0)\n",
      "Requirement already satisfied: jiter<1,>=0.4.0 in /Library/Frameworks/Python.framework/Versions/3.12/lib/python3.12/site-packages (from openai>=1.1.0->llama-index-core<0.11.0,>=0.10.11.post1->llama-index-callbacks-arize-phoenix) (0.5.0)\n",
      "Requirement already satisfied: sniffio in /Library/Frameworks/Python.framework/Versions/3.12/lib/python3.12/site-packages (from openai>=1.1.0->llama-index-core<0.11.0,>=0.10.11.post1->llama-index-callbacks-arize-phoenix) (1.3.1)\n",
      "Requirement already satisfied: certifi in /Library/Frameworks/Python.framework/Versions/3.12/lib/python3.12/site-packages (from httpx->arize-phoenix>=3.0.3->llama-index-callbacks-arize-phoenix) (2024.2.2)\n",
      "Requirement already satisfied: httpcore==1.* in /Library/Frameworks/Python.framework/Versions/3.12/lib/python3.12/site-packages (from httpx->arize-phoenix>=3.0.3->llama-index-callbacks-arize-phoenix) (1.0.5)\n",
      "Requirement already satisfied: idna in /Library/Frameworks/Python.framework/Versions/3.12/lib/python3.12/site-packages (from httpx->arize-phoenix>=3.0.3->llama-index-callbacks-arize-phoenix) (3.7)\n",
      "Requirement already satisfied: h11<0.15,>=0.13 in /Library/Frameworks/Python.framework/Versions/3.12/lib/python3.12/site-packages (from httpcore==1.*->httpx->arize-phoenix>=3.0.3->llama-index-callbacks-arize-phoenix) (0.14.0)\n",
      "Collecting protobuf<6.0,>=3.20 (from arize-phoenix>=3.0.3->llama-index-callbacks-arize-phoenix)\n",
      "  Using cached protobuf-4.25.4-cp37-abi3-macosx_10_9_universal2.whl.metadata (541 bytes)\n",
      "Requirement already satisfied: pytz>=2020.1 in /Library/Frameworks/Python.framework/Versions/3.12/lib/python3.12/site-packages (from pandas>=1.0->arize-phoenix>=3.0.3->llama-index-callbacks-arize-phoenix) (2024.1)\n",
      "Requirement already satisfied: tzdata>=2022.7 in /Library/Frameworks/Python.framework/Versions/3.12/lib/python3.12/site-packages (from pandas>=1.0->arize-phoenix>=3.0.3->llama-index-callbacks-arize-phoenix) (2024.1)\n",
      "Requirement already satisfied: annotated-types>=0.4.0 in /Library/Frameworks/Python.framework/Versions/3.12/lib/python3.12/site-packages (from pydantic!=2.0.*,<3,>=1.0->arize-phoenix>=3.0.3->llama-index-callbacks-arize-phoenix) (0.7.0)\n",
      "Requirement already satisfied: pydantic-core==2.20.1 in /Library/Frameworks/Python.framework/Versions/3.12/lib/python3.12/site-packages (from pydantic!=2.0.*,<3,>=1.0->arize-phoenix>=3.0.3->llama-index-callbacks-arize-phoenix) (2.20.1)\n",
      "Requirement already satisfied: charset-normalizer<4,>=2 in /Library/Frameworks/Python.framework/Versions/3.12/lib/python3.12/site-packages (from requests>=2.31.0->llama-index-core<0.11.0,>=0.10.11.post1->llama-index-callbacks-arize-phoenix) (3.3.2)\n",
      "Requirement already satisfied: urllib3<3,>=1.21.1 in /Library/Frameworks/Python.framework/Versions/3.12/lib/python3.12/site-packages (from requests>=2.31.0->llama-index-core<0.11.0,>=0.10.11.post1->llama-index-callbacks-arize-phoenix) (2.2.1)\n",
      "Requirement already satisfied: threadpoolctl>=2.0.0 in /Library/Frameworks/Python.framework/Versions/3.12/lib/python3.12/site-packages (from scikit-learn->arize-phoenix>=3.0.3->llama-index-callbacks-arize-phoenix) (3.4.0)\n",
      "Requirement already satisfied: greenlet!=0.4.17 in /Library/Frameworks/Python.framework/Versions/3.12/lib/python3.12/site-packages (from sqlalchemy[asyncio]<3,>=2.0.4->arize-phoenix>=3.0.3->llama-index-callbacks-arize-phoenix) (3.0.3)\n",
      "Requirement already satisfied: mypy-extensions>=0.3.0 in /Library/Frameworks/Python.framework/Versions/3.12/lib/python3.12/site-packages (from typing-inspect>=0.8.0->llama-index-core<0.11.0,>=0.10.11.post1->llama-index-callbacks-arize-phoenix) (1.0.0)\n",
      "Requirement already satisfied: marshmallow<4.0.0,>=3.18.0 in /Library/Frameworks/Python.framework/Versions/3.12/lib/python3.12/site-packages (from dataclasses-json->llama-index-core<0.11.0,>=0.10.11.post1->llama-index-callbacks-arize-phoenix) (3.21.3)\n",
      "Requirement already satisfied: MarkupSafe>=2.0 in /Library/Frameworks/Python.framework/Versions/3.12/lib/python3.12/site-packages (from jinja2->arize-phoenix>=3.0.3->llama-index-callbacks-arize-phoenix) (2.1.5)\n",
      "Requirement already satisfied: importlib-metadata<=8.0.0,>=6.0 in /Library/Frameworks/Python.framework/Versions/3.12/lib/python3.12/site-packages (from opentelemetry-api->openinference-instrumentation-llama-index>=1.0.0->llama-index-callbacks-arize-phoenix) (8.0.0)\n",
      "Requirement already satisfied: opentelemetry-exporter-otlp-proto-grpc==1.26.0 in /Library/Frameworks/Python.framework/Versions/3.12/lib/python3.12/site-packages (from opentelemetry-exporter-otlp->arize-phoenix>=3.0.3->llama-index-callbacks-arize-phoenix) (1.26.0)\n",
      "Collecting opentelemetry-exporter-otlp-proto-http==1.26.0 (from opentelemetry-exporter-otlp->arize-phoenix>=3.0.3->llama-index-callbacks-arize-phoenix)\n",
      "  Downloading opentelemetry_exporter_otlp_proto_http-1.26.0-py3-none-any.whl.metadata (2.3 kB)\n",
      "Requirement already satisfied: googleapis-common-protos~=1.52 in /Library/Frameworks/Python.framework/Versions/3.12/lib/python3.12/site-packages (from opentelemetry-exporter-otlp-proto-grpc==1.26.0->opentelemetry-exporter-otlp->arize-phoenix>=3.0.3->llama-index-callbacks-arize-phoenix) (1.63.2)\n",
      "Requirement already satisfied: opentelemetry-exporter-otlp-proto-common==1.26.0 in /Library/Frameworks/Python.framework/Versions/3.12/lib/python3.12/site-packages (from opentelemetry-exporter-otlp-proto-grpc==1.26.0->opentelemetry-exporter-otlp->arize-phoenix>=3.0.3->llama-index-callbacks-arize-phoenix) (1.26.0)\n",
      "Requirement already satisfied: setuptools>=16.0 in /Library/Frameworks/Python.framework/Versions/3.12/lib/python3.12/site-packages (from opentelemetry-instrumentation->openinference-instrumentation-llama-index>=1.0.0->llama-index-callbacks-arize-phoenix) (69.2.0)\n",
      "Requirement already satisfied: numba>=0.51.2 in /Library/Frameworks/Python.framework/Versions/3.12/lib/python3.12/site-packages (from umap-learn->arize-phoenix>=3.0.3->llama-index-callbacks-arize-phoenix) (0.59.1)\n",
      "Collecting pynndescent>=0.5 (from umap-learn->arize-phoenix>=3.0.3->llama-index-callbacks-arize-phoenix)\n",
      "  Downloading pynndescent-0.5.13-py3-none-any.whl.metadata (6.8 kB)\n",
      "Requirement already satisfied: zipp>=0.5 in /Library/Frameworks/Python.framework/Versions/3.12/lib/python3.12/site-packages (from importlib-metadata<=8.0.0,>=6.0->opentelemetry-api->openinference-instrumentation-llama-index>=1.0.0->llama-index-callbacks-arize-phoenix) (3.19.2)\n",
      "Requirement already satisfied: packaging>=17.0 in /Library/Frameworks/Python.framework/Versions/3.12/lib/python3.12/site-packages (from marshmallow<4.0.0,>=3.18.0->dataclasses-json->llama-index-core<0.11.0,>=0.10.11.post1->llama-index-callbacks-arize-phoenix) (24.0)\n",
      "Requirement already satisfied: llvmlite<0.43,>=0.42.0dev0 in /Library/Frameworks/Python.framework/Versions/3.12/lib/python3.12/site-packages (from numba>=0.51.2->umap-learn->arize-phoenix>=3.0.3->llama-index-callbacks-arize-phoenix) (0.42.0)\n",
      "Requirement already satisfied: six>=1.5 in /Library/Frameworks/Python.framework/Versions/3.12/lib/python3.12/site-packages (from python-dateutil<3.0.0,>=2.7.0->strawberry-graphql==0.236.0->arize-phoenix>=3.0.3->llama-index-callbacks-arize-phoenix) (1.16.0)\n",
      "Downloading llama_index_callbacks_arize_phoenix-0.1.6-py3-none-any.whl (2.2 kB)\n",
      "Downloading arize_phoenix-4.23.0-py3-none-any.whl (1.5 MB)\n",
      "\u001b[2K   \u001b[90m━━━━━━━━━━━━━━━━━━━━━━━━━━━━━━━━━━━━━━━━\u001b[0m \u001b[32m1.5/1.5 MB\u001b[0m \u001b[31m1.8 MB/s\u001b[0m eta \u001b[36m0:00:00\u001b[0ma \u001b[36m0:00:01\u001b[0m0m\n",
      "\u001b[?25hDownloading strawberry_graphql-0.236.0-py3-none-any.whl (304 kB)\n",
      "\u001b[2K   \u001b[90m━━━━━━━━━━━━━━━━━━━━━━━━━━━━━━━━━━━━━━━━\u001b[0m \u001b[32m305.0/305.0 kB\u001b[0m \u001b[31m5.4 MB/s\u001b[0m eta \u001b[36m0:00:00\u001b[0ma \u001b[36m0:00:01\u001b[0m\n",
      "\u001b[?25hDownloading openinference_instrumentation_llama_index-2.2.4-py3-none-any.whl (25 kB)\n",
      "Downloading alembic-1.13.2-py3-none-any.whl (232 kB)\n",
      "\u001b[2K   \u001b[90m━━━━━━━━━━━━━━━━━━━━━━━━━━━━━━━━━━━━━━━━\u001b[0m \u001b[32m233.0/233.0 kB\u001b[0m \u001b[31m6.1 MB/s\u001b[0m eta \u001b[36m0:00:00\u001b[0ma \u001b[36m0:00:01\u001b[0m\n",
      "\u001b[?25hDownloading arize_phoenix_evals-0.14.1-py3-none-any.whl (55 kB)\n",
      "\u001b[2K   \u001b[90m━━━━━━━━━━━━━━━━━━━━━━━━━━━━━━━━━━━━━━━━\u001b[0m \u001b[32m55.9/55.9 kB\u001b[0m \u001b[31m4.2 MB/s\u001b[0m eta \u001b[36m0:00:00\u001b[0m\n",
      "\u001b[?25hDownloading openinference_instrumentation-0.1.13-py3-none-any.whl (13 kB)\n",
      "Downloading openinference_instrumentation_langchain-0.1.27-py3-none-any.whl (16 kB)\n",
      "Downloading openinference_instrumentation_openai-0.1.13-py3-none-any.whl (23 kB)\n",
      "Downloading openinference_semantic_conventions-0.1.9-py3-none-any.whl (8.7 kB)\n",
      "Using cached protobuf-4.25.4-cp37-abi3-macosx_10_9_universal2.whl (394 kB)\n",
      "Downloading sqlean.py-3.45.1-cp312-cp312-macosx_11_0_arm64.whl (919 kB)\n",
      "\u001b[2K   \u001b[90m━━━━━━━━━━━━━━━━━━━━━━━━━━━━━━━━━━━━━━━━\u001b[0m \u001b[32m919.9/919.9 kB\u001b[0m \u001b[31m2.6 MB/s\u001b[0m eta \u001b[36m0:00:00\u001b[0m00:01\u001b[0m00:01\u001b[0m\n",
      "\u001b[?25hDownloading aioitertools-0.11.0-py3-none-any.whl (23 kB)\n",
      "Downloading aiosqlite-0.20.0-py3-none-any.whl (15 kB)\n",
      "Downloading opentelemetry_exporter_otlp-1.26.0-py3-none-any.whl (7.0 kB)\n",
      "Downloading opentelemetry_exporter_otlp_proto_http-1.26.0-py3-none-any.whl (16 kB)\n",
      "Downloading python_multipart-0.0.9-py3-none-any.whl (22 kB)\n",
      "Downloading umap_learn-0.5.6-py3-none-any.whl (85 kB)\n",
      "\u001b[2K   \u001b[90m━━━━━━━━━━━━━━━━━━━━━━━━━━━━━━━━━━━━━━━━\u001b[0m \u001b[32m85.7/85.7 kB\u001b[0m \u001b[31m2.5 MB/s\u001b[0m eta \u001b[36m0:00:00\u001b[0m\n",
      "\u001b[?25hDownloading graphql_core-3.2.3-py3-none-any.whl (202 kB)\n",
      "\u001b[2K   \u001b[90m━━━━━━━━━━━━━━━━━━━━━━━━━━━━━━━━━━━━━━━━\u001b[0m \u001b[32m202.9/202.9 kB\u001b[0m \u001b[31m3.3 MB/s\u001b[0m eta \u001b[36m0:00:00\u001b[0ma \u001b[36m0:00:01\u001b[0m\n",
      "\u001b[?25hDownloading pynndescent-0.5.13-py3-none-any.whl (56 kB)\n",
      "\u001b[2K   \u001b[90m━━━━━━━━━━━━━━━━━━━━━━━━━━━━━━━━━━━━━━━━\u001b[0m \u001b[32m56.9/56.9 kB\u001b[0m \u001b[31m4.5 MB/s\u001b[0m eta \u001b[36m0:00:00\u001b[0m\n",
      "\u001b[?25hDownloading Mako-1.3.5-py3-none-any.whl (78 kB)\n",
      "\u001b[2K   \u001b[90m━━━━━━━━━━━━━━━━━━━━━━━━━━━━━━━━━━━━━━━━\u001b[0m \u001b[32m78.6/78.6 kB\u001b[0m \u001b[31m2.5 MB/s\u001b[0m eta \u001b[36m0:00:00\u001b[0m\n",
      "\u001b[?25hBuilding wheels for collected packages: hdbscan\n",
      "  Building wheel for hdbscan (pyproject.toml) ... \u001b[?25ldone\n",
      "\u001b[?25h  Created wheel for hdbscan: filename=hdbscan-0.8.38.post1-cp312-cp312-macosx_10_9_universal2.whl size=1489783 sha256=1fe9aafa2f850fe94247a9dc1122510d2b1a65029d2cb51181db052c00b41ed0\n",
      "  Stored in directory: /Users/siddhiapraj/Library/Caches/pip/wheels/51/1c/fb/cfac6918bd6a1478ab55a3da03c501046b67b8161309c2f64a\n",
      "Successfully built hdbscan\n",
      "Installing collected packages: sqlean-py, python-multipart, protobuf, openinference-semantic-conventions, Mako, graphql-core, aiosqlite, aioitertools, strawberry-graphql, alembic, pynndescent, openinference-instrumentation, hdbscan, arize-phoenix-evals, umap-learn, openinference-instrumentation-openai, openinference-instrumentation-llama-index, openinference-instrumentation-langchain, opentelemetry-exporter-otlp-proto-http, opentelemetry-exporter-otlp, arize-phoenix, llama-index-callbacks-arize-phoenix\n",
      "  Attempting uninstall: protobuf\n",
      "    Found existing installation: protobuf 5.27.3\n",
      "    Uninstalling protobuf-5.27.3:\n",
      "      Successfully uninstalled protobuf-5.27.3\n",
      "\u001b[31mERROR: pip's dependency resolver does not currently take into account all the packages that are installed. This behaviour is the source of the following dependency conflicts.\n",
      "grpcio-tools 1.65.4 requires protobuf<6.0dev,>=5.26.1, but you have protobuf 4.25.4 which is incompatible.\u001b[0m\u001b[31m\n",
      "\u001b[0mSuccessfully installed Mako-1.3.5 aioitertools-0.11.0 aiosqlite-0.20.0 alembic-1.13.2 arize-phoenix-4.23.0 arize-phoenix-evals-0.14.1 graphql-core-3.2.3 hdbscan-0.8.38.post1 llama-index-callbacks-arize-phoenix-0.1.6 openinference-instrumentation-0.1.13 openinference-instrumentation-langchain-0.1.27 openinference-instrumentation-llama-index-2.2.4 openinference-instrumentation-openai-0.1.13 openinference-semantic-conventions-0.1.9 opentelemetry-exporter-otlp-1.26.0 opentelemetry-exporter-otlp-proto-http-1.26.0 protobuf-4.25.4 pynndescent-0.5.13 python-multipart-0.0.9 sqlean-py-3.45.1 strawberry-graphql-0.236.0 umap-learn-0.5.6\n",
      "\n",
      "\u001b[1m[\u001b[0m\u001b[34;49mnotice\u001b[0m\u001b[1;39;49m]\u001b[0m\u001b[39;49m A new release of pip is available: \u001b[0m\u001b[31;49m24.0\u001b[0m\u001b[39;49m -> \u001b[0m\u001b[32;49m24.2\u001b[0m\n",
      "\u001b[1m[\u001b[0m\u001b[34;49mnotice\u001b[0m\u001b[1;39;49m]\u001b[0m\u001b[39;49m To update, run: \u001b[0m\u001b[32;49mpip3 install --upgrade pip\u001b[0m\n",
      "zsh:1: no matches found: arize-phoenix[evals]\n",
      "Requirement already satisfied: openinference-instrumentation-llama-index>=1.0.0 in /Library/Frameworks/Python.framework/Versions/3.12/lib/python3.12/site-packages (2.2.4)\n",
      "Requirement already satisfied: openinference-instrumentation>=0.1.12 in /Library/Frameworks/Python.framework/Versions/3.12/lib/python3.12/site-packages (from openinference-instrumentation-llama-index>=1.0.0) (0.1.13)\n",
      "Requirement already satisfied: openinference-semantic-conventions>=0.1.9 in /Library/Frameworks/Python.framework/Versions/3.12/lib/python3.12/site-packages (from openinference-instrumentation-llama-index>=1.0.0) (0.1.9)\n",
      "Requirement already satisfied: opentelemetry-api in /Library/Frameworks/Python.framework/Versions/3.12/lib/python3.12/site-packages (from openinference-instrumentation-llama-index>=1.0.0) (1.26.0)\n",
      "Requirement already satisfied: opentelemetry-instrumentation in /Library/Frameworks/Python.framework/Versions/3.12/lib/python3.12/site-packages (from openinference-instrumentation-llama-index>=1.0.0) (0.47b0)\n",
      "Requirement already satisfied: opentelemetry-semantic-conventions in /Library/Frameworks/Python.framework/Versions/3.12/lib/python3.12/site-packages (from openinference-instrumentation-llama-index>=1.0.0) (0.47b0)\n",
      "Requirement already satisfied: typing-extensions in /Library/Frameworks/Python.framework/Versions/3.12/lib/python3.12/site-packages (from openinference-instrumentation-llama-index>=1.0.0) (4.11.0)\n",
      "Requirement already satisfied: wrapt in /Library/Frameworks/Python.framework/Versions/3.12/lib/python3.12/site-packages (from openinference-instrumentation-llama-index>=1.0.0) (1.16.0)\n",
      "Requirement already satisfied: deprecated>=1.2.6 in /Library/Frameworks/Python.framework/Versions/3.12/lib/python3.12/site-packages (from opentelemetry-api->openinference-instrumentation-llama-index>=1.0.0) (1.2.14)\n",
      "Requirement already satisfied: importlib-metadata<=8.0.0,>=6.0 in /Library/Frameworks/Python.framework/Versions/3.12/lib/python3.12/site-packages (from opentelemetry-api->openinference-instrumentation-llama-index>=1.0.0) (8.0.0)\n",
      "Requirement already satisfied: setuptools>=16.0 in /Library/Frameworks/Python.framework/Versions/3.12/lib/python3.12/site-packages (from opentelemetry-instrumentation->openinference-instrumentation-llama-index>=1.0.0) (69.2.0)\n",
      "Requirement already satisfied: zipp>=0.5 in /Library/Frameworks/Python.framework/Versions/3.12/lib/python3.12/site-packages (from importlib-metadata<=8.0.0,>=6.0->opentelemetry-api->openinference-instrumentation-llama-index>=1.0.0) (3.19.2)\n",
      "\n",
      "\u001b[1m[\u001b[0m\u001b[34;49mnotice\u001b[0m\u001b[1;39;49m]\u001b[0m\u001b[39;49m A new release of pip is available: \u001b[0m\u001b[31;49m24.0\u001b[0m\u001b[39;49m -> \u001b[0m\u001b[32;49m24.2\u001b[0m\n",
      "\u001b[1m[\u001b[0m\u001b[34;49mnotice\u001b[0m\u001b[1;39;49m]\u001b[0m\u001b[39;49m To update, run: \u001b[0m\u001b[32;49mpip3 install --upgrade pip\u001b[0m\n"
     ]
    }
   ],
   "source": [
    "!pip3 install llama-index-callbacks-arize-phoenix\n",
    "!pip3 install arize-phoenix[evals]\n",
    "!pip3 install \"openinference-instrumentation-llama-index>=1.0.0\""
   ]
  },
  {
   "cell_type": "code",
   "execution_count": 129,
   "metadata": {},
   "outputs": [],
   "source": [
    "import json\n",
    "from getpass import getpass\n",
    "from urllib.request import urlopen\n",
    "import phoenix as px\n",
    "from llama_index.core import set_global_handler\n",
    "from phoenix.evals import (\n",
    "    HallucinationEvaluator,\n",
    "    OpenAIModel,\n",
    "    QAEvaluator,\n",
    "    RelevanceEvaluator,\n",
    "    run_evals\n",
    ")\n",
    "from phoenix.session.evaluation import get_qa_with_reference, get_retrieved_documents\n",
    "from phoenix.trace import DocumentEvaluations, SpanEvaluations\n",
    "from tqdm import tqdm\n",
    "\n",
    "nest_asyncio.apply()\n",
    "pd.set_option(\"display.max_colwidth\", 1000)"
   ]
  },
  {
   "cell_type": "code",
   "execution_count": 130,
   "metadata": {},
   "outputs": [
    {
     "name": "stdout",
     "output_type": "stream",
     "text": [
      "📋 Ensuring phoenix working directory: /Users/siddhiapraj/.phoenix\n",
      "📋 Ensuring phoenix working directory: /Users/siddhiapraj/.phoenix\n",
      "🌍 To view the Phoenix app in your browser, visit http://localhost:6006/\n",
      "📖 For more information on how to use Phoenix, check out https://docs.arize.com/phoenix\n"
     ]
    }
   ],
   "source": [
    "session = px.launch_app()"
   ]
  },
  {
   "cell_type": "code",
   "execution_count": 131,
   "metadata": {},
   "outputs": [],
   "source": [
    "set_global_handler('arize_phoenix')"
   ]
  },
  {
   "cell_type": "code",
   "execution_count": 132,
   "metadata": {},
   "outputs": [],
   "source": [
    "embed_model = OpenAIEmbedding()\n",
    "Settings.llm = llm\n",
    "Settings.embed_model = embed_model"
   ]
  },
  {
   "cell_type": "code",
   "execution_count": 134,
   "metadata": {},
   "outputs": [],
   "source": [
    "index = VectorStoreIndex.from_documents(documents)"
   ]
  },
  {
   "cell_type": "code",
   "execution_count": 135,
   "metadata": {},
   "outputs": [],
   "source": [
    "query_engine = index.as_query_engine(similarity_top_k=5)"
   ]
  },
  {
   "cell_type": "code",
   "execution_count": 136,
   "metadata": {},
   "outputs": [],
   "source": [
    "queries = ['what did paul graham do growing up?', 'why did paul graham start YC?']"
   ]
  },
  {
   "cell_type": "code",
   "execution_count": 137,
   "metadata": {},
   "outputs": [
    {
     "name": "stderr",
     "output_type": "stream",
     "text": [
      "100%|██████████| 2/2 [00:04<00:00,  2.01s/it]\n"
     ]
    }
   ],
   "source": [
    "for query in tqdm(queries):\n",
    "    query_engine.query(query)"
   ]
  },
  {
   "cell_type": "code",
   "execution_count": 138,
   "metadata": {},
   "outputs": [
    {
     "name": "stdout",
     "output_type": "stream",
     "text": [
      "Paul Graham is an individual who has been involved in various endeavors such as founding Viaweb, which later became Yahoo Store, and Y Combinator, a startup accelerator. He has also been known for his work in Lisp programming and writing essays, particularly focusing on technology, startups, and entrepreneurship.\n"
     ]
    }
   ],
   "source": [
    "print(query_engine.query(\"who is paul graham?\"))"
   ]
  },
  {
   "cell_type": "code",
   "execution_count": 139,
   "metadata": {},
   "outputs": [
    {
     "name": "stdout",
     "output_type": "stream",
     "text": [
      "Open the Phoenix UI: http://localhost:6006/\n"
     ]
    }
   ],
   "source": [
    "print(f\"Open the Phoenix UI: {session.url}\")"
   ]
  },
  {
   "cell_type": "code",
   "execution_count": 140,
   "metadata": {},
   "outputs": [],
   "source": [
    "queries_df = get_qa_with_reference(px.Client())\n",
    "retrieved_documents_df = get_retrieved_documents(px.Client())"
   ]
  },
  {
   "cell_type": "code",
   "execution_count": 142,
   "metadata": {},
   "outputs": [
    {
     "name": "stderr",
     "output_type": "stream",
     "text": [
      "run_evals |██████████| 6/6 (100.0%) | ⏳ 00:04<00:00 |  1.32it/s\n"
     ]
    },
    {
     "name": "stderr",
     "output_type": "stream",
     "text": [
      "run_evals |██████████| 15/15 (100.0%) | ⏳ 00:06<00:00 |  2.42it/s\n"
     ]
    }
   ],
   "source": [
    "eval_model = OpenAIModel(\n",
    "    model=\"gpt-3.5-turbo\",\n",
    ")\n",
    "hallucination_evaluator = HallucinationEvaluator(eval_model)\n",
    "qa_correctness_evaluator = QAEvaluator(eval_model)\n",
    "relevance_evaluator= RelevanceEvaluator(eval_model)\n",
    "\n",
    "hallucination_eval_df, qa_correctness_eval_df = run_evals(\n",
    "    dataframe = queries_df,\n",
    "    evaluators= [hallucination_evaluator, qa_correctness_evaluator],\n",
    "    provide_explanation=True\n",
    ")\n",
    "relevance_eval_df = run_evals(\n",
    "    dataframe = retrieved_documents_df,\n",
    "    evaluators= [relevance_evaluator],\n",
    "    provide_explanation=True\n",
    ")[0]\n",
    "\n",
    "px.Client().log_evaluations(\n",
    "    SpanEvaluations(eval_name=\"Hallucination\", dataframe=hallucination_eval_df),\n",
    "    SpanEvaluations(eval_name=\"QA Correctness\", dataframe=qa_correctness_eval_df),\n",
    "    DocumentEvaluations(eval_name=\"Relevance\", dataframe=relevance_eval_df)\n",
    ")"
   ]
  },
  {
   "cell_type": "markdown",
   "metadata": {},
   "source": [
    "## Multi-Modal RAG System"
   ]
  },
  {
   "cell_type": "code",
   "execution_count": 174,
   "metadata": {},
   "outputs": [
    {
     "name": "stderr",
     "output_type": "stream",
     "text": [
      "I0000 00:00:1723617505.317688 10620573 fork_posix.cc:77] Other threads are currently calling into gRPC, skipping fork() handlers\n"
     ]
    },
    {
     "name": "stdout",
     "output_type": "stream",
     "text": [
      "Requirement already satisfied: llama-index-multi-modal-llms-openai in /Library/Frameworks/Python.framework/Versions/3.12/lib/python3.12/site-packages (0.1.9)\n",
      "Requirement already satisfied: llama-index-core<0.11.0,>=0.10.1 in /Library/Frameworks/Python.framework/Versions/3.12/lib/python3.12/site-packages (from llama-index-multi-modal-llms-openai) (0.10.64)\n",
      "Requirement already satisfied: llama-index-llms-openai<0.2.0,>=0.1.1 in /Library/Frameworks/Python.framework/Versions/3.12/lib/python3.12/site-packages (from llama-index-multi-modal-llms-openai) (0.1.29)\n",
      "Requirement already satisfied: PyYAML>=6.0.1 in /Library/Frameworks/Python.framework/Versions/3.12/lib/python3.12/site-packages (from llama-index-core<0.11.0,>=0.10.1->llama-index-multi-modal-llms-openai) (6.0.1)\n",
      "Requirement already satisfied: SQLAlchemy>=1.4.49 in /Library/Frameworks/Python.framework/Versions/3.12/lib/python3.12/site-packages (from SQLAlchemy[asyncio]>=1.4.49->llama-index-core<0.11.0,>=0.10.1->llama-index-multi-modal-llms-openai) (2.0.31)\n",
      "Requirement already satisfied: aiohttp<4.0.0,>=3.8.6 in /Library/Frameworks/Python.framework/Versions/3.12/lib/python3.12/site-packages (from llama-index-core<0.11.0,>=0.10.1->llama-index-multi-modal-llms-openai) (3.10.0)\n",
      "Requirement already satisfied: dataclasses-json in /Library/Frameworks/Python.framework/Versions/3.12/lib/python3.12/site-packages (from llama-index-core<0.11.0,>=0.10.1->llama-index-multi-modal-llms-openai) (0.6.7)\n",
      "Requirement already satisfied: deprecated>=1.2.9.3 in /Library/Frameworks/Python.framework/Versions/3.12/lib/python3.12/site-packages (from llama-index-core<0.11.0,>=0.10.1->llama-index-multi-modal-llms-openai) (1.2.14)\n",
      "Requirement already satisfied: dirtyjson<2.0.0,>=1.0.8 in /Library/Frameworks/Python.framework/Versions/3.12/lib/python3.12/site-packages (from llama-index-core<0.11.0,>=0.10.1->llama-index-multi-modal-llms-openai) (1.0.8)\n",
      "Requirement already satisfied: fsspec>=2023.5.0 in /Library/Frameworks/Python.framework/Versions/3.12/lib/python3.12/site-packages (from llama-index-core<0.11.0,>=0.10.1->llama-index-multi-modal-llms-openai) (2024.5.0)\n",
      "Requirement already satisfied: httpx in /Library/Frameworks/Python.framework/Versions/3.12/lib/python3.12/site-packages (from llama-index-core<0.11.0,>=0.10.1->llama-index-multi-modal-llms-openai) (0.27.0)\n",
      "Requirement already satisfied: nest-asyncio<2.0.0,>=1.5.8 in /Users/siddhiapraj/Library/Python/3.12/lib/python/site-packages (from llama-index-core<0.11.0,>=0.10.1->llama-index-multi-modal-llms-openai) (1.6.0)\n",
      "Requirement already satisfied: networkx>=3.0 in /Library/Frameworks/Python.framework/Versions/3.12/lib/python3.12/site-packages (from llama-index-core<0.11.0,>=0.10.1->llama-index-multi-modal-llms-openai) (3.3)\n",
      "Requirement already satisfied: nltk<4.0.0,>=3.8.1 in /Library/Frameworks/Python.framework/Versions/3.12/lib/python3.12/site-packages (from llama-index-core<0.11.0,>=0.10.1->llama-index-multi-modal-llms-openai) (3.8.1)\n",
      "Requirement already satisfied: numpy<2.0.0 in /Library/Frameworks/Python.framework/Versions/3.12/lib/python3.12/site-packages (from llama-index-core<0.11.0,>=0.10.1->llama-index-multi-modal-llms-openai) (1.26.4)\n",
      "Requirement already satisfied: openai>=1.1.0 in /Library/Frameworks/Python.framework/Versions/3.12/lib/python3.12/site-packages (from llama-index-core<0.11.0,>=0.10.1->llama-index-multi-modal-llms-openai) (1.40.2)\n",
      "Requirement already satisfied: pandas in /Library/Frameworks/Python.framework/Versions/3.12/lib/python3.12/site-packages (from llama-index-core<0.11.0,>=0.10.1->llama-index-multi-modal-llms-openai) (2.2.2)\n",
      "Requirement already satisfied: pillow>=9.0.0 in /Library/Frameworks/Python.framework/Versions/3.12/lib/python3.12/site-packages (from llama-index-core<0.11.0,>=0.10.1->llama-index-multi-modal-llms-openai) (10.4.0)\n",
      "Requirement already satisfied: requests>=2.31.0 in /Library/Frameworks/Python.framework/Versions/3.12/lib/python3.12/site-packages (from llama-index-core<0.11.0,>=0.10.1->llama-index-multi-modal-llms-openai) (2.32.3)\n",
      "Requirement already satisfied: tenacity!=8.4.0,<9.0.0,>=8.2.0 in /Library/Frameworks/Python.framework/Versions/3.12/lib/python3.12/site-packages (from llama-index-core<0.11.0,>=0.10.1->llama-index-multi-modal-llms-openai) (8.5.0)\n",
      "Requirement already satisfied: tiktoken>=0.3.3 in /Library/Frameworks/Python.framework/Versions/3.12/lib/python3.12/site-packages (from llama-index-core<0.11.0,>=0.10.1->llama-index-multi-modal-llms-openai) (0.7.0)\n",
      "Requirement already satisfied: tqdm<5.0.0,>=4.66.1 in /Library/Frameworks/Python.framework/Versions/3.12/lib/python3.12/site-packages (from llama-index-core<0.11.0,>=0.10.1->llama-index-multi-modal-llms-openai) (4.66.4)\n",
      "Requirement already satisfied: typing-extensions>=4.5.0 in /Library/Frameworks/Python.framework/Versions/3.12/lib/python3.12/site-packages (from llama-index-core<0.11.0,>=0.10.1->llama-index-multi-modal-llms-openai) (4.11.0)\n",
      "Requirement already satisfied: typing-inspect>=0.8.0 in /Library/Frameworks/Python.framework/Versions/3.12/lib/python3.12/site-packages (from llama-index-core<0.11.0,>=0.10.1->llama-index-multi-modal-llms-openai) (0.9.0)\n",
      "Requirement already satisfied: wrapt in /Library/Frameworks/Python.framework/Versions/3.12/lib/python3.12/site-packages (from llama-index-core<0.11.0,>=0.10.1->llama-index-multi-modal-llms-openai) (1.16.0)\n",
      "Requirement already satisfied: aiohappyeyeballs>=2.3.0 in /Library/Frameworks/Python.framework/Versions/3.12/lib/python3.12/site-packages (from aiohttp<4.0.0,>=3.8.6->llama-index-core<0.11.0,>=0.10.1->llama-index-multi-modal-llms-openai) (2.3.4)\n",
      "Requirement already satisfied: aiosignal>=1.1.2 in /Library/Frameworks/Python.framework/Versions/3.12/lib/python3.12/site-packages (from aiohttp<4.0.0,>=3.8.6->llama-index-core<0.11.0,>=0.10.1->llama-index-multi-modal-llms-openai) (1.3.1)\n",
      "Requirement already satisfied: attrs>=17.3.0 in /Library/Frameworks/Python.framework/Versions/3.12/lib/python3.12/site-packages (from aiohttp<4.0.0,>=3.8.6->llama-index-core<0.11.0,>=0.10.1->llama-index-multi-modal-llms-openai) (23.2.0)\n",
      "Requirement already satisfied: frozenlist>=1.1.1 in /Library/Frameworks/Python.framework/Versions/3.12/lib/python3.12/site-packages (from aiohttp<4.0.0,>=3.8.6->llama-index-core<0.11.0,>=0.10.1->llama-index-multi-modal-llms-openai) (1.4.1)\n",
      "Requirement already satisfied: multidict<7.0,>=4.5 in /Library/Frameworks/Python.framework/Versions/3.12/lib/python3.12/site-packages (from aiohttp<4.0.0,>=3.8.6->llama-index-core<0.11.0,>=0.10.1->llama-index-multi-modal-llms-openai) (6.0.5)\n",
      "Requirement already satisfied: yarl<2.0,>=1.0 in /Library/Frameworks/Python.framework/Versions/3.12/lib/python3.12/site-packages (from aiohttp<4.0.0,>=3.8.6->llama-index-core<0.11.0,>=0.10.1->llama-index-multi-modal-llms-openai) (1.9.4)\n",
      "Requirement already satisfied: click in /Library/Frameworks/Python.framework/Versions/3.12/lib/python3.12/site-packages (from nltk<4.0.0,>=3.8.1->llama-index-core<0.11.0,>=0.10.1->llama-index-multi-modal-llms-openai) (8.1.7)\n",
      "Requirement already satisfied: joblib in /Library/Frameworks/Python.framework/Versions/3.12/lib/python3.12/site-packages (from nltk<4.0.0,>=3.8.1->llama-index-core<0.11.0,>=0.10.1->llama-index-multi-modal-llms-openai) (1.4.0)\n",
      "Requirement already satisfied: regex>=2021.8.3 in /Library/Frameworks/Python.framework/Versions/3.12/lib/python3.12/site-packages (from nltk<4.0.0,>=3.8.1->llama-index-core<0.11.0,>=0.10.1->llama-index-multi-modal-llms-openai) (2024.7.24)\n",
      "Requirement already satisfied: anyio<5,>=3.5.0 in /Library/Frameworks/Python.framework/Versions/3.12/lib/python3.12/site-packages (from openai>=1.1.0->llama-index-core<0.11.0,>=0.10.1->llama-index-multi-modal-llms-openai) (4.4.0)\n",
      "Requirement already satisfied: distro<2,>=1.7.0 in /Library/Frameworks/Python.framework/Versions/3.12/lib/python3.12/site-packages (from openai>=1.1.0->llama-index-core<0.11.0,>=0.10.1->llama-index-multi-modal-llms-openai) (1.9.0)\n",
      "Requirement already satisfied: jiter<1,>=0.4.0 in /Library/Frameworks/Python.framework/Versions/3.12/lib/python3.12/site-packages (from openai>=1.1.0->llama-index-core<0.11.0,>=0.10.1->llama-index-multi-modal-llms-openai) (0.5.0)\n",
      "Requirement already satisfied: pydantic<3,>=1.9.0 in /Library/Frameworks/Python.framework/Versions/3.12/lib/python3.12/site-packages (from openai>=1.1.0->llama-index-core<0.11.0,>=0.10.1->llama-index-multi-modal-llms-openai) (2.8.2)\n",
      "Requirement already satisfied: sniffio in /Library/Frameworks/Python.framework/Versions/3.12/lib/python3.12/site-packages (from openai>=1.1.0->llama-index-core<0.11.0,>=0.10.1->llama-index-multi-modal-llms-openai) (1.3.1)\n",
      "Requirement already satisfied: certifi in /Library/Frameworks/Python.framework/Versions/3.12/lib/python3.12/site-packages (from httpx->llama-index-core<0.11.0,>=0.10.1->llama-index-multi-modal-llms-openai) (2024.2.2)\n",
      "Requirement already satisfied: httpcore==1.* in /Library/Frameworks/Python.framework/Versions/3.12/lib/python3.12/site-packages (from httpx->llama-index-core<0.11.0,>=0.10.1->llama-index-multi-modal-llms-openai) (1.0.5)\n",
      "Requirement already satisfied: idna in /Library/Frameworks/Python.framework/Versions/3.12/lib/python3.12/site-packages (from httpx->llama-index-core<0.11.0,>=0.10.1->llama-index-multi-modal-llms-openai) (3.7)\n",
      "Requirement already satisfied: h11<0.15,>=0.13 in /Library/Frameworks/Python.framework/Versions/3.12/lib/python3.12/site-packages (from httpcore==1.*->httpx->llama-index-core<0.11.0,>=0.10.1->llama-index-multi-modal-llms-openai) (0.14.0)\n",
      "Requirement already satisfied: charset-normalizer<4,>=2 in /Library/Frameworks/Python.framework/Versions/3.12/lib/python3.12/site-packages (from requests>=2.31.0->llama-index-core<0.11.0,>=0.10.1->llama-index-multi-modal-llms-openai) (3.3.2)\n",
      "Requirement already satisfied: urllib3<3,>=1.21.1 in /Library/Frameworks/Python.framework/Versions/3.12/lib/python3.12/site-packages (from requests>=2.31.0->llama-index-core<0.11.0,>=0.10.1->llama-index-multi-modal-llms-openai) (2.2.1)\n",
      "Requirement already satisfied: greenlet!=0.4.17 in /Library/Frameworks/Python.framework/Versions/3.12/lib/python3.12/site-packages (from SQLAlchemy[asyncio]>=1.4.49->llama-index-core<0.11.0,>=0.10.1->llama-index-multi-modal-llms-openai) (3.0.3)\n",
      "Requirement already satisfied: mypy-extensions>=0.3.0 in /Library/Frameworks/Python.framework/Versions/3.12/lib/python3.12/site-packages (from typing-inspect>=0.8.0->llama-index-core<0.11.0,>=0.10.1->llama-index-multi-modal-llms-openai) (1.0.0)\n",
      "Requirement already satisfied: marshmallow<4.0.0,>=3.18.0 in /Library/Frameworks/Python.framework/Versions/3.12/lib/python3.12/site-packages (from dataclasses-json->llama-index-core<0.11.0,>=0.10.1->llama-index-multi-modal-llms-openai) (3.21.3)\n",
      "Requirement already satisfied: python-dateutil>=2.8.2 in /Library/Frameworks/Python.framework/Versions/3.12/lib/python3.12/site-packages (from pandas->llama-index-core<0.11.0,>=0.10.1->llama-index-multi-modal-llms-openai) (2.9.0.post0)\n",
      "Requirement already satisfied: pytz>=2020.1 in /Library/Frameworks/Python.framework/Versions/3.12/lib/python3.12/site-packages (from pandas->llama-index-core<0.11.0,>=0.10.1->llama-index-multi-modal-llms-openai) (2024.1)\n",
      "Requirement already satisfied: tzdata>=2022.7 in /Library/Frameworks/Python.framework/Versions/3.12/lib/python3.12/site-packages (from pandas->llama-index-core<0.11.0,>=0.10.1->llama-index-multi-modal-llms-openai) (2024.1)\n",
      "Requirement already satisfied: packaging>=17.0 in /Library/Frameworks/Python.framework/Versions/3.12/lib/python3.12/site-packages (from marshmallow<4.0.0,>=3.18.0->dataclasses-json->llama-index-core<0.11.0,>=0.10.1->llama-index-multi-modal-llms-openai) (24.0)\n",
      "Requirement already satisfied: annotated-types>=0.4.0 in /Library/Frameworks/Python.framework/Versions/3.12/lib/python3.12/site-packages (from pydantic<3,>=1.9.0->openai>=1.1.0->llama-index-core<0.11.0,>=0.10.1->llama-index-multi-modal-llms-openai) (0.7.0)\n",
      "Requirement already satisfied: pydantic-core==2.20.1 in /Library/Frameworks/Python.framework/Versions/3.12/lib/python3.12/site-packages (from pydantic<3,>=1.9.0->openai>=1.1.0->llama-index-core<0.11.0,>=0.10.1->llama-index-multi-modal-llms-openai) (2.20.1)\n",
      "Requirement already satisfied: six>=1.5 in /Library/Frameworks/Python.framework/Versions/3.12/lib/python3.12/site-packages (from python-dateutil>=2.8.2->pandas->llama-index-core<0.11.0,>=0.10.1->llama-index-multi-modal-llms-openai) (1.16.0)\n",
      "\n",
      "\u001b[1m[\u001b[0m\u001b[34;49mnotice\u001b[0m\u001b[1;39;49m]\u001b[0m\u001b[39;49m A new release of pip is available: \u001b[0m\u001b[31;49m24.0\u001b[0m\u001b[39;49m -> \u001b[0m\u001b[32;49m24.2\u001b[0m\n",
      "\u001b[1m[\u001b[0m\u001b[34;49mnotice\u001b[0m\u001b[1;39;49m]\u001b[0m\u001b[39;49m To update, run: \u001b[0m\u001b[32;49mpip3 install --upgrade pip\u001b[0m\n"
     ]
    },
    {
     "name": "stderr",
     "output_type": "stream",
     "text": [
      "I0000 00:00:1723617509.832779 10620573 fork_posix.cc:77] Other threads are currently calling into gRPC, skipping fork() handlers\n"
     ]
    },
    {
     "name": "stdout",
     "output_type": "stream",
     "text": [
      "Requirement already satisfied: llama-index in /Library/Frameworks/Python.framework/Versions/3.12/lib/python3.12/site-packages (0.10.64)\n",
      "Requirement already satisfied: ftfy in /Library/Frameworks/Python.framework/Versions/3.12/lib/python3.12/site-packages (6.2.3)\n",
      "Requirement already satisfied: regex in /Library/Frameworks/Python.framework/Versions/3.12/lib/python3.12/site-packages (2024.7.24)\n",
      "Requirement already satisfied: tqdm in /Library/Frameworks/Python.framework/Versions/3.12/lib/python3.12/site-packages (4.66.4)\n",
      "Requirement already satisfied: llama-index-agent-openai<0.3.0,>=0.1.4 in /Library/Frameworks/Python.framework/Versions/3.12/lib/python3.12/site-packages (from llama-index) (0.2.9)\n",
      "Requirement already satisfied: llama-index-cli<0.2.0,>=0.1.2 in /Library/Frameworks/Python.framework/Versions/3.12/lib/python3.12/site-packages (from llama-index) (0.1.13)\n",
      "Requirement already satisfied: llama-index-core<0.11.0,>=0.10.64 in /Library/Frameworks/Python.framework/Versions/3.12/lib/python3.12/site-packages (from llama-index) (0.10.64)\n",
      "Requirement already satisfied: llama-index-embeddings-openai<0.2.0,>=0.1.5 in /Library/Frameworks/Python.framework/Versions/3.12/lib/python3.12/site-packages (from llama-index) (0.1.11)\n",
      "Requirement already satisfied: llama-index-indices-managed-llama-cloud>=0.2.0 in /Library/Frameworks/Python.framework/Versions/3.12/lib/python3.12/site-packages (from llama-index) (0.2.7)\n",
      "Requirement already satisfied: llama-index-legacy<0.10.0,>=0.9.48 in /Library/Frameworks/Python.framework/Versions/3.12/lib/python3.12/site-packages (from llama-index) (0.9.48)\n",
      "Requirement already satisfied: llama-index-llms-openai<0.2.0,>=0.1.27 in /Library/Frameworks/Python.framework/Versions/3.12/lib/python3.12/site-packages (from llama-index) (0.1.29)\n",
      "Requirement already satisfied: llama-index-multi-modal-llms-openai<0.2.0,>=0.1.3 in /Library/Frameworks/Python.framework/Versions/3.12/lib/python3.12/site-packages (from llama-index) (0.1.9)\n",
      "Requirement already satisfied: llama-index-program-openai<0.2.0,>=0.1.3 in /Library/Frameworks/Python.framework/Versions/3.12/lib/python3.12/site-packages (from llama-index) (0.1.7)\n",
      "Requirement already satisfied: llama-index-question-gen-openai<0.2.0,>=0.1.2 in /Library/Frameworks/Python.framework/Versions/3.12/lib/python3.12/site-packages (from llama-index) (0.1.3)\n",
      "Requirement already satisfied: llama-index-readers-file<0.2.0,>=0.1.4 in /Library/Frameworks/Python.framework/Versions/3.12/lib/python3.12/site-packages (from llama-index) (0.1.32)\n",
      "Requirement already satisfied: llama-index-readers-llama-parse>=0.1.2 in /Library/Frameworks/Python.framework/Versions/3.12/lib/python3.12/site-packages (from llama-index) (0.1.6)\n",
      "Requirement already satisfied: wcwidth<0.3.0,>=0.2.12 in /Users/siddhiapraj/Library/Python/3.12/lib/python/site-packages (from ftfy) (0.2.13)\n",
      "Requirement already satisfied: openai>=1.14.0 in /Library/Frameworks/Python.framework/Versions/3.12/lib/python3.12/site-packages (from llama-index-agent-openai<0.3.0,>=0.1.4->llama-index) (1.40.2)\n",
      "Requirement already satisfied: PyYAML>=6.0.1 in /Library/Frameworks/Python.framework/Versions/3.12/lib/python3.12/site-packages (from llama-index-core<0.11.0,>=0.10.64->llama-index) (6.0.1)\n",
      "Requirement already satisfied: SQLAlchemy>=1.4.49 in /Library/Frameworks/Python.framework/Versions/3.12/lib/python3.12/site-packages (from SQLAlchemy[asyncio]>=1.4.49->llama-index-core<0.11.0,>=0.10.64->llama-index) (2.0.31)\n",
      "Requirement already satisfied: aiohttp<4.0.0,>=3.8.6 in /Library/Frameworks/Python.framework/Versions/3.12/lib/python3.12/site-packages (from llama-index-core<0.11.0,>=0.10.64->llama-index) (3.10.0)\n",
      "Requirement already satisfied: dataclasses-json in /Library/Frameworks/Python.framework/Versions/3.12/lib/python3.12/site-packages (from llama-index-core<0.11.0,>=0.10.64->llama-index) (0.6.7)\n",
      "Requirement already satisfied: deprecated>=1.2.9.3 in /Library/Frameworks/Python.framework/Versions/3.12/lib/python3.12/site-packages (from llama-index-core<0.11.0,>=0.10.64->llama-index) (1.2.14)\n",
      "Requirement already satisfied: dirtyjson<2.0.0,>=1.0.8 in /Library/Frameworks/Python.framework/Versions/3.12/lib/python3.12/site-packages (from llama-index-core<0.11.0,>=0.10.64->llama-index) (1.0.8)\n",
      "Requirement already satisfied: fsspec>=2023.5.0 in /Library/Frameworks/Python.framework/Versions/3.12/lib/python3.12/site-packages (from llama-index-core<0.11.0,>=0.10.64->llama-index) (2024.5.0)\n",
      "Requirement already satisfied: httpx in /Library/Frameworks/Python.framework/Versions/3.12/lib/python3.12/site-packages (from llama-index-core<0.11.0,>=0.10.64->llama-index) (0.27.0)\n",
      "Requirement already satisfied: nest-asyncio<2.0.0,>=1.5.8 in /Users/siddhiapraj/Library/Python/3.12/lib/python/site-packages (from llama-index-core<0.11.0,>=0.10.64->llama-index) (1.6.0)\n",
      "Requirement already satisfied: networkx>=3.0 in /Library/Frameworks/Python.framework/Versions/3.12/lib/python3.12/site-packages (from llama-index-core<0.11.0,>=0.10.64->llama-index) (3.3)\n",
      "Requirement already satisfied: nltk<4.0.0,>=3.8.1 in /Library/Frameworks/Python.framework/Versions/3.12/lib/python3.12/site-packages (from llama-index-core<0.11.0,>=0.10.64->llama-index) (3.8.1)\n",
      "Requirement already satisfied: numpy<2.0.0 in /Library/Frameworks/Python.framework/Versions/3.12/lib/python3.12/site-packages (from llama-index-core<0.11.0,>=0.10.64->llama-index) (1.26.4)\n",
      "Requirement already satisfied: pandas in /Library/Frameworks/Python.framework/Versions/3.12/lib/python3.12/site-packages (from llama-index-core<0.11.0,>=0.10.64->llama-index) (2.2.2)\n",
      "Requirement already satisfied: pillow>=9.0.0 in /Library/Frameworks/Python.framework/Versions/3.12/lib/python3.12/site-packages (from llama-index-core<0.11.0,>=0.10.64->llama-index) (10.4.0)\n",
      "Requirement already satisfied: requests>=2.31.0 in /Library/Frameworks/Python.framework/Versions/3.12/lib/python3.12/site-packages (from llama-index-core<0.11.0,>=0.10.64->llama-index) (2.32.3)\n",
      "Requirement already satisfied: tenacity!=8.4.0,<9.0.0,>=8.2.0 in /Library/Frameworks/Python.framework/Versions/3.12/lib/python3.12/site-packages (from llama-index-core<0.11.0,>=0.10.64->llama-index) (8.5.0)\n",
      "Requirement already satisfied: tiktoken>=0.3.3 in /Library/Frameworks/Python.framework/Versions/3.12/lib/python3.12/site-packages (from llama-index-core<0.11.0,>=0.10.64->llama-index) (0.7.0)\n",
      "Requirement already satisfied: typing-extensions>=4.5.0 in /Library/Frameworks/Python.framework/Versions/3.12/lib/python3.12/site-packages (from llama-index-core<0.11.0,>=0.10.64->llama-index) (4.11.0)\n",
      "Requirement already satisfied: typing-inspect>=0.8.0 in /Library/Frameworks/Python.framework/Versions/3.12/lib/python3.12/site-packages (from llama-index-core<0.11.0,>=0.10.64->llama-index) (0.9.0)\n",
      "Requirement already satisfied: wrapt in /Library/Frameworks/Python.framework/Versions/3.12/lib/python3.12/site-packages (from llama-index-core<0.11.0,>=0.10.64->llama-index) (1.16.0)\n",
      "Requirement already satisfied: llama-cloud>=0.0.11 in /Library/Frameworks/Python.framework/Versions/3.12/lib/python3.12/site-packages (from llama-index-indices-managed-llama-cloud>=0.2.0->llama-index) (0.0.13)\n",
      "Requirement already satisfied: beautifulsoup4<5.0.0,>=4.12.3 in /Library/Frameworks/Python.framework/Versions/3.12/lib/python3.12/site-packages (from llama-index-readers-file<0.2.0,>=0.1.4->llama-index) (4.12.3)\n",
      "Requirement already satisfied: pypdf<5.0.0,>=4.0.1 in /Library/Frameworks/Python.framework/Versions/3.12/lib/python3.12/site-packages (from llama-index-readers-file<0.2.0,>=0.1.4->llama-index) (4.3.1)\n",
      "Requirement already satisfied: striprtf<0.0.27,>=0.0.26 in /Library/Frameworks/Python.framework/Versions/3.12/lib/python3.12/site-packages (from llama-index-readers-file<0.2.0,>=0.1.4->llama-index) (0.0.26)\n",
      "Requirement already satisfied: llama-parse>=0.4.0 in /Library/Frameworks/Python.framework/Versions/3.12/lib/python3.12/site-packages (from llama-index-readers-llama-parse>=0.1.2->llama-index) (0.4.9)\n",
      "Requirement already satisfied: aiohappyeyeballs>=2.3.0 in /Library/Frameworks/Python.framework/Versions/3.12/lib/python3.12/site-packages (from aiohttp<4.0.0,>=3.8.6->llama-index-core<0.11.0,>=0.10.64->llama-index) (2.3.4)\n",
      "Requirement already satisfied: aiosignal>=1.1.2 in /Library/Frameworks/Python.framework/Versions/3.12/lib/python3.12/site-packages (from aiohttp<4.0.0,>=3.8.6->llama-index-core<0.11.0,>=0.10.64->llama-index) (1.3.1)\n",
      "Requirement already satisfied: attrs>=17.3.0 in /Library/Frameworks/Python.framework/Versions/3.12/lib/python3.12/site-packages (from aiohttp<4.0.0,>=3.8.6->llama-index-core<0.11.0,>=0.10.64->llama-index) (23.2.0)\n",
      "Requirement already satisfied: frozenlist>=1.1.1 in /Library/Frameworks/Python.framework/Versions/3.12/lib/python3.12/site-packages (from aiohttp<4.0.0,>=3.8.6->llama-index-core<0.11.0,>=0.10.64->llama-index) (1.4.1)\n",
      "Requirement already satisfied: multidict<7.0,>=4.5 in /Library/Frameworks/Python.framework/Versions/3.12/lib/python3.12/site-packages (from aiohttp<4.0.0,>=3.8.6->llama-index-core<0.11.0,>=0.10.64->llama-index) (6.0.5)\n",
      "Requirement already satisfied: yarl<2.0,>=1.0 in /Library/Frameworks/Python.framework/Versions/3.12/lib/python3.12/site-packages (from aiohttp<4.0.0,>=3.8.6->llama-index-core<0.11.0,>=0.10.64->llama-index) (1.9.4)\n",
      "Requirement already satisfied: soupsieve>1.2 in /Library/Frameworks/Python.framework/Versions/3.12/lib/python3.12/site-packages (from beautifulsoup4<5.0.0,>=4.12.3->llama-index-readers-file<0.2.0,>=0.1.4->llama-index) (2.5)\n",
      "Requirement already satisfied: pydantic>=1.10 in /Library/Frameworks/Python.framework/Versions/3.12/lib/python3.12/site-packages (from llama-cloud>=0.0.11->llama-index-indices-managed-llama-cloud>=0.2.0->llama-index) (2.8.2)\n",
      "Requirement already satisfied: anyio in /Library/Frameworks/Python.framework/Versions/3.12/lib/python3.12/site-packages (from httpx->llama-index-core<0.11.0,>=0.10.64->llama-index) (4.4.0)\n",
      "Requirement already satisfied: certifi in /Library/Frameworks/Python.framework/Versions/3.12/lib/python3.12/site-packages (from httpx->llama-index-core<0.11.0,>=0.10.64->llama-index) (2024.2.2)\n",
      "Requirement already satisfied: httpcore==1.* in /Library/Frameworks/Python.framework/Versions/3.12/lib/python3.12/site-packages (from httpx->llama-index-core<0.11.0,>=0.10.64->llama-index) (1.0.5)\n",
      "Requirement already satisfied: idna in /Library/Frameworks/Python.framework/Versions/3.12/lib/python3.12/site-packages (from httpx->llama-index-core<0.11.0,>=0.10.64->llama-index) (3.7)\n",
      "Requirement already satisfied: sniffio in /Library/Frameworks/Python.framework/Versions/3.12/lib/python3.12/site-packages (from httpx->llama-index-core<0.11.0,>=0.10.64->llama-index) (1.3.1)\n",
      "Requirement already satisfied: h11<0.15,>=0.13 in /Library/Frameworks/Python.framework/Versions/3.12/lib/python3.12/site-packages (from httpcore==1.*->httpx->llama-index-core<0.11.0,>=0.10.64->llama-index) (0.14.0)\n",
      "Requirement already satisfied: click in /Library/Frameworks/Python.framework/Versions/3.12/lib/python3.12/site-packages (from nltk<4.0.0,>=3.8.1->llama-index-core<0.11.0,>=0.10.64->llama-index) (8.1.7)\n",
      "Requirement already satisfied: joblib in /Library/Frameworks/Python.framework/Versions/3.12/lib/python3.12/site-packages (from nltk<4.0.0,>=3.8.1->llama-index-core<0.11.0,>=0.10.64->llama-index) (1.4.0)\n",
      "Requirement already satisfied: distro<2,>=1.7.0 in /Library/Frameworks/Python.framework/Versions/3.12/lib/python3.12/site-packages (from openai>=1.14.0->llama-index-agent-openai<0.3.0,>=0.1.4->llama-index) (1.9.0)\n",
      "Requirement already satisfied: jiter<1,>=0.4.0 in /Library/Frameworks/Python.framework/Versions/3.12/lib/python3.12/site-packages (from openai>=1.14.0->llama-index-agent-openai<0.3.0,>=0.1.4->llama-index) (0.5.0)\n",
      "Requirement already satisfied: charset-normalizer<4,>=2 in /Library/Frameworks/Python.framework/Versions/3.12/lib/python3.12/site-packages (from requests>=2.31.0->llama-index-core<0.11.0,>=0.10.64->llama-index) (3.3.2)\n",
      "Requirement already satisfied: urllib3<3,>=1.21.1 in /Library/Frameworks/Python.framework/Versions/3.12/lib/python3.12/site-packages (from requests>=2.31.0->llama-index-core<0.11.0,>=0.10.64->llama-index) (2.2.1)\n",
      "Requirement already satisfied: greenlet!=0.4.17 in /Library/Frameworks/Python.framework/Versions/3.12/lib/python3.12/site-packages (from SQLAlchemy[asyncio]>=1.4.49->llama-index-core<0.11.0,>=0.10.64->llama-index) (3.0.3)\n",
      "Requirement already satisfied: mypy-extensions>=0.3.0 in /Library/Frameworks/Python.framework/Versions/3.12/lib/python3.12/site-packages (from typing-inspect>=0.8.0->llama-index-core<0.11.0,>=0.10.64->llama-index) (1.0.0)\n",
      "Requirement already satisfied: marshmallow<4.0.0,>=3.18.0 in /Library/Frameworks/Python.framework/Versions/3.12/lib/python3.12/site-packages (from dataclasses-json->llama-index-core<0.11.0,>=0.10.64->llama-index) (3.21.3)\n",
      "Requirement already satisfied: python-dateutil>=2.8.2 in /Library/Frameworks/Python.framework/Versions/3.12/lib/python3.12/site-packages (from pandas->llama-index-core<0.11.0,>=0.10.64->llama-index) (2.9.0.post0)\n",
      "Requirement already satisfied: pytz>=2020.1 in /Library/Frameworks/Python.framework/Versions/3.12/lib/python3.12/site-packages (from pandas->llama-index-core<0.11.0,>=0.10.64->llama-index) (2024.1)\n",
      "Requirement already satisfied: tzdata>=2022.7 in /Library/Frameworks/Python.framework/Versions/3.12/lib/python3.12/site-packages (from pandas->llama-index-core<0.11.0,>=0.10.64->llama-index) (2024.1)\n",
      "Requirement already satisfied: packaging>=17.0 in /Library/Frameworks/Python.framework/Versions/3.12/lib/python3.12/site-packages (from marshmallow<4.0.0,>=3.18.0->dataclasses-json->llama-index-core<0.11.0,>=0.10.64->llama-index) (24.0)\n",
      "Requirement already satisfied: annotated-types>=0.4.0 in /Library/Frameworks/Python.framework/Versions/3.12/lib/python3.12/site-packages (from pydantic>=1.10->llama-cloud>=0.0.11->llama-index-indices-managed-llama-cloud>=0.2.0->llama-index) (0.7.0)\n",
      "Requirement already satisfied: pydantic-core==2.20.1 in /Library/Frameworks/Python.framework/Versions/3.12/lib/python3.12/site-packages (from pydantic>=1.10->llama-cloud>=0.0.11->llama-index-indices-managed-llama-cloud>=0.2.0->llama-index) (2.20.1)\n",
      "Requirement already satisfied: six>=1.5 in /Library/Frameworks/Python.framework/Versions/3.12/lib/python3.12/site-packages (from python-dateutil>=2.8.2->pandas->llama-index-core<0.11.0,>=0.10.64->llama-index) (1.16.0)\n",
      "\n",
      "\u001b[1m[\u001b[0m\u001b[34;49mnotice\u001b[0m\u001b[1;39;49m]\u001b[0m\u001b[39;49m A new release of pip is available: \u001b[0m\u001b[31;49m24.0\u001b[0m\u001b[39;49m -> \u001b[0m\u001b[32;49m24.2\u001b[0m\n",
      "\u001b[1m[\u001b[0m\u001b[34;49mnotice\u001b[0m\u001b[1;39;49m]\u001b[0m\u001b[39;49m To update, run: \u001b[0m\u001b[32;49mpip3 install --upgrade pip\u001b[0m\n"
     ]
    },
    {
     "name": "stderr",
     "output_type": "stream",
     "text": [
      "I0000 00:00:1723617514.238211 10620573 fork_posix.cc:77] Other threads are currently calling into gRPC, skipping fork() handlers\n"
     ]
    },
    {
     "name": "stdout",
     "output_type": "stream",
     "text": [
      "Requirement already satisfied: llama-index-embeddings-clip in /Library/Frameworks/Python.framework/Versions/3.12/lib/python3.12/site-packages (0.1.5)\n",
      "Requirement already satisfied: ftfy<7.0.0,>=6.1.3 in /Library/Frameworks/Python.framework/Versions/3.12/lib/python3.12/site-packages (from llama-index-embeddings-clip) (6.2.3)\n",
      "Requirement already satisfied: llama-index-core<0.11.0,>=0.10.1 in /Library/Frameworks/Python.framework/Versions/3.12/lib/python3.12/site-packages (from llama-index-embeddings-clip) (0.10.64)\n",
      "Requirement already satisfied: pillow<11.0.0,>=10.2.0 in /Library/Frameworks/Python.framework/Versions/3.12/lib/python3.12/site-packages (from llama-index-embeddings-clip) (10.4.0)\n",
      "Requirement already satisfied: torch<3.0.0,>=2.1.2 in /Library/Frameworks/Python.framework/Versions/3.12/lib/python3.12/site-packages (from llama-index-embeddings-clip) (2.2.2)\n",
      "Requirement already satisfied: torchvision<0.18.0,>=0.17.0 in /Library/Frameworks/Python.framework/Versions/3.12/lib/python3.12/site-packages (from llama-index-embeddings-clip) (0.17.2)\n",
      "Requirement already satisfied: wcwidth<0.3.0,>=0.2.12 in /Users/siddhiapraj/Library/Python/3.12/lib/python/site-packages (from ftfy<7.0.0,>=6.1.3->llama-index-embeddings-clip) (0.2.13)\n",
      "Requirement already satisfied: PyYAML>=6.0.1 in /Library/Frameworks/Python.framework/Versions/3.12/lib/python3.12/site-packages (from llama-index-core<0.11.0,>=0.10.1->llama-index-embeddings-clip) (6.0.1)\n",
      "Requirement already satisfied: SQLAlchemy>=1.4.49 in /Library/Frameworks/Python.framework/Versions/3.12/lib/python3.12/site-packages (from SQLAlchemy[asyncio]>=1.4.49->llama-index-core<0.11.0,>=0.10.1->llama-index-embeddings-clip) (2.0.31)\n",
      "Requirement already satisfied: aiohttp<4.0.0,>=3.8.6 in /Library/Frameworks/Python.framework/Versions/3.12/lib/python3.12/site-packages (from llama-index-core<0.11.0,>=0.10.1->llama-index-embeddings-clip) (3.10.0)\n",
      "Requirement already satisfied: dataclasses-json in /Library/Frameworks/Python.framework/Versions/3.12/lib/python3.12/site-packages (from llama-index-core<0.11.0,>=0.10.1->llama-index-embeddings-clip) (0.6.7)\n",
      "Requirement already satisfied: deprecated>=1.2.9.3 in /Library/Frameworks/Python.framework/Versions/3.12/lib/python3.12/site-packages (from llama-index-core<0.11.0,>=0.10.1->llama-index-embeddings-clip) (1.2.14)\n",
      "Requirement already satisfied: dirtyjson<2.0.0,>=1.0.8 in /Library/Frameworks/Python.framework/Versions/3.12/lib/python3.12/site-packages (from llama-index-core<0.11.0,>=0.10.1->llama-index-embeddings-clip) (1.0.8)\n",
      "Requirement already satisfied: fsspec>=2023.5.0 in /Library/Frameworks/Python.framework/Versions/3.12/lib/python3.12/site-packages (from llama-index-core<0.11.0,>=0.10.1->llama-index-embeddings-clip) (2024.5.0)\n",
      "Requirement already satisfied: httpx in /Library/Frameworks/Python.framework/Versions/3.12/lib/python3.12/site-packages (from llama-index-core<0.11.0,>=0.10.1->llama-index-embeddings-clip) (0.27.0)\n",
      "Requirement already satisfied: nest-asyncio<2.0.0,>=1.5.8 in /Users/siddhiapraj/Library/Python/3.12/lib/python/site-packages (from llama-index-core<0.11.0,>=0.10.1->llama-index-embeddings-clip) (1.6.0)\n",
      "Requirement already satisfied: networkx>=3.0 in /Library/Frameworks/Python.framework/Versions/3.12/lib/python3.12/site-packages (from llama-index-core<0.11.0,>=0.10.1->llama-index-embeddings-clip) (3.3)\n",
      "Requirement already satisfied: nltk<4.0.0,>=3.8.1 in /Library/Frameworks/Python.framework/Versions/3.12/lib/python3.12/site-packages (from llama-index-core<0.11.0,>=0.10.1->llama-index-embeddings-clip) (3.8.1)\n",
      "Requirement already satisfied: numpy<2.0.0 in /Library/Frameworks/Python.framework/Versions/3.12/lib/python3.12/site-packages (from llama-index-core<0.11.0,>=0.10.1->llama-index-embeddings-clip) (1.26.4)\n",
      "Requirement already satisfied: openai>=1.1.0 in /Library/Frameworks/Python.framework/Versions/3.12/lib/python3.12/site-packages (from llama-index-core<0.11.0,>=0.10.1->llama-index-embeddings-clip) (1.40.2)\n",
      "Requirement already satisfied: pandas in /Library/Frameworks/Python.framework/Versions/3.12/lib/python3.12/site-packages (from llama-index-core<0.11.0,>=0.10.1->llama-index-embeddings-clip) (2.2.2)\n",
      "Requirement already satisfied: requests>=2.31.0 in /Library/Frameworks/Python.framework/Versions/3.12/lib/python3.12/site-packages (from llama-index-core<0.11.0,>=0.10.1->llama-index-embeddings-clip) (2.32.3)\n",
      "Requirement already satisfied: tenacity!=8.4.0,<9.0.0,>=8.2.0 in /Library/Frameworks/Python.framework/Versions/3.12/lib/python3.12/site-packages (from llama-index-core<0.11.0,>=0.10.1->llama-index-embeddings-clip) (8.5.0)\n",
      "Requirement already satisfied: tiktoken>=0.3.3 in /Library/Frameworks/Python.framework/Versions/3.12/lib/python3.12/site-packages (from llama-index-core<0.11.0,>=0.10.1->llama-index-embeddings-clip) (0.7.0)\n",
      "Requirement already satisfied: tqdm<5.0.0,>=4.66.1 in /Library/Frameworks/Python.framework/Versions/3.12/lib/python3.12/site-packages (from llama-index-core<0.11.0,>=0.10.1->llama-index-embeddings-clip) (4.66.4)\n",
      "Requirement already satisfied: typing-extensions>=4.5.0 in /Library/Frameworks/Python.framework/Versions/3.12/lib/python3.12/site-packages (from llama-index-core<0.11.0,>=0.10.1->llama-index-embeddings-clip) (4.11.0)\n",
      "Requirement already satisfied: typing-inspect>=0.8.0 in /Library/Frameworks/Python.framework/Versions/3.12/lib/python3.12/site-packages (from llama-index-core<0.11.0,>=0.10.1->llama-index-embeddings-clip) (0.9.0)\n",
      "Requirement already satisfied: wrapt in /Library/Frameworks/Python.framework/Versions/3.12/lib/python3.12/site-packages (from llama-index-core<0.11.0,>=0.10.1->llama-index-embeddings-clip) (1.16.0)\n",
      "Requirement already satisfied: filelock in /Library/Frameworks/Python.framework/Versions/3.12/lib/python3.12/site-packages (from torch<3.0.0,>=2.1.2->llama-index-embeddings-clip) (3.15.4)\n",
      "Requirement already satisfied: sympy in /Library/Frameworks/Python.framework/Versions/3.12/lib/python3.12/site-packages (from torch<3.0.0,>=2.1.2->llama-index-embeddings-clip) (1.13.1)\n",
      "Requirement already satisfied: jinja2 in /Library/Frameworks/Python.framework/Versions/3.12/lib/python3.12/site-packages (from torch<3.0.0,>=2.1.2->llama-index-embeddings-clip) (3.1.4)\n",
      "Requirement already satisfied: aiohappyeyeballs>=2.3.0 in /Library/Frameworks/Python.framework/Versions/3.12/lib/python3.12/site-packages (from aiohttp<4.0.0,>=3.8.6->llama-index-core<0.11.0,>=0.10.1->llama-index-embeddings-clip) (2.3.4)\n",
      "Requirement already satisfied: aiosignal>=1.1.2 in /Library/Frameworks/Python.framework/Versions/3.12/lib/python3.12/site-packages (from aiohttp<4.0.0,>=3.8.6->llama-index-core<0.11.0,>=0.10.1->llama-index-embeddings-clip) (1.3.1)\n",
      "Requirement already satisfied: attrs>=17.3.0 in /Library/Frameworks/Python.framework/Versions/3.12/lib/python3.12/site-packages (from aiohttp<4.0.0,>=3.8.6->llama-index-core<0.11.0,>=0.10.1->llama-index-embeddings-clip) (23.2.0)\n",
      "Requirement already satisfied: frozenlist>=1.1.1 in /Library/Frameworks/Python.framework/Versions/3.12/lib/python3.12/site-packages (from aiohttp<4.0.0,>=3.8.6->llama-index-core<0.11.0,>=0.10.1->llama-index-embeddings-clip) (1.4.1)\n",
      "Requirement already satisfied: multidict<7.0,>=4.5 in /Library/Frameworks/Python.framework/Versions/3.12/lib/python3.12/site-packages (from aiohttp<4.0.0,>=3.8.6->llama-index-core<0.11.0,>=0.10.1->llama-index-embeddings-clip) (6.0.5)\n",
      "Requirement already satisfied: yarl<2.0,>=1.0 in /Library/Frameworks/Python.framework/Versions/3.12/lib/python3.12/site-packages (from aiohttp<4.0.0,>=3.8.6->llama-index-core<0.11.0,>=0.10.1->llama-index-embeddings-clip) (1.9.4)\n",
      "Requirement already satisfied: click in /Library/Frameworks/Python.framework/Versions/3.12/lib/python3.12/site-packages (from nltk<4.0.0,>=3.8.1->llama-index-core<0.11.0,>=0.10.1->llama-index-embeddings-clip) (8.1.7)\n",
      "Requirement already satisfied: joblib in /Library/Frameworks/Python.framework/Versions/3.12/lib/python3.12/site-packages (from nltk<4.0.0,>=3.8.1->llama-index-core<0.11.0,>=0.10.1->llama-index-embeddings-clip) (1.4.0)\n",
      "Requirement already satisfied: regex>=2021.8.3 in /Library/Frameworks/Python.framework/Versions/3.12/lib/python3.12/site-packages (from nltk<4.0.0,>=3.8.1->llama-index-core<0.11.0,>=0.10.1->llama-index-embeddings-clip) (2024.7.24)\n",
      "Requirement already satisfied: anyio<5,>=3.5.0 in /Library/Frameworks/Python.framework/Versions/3.12/lib/python3.12/site-packages (from openai>=1.1.0->llama-index-core<0.11.0,>=0.10.1->llama-index-embeddings-clip) (4.4.0)\n",
      "Requirement already satisfied: distro<2,>=1.7.0 in /Library/Frameworks/Python.framework/Versions/3.12/lib/python3.12/site-packages (from openai>=1.1.0->llama-index-core<0.11.0,>=0.10.1->llama-index-embeddings-clip) (1.9.0)\n",
      "Requirement already satisfied: jiter<1,>=0.4.0 in /Library/Frameworks/Python.framework/Versions/3.12/lib/python3.12/site-packages (from openai>=1.1.0->llama-index-core<0.11.0,>=0.10.1->llama-index-embeddings-clip) (0.5.0)\n",
      "Requirement already satisfied: pydantic<3,>=1.9.0 in /Library/Frameworks/Python.framework/Versions/3.12/lib/python3.12/site-packages (from openai>=1.1.0->llama-index-core<0.11.0,>=0.10.1->llama-index-embeddings-clip) (2.8.2)\n",
      "Requirement already satisfied: sniffio in /Library/Frameworks/Python.framework/Versions/3.12/lib/python3.12/site-packages (from openai>=1.1.0->llama-index-core<0.11.0,>=0.10.1->llama-index-embeddings-clip) (1.3.1)\n",
      "Requirement already satisfied: certifi in /Library/Frameworks/Python.framework/Versions/3.12/lib/python3.12/site-packages (from httpx->llama-index-core<0.11.0,>=0.10.1->llama-index-embeddings-clip) (2024.2.2)\n",
      "Requirement already satisfied: httpcore==1.* in /Library/Frameworks/Python.framework/Versions/3.12/lib/python3.12/site-packages (from httpx->llama-index-core<0.11.0,>=0.10.1->llama-index-embeddings-clip) (1.0.5)\n",
      "Requirement already satisfied: idna in /Library/Frameworks/Python.framework/Versions/3.12/lib/python3.12/site-packages (from httpx->llama-index-core<0.11.0,>=0.10.1->llama-index-embeddings-clip) (3.7)\n",
      "Requirement already satisfied: h11<0.15,>=0.13 in /Library/Frameworks/Python.framework/Versions/3.12/lib/python3.12/site-packages (from httpcore==1.*->httpx->llama-index-core<0.11.0,>=0.10.1->llama-index-embeddings-clip) (0.14.0)\n",
      "Requirement already satisfied: charset-normalizer<4,>=2 in /Library/Frameworks/Python.framework/Versions/3.12/lib/python3.12/site-packages (from requests>=2.31.0->llama-index-core<0.11.0,>=0.10.1->llama-index-embeddings-clip) (3.3.2)\n",
      "Requirement already satisfied: urllib3<3,>=1.21.1 in /Library/Frameworks/Python.framework/Versions/3.12/lib/python3.12/site-packages (from requests>=2.31.0->llama-index-core<0.11.0,>=0.10.1->llama-index-embeddings-clip) (2.2.1)\n",
      "Requirement already satisfied: greenlet!=0.4.17 in /Library/Frameworks/Python.framework/Versions/3.12/lib/python3.12/site-packages (from SQLAlchemy[asyncio]>=1.4.49->llama-index-core<0.11.0,>=0.10.1->llama-index-embeddings-clip) (3.0.3)\n",
      "Requirement already satisfied: mypy-extensions>=0.3.0 in /Library/Frameworks/Python.framework/Versions/3.12/lib/python3.12/site-packages (from typing-inspect>=0.8.0->llama-index-core<0.11.0,>=0.10.1->llama-index-embeddings-clip) (1.0.0)\n",
      "Requirement already satisfied: marshmallow<4.0.0,>=3.18.0 in /Library/Frameworks/Python.framework/Versions/3.12/lib/python3.12/site-packages (from dataclasses-json->llama-index-core<0.11.0,>=0.10.1->llama-index-embeddings-clip) (3.21.3)\n",
      "Requirement already satisfied: MarkupSafe>=2.0 in /Library/Frameworks/Python.framework/Versions/3.12/lib/python3.12/site-packages (from jinja2->torch<3.0.0,>=2.1.2->llama-index-embeddings-clip) (2.1.5)\n",
      "Requirement already satisfied: python-dateutil>=2.8.2 in /Library/Frameworks/Python.framework/Versions/3.12/lib/python3.12/site-packages (from pandas->llama-index-core<0.11.0,>=0.10.1->llama-index-embeddings-clip) (2.9.0.post0)\n",
      "Requirement already satisfied: pytz>=2020.1 in /Library/Frameworks/Python.framework/Versions/3.12/lib/python3.12/site-packages (from pandas->llama-index-core<0.11.0,>=0.10.1->llama-index-embeddings-clip) (2024.1)\n",
      "Requirement already satisfied: tzdata>=2022.7 in /Library/Frameworks/Python.framework/Versions/3.12/lib/python3.12/site-packages (from pandas->llama-index-core<0.11.0,>=0.10.1->llama-index-embeddings-clip) (2024.1)\n",
      "Requirement already satisfied: mpmath<1.4,>=1.1.0 in /Library/Frameworks/Python.framework/Versions/3.12/lib/python3.12/site-packages (from sympy->torch<3.0.0,>=2.1.2->llama-index-embeddings-clip) (1.3.0)\n",
      "Requirement already satisfied: packaging>=17.0 in /Library/Frameworks/Python.framework/Versions/3.12/lib/python3.12/site-packages (from marshmallow<4.0.0,>=3.18.0->dataclasses-json->llama-index-core<0.11.0,>=0.10.1->llama-index-embeddings-clip) (24.0)\n",
      "Requirement already satisfied: annotated-types>=0.4.0 in /Library/Frameworks/Python.framework/Versions/3.12/lib/python3.12/site-packages (from pydantic<3,>=1.9.0->openai>=1.1.0->llama-index-core<0.11.0,>=0.10.1->llama-index-embeddings-clip) (0.7.0)\n",
      "Requirement already satisfied: pydantic-core==2.20.1 in /Library/Frameworks/Python.framework/Versions/3.12/lib/python3.12/site-packages (from pydantic<3,>=1.9.0->openai>=1.1.0->llama-index-core<0.11.0,>=0.10.1->llama-index-embeddings-clip) (2.20.1)\n",
      "Requirement already satisfied: six>=1.5 in /Library/Frameworks/Python.framework/Versions/3.12/lib/python3.12/site-packages (from python-dateutil>=2.8.2->pandas->llama-index-core<0.11.0,>=0.10.1->llama-index-embeddings-clip) (1.16.0)\n",
      "\n",
      "\u001b[1m[\u001b[0m\u001b[34;49mnotice\u001b[0m\u001b[1;39;49m]\u001b[0m\u001b[39;49m A new release of pip is available: \u001b[0m\u001b[31;49m24.0\u001b[0m\u001b[39;49m -> \u001b[0m\u001b[32;49m24.2\u001b[0m\n",
      "\u001b[1m[\u001b[0m\u001b[34;49mnotice\u001b[0m\u001b[1;39;49m]\u001b[0m\u001b[39;49m To update, run: \u001b[0m\u001b[32;49mpip3 install --upgrade pip\u001b[0m\n"
     ]
    },
    {
     "name": "stderr",
     "output_type": "stream",
     "text": [
      "I0000 00:00:1723617517.660438 10620573 fork_posix.cc:77] Other threads are currently calling into gRPC, skipping fork() handlers\n"
     ]
    },
    {
     "name": "stdout",
     "output_type": "stream",
     "text": [
      "Collecting git+https://github.com/openai/CLIP.git\n",
      "  Cloning https://github.com/openai/CLIP.git to /private/var/folders/91/8__55vn95_z2w7g41jx6slt40000gn/T/pip-req-build-5qpx_y4j\n",
      "  Running command git clone --filter=blob:none --quiet https://github.com/openai/CLIP.git /private/var/folders/91/8__55vn95_z2w7g41jx6slt40000gn/T/pip-req-build-5qpx_y4j\n",
      "  Resolved https://github.com/openai/CLIP.git to commit dcba3cb2e2827b402d2701e7e1c7d9fed8a20ef1\n",
      "  Preparing metadata (setup.py) ... \u001b[?25ldone\n",
      "\u001b[?25hRequirement already satisfied: ftfy in /Library/Frameworks/Python.framework/Versions/3.12/lib/python3.12/site-packages (from clip==1.0) (6.2.3)\n",
      "Requirement already satisfied: packaging in /Library/Frameworks/Python.framework/Versions/3.12/lib/python3.12/site-packages (from clip==1.0) (24.0)\n",
      "Requirement already satisfied: regex in /Library/Frameworks/Python.framework/Versions/3.12/lib/python3.12/site-packages (from clip==1.0) (2024.7.24)\n",
      "Requirement already satisfied: tqdm in /Library/Frameworks/Python.framework/Versions/3.12/lib/python3.12/site-packages (from clip==1.0) (4.66.4)\n",
      "Requirement already satisfied: torch in /Library/Frameworks/Python.framework/Versions/3.12/lib/python3.12/site-packages (from clip==1.0) (2.2.2)\n",
      "Requirement already satisfied: torchvision in /Library/Frameworks/Python.framework/Versions/3.12/lib/python3.12/site-packages (from clip==1.0) (0.17.2)\n",
      "Requirement already satisfied: wcwidth<0.3.0,>=0.2.12 in /Users/siddhiapraj/Library/Python/3.12/lib/python/site-packages (from ftfy->clip==1.0) (0.2.13)\n",
      "Requirement already satisfied: filelock in /Library/Frameworks/Python.framework/Versions/3.12/lib/python3.12/site-packages (from torch->clip==1.0) (3.15.4)\n",
      "Requirement already satisfied: typing-extensions>=4.8.0 in /Library/Frameworks/Python.framework/Versions/3.12/lib/python3.12/site-packages (from torch->clip==1.0) (4.11.0)\n",
      "Requirement already satisfied: sympy in /Library/Frameworks/Python.framework/Versions/3.12/lib/python3.12/site-packages (from torch->clip==1.0) (1.13.1)\n",
      "Requirement already satisfied: networkx in /Library/Frameworks/Python.framework/Versions/3.12/lib/python3.12/site-packages (from torch->clip==1.0) (3.3)\n",
      "Requirement already satisfied: jinja2 in /Library/Frameworks/Python.framework/Versions/3.12/lib/python3.12/site-packages (from torch->clip==1.0) (3.1.4)\n",
      "Requirement already satisfied: fsspec in /Library/Frameworks/Python.framework/Versions/3.12/lib/python3.12/site-packages (from torch->clip==1.0) (2024.5.0)\n",
      "Requirement already satisfied: numpy in /Library/Frameworks/Python.framework/Versions/3.12/lib/python3.12/site-packages (from torchvision->clip==1.0) (1.26.4)\n",
      "Requirement already satisfied: pillow!=8.3.*,>=5.3.0 in /Library/Frameworks/Python.framework/Versions/3.12/lib/python3.12/site-packages (from torchvision->clip==1.0) (10.4.0)\n",
      "Requirement already satisfied: MarkupSafe>=2.0 in /Library/Frameworks/Python.framework/Versions/3.12/lib/python3.12/site-packages (from jinja2->torch->clip==1.0) (2.1.5)\n",
      "Requirement already satisfied: mpmath<1.4,>=1.1.0 in /Library/Frameworks/Python.framework/Versions/3.12/lib/python3.12/site-packages (from sympy->torch->clip==1.0) (1.3.0)\n",
      "\n",
      "\u001b[1m[\u001b[0m\u001b[34;49mnotice\u001b[0m\u001b[1;39;49m]\u001b[0m\u001b[39;49m A new release of pip is available: \u001b[0m\u001b[31;49m24.0\u001b[0m\u001b[39;49m -> \u001b[0m\u001b[32;49m24.2\u001b[0m\n",
      "\u001b[1m[\u001b[0m\u001b[34;49mnotice\u001b[0m\u001b[1;39;49m]\u001b[0m\u001b[39;49m To update, run: \u001b[0m\u001b[32;49mpip3 install --upgrade pip\u001b[0m\n"
     ]
    },
    {
     "name": "stderr",
     "output_type": "stream",
     "text": [
      "I0000 00:00:1723617530.057997 10620573 fork_posix.cc:77] Other threads are currently calling into gRPC, skipping fork() handlers\n"
     ]
    },
    {
     "name": "stdout",
     "output_type": "stream",
     "text": [
      "Requirement already satisfied: matplotlib in /Library/Frameworks/Python.framework/Versions/3.12/lib/python3.12/site-packages (3.8.4)\n",
      "Requirement already satisfied: scikit-image in /Library/Frameworks/Python.framework/Versions/3.12/lib/python3.12/site-packages (0.24.0)\n",
      "Requirement already satisfied: contourpy>=1.0.1 in /Library/Frameworks/Python.framework/Versions/3.12/lib/python3.12/site-packages (from matplotlib) (1.2.1)\n",
      "Requirement already satisfied: cycler>=0.10 in /Library/Frameworks/Python.framework/Versions/3.12/lib/python3.12/site-packages (from matplotlib) (0.12.1)\n",
      "Requirement already satisfied: fonttools>=4.22.0 in /Library/Frameworks/Python.framework/Versions/3.12/lib/python3.12/site-packages (from matplotlib) (4.51.0)\n",
      "Requirement already satisfied: kiwisolver>=1.3.1 in /Library/Frameworks/Python.framework/Versions/3.12/lib/python3.12/site-packages (from matplotlib) (1.4.5)\n",
      "Requirement already satisfied: numpy>=1.21 in /Library/Frameworks/Python.framework/Versions/3.12/lib/python3.12/site-packages (from matplotlib) (1.26.4)\n",
      "Requirement already satisfied: packaging>=20.0 in /Library/Frameworks/Python.framework/Versions/3.12/lib/python3.12/site-packages (from matplotlib) (24.0)\n",
      "Requirement already satisfied: pillow>=8 in /Library/Frameworks/Python.framework/Versions/3.12/lib/python3.12/site-packages (from matplotlib) (10.4.0)\n",
      "Requirement already satisfied: pyparsing>=2.3.1 in /Library/Frameworks/Python.framework/Versions/3.12/lib/python3.12/site-packages (from matplotlib) (3.1.2)\n",
      "Requirement already satisfied: python-dateutil>=2.7 in /Library/Frameworks/Python.framework/Versions/3.12/lib/python3.12/site-packages (from matplotlib) (2.9.0.post0)\n",
      "Requirement already satisfied: scipy>=1.9 in /Library/Frameworks/Python.framework/Versions/3.12/lib/python3.12/site-packages (from scikit-image) (1.13.0)\n",
      "Requirement already satisfied: networkx>=2.8 in /Library/Frameworks/Python.framework/Versions/3.12/lib/python3.12/site-packages (from scikit-image) (3.3)\n",
      "Requirement already satisfied: imageio>=2.33 in /Library/Frameworks/Python.framework/Versions/3.12/lib/python3.12/site-packages (from scikit-image) (2.35.0)\n",
      "Requirement already satisfied: tifffile>=2022.8.12 in /Library/Frameworks/Python.framework/Versions/3.12/lib/python3.12/site-packages (from scikit-image) (2024.8.10)\n",
      "Requirement already satisfied: lazy-loader>=0.4 in /Library/Frameworks/Python.framework/Versions/3.12/lib/python3.12/site-packages (from scikit-image) (0.4)\n",
      "Requirement already satisfied: six>=1.5 in /Library/Frameworks/Python.framework/Versions/3.12/lib/python3.12/site-packages (from python-dateutil>=2.7->matplotlib) (1.16.0)\n",
      "\n",
      "\u001b[1m[\u001b[0m\u001b[34;49mnotice\u001b[0m\u001b[1;39;49m]\u001b[0m\u001b[39;49m A new release of pip is available: \u001b[0m\u001b[31;49m24.0\u001b[0m\u001b[39;49m -> \u001b[0m\u001b[32;49m24.2\u001b[0m\n",
      "\u001b[1m[\u001b[0m\u001b[34;49mnotice\u001b[0m\u001b[1;39;49m]\u001b[0m\u001b[39;49m To update, run: \u001b[0m\u001b[32;49mpip3 install --upgrade pip\u001b[0m\n"
     ]
    }
   ],
   "source": [
    "!pip3 install llama-index-multi-modal-llms-openai\n",
    "!pip3 install llama-index ftfy regex tqdm\n",
    "!pip3 install llama-index-embeddings-clip\n",
    "!pip3 install git+https://github.com/openai/CLIP.git\n",
    "!pip3 install matplotlib scikit-image"
   ]
  },
  {
   "cell_type": "code",
   "execution_count": 175,
   "metadata": {},
   "outputs": [],
   "source": [
    "from llama_index.multi_modal_llms.openai import OpenAIMultiModal\n",
    "from llama_index.core.multi_modal_llms.generic_utils import load_image_urls\n",
    "\n",
    "image_urls = [\n",
    "    \"https://res.cloudinary.com/hello-tickets/image/upload/c_limit,f_auto,q_auto,w_1920/v1640835927/o3pfl41q7m5bj8jardk0.jpg\"\n",
    "]\n",
    "image_documents = load_image_urls(image_urls)"
   ]
  },
  {
   "cell_type": "code",
   "execution_count": 176,
   "metadata": {},
   "outputs": [],
   "source": [
    "openai_mm_llm = OpenAIMultiModal(\n",
    "    model=\"gpt-4o\", max_new_tokens=300\n",
    ")"
   ]
  },
  {
   "cell_type": "code",
   "execution_count": 177,
   "metadata": {},
   "outputs": [
    {
     "name": "stdout",
     "output_type": "stream",
     "text": [
      "The image shows the Colosseum in Rome, Italy, illuminated at night with the colors of the Italian flag. The ancient amphitheater is bathed in green, white, and red lights, creating a striking visual effect against the dark blue evening sky. The lower part of the structure is surrounded by construction barriers and equipment, indicating ongoing restoration or maintenance work. The Colosseum's iconic arches and architectural details are clearly visible, highlighting its grandeur and historical significance.\n"
     ]
    }
   ],
   "source": [
    "response = openai_mm_llm.complete(\n",
    "    prompt=\"Describe the images as an alternative text\",\n",
    "    image_documents=image_documents,\n",
    ")\n",
    "\n",
    "print(response)"
   ]
  },
  {
   "cell_type": "code",
   "execution_count": 179,
   "metadata": {},
   "outputs": [],
   "source": [
    "from pathlib import Path\n",
    "input_image_path = Path(\"input_images\")\n",
    "if not input_image_path.exists():\n",
    "    Path.mkdir(input_image_path)"
   ]
  },
  {
   "cell_type": "code",
   "execution_count": 180,
   "metadata": {},
   "outputs": [
    {
     "name": "stderr",
     "output_type": "stream",
     "text": [
      "I0000 00:00:1723617795.408739 10620573 fork_posix.cc:77] Other threads are currently calling into gRPC, skipping fork() handlers\n"
     ]
    },
    {
     "name": "stdout",
     "output_type": "stream",
     "text": [
      "--2024-08-14 12:13:16--  https://docs.google.com/uc?export=download&id=1nUhsBRiSWxcVQv8t8Cvvro8HJZ88LCzj\n",
      "Resolving docs.google.com (docs.google.com)... 2404:6800:4009:826::200e, 142.250.183.206\n",
      "Connecting to docs.google.com (docs.google.com)|2404:6800:4009:826::200e|:443... connected.\n",
      "HTTP request sent, awaiting response... 303 See Other\n",
      "Location: https://drive.usercontent.google.com/download?id=1nUhsBRiSWxcVQv8t8Cvvro8HJZ88LCzj&export=download [following]\n",
      "--2024-08-14 12:13:17--  https://drive.usercontent.google.com/download?id=1nUhsBRiSWxcVQv8t8Cvvro8HJZ88LCzj&export=download\n",
      "Resolving drive.usercontent.google.com (drive.usercontent.google.com)... 2404:6800:4009:80e::2001, 172.217.166.161\n",
      "Connecting to drive.usercontent.google.com (drive.usercontent.google.com)|2404:6800:4009:80e::2001|:443... connected.\n",
      "HTTP request sent, awaiting response... 200 OK\n",
      "Length: 160684 (157K) [image/png]\n",
      "Saving to: ‘./input_images/long_range.png’\n",
      "\n",
      "./input_images/long 100%[===================>] 156.92K  --.-KB/s    in 0.09s   \n",
      "\n",
      "2024-08-14 12:13:19 (1.64 MB/s) - ‘./input_images/long_range.png’ saved [160684/160684]\n",
      "\n",
      "--2024-08-14 12:13:21--  https://docs.google.com/uc?export=download&id=19pLwx0nVqsop7lo0ubUSYTzQfMtKJJtJ\n",
      "Resolving docs.google.com (docs.google.com)... 2404:6800:4009:826::200e, 142.250.183.206\n",
      "Connecting to docs.google.com (docs.google.com)|2404:6800:4009:826::200e|:443... connected.\n",
      "HTTP request sent, awaiting response... "
     ]
    },
    {
     "name": "stderr",
     "output_type": "stream",
     "text": [
      "I0000 00:00:1723617801.475512 10620573 fork_posix.cc:77] Other threads are currently calling into gRPC, skipping fork() handlers\n"
     ]
    },
    {
     "name": "stdout",
     "output_type": "stream",
     "text": [
      "303 See Other\n",
      "Location: https://drive.usercontent.google.com/download?id=19pLwx0nVqsop7lo0ubUSYTzQfMtKJJtJ&export=download [following]\n",
      "--2024-08-14 12:13:21--  https://drive.usercontent.google.com/download?id=19pLwx0nVqsop7lo0ubUSYTzQfMtKJJtJ&export=download\n",
      "Resolving drive.usercontent.google.com (drive.usercontent.google.com)... 2404:6800:4009:80e::2001, 172.217.166.161\n",
      "Connecting to drive.usercontent.google.com (drive.usercontent.google.com)|2404:6800:4009:80e::2001|:443... connected.\n",
      "HTTP request sent, awaiting response... 200 OK\n",
      "Length: 1308468 (1.2M) [image/png]\n",
      "Saving to: ‘./input_images/model_y.png’\n",
      "\n",
      "./input_images/mode 100%[===================>]   1.25M  1.64MB/s    in 0.8s    \n",
      "\n",
      "2024-08-14 12:13:25 (1.64 MB/s) - ‘./input_images/model_y.png’ saved [1308468/1308468]\n",
      "\n",
      "--2024-08-14 12:13:25--  https://docs.google.com/uc?export=download&id=1utu3iD9XEgR5Sb7PrbtMf1qw8T1WdNmF\n",
      "Resolving docs.google.com (docs.google.com)... 2404:6800:4009:826::200e, 142.250.183.206\n",
      "Connecting to docs.google.com (docs.google.com)|2404:6800:4009:826::200e|:443... connected.\n",
      "HTTP request sent, awaiting response... "
     ]
    },
    {
     "name": "stderr",
     "output_type": "stream",
     "text": [
      "I0000 00:00:1723617805.652573 10620573 fork_posix.cc:77] Other threads are currently calling into gRPC, skipping fork() handlers\n"
     ]
    },
    {
     "name": "stdout",
     "output_type": "stream",
     "text": [
      "303 See Other\n",
      "Location: https://drive.usercontent.google.com/download?id=1utu3iD9XEgR5Sb7PrbtMf1qw8T1WdNmF&export=download [following]\n",
      "--2024-08-14 12:13:26--  https://drive.usercontent.google.com/download?id=1utu3iD9XEgR5Sb7PrbtMf1qw8T1WdNmF&export=download\n",
      "Resolving drive.usercontent.google.com (drive.usercontent.google.com)... 2404:6800:4009:80e::2001, 172.217.166.161\n",
      "Connecting to drive.usercontent.google.com (drive.usercontent.google.com)|2404:6800:4009:80e::2001|:443... connected.\n",
      "HTTP request sent, awaiting response... 200 OK\n",
      "Length: 62818 (61K) [image/png]\n",
      "Saving to: ‘./input_images/performance_spec.png’\n",
      "\n",
      "./input_images/perf 100%[===================>]  61.35K   381KB/s    in 0.2s    \n",
      "\n",
      "2024-08-14 12:13:29 (381 KB/s) - ‘./input_images/performance_spec.png’ saved [62818/62818]\n",
      "\n",
      "--2024-08-14 12:13:29--  https://docs.google.com/uc?export=download&id=1dpUakWMqaXR4Jjn1kHuZfB0pAXvjn2-i\n",
      "Resolving docs.google.com (docs.google.com)... 2404:6800:4009:826::200e, 142.250.183.206\n",
      "Connecting to docs.google.com (docs.google.com)|2404:6800:4009:826::200e|:443... connected.\n"
     ]
    },
    {
     "name": "stderr",
     "output_type": "stream",
     "text": [
      "I0000 00:00:1723617809.358307 10620573 fork_posix.cc:77] Other threads are currently calling into gRPC, skipping fork() handlers\n"
     ]
    },
    {
     "name": "stdout",
     "output_type": "stream",
     "text": [
      "HTTP request sent, awaiting response... 303 See Other\n",
      "Location: https://drive.usercontent.google.com/download?id=1dpUakWMqaXR4Jjn1kHuZfB0pAXvjn2-i&export=download [following]\n",
      "--2024-08-14 12:13:29--  https://drive.usercontent.google.com/download?id=1dpUakWMqaXR4Jjn1kHuZfB0pAXvjn2-i&export=download\n",
      "Resolving drive.usercontent.google.com (drive.usercontent.google.com)... 2404:6800:4009:80e::2001, 172.217.166.161\n",
      "Connecting to drive.usercontent.google.com (drive.usercontent.google.com)|2404:6800:4009:80e::2001|:443... connected.\n",
      "HTTP request sent, awaiting response... 200 OK\n",
      "Length: 128556 (126K) [image/png]\n",
      "Saving to: ‘./input_images/price.png’\n",
      "\n",
      "./input_images/pric 100%[===================>] 125.54K   825KB/s    in 0.2s    \n",
      "\n",
      "2024-08-14 12:13:32 (825 KB/s) - ‘./input_images/price.png’ saved [128556/128556]\n",
      "\n",
      "--2024-08-14 12:13:32--  https://docs.google.com/uc?export=download&id=1qNeT201QAesnAP5va1ty0Ky5Q_jKkguV\n",
      "Resolving docs.google.com (docs.google.com)... 2404:6800:4009:826::200e, 142.250.183.206\n",
      "Connecting to docs.google.com (docs.google.com)|2404:6800:4009:826::200e|:443... connected.\n",
      "HTTP request sent, awaiting response... "
     ]
    },
    {
     "name": "stderr",
     "output_type": "stream",
     "text": [
      "I0000 00:00:1723617812.738711 10620573 fork_posix.cc:77] Other threads are currently calling into gRPC, skipping fork() handlers\n"
     ]
    },
    {
     "name": "stdout",
     "output_type": "stream",
     "text": [
      "303 See Other\n",
      "Location: https://drive.usercontent.google.com/download?id=1qNeT201QAesnAP5va1ty0Ky5Q_jKkguV&export=download [following]\n",
      "--2024-08-14 12:13:33--  https://drive.usercontent.google.com/download?id=1qNeT201QAesnAP5va1ty0Ky5Q_jKkguV&export=download\n",
      "Resolving drive.usercontent.google.com (drive.usercontent.google.com)... 2404:6800:4009:80b::2001, 172.217.166.161\n",
      "Connecting to drive.usercontent.google.com (drive.usercontent.google.com)|2404:6800:4009:80b::2001|:443... connected.\n",
      "HTTP request sent, awaiting response... 200 OK\n",
      "Length: 160998 (157K) [image/png]\n",
      "Saving to: ‘./input_images/real_wheel_spec.png’\n",
      "\n",
      "./input_images/real 100%[===================>] 157.22K   759KB/s    in 0.2s    \n",
      "\n",
      "2024-08-14 12:13:36 (759 KB/s) - ‘./input_images/real_wheel_spec.png’ saved [160998/160998]\n",
      "\n"
     ]
    }
   ],
   "source": [
    "!wget \"https://docs.google.com/uc?export=download&id=1nUhsBRiSWxcVQv8t8Cvvro8HJZ88LCzj\" -O ./input_images/long_range.png\n",
    "!wget \"https://docs.google.com/uc?export=download&id=19pLwx0nVqsop7lo0ubUSYTzQfMtKJJtJ\" -O ./input_images/model_y.png\n",
    "!wget \"https://docs.google.com/uc?export=download&id=1utu3iD9XEgR5Sb7PrbtMf1qw8T1WdNmF\" -O ./input_images/performance_spec.png\n",
    "!wget \"https://docs.google.com/uc?export=download&id=1dpUakWMqaXR4Jjn1kHuZfB0pAXvjn2-i\" -O ./input_images/price.png\n",
    "!wget \"https://docs.google.com/uc?export=download&id=1qNeT201QAesnAP5va1ty0Ky5Q_jKkguV\" -O ./input_images/real_wheel_spec.png"
   ]
  },
  {
   "cell_type": "code",
   "execution_count": 182,
   "metadata": {},
   "outputs": [],
   "source": [
    "from PIL import Image\n",
    "import matplotlib.pyplot as plt\n",
    "\n",
    "def plot_images(image_paths):\n",
    "    images_shown = 0\n",
    "    plt.figure(figsize=(16,9))\n",
    "    for img_path in image_paths:\n",
    "        if os.path.isfile(img_path):\n",
    "            image = Image.open(img_path)\n",
    "            \n",
    "            plt.subplot(2,3,images_shown+1)\n",
    "            plt.imshow(image)\n",
    "            plt.xticks([])\n",
    "            plt.yticks([])\n",
    "            \n",
    "            images_shown +=1\n",
    "            if images_shown >= 9:\n",
    "                break\n",
    "            "
   ]
  },
  {
   "cell_type": "code",
   "execution_count": 183,
   "metadata": {},
   "outputs": [
    {
     "data": {
      "image/png": "[encoded data removed]",
      "text/plain": [
       "<Figure size 1600x900 with 5 Axes>"
      ]
     },
     "metadata": {},
     "output_type": "display_data"
    }
   ],
   "source": [
    "image_paths = []\n",
    "for img_path in os.listdir(\"./input_images\"):\n",
    "    image_paths.append(str(os.path.join(\"./input_images\", img_path)))\n",
    "plot_images(image_paths)"
   ]
  },
  {
   "cell_type": "code",
   "execution_count": 184,
   "metadata": {},
   "outputs": [],
   "source": [
    "from llama_index.multi_modal_llms.openai import OpenAIMultiModal\n",
    "\n",
    "image_documents = SimpleDirectoryReader(\"./input_images\").load_data()"
   ]
  },
  {
   "cell_type": "code",
   "execution_count": 185,
   "metadata": {},
   "outputs": [
    {
     "name": "stdout",
     "output_type": "stream",
     "text": [
      "1. **Image 1:**\n",
      "   - Title: Performance, Rear-Wheel Drive, Long Range AWD\n",
      "   - Battery: Long Range\n",
      "   - Weight: 1,979 kg\n",
      "   - Acceleration: 5.0 s 0-100 km/h\n",
      "   - Max Cargo Volume: 2,158 liters\n",
      "   - Range: 497 km (EPA est.)\n",
      "   - Top Speed: 217 km/h\n",
      "   - Drive: Dual Motor All-Wheel Drive\n",
      "   - Displays: 15\" Center Touchscreen\n",
      "   - Seating: Up to 5\n",
      "   - Supercharging Max/Payment Type: 250 kW Max; Pay Per Use\n",
      "   - Wheels: 19\" or 20\"\n",
      "   - Warranty: Basic Vehicle - 4 years or 80,000 km, whichever comes first; Battery & Drive Unit - 8 years or 192,000 km, whichever comes first\n",
      "\n",
      "2. **Image 2:**\n",
      "   - A semi-transparent image of a car showing its internal structure. Labels point to \"Impact Protection\" and \"Rigid Structure.\" The top section of the image includes options to \"Order Now\" and \"Demo Drive,\" with specifications such as \"2,100+ liters of Cargo,\" \"497 km Range (EPA est.),\" and \"AWD Dual Motor.\"\n",
      "\n",
      "3. **Image 3:**\n",
      "   - Title: Model Y Specs\n",
      "   - Performance, Rear-Wheel Drive, Long Range AWD\n"
     ]
    }
   ],
   "source": [
    "response = openai_mm_llm.complete(\n",
    "    prompt = \"Describe the images as an alternative text\",\n",
    "    image_documents=image_documents,\n",
    ")\n",
    "print(response)"
   ]
  },
  {
   "cell_type": "code",
   "execution_count": 186,
   "metadata": {},
   "outputs": [],
   "source": [
    "import requests\n",
    "\n",
    "def get_wikipedia_images(title):\n",
    "    response = requests.get(\n",
    "        \"https://en.wikipedia.org/w/api.php\",\n",
    "        params = {\n",
    "            \"action\": \"query\",\n",
    "            \"format\": \"json\",\n",
    "            \"titles\": title,\n",
    "            \"prop\": \"imageinfo\",\n",
    "            \"iiprop\": \"url|dimensions|mime\",\n",
    "            \"generator\": \"images\",\n",
    "            \"gimlimit\": \"50\",\n",
    "        },\n",
    "    ).json()\n",
    "    image_urls = []\n",
    "    for page in response[\"query\"][\"pages\"].values():\n",
    "        if page[\"imageinfo\"][0][\"url\"].endswith(\".jpg\") or page[\"imageinfo\"][0][\"url\"].endswith(\".png\"):\n",
    "            image_urls.append(page[\"imageinfo\"][0][\"url\"])\n",
    "    return image_urls"
   ]
  },
  {
   "cell_type": "code",
   "execution_count": 187,
   "metadata": {},
   "outputs": [
    {
     "name": "stdout",
     "output_type": "stream",
     "text": [
      "<urlopen error [SSL: CERTIFICATE_VERIFY_FAILED] certificate verify failed: unable to get local issuer certificate (_ssl.c:1000)>\n",
      "Number of images found for Wikipedia page: Audi e-tron are 0\n",
      "<urlopen error [SSL: CERTIFICATE_VERIFY_FAILED] certificate verify failed: unable to get local issuer certificate (_ssl.c:1000)>\n",
      "Number of images found for Wikipedia page: Rivian are 0\n",
      "<urlopen error [SSL: CERTIFICATE_VERIFY_FAILED] certificate verify failed: unable to get local issuer certificate (_ssl.c:1000)>\n",
      "Number of images found for Wikipedia page: Tesla Model 3 are 0\n",
      "<urlopen error [SSL: CERTIFICATE_VERIFY_FAILED] certificate verify failed: unable to get local issuer certificate (_ssl.c:1000)>\n",
      "Number of images found for Wikipedia page: Porsche Taycan are 0\n",
      "<urlopen error [SSL: CERTIFICATE_VERIFY_FAILED] certificate verify failed: unable to get local issuer certificate (_ssl.c:1000)>\n",
      "Number of images found for Wikipedia page: Tesla Model X are 0\n",
      "<urlopen error [SSL: CERTIFICATE_VERIFY_FAILED] certificate verify failed: unable to get local issuer certificate (_ssl.c:1000)>\n",
      "Number of images found for Wikipedia page: Polestar are 0\n",
      "<urlopen error [SSL: CERTIFICATE_VERIFY_FAILED] certificate verify failed: unable to get local issuer certificate (_ssl.c:1000)>\n",
      "Number of images found for Wikipedia page: Kia EV6 are 0\n",
      "<urlopen error [SSL: CERTIFICATE_VERIFY_FAILED] certificate verify failed: unable to get local issuer certificate (_ssl.c:1000)>\n",
      "Number of images found for Wikipedia page: BMW i3 are 0\n",
      "<urlopen error [SSL: CERTIFICATE_VERIFY_FAILED] certificate verify failed: unable to get local issuer certificate (_ssl.c:1000)>\n",
      "Number of images found for Wikipedia page: Ford Mustang are 0\n",
      "<urlopen error [SSL: CERTIFICATE_VERIFY_FAILED] certificate verify failed: unable to get local issuer certificate (_ssl.c:1000)>\n",
      "Number of images found for Wikipedia page: Tesla Model Y are 0\n",
      "<urlopen error [SSL: CERTIFICATE_VERIFY_FAILED] certificate verify failed: unable to get local issuer certificate (_ssl.c:1000)>\n",
      "Number of images found for Wikipedia page: Tesla Model S are 0\n"
     ]
    }
   ],
   "source": [
    "from pathlib import Path \n",
    "import requests \n",
    "import urllib.request \n",
    "import time\n",
    "\n",
    "image_uuid = 0\n",
    "# image_metadata_dict stores images metadata including image uuid, filename and path\n",
    "image_metadata_dict = {}\n",
    "MAX_IMAGES_PER_WIKI = 5\n",
    "\n",
    "wiki_titles = {\n",
    "    \"Tesla Model Y\",\n",
    "    \"Tesla Model X\",\n",
    "    \"Tesla Model 3\",\n",
    "    \"Tesla Model S\",\n",
    "    \"Kia EV6\",\n",
    "    \"BMW i3\",\n",
    "    \"Audi e-tron\",\n",
    "    \"Ford Mustang\",\n",
    "    \"Porsche Taycan\",\n",
    "    \"Rivian\",\n",
    "    \"Polestar\",\n",
    "}\n",
    "\n",
    "data_path = Path(\"mixed_wiki\")\n",
    "if not data_path.exists():\n",
    "    Path.mkdir(data_path)\n",
    "\n",
    "for title in wiki_titles:\n",
    "    response = requests.get(\n",
    "        \"https://en.wikipedia.org/w/api.php\",\n",
    "        params = {\n",
    "            \"action\": \"query\",\n",
    "            \"format\": \"json\",\n",
    "            \"titles\": title,\n",
    "            \"prop\": \"extracts\",\n",
    "            \"explaintext\": True,\n",
    "        },\n",
    "    ).json()\n",
    "    page = next(iter(response[\"query\"][\"pages\"].values()))\n",
    "    wiki_text = page[\"extract\"]\n",
    "    \n",
    "    with open(data_path / f\"{title}.txt\", \"w\") as fp:\n",
    "        fp. write(wiki_text)\n",
    "        \n",
    "    images_per_wiki = 0\n",
    "    try:\n",
    "        list_img_urls = get_wikipedia_images(title)\n",
    "        \n",
    "        for url in list_img_urls:\n",
    "            if ( \n",
    "                url.endswith(\".jpg\")\n",
    "                or url.endswith(\".png\")\n",
    "                or url.endswith(\".svg\")\n",
    "            ):\n",
    "                image_uuid += 1\n",
    "                \n",
    "                urllib.request.urlretrieve( \n",
    "                    url, data_path / f\"{image_uuid}.jpg\"\n",
    "                )\n",
    "                time.sleep(1)\n",
    "                images_per_wiki += 1\n",
    "\n",
    "                if images_per_wiki > MAX_IMAGES_PER_WIKI:\n",
    "                    break\n",
    "    except Exception as e:\n",
    "        print(e)\n",
    "        print(\"Number of images found for Wikipedia page: {} are {}\". format(title, images_per_wiki))\n",
    "        continue"
   ]
  },
  {
   "cell_type": "code",
   "execution_count": 167,
   "metadata": {},
   "outputs": [],
   "source": [
    "from llama_index.core.indices import MultiModalVectorStoreIndex\n",
    "from llama_index.core import StorageContext\n",
    "\n",
    "client = qdrant_client.QdrantClient (path=\"qdrant_mm_db\" )\n",
    "\n",
    "text_store = QdrantVectorStore(\n",
    "    client=client, collection_name=\"text_collection\")\n",
    "image_store = QdrantVectorStore(\n",
    "    client=client, collection_name=\"image_collection\")\n",
    "storage_context = StorageContext.from_defaults(\n",
    "    vector_store=text_store, image_store=image_store)"
   ]
  },
  {
   "cell_type": "code",
   "execution_count": 170,
   "metadata": {},
   "outputs": [],
   "source": [
    "documents = SimpleDirectoryReader(\"./mixed_wiki/\").load_data()"
   ]
  },
  {
   "cell_type": "code",
   "execution_count": 171,
   "metadata": {},
   "outputs": [
    {
     "data": {
      "text/plain": [
       "Document(id_='ffddda82-a80a-4d84-bffb-56c0d79fb095', embedding=None, metadata={'file_path': '/Users/siddhiapraj/GenAIExperiments/LlamaIndex/mixed_wiki/Audi e-tron.txt', 'file_name': 'Audi e-tron.txt', 'file_type': 'text/plain', 'file_size': 13780, 'creation_date': '2024-08-14', 'last_modified_date': '2024-08-14'}, excluded_embed_metadata_keys=['file_name', 'file_type', 'file_size', 'creation_date', 'last_modified_date', 'last_accessed_date'], excluded_llm_metadata_keys=['file_name', 'file_type', 'file_size', 'creation_date', 'last_modified_date', 'last_accessed_date'], relationships={}, text='The Audi e-tron is a series of electric and hybrid cars shown by Audi from 2009 onwards. In 2012 Audi unveiled a plug-in hybrid version, the A3 Sportback e-tron, released to retail customers in Europe in August 2014, and slated for the U.S. in 2015. A decade after the unveiling of the first e-tron concept at the 2009 International Motor Show Germany, Audi\\'s first fully electric e-tron SUV went into production in 2019.\\nThe name has also been used on some racing cars.\\n\\n\\n== Production vehicles ==\\n\\n\\n=== Audi E-tron (2019) ===\\nAudi E-tron 55 \\n5seats\\n5014mm\\t1976mm\\t1686mm\\t2595kg, 3170kg,\\nElectric motor dual 300kw/ 408hp\\nTork 664Nm\\nType 2 CCS\\t\\nAC 11kW\\nAC 22kW\\nDC 150kW\\n%80 30dk\\n95kWh 86kWh\\t\\nWTLP 26,2kWh/100km\\n4x4 Quattro All-wheel Drive\\t\\nmax 200km/h\\n0-100km/h 5,7sn\\n\\nAudi E-tron 50\\n5seats\\n5014mm\\t1976mm\\t1686mm 2445kg, 3040kg,\\t\\nElectric motor 230kw/ 313hp\\nTork 540Nm\\nType 2 CCS\\t\\nAC 11kW\\nAC 22kW\\nDC 120kW\\n%80 30dk\\n71kWh 64kWh\\t\\nWTLP 26,6kWh/100km\\n4x4 Quattro All-wheel Drive\\t\\nmax 190 km/h\\n0-100km/h 6,8sn\\n\\n\\n=== Q8 e-tron (2018) ===\\n\\nAn SUV formerly called the  Audi e-tron with a 328 kilometer (204 mile) EPA range and a 95 kWh battery started production in 2018 and was first delivered in 2019. The vehicle is sold in many countries, including the US, Canada and multiple countries in Europe. At the end of September 2019, there were more than 10,000 e-trons registered worldwide.\\nAudi announced that the facelifted e-tron will be renamed to Audi Q8 e-tron which was revealed on November 9, 2022. \\n\\n\\n=== Q2L e-tron (2019) ===\\n\\nThe Q2L e-tron is an all-electric version of the long-wheelbase variant of the subcompact SUV Audi Q2, which went into production at the Foshan plant in November 2019 and is sold exclusively in China. Powered by a 38 kWh lithium-ion battery of Chinese supplier Contemporary Amperex Technology, the Q2L e-tron has a range of 265 kilometres (165 mi) on one charge and a top speed of 150 km/h (93 mph). Its electric motor delivers the maximum power of 100 kW (134 hp) and maximum torque of 290 N⋅m (214 lbf⋅ft).\\n\\n\\n=== Q8 e-tron Sportback (2020) ===\\n\\nThe e-tron Sportback is an all-electric coupé SUV shown first as a concept at the 2017 Shanghai Motor Show. It has the same powertrain/battery as the e-tron SUV. Both cars are produced in Brussels, Belgium. As in the e-tron SUV, the battery of the vehicle is liquid-cooled.\\nThe production version was revealed at the 2019 Los Angeles Auto Show. European and American deliveries started in 2020.\\nThe 2020 e-tron Sportback has an EPA range of 351 kilometres (218 mi). It is better than in the 2019 e-tron SUV, partially because a larger percentage of the battery capacity is usable. The e-tron\\'s battery management system keeps part of the battery capacity as a buffer, which is not part of the usable capacity; now the size of that buffer was decreased to unlock more usable capacity. This change was introduced in the e-tron SUV during the production run, while in the e-tron Sportback, which entered production later, it was available from the beginning.\\n\\n\\n=== e-tron GT (2021) ===\\n\\nThe e-tron GT is a four-door all-electric grand tourer. The concept model was showcased at the 2018 Los Angeles Auto Show. It is built on the same platform as the Porsche Taycan. It is fitted with an 800-volt system, which substantially reduces charging times. The vehicle is driven by two permanently excited synchronous electric motors with a combined power output of 434 kW (582 hp). A 90-kWh lithium-ion battery powers the e-tron GT\\'s electric engines and enables it to travel up to 400 km (249 mi) according to the new WLTP standard.\\nThe e-tron GT concept made an appearance in the 2019 film Avengers: Endgame, in which Tony Stark drives the e-tron GT in one scene in the film. Production model is announced for 9 February 2021.\\n\\n\\n=== Q4 e-tron (2021) ===\\n\\nThe Q4 e-tron is a battery electric crossover SUV unveiled at the 2019 Geneva Motor Show as a concept model. According to the Audi, the use of VW\\'s MEB platform should improve its affordability. The production model is released in April 2021.\\n\\n\\n=== Q4 e-tron Sportback (2021) ===\\n\\nThe Audi Q4 e-tron Sportback is a battery electric coupe crossover unveiled alongside the standard Q4 e-tron. It will be coming for sale in 2021 along with the Q4 e-tron. Both of these cars will be based on the Volkswagen\\'s MEB platform. The Q4 e-tron Sportback has a drag coefficient of 0.26.\\n\\n\\n=== Q5 e-tron (2021) ===\\n\\nThe Q5 e-tron is a battery electric crossover SUV unveiled at the 2021 Guangzhou Auto Show. It is based on the MEB platform similar to the Q4 e-tron. Produced and marketed exclusively for the Chinese market, it is the first three-row SUV of the e-tron series.\\n\\n\\n=== Q6 e-tron (2024) ===\\n\\nThe Q6 e-tron is a battery electric crossover SUV unveiled at the 2023 Munich Motor Show as a prototype model. The production model is released in March 2024. \\n\\n\\n=== A6 e-tron (2024) ===\\n\\nThe A6 e-tron is a battery electric sedan and station wagon unveiled at the 2021 Auto Shanghai as a concept model. The production model is released in July 2024\\n\\n\\n== Other vehicles ==\\nAudi have announced to launch 12 fully electric e-tron models by 2025. Audi considers a sell price level of €100/kWh as suitable for higher-priced cars, but not for cheaper cars made in high volume.\\n\\nAudi A4-sized EV, a sedan based on the PPE platform; planned production 2023.\\nAudi PB18 e-tron concept, a mid-engine concept car designed as a radical driving machine for the racetrack and road.\\nAudi A6 e-tron, the first car officially announced to use the new PPE platform, planned production late 2024.\\n\\n\\n== Production vehicles (hybrid drivetrain) ==\\n\\n\\n=== A3 Sportback e-tron plug-in hybrid (2013-2018, 2020) ===\\n\\nIn June 2012 the carmaker confirmed production plans for a plug-in hybrid version of the A3. The plug-in hybrid concept car was unveiled at the 2013 Geneva Motor Show. The basic powertrain hardware of the Audi A3 e-tron is shared by the Volkswagen Golf GTE plug-in hybrid, but the software controls of each car are different. In May 2013 Audi announced its decision to produce only a plug-in hybrid version, the Audi A3 Sportback e-tron. The A3 Sportback e-tron has an 8.8 kWh battery pack that delivers an all-electric range of 50 km (31 mi) on the NEDC cycle, and a total of 940 km (580 mi). The plug-in hybrid can reach a top speed of 220 km/h (140 mph) and can reach 100 km/h (62 mph) in 7.6 seconds. According to Audi the car has an average fuel efficiency of 1.25 L/100 km (188 mpg‑US) and CO2 emissions of 35g/km.\\nIn September 2013, at the Frankfurt Motor Show, Audi announced that pricing for the Audi A3 Sportback e-tron will start in Germany at €37,000 (US$44578.31). The vehicle is also scheduled to arrive in Australia in early 2015. On 1 August 2014, Audi announced the vehicle is now on sale across Europe at the companies 410 dealerships starting at €37,900 (US$45662.65).\\nThe first 227 vehicles were registered in Germany in August 2014. According to JATO Dynamics, a total of 415 vehicles have been registered worldwide through September 2014, of which, 250 were registered in Germany.\\nRetail sales were scheduled to begin in the U.S. in early 2015. In an April 2015 video, Audi America president Scott Keogh said the \\'price point is going to be around $40,000,\\' but made no indication if that was before or after tax incentives.\\nAudi discontinued the A3 PHEV Sportback e-tron in Europe in November 2018. However, the model was briefly re-introduced at the end of 2019 for MY20, now called A3 Sportback 40 e-tron under Audi\\'s new naming scheme. The revised A3 e-tron in the UK featured a different level of specification, losing the previously standard LED headlights but gaining Audi\\'s virtual cockpit as standard. The revised model featured the same battery and drivetrain as before, now rated at 35 km (22 mi) of electric range under the new WLTP test.\\n\\n\\n== Concept vehicles ==\\n\\n\\n=== e-tron Frankfurt (2009) ===\\n\\nThe first e-tron concept car was shown at the 2009 International Motor Show Germany. A two-seater, similar in appearance to the Audi R8 but slightly smaller, is powered by four UQM Technologies motors, providing four-wheel drive. Together, these produce 230 kW (310 PS; 310 hp) and 4,500 N⋅m (3,300 lb⋅ft) of torque, allowing the car to accelerate from 0 to 100 km/h (62 mph) in 4.8 seconds.\\nA 470 kg (1,036 lb) 42.4 kWh lithium-ion battery is located in front of the rear axle and provides a range of approximately 248 km (154 mi) with a full charge taking 6–8 hours from a normal household socket. It has ceramic disc brakes as well as regenerative braking. In 2010 Audi began a development program with the objective to manufacture a limited production R8 e-tron. The R8 e-tron made a brief appearance in the 2013 Marvel Studios release of Iron Man 3.\\nAfter developing 10 prototypes for research and development purposes, in May 2013 Audi decided to cancel production of the electric car due to its limited all-electric range as battery technology had not advanced as quickly as Audi had expected, making the R8 e-tron unviable for series production. In March 2014 Audi revised its decision and announced it will build the R8 e-tron upon request. The carmaker explained that their latest development work resulted in an increased range from 215 km (134 mi) to approximately 450 km (280 mi).\\n\\n\\n=== e-tron Detroit showcar (2010) ===\\n\\nThe Audi e-tron Detroit showcar (confusingly, also named \"e-tron\") includes 2 electric motors driving the rear wheels with a combined output of 150 kilowatts (200 PS; 200 hp) and 2,650 N⋅m (1,950 lb⋅ft) of torque, with lithium-ion batteries behind passenger compartment and ahead of the rear axle, adaptive matrix beam LED headlight modules with clear glass covers, fully automatic light assistance system, Audi Space Frame with doors, lids, sidewalls and roof made of a fiber-reinforced plastic; built-in central display with integrated MMI functions, front axle hydraulic fixed-caliper brake, electrically actuated floating-caliper brakes mounted on the rear axle, heat pump, triangular double wishbones made of forged aluminum components at the front and rear axles, direct rack-and-pinion steering, 19-inch wheels of 35-spoke design, 235/35 front and 255/35 rear tires. The concept car can accelerate from 0–100 km/h (0–62 mph) in 5.9 seconds.\\nThe vehicle was unveiled in the 2010 North American International Auto Show in Detroit.\\nA similar production model, based on a future mid-engined automotive platform codenamed 9X1, shared with Porsche and Volkswagen, is reportedly under development.\\n\\n\\n=== A1 e-tron (2010) ===\\n\\nThe Audi A1 e-tron concept car, an electric variant of the Audi A1 production model, was first shown at the 2010 Geneva Motor Show. The A1 e-tron is a series plug-in hybrid, powered by an electric motor from UQM with a continuous output of 45 kW (61 PS; 60 bhp), and a peak output of 75 kW (102 PS; 101 bhp). A 254 cc Wankel engine is also used to power a 15 kW (20 PS; 20 bhp) range-extending generator.\\n\\n\\n=== e-tron Spyder (2010) ===\\n\\nShown at the 2010 Paris Motor Show, this roadster is a plug-in hybrid powered by a 221 kW (296 bhp) twin-turbo TDI 3.0 L V6 diesel engine driving the rear wheels, plus two electric motors together producing 64 kW (86 bhp) powering the front wheels. Acceleration to 100 km/h (62 mph) is achieved in 4.4 seconds, and it could theoretically travel 48 km (30 mi) on electric power at the equivalent of 107 mpg. Audi also claimed the car had a range of 620 miles on combined diesel and electric power.\\nAudi presented the e-tron Spyder in January 2011 at the Las Vegas Consumer Electronics Show, near identical to the Paris show car, but this time painted bright red. The car was advertised with the same performance specifications, including an electronically limited top speed of 250 km/h (155 mph).\\n\\n\\n=== A3 Sportback e-tron all-electric (2011) ===\\nThe Audi A3 e-tron is an all-electric car variant of the Audi A3 production model. The A3 e-tron is powered by an electric motor under the hood which sends power from the rear- and mid-mounted battery packs to the front wheels. The 26.5 kWh lithium-ion battery pack provides an optimal range of around 148 km (92 mi), but between 113 and 121 km (70 and 75 mi) in real driving conditions. Top speed is limited to 143 km/h (89 mph).\\nAudi deployed a fleet of 17 all-electric A3 by mid-2012 as part of a testing program in the U.S. The testing is conducted among Audi\\'s engineers and company employees, and the company has no plans to test the vehicles with customers.\\n\\n\\n=== R8 e-tron (2015) ===\\n\\nThe production version of the Audi R8 e-tron was introduced at the 2015 Geneva Motor Show. The limited production electric sports car was available only in Europe. Fewer than 100 units were sold at the end of production run.\\n\\n\\n=== A6 e-tron (2021) ===\\nThe A6 e-tron was introduced at the April 2021 Auto Shanghai. It is expected to be built on the PPE platform co-developed with Porsche.\\n\\n\\n== Race cars ==\\n\\n\\n=== Le Mans Prototype racing cars ===\\n\\nAudi used the e-tron quattro name on some versions of its Audi R18 racing car competing in the Le Mans Prototype class.\\nThe car won the 24 Hours of Le Mans in 2012, 2013 and 2014.\\n\\n\\n=== RS Q e-tron (2021-) ===\\n\\nIt is an off-road race car, originally built to complete in 2022 Dakar Rally.\\n\\n\\n=== S1 e-tron quattro Hoonitron (2021) ===\\nIt is a version of Audi S1 developed for Block\\'s Elektrikhana video, based on Ken Block\\'s 1980s Audi Sport quattro S1 Pikes Peak race car.\\n\\n\\n== See also ==\\nList of electric cars currently available\\nList of production battery electric vehicles\\n\\n\\n== References ==\\n\\n\\n== External links ==\\n\\nAudi e-tron. \"Design & Technology\". Audi Expereience. Audi Worldwide. Archived from the original on 27 November 2010.', mimetype='text/plain', start_char_idx=None, end_char_idx=None, text_template='{metadata_str}\\n\\n{content}', metadata_template='{key}: {value}', metadata_seperator='\\n')"
      ]
     },
     "execution_count": 171,
     "metadata": {},
     "output_type": "execute_result"
    }
   ],
   "source": [
    "documents[0]"
   ]
  },
  {
   "cell_type": "code",
   "execution_count": 173,
   "metadata": {},
   "outputs": [
    {
     "ename": "AttributeError",
     "evalue": "partially initialized module 'torchvision' has no attribute 'extension' (most likely due to a circular import)",
     "output_type": "error",
     "traceback": [
      "\u001b[0;31m---------------------------------------------------------------------------\u001b[0m",
      "\u001b[0;31mAttributeError\u001b[0m                            Traceback (most recent call last)",
      "Cell \u001b[0;32mIn[173], line 1\u001b[0m\n\u001b[0;32m----> 1\u001b[0m index \u001b[38;5;241m=\u001b[39m \u001b[43mMultiModalVectorStoreIndex\u001b[49m\u001b[38;5;241;43m.\u001b[39;49m\u001b[43mfrom_documents\u001b[49m\u001b[43m(\u001b[49m\n\u001b[1;32m      2\u001b[0m \u001b[43m    \u001b[49m\u001b[43mdocuments\u001b[49m\u001b[43m,\u001b[49m\n\u001b[1;32m      3\u001b[0m \u001b[43m    \u001b[49m\u001b[43mstorage_context\u001b[49m\u001b[38;5;241;43m=\u001b[39;49m\u001b[43mstorage_context\u001b[49m\u001b[43m,\u001b[49m\n\u001b[1;32m      4\u001b[0m \u001b[43m)\u001b[49m\n",
      "File \u001b[0;32m/Library/Frameworks/Python.framework/Versions/3.12/lib/python3.12/site-packages/llama_index/core/indices/base.py:145\u001b[0m, in \u001b[0;36mBaseIndex.from_documents\u001b[0;34m(cls, documents, storage_context, show_progress, callback_manager, transformations, service_context, **kwargs)\u001b[0m\n\u001b[1;32m    136\u001b[0m     docstore\u001b[38;5;241m.\u001b[39mset_document_hash(doc\u001b[38;5;241m.\u001b[39mget_doc_id(), doc\u001b[38;5;241m.\u001b[39mhash)\n\u001b[1;32m    138\u001b[0m nodes \u001b[38;5;241m=\u001b[39m run_transformations(\n\u001b[1;32m    139\u001b[0m     documents,  \u001b[38;5;66;03m# type: ignore\u001b[39;00m\n\u001b[1;32m    140\u001b[0m     transformations,\n\u001b[1;32m    141\u001b[0m     show_progress\u001b[38;5;241m=\u001b[39mshow_progress,\n\u001b[1;32m    142\u001b[0m     \u001b[38;5;241m*\u001b[39m\u001b[38;5;241m*\u001b[39mkwargs,\n\u001b[1;32m    143\u001b[0m )\n\u001b[0;32m--> 145\u001b[0m \u001b[38;5;28;01mreturn\u001b[39;00m \u001b[38;5;28;43mcls\u001b[39;49m\u001b[43m(\u001b[49m\n\u001b[1;32m    146\u001b[0m \u001b[43m    \u001b[49m\u001b[43mnodes\u001b[49m\u001b[38;5;241;43m=\u001b[39;49m\u001b[43mnodes\u001b[49m\u001b[43m,\u001b[49m\n\u001b[1;32m    147\u001b[0m \u001b[43m    \u001b[49m\u001b[43mstorage_context\u001b[49m\u001b[38;5;241;43m=\u001b[39;49m\u001b[43mstorage_context\u001b[49m\u001b[43m,\u001b[49m\n\u001b[1;32m    148\u001b[0m \u001b[43m    \u001b[49m\u001b[43mcallback_manager\u001b[49m\u001b[38;5;241;43m=\u001b[39;49m\u001b[43mcallback_manager\u001b[49m\u001b[43m,\u001b[49m\n\u001b[1;32m    149\u001b[0m \u001b[43m    \u001b[49m\u001b[43mshow_progress\u001b[49m\u001b[38;5;241;43m=\u001b[39;49m\u001b[43mshow_progress\u001b[49m\u001b[43m,\u001b[49m\n\u001b[1;32m    150\u001b[0m \u001b[43m    \u001b[49m\u001b[43mtransformations\u001b[49m\u001b[38;5;241;43m=\u001b[39;49m\u001b[43mtransformations\u001b[49m\u001b[43m,\u001b[49m\n\u001b[1;32m    151\u001b[0m \u001b[43m    \u001b[49m\u001b[43mservice_context\u001b[49m\u001b[38;5;241;43m=\u001b[39;49m\u001b[43mservice_context\u001b[49m\u001b[43m,\u001b[49m\n\u001b[1;32m    152\u001b[0m \u001b[43m    \u001b[49m\u001b[38;5;241;43m*\u001b[39;49m\u001b[38;5;241;43m*\u001b[39;49m\u001b[43mkwargs\u001b[49m\u001b[43m,\u001b[49m\n\u001b[1;32m    153\u001b[0m \u001b[43m\u001b[49m\u001b[43m)\u001b[49m\n",
      "File \u001b[0;32m/Library/Frameworks/Python.framework/Versions/3.12/lib/python3.12/site-packages/llama_index/core/indices/multi_modal/base.py:80\u001b[0m, in \u001b[0;36mMultiModalVectorStoreIndex.__init__\u001b[0;34m(self, nodes, index_struct, embed_model, storage_context, use_async, store_nodes_override, show_progress, image_vector_store, image_embed_model, is_image_to_text, is_image_vector_store_empty, is_text_vector_store_empty, service_context, **kwargs)\u001b[0m\n\u001b[1;32m     56\u001b[0m \u001b[38;5;28;01mdef\u001b[39;00m \u001b[38;5;21m__init__\u001b[39m(\n\u001b[1;32m     57\u001b[0m     \u001b[38;5;28mself\u001b[39m,\n\u001b[1;32m     58\u001b[0m     nodes: Optional[Sequence[BaseNode]] \u001b[38;5;241m=\u001b[39m \u001b[38;5;28;01mNone\u001b[39;00m,\n\u001b[0;32m   (...)\u001b[0m\n\u001b[1;32m     77\u001b[0m     \u001b[38;5;241m*\u001b[39m\u001b[38;5;241m*\u001b[39mkwargs: Any,\n\u001b[1;32m     78\u001b[0m ) \u001b[38;5;241m-\u001b[39m\u001b[38;5;241m>\u001b[39m \u001b[38;5;28;01mNone\u001b[39;00m:\n\u001b[1;32m     79\u001b[0m \u001b[38;5;250m    \u001b[39m\u001b[38;5;124;03m\"\"\"Initialize params.\"\"\"\u001b[39;00m\n\u001b[0;32m---> 80\u001b[0m     image_embed_model \u001b[38;5;241m=\u001b[39m \u001b[43mresolve_embed_model\u001b[49m\u001b[43m(\u001b[49m\n\u001b[1;32m     81\u001b[0m \u001b[43m        \u001b[49m\u001b[43mimage_embed_model\u001b[49m\u001b[43m,\u001b[49m\u001b[43m \u001b[49m\u001b[43mcallback_manager\u001b[49m\u001b[38;5;241;43m=\u001b[39;49m\u001b[43mkwargs\u001b[49m\u001b[38;5;241;43m.\u001b[39;49m\u001b[43mget\u001b[49m\u001b[43m(\u001b[49m\u001b[38;5;124;43m\"\u001b[39;49m\u001b[38;5;124;43mcallback_manager\u001b[39;49m\u001b[38;5;124;43m\"\u001b[39;49m\u001b[43m,\u001b[49m\u001b[43m \u001b[49m\u001b[38;5;28;43;01mNone\u001b[39;49;00m\u001b[43m)\u001b[49m\n\u001b[1;32m     82\u001b[0m \u001b[43m    \u001b[49m\u001b[43m)\u001b[49m\n\u001b[1;32m     83\u001b[0m     \u001b[38;5;28;01massert\u001b[39;00m \u001b[38;5;28misinstance\u001b[39m(image_embed_model, MultiModalEmbedding)\n\u001b[1;32m     84\u001b[0m     \u001b[38;5;28mself\u001b[39m\u001b[38;5;241m.\u001b[39m_image_embed_model \u001b[38;5;241m=\u001b[39m image_embed_model\n",
      "File \u001b[0;32m/Library/Frameworks/Python.framework/Versions/3.12/lib/python3.12/site-packages/llama_index/core/embeddings/utils.py:86\u001b[0m, in \u001b[0;36mresolve_embed_model\u001b[0;34m(embed_model, callback_manager)\u001b[0m\n\u001b[1;32m     81\u001b[0m     \u001b[38;5;28;01mfrom\u001b[39;00m \u001b[38;5;21;01mllama_index\u001b[39;00m\u001b[38;5;21;01m.\u001b[39;00m\u001b[38;5;21;01membeddings\u001b[39;00m\u001b[38;5;21;01m.\u001b[39;00m\u001b[38;5;21;01mclip\u001b[39;00m \u001b[38;5;28;01mimport\u001b[39;00m ClipEmbedding  \u001b[38;5;66;03m# pants: no-infer-dep\u001b[39;00m\n\u001b[1;32m     83\u001b[0m     clip_model_name \u001b[38;5;241m=\u001b[39m (\n\u001b[1;32m     84\u001b[0m         embed_model\u001b[38;5;241m.\u001b[39msplit(\u001b[38;5;124m\"\u001b[39m\u001b[38;5;124m:\u001b[39m\u001b[38;5;124m\"\u001b[39m)[\u001b[38;5;241m1\u001b[39m] \u001b[38;5;28;01mif\u001b[39;00m \u001b[38;5;124m\"\u001b[39m\u001b[38;5;124m:\u001b[39m\u001b[38;5;124m\"\u001b[39m \u001b[38;5;129;01min\u001b[39;00m embed_model \u001b[38;5;28;01melse\u001b[39;00m \u001b[38;5;124m\"\u001b[39m\u001b[38;5;124mViT-B/32\u001b[39m\u001b[38;5;124m\"\u001b[39m\n\u001b[1;32m     85\u001b[0m     )\n\u001b[0;32m---> 86\u001b[0m     embed_model \u001b[38;5;241m=\u001b[39m \u001b[43mClipEmbedding\u001b[49m\u001b[43m(\u001b[49m\u001b[43mmodel_name\u001b[49m\u001b[38;5;241;43m=\u001b[39;49m\u001b[43mclip_model_name\u001b[49m\u001b[43m)\u001b[49m\n\u001b[1;32m     87\u001b[0m \u001b[38;5;28;01mexcept\u001b[39;00m \u001b[38;5;167;01mImportError\u001b[39;00m \u001b[38;5;28;01mas\u001b[39;00m e:\n\u001b[1;32m     88\u001b[0m     \u001b[38;5;28;01mraise\u001b[39;00m \u001b[38;5;167;01mImportError\u001b[39;00m(\n\u001b[1;32m     89\u001b[0m         \u001b[38;5;124m\"\u001b[39m\u001b[38;5;124m`llama-index-embeddings-clip` package not found, \u001b[39m\u001b[38;5;124m\"\u001b[39m\n\u001b[1;32m     90\u001b[0m         \u001b[38;5;124m\"\u001b[39m\u001b[38;5;124mplease run `pip install llama-index-embeddings-clip` and `pip install git+https://github.com/openai/CLIP.git`\u001b[39m\u001b[38;5;124m\"\u001b[39m\n\u001b[1;32m     91\u001b[0m     )\n",
      "File \u001b[0;32m/Library/Frameworks/Python.framework/Versions/3.12/lib/python3.12/site-packages/llama_index/embeddings/clip/base.py:77\u001b[0m, in \u001b[0;36mClipEmbedding.__init__\u001b[0;34m(self, embed_batch_size, model_name, **kwargs)\u001b[0m\n\u001b[1;32m     74\u001b[0m     \u001b[38;5;28;01mraise\u001b[39;00m \u001b[38;5;167;01mValueError\u001b[39;00m(\u001b[38;5;124mf\u001b[39m\u001b[38;5;124m\"\u001b[39m\u001b[38;5;124mEmbed batch size \u001b[39m\u001b[38;5;132;01m{\u001b[39;00membed_batch_size\u001b[38;5;132;01m}\u001b[39;00m\u001b[38;5;124m  must be > 0.\u001b[39m\u001b[38;5;124m\"\u001b[39m)\n\u001b[1;32m     76\u001b[0m \u001b[38;5;28;01mtry\u001b[39;00m:\n\u001b[0;32m---> 77\u001b[0m     \u001b[38;5;28;01mimport\u001b[39;00m \u001b[38;5;21;01mclip\u001b[39;00m\n\u001b[1;32m     78\u001b[0m     \u001b[38;5;28;01mimport\u001b[39;00m \u001b[38;5;21;01mtorch\u001b[39;00m\n\u001b[1;32m     79\u001b[0m \u001b[38;5;28;01mexcept\u001b[39;00m \u001b[38;5;167;01mImportError\u001b[39;00m:\n",
      "File \u001b[0;32m/Library/Frameworks/Python.framework/Versions/3.12/lib/python3.12/site-packages/clip/__init__.py:1\u001b[0m\n\u001b[0;32m----> 1\u001b[0m \u001b[38;5;28;01mfrom\u001b[39;00m \u001b[38;5;21;01m.\u001b[39;00m\u001b[38;5;21;01mclip\u001b[39;00m \u001b[38;5;28;01mimport\u001b[39;00m \u001b[38;5;241m*\u001b[39m\n",
      "File \u001b[0;32m/Library/Frameworks/Python.framework/Versions/3.12/lib/python3.12/site-packages/clip/clip.py:10\u001b[0m\n\u001b[1;32m      8\u001b[0m \u001b[38;5;28;01mimport\u001b[39;00m \u001b[38;5;21;01mtorch\u001b[39;00m\n\u001b[1;32m      9\u001b[0m \u001b[38;5;28;01mfrom\u001b[39;00m \u001b[38;5;21;01mPIL\u001b[39;00m \u001b[38;5;28;01mimport\u001b[39;00m Image\n\u001b[0;32m---> 10\u001b[0m \u001b[38;5;28;01mfrom\u001b[39;00m \u001b[38;5;21;01mtorchvision\u001b[39;00m\u001b[38;5;21;01m.\u001b[39;00m\u001b[38;5;21;01mtransforms\u001b[39;00m \u001b[38;5;28;01mimport\u001b[39;00m Compose, Resize, CenterCrop, ToTensor, Normalize\n\u001b[1;32m     11\u001b[0m \u001b[38;5;28;01mfrom\u001b[39;00m \u001b[38;5;21;01mtqdm\u001b[39;00m \u001b[38;5;28;01mimport\u001b[39;00m tqdm\n\u001b[1;32m     13\u001b[0m \u001b[38;5;28;01mfrom\u001b[39;00m \u001b[38;5;21;01m.\u001b[39;00m\u001b[38;5;21;01mmodel\u001b[39;00m \u001b[38;5;28;01mimport\u001b[39;00m build_model\n",
      "File \u001b[0;32m/Library/Frameworks/Python.framework/Versions/3.12/lib/python3.12/site-packages/torchvision/__init__.py:6\u001b[0m\n\u001b[1;32m      3\u001b[0m \u001b[38;5;28;01mfrom\u001b[39;00m \u001b[38;5;21;01mmodulefinder\u001b[39;00m \u001b[38;5;28;01mimport\u001b[39;00m Module\n\u001b[1;32m      5\u001b[0m \u001b[38;5;28;01mimport\u001b[39;00m \u001b[38;5;21;01mtorch\u001b[39;00m\n\u001b[0;32m----> 6\u001b[0m \u001b[38;5;28;01mfrom\u001b[39;00m \u001b[38;5;21;01mtorchvision\u001b[39;00m \u001b[38;5;28;01mimport\u001b[39;00m _meta_registrations, datasets, io, models, ops, transforms, utils\n\u001b[1;32m      8\u001b[0m \u001b[38;5;28;01mfrom\u001b[39;00m \u001b[38;5;21;01m.\u001b[39;00m\u001b[38;5;21;01mextension\u001b[39;00m \u001b[38;5;28;01mimport\u001b[39;00m _HAS_OPS\n\u001b[1;32m     10\u001b[0m \u001b[38;5;28;01mtry\u001b[39;00m:\n",
      "File \u001b[0;32m/Library/Frameworks/Python.framework/Versions/3.12/lib/python3.12/site-packages/torchvision/_meta_registrations.py:25\u001b[0m\n\u001b[1;32m     20\u001b[0m         \u001b[38;5;28;01mreturn\u001b[39;00m fn\n\u001b[1;32m     22\u001b[0m     \u001b[38;5;28;01mreturn\u001b[39;00m wrapper\n\u001b[0;32m---> 25\u001b[0m \u001b[38;5;129;43m@register_meta\u001b[39;49m\u001b[43m(\u001b[49m\u001b[38;5;124;43m\"\u001b[39;49m\u001b[38;5;124;43mroi_align\u001b[39;49m\u001b[38;5;124;43m\"\u001b[39;49m\u001b[43m)\u001b[49m\n\u001b[1;32m     26\u001b[0m \u001b[38;5;28;43;01mdef\u001b[39;49;00m\u001b[43m \u001b[49m\u001b[38;5;21;43mmeta_roi_align\u001b[39;49m\u001b[43m(\u001b[49m\u001b[38;5;28;43minput\u001b[39;49m\u001b[43m,\u001b[49m\u001b[43m \u001b[49m\u001b[43mrois\u001b[49m\u001b[43m,\u001b[49m\u001b[43m \u001b[49m\u001b[43mspatial_scale\u001b[49m\u001b[43m,\u001b[49m\u001b[43m \u001b[49m\u001b[43mpooled_height\u001b[49m\u001b[43m,\u001b[49m\u001b[43m \u001b[49m\u001b[43mpooled_width\u001b[49m\u001b[43m,\u001b[49m\u001b[43m \u001b[49m\u001b[43msampling_ratio\u001b[49m\u001b[43m,\u001b[49m\u001b[43m \u001b[49m\u001b[43maligned\u001b[49m\u001b[43m)\u001b[49m\u001b[43m:\u001b[49m\n\u001b[1;32m     27\u001b[0m \u001b[43m    \u001b[49m\u001b[43mtorch\u001b[49m\u001b[38;5;241;43m.\u001b[39;49m\u001b[43m_check\u001b[49m\u001b[43m(\u001b[49m\u001b[43mrois\u001b[49m\u001b[38;5;241;43m.\u001b[39;49m\u001b[43msize\u001b[49m\u001b[43m(\u001b[49m\u001b[38;5;241;43m1\u001b[39;49m\u001b[43m)\u001b[49m\u001b[43m \u001b[49m\u001b[38;5;241;43m==\u001b[39;49m\u001b[43m \u001b[49m\u001b[38;5;241;43m5\u001b[39;49m\u001b[43m,\u001b[49m\u001b[43m \u001b[49m\u001b[38;5;28;43;01mlambda\u001b[39;49;00m\u001b[43m:\u001b[49m\u001b[43m \u001b[49m\u001b[38;5;124;43m\"\u001b[39;49m\u001b[38;5;124;43mrois must have shape as Tensor[K, 5]\u001b[39;49m\u001b[38;5;124;43m\"\u001b[39;49m\u001b[43m)\u001b[49m\n\u001b[1;32m     28\u001b[0m \u001b[43m    \u001b[49m\u001b[43mtorch\u001b[49m\u001b[38;5;241;43m.\u001b[39;49m\u001b[43m_check\u001b[49m\u001b[43m(\u001b[49m\n\u001b[1;32m     29\u001b[0m \u001b[43m        \u001b[49m\u001b[38;5;28;43minput\u001b[39;49m\u001b[38;5;241;43m.\u001b[39;49m\u001b[43mdtype\u001b[49m\u001b[43m \u001b[49m\u001b[38;5;241;43m==\u001b[39;49m\u001b[43m \u001b[49m\u001b[43mrois\u001b[49m\u001b[38;5;241;43m.\u001b[39;49m\u001b[43mdtype\u001b[49m\u001b[43m,\u001b[49m\n\u001b[1;32m     30\u001b[0m \u001b[43m        \u001b[49m\u001b[38;5;28;43;01mlambda\u001b[39;49;00m\u001b[43m:\u001b[49m\u001b[43m \u001b[49m\u001b[43m(\u001b[49m\n\u001b[0;32m   (...)\u001b[0m\n\u001b[1;32m     33\u001b[0m \u001b[43m        \u001b[49m\u001b[43m)\u001b[49m\u001b[43m,\u001b[49m\n\u001b[1;32m     34\u001b[0m \u001b[43m    \u001b[49m\u001b[43m)\u001b[49m\n",
      "File \u001b[0;32m/Library/Frameworks/Python.framework/Versions/3.12/lib/python3.12/site-packages/torchvision/_meta_registrations.py:18\u001b[0m, in \u001b[0;36mregister_meta.<locals>.wrapper\u001b[0;34m(fn)\u001b[0m\n\u001b[1;32m     17\u001b[0m \u001b[38;5;28;01mdef\u001b[39;00m \u001b[38;5;21mwrapper\u001b[39m(fn):\n\u001b[0;32m---> 18\u001b[0m     \u001b[38;5;28;01mif\u001b[39;00m \u001b[43mtorchvision\u001b[49m\u001b[38;5;241;43m.\u001b[39;49m\u001b[43mextension\u001b[49m\u001b[38;5;241m.\u001b[39m_has_ops():\n\u001b[1;32m     19\u001b[0m         get_meta_lib()\u001b[38;5;241m.\u001b[39mimpl(\u001b[38;5;28mgetattr\u001b[39m(\u001b[38;5;28mgetattr\u001b[39m(torch\u001b[38;5;241m.\u001b[39mops\u001b[38;5;241m.\u001b[39mtorchvision, op_name), overload_name), fn)\n\u001b[1;32m     20\u001b[0m     \u001b[38;5;28;01mreturn\u001b[39;00m fn\n",
      "\u001b[0;31mAttributeError\u001b[0m: partially initialized module 'torchvision' has no attribute 'extension' (most likely due to a circular import)"
     ]
    }
   ],
   "source": [
    "index = MultiModalVectorStoreIndex.from_documents(\n",
    "    documents,\n",
    "    storage_context=storage_context,\n",
    ")"
   ]
  },
  {
   "cell_type": "code",
   "execution_count": null,
   "metadata": {},
   "outputs": [],
   "source": []
  }
 ],
 "metadata": {
  "kernelspec": {
   "display_name": "Python 3",
   "language": "python",
   "name": "python3"
  },
  "language_info": {
   "codemirror_mode": {
    "name": "ipython",
    "version": 3
   },
   "file_extension": ".py",
   "mimetype": "text/x-python",
   "name": "python",
   "nbconvert_exporter": "python",
   "pygments_lexer": "ipython3",
   "version": "3.12.3"
  }
 },
 "nbformat": 4,
 "nbformat_minor": 2
}
